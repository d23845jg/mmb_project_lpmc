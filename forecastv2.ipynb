{
 "cells": [
  {
   "cell_type": "code",
   "execution_count": 1,
   "metadata": {
    "execution": {
     "iopub.execute_input": "2024-12-03T11:06:56.114386Z",
     "iopub.status.busy": "2024-12-03T11:06:56.113393Z",
     "iopub.status.idle": "2024-12-03T11:06:56.388637Z",
     "shell.execute_reply": "2024-12-03T11:06:56.386623Z",
     "shell.execute_reply.started": "2024-12-03T11:06:56.114307Z"
    }
   },
   "outputs": [],
   "source": [
    "import numpy as np\n",
    "import pandas as pd\n",
    "import matplotlib.pyplot as plt\n",
    "import seaborn as sns\n",
    "import pickle\n",
    "from scipy.stats import chi2\n",
    "\n",
    "import biogeme.database as db\n",
    "import biogeme.biogeme as bio\n",
    "from biogeme.expressions import Beta, Variable, log, exp, Derive, Expression\n",
    "from biogeme.models import loglogit, boxcox, lognested, nested\n",
    "from biogeme.nests import OneNestForNestedLogit, NestsForNestedLogit"
   ]
  },
  {
   "cell_type": "code",
   "execution_count": 2,
   "metadata": {
    "execution": {
     "iopub.execute_input": "2024-12-03T11:06:56.908848Z",
     "iopub.status.busy": "2024-12-03T11:06:56.906362Z",
     "iopub.status.idle": "2024-12-03T11:06:56.973784Z",
     "shell.execute_reply": "2024-12-03T11:06:56.971415Z",
     "shell.execute_reply.started": "2024-12-03T11:06:56.908696Z"
    }
   },
   "outputs": [],
   "source": [
    "# Loading the data\n",
    "df = pd.read_csv('lpmc06.dat', sep='\\t')"
   ]
  },
  {
   "cell_type": "code",
   "execution_count": 3,
   "metadata": {
    "execution": {
     "iopub.execute_input": "2024-12-03T11:06:57.654883Z",
     "iopub.status.busy": "2024-12-03T11:06:57.653680Z",
     "iopub.status.idle": "2024-12-03T11:06:57.679142Z",
     "shell.execute_reply": "2024-12-03T11:06:57.675861Z",
     "shell.execute_reply.started": "2024-12-03T11:06:57.654799Z"
    }
   },
   "outputs": [],
   "source": [
    "df[\"dur_pt\"] = df[\"dur_pt_access\"] + df[\"dur_pt_rail\"] + df[\"dur_pt_bus\"] + df[\"dur_pt_int\"]\n",
    "df[\"cost_driving\"] = df[\"cost_driving_fuel\"] + df[\"cost_driving_ccharge\"]"
   ]
  },
  {
   "cell_type": "code",
   "execution_count": 4,
   "metadata": {
    "execution": {
     "iopub.execute_input": "2024-12-03T11:06:58.315467Z",
     "iopub.status.busy": "2024-12-03T11:06:58.313982Z",
     "iopub.status.idle": "2024-12-03T11:06:58.347804Z",
     "shell.execute_reply": "2024-12-03T11:06:58.344879Z",
     "shell.execute_reply.started": "2024-12-03T11:06:58.315285Z"
    }
   },
   "outputs": [],
   "source": [
    "df[\"seg_age\"] = df[\"age\"].apply(lambda x: 0 if x < 35 else 1)"
   ]
  },
  {
   "cell_type": "code",
   "execution_count": 5,
   "metadata": {
    "execution": {
     "iopub.execute_input": "2024-12-03T11:06:58.901337Z",
     "iopub.status.busy": "2024-12-03T11:06:58.899655Z",
     "iopub.status.idle": "2024-12-03T11:06:58.926348Z",
     "shell.execute_reply": "2024-12-03T11:06:58.924341Z",
     "shell.execute_reply.started": "2024-12-03T11:06:58.901240Z"
    }
   },
   "outputs": [
    {
     "data": {
      "text/plain": [
       "Index(['trip_id', 'household_id', 'person_n', 'trip_n', 'travel_mode',\n",
       "       'purpose', 'fueltype', 'faretype', 'bus_scale', 'survey_year',\n",
       "       'travel_year', 'travel_month', 'travel_date', 'day_of_week',\n",
       "       'start_time', 'age', 'female', 'driving_license', 'car_ownership',\n",
       "       'distance', 'dur_walking', 'dur_cycling', 'dur_pt_access',\n",
       "       'dur_pt_rail', 'dur_pt_bus', 'dur_pt_int', 'pt_interchanges',\n",
       "       'dur_driving', 'cost_transit', 'cost_driving_fuel',\n",
       "       'cost_driving_ccharge', 'driving_traffic_percent', 'dur_pt',\n",
       "       'cost_driving', 'seg_age'],\n",
       "      dtype='object')"
      ]
     },
     "metadata": {},
     "output_type": "display_data"
    }
   ],
   "source": [
    "display(df.columns)"
   ]
  },
  {
   "cell_type": "code",
   "execution_count": 6,
   "metadata": {
    "execution": {
     "iopub.execute_input": "2024-12-03T11:06:59.292700Z",
     "iopub.status.busy": "2024-12-03T11:06:59.290264Z",
     "iopub.status.idle": "2024-12-03T11:06:59.352268Z",
     "shell.execute_reply": "2024-12-03T11:06:59.350044Z",
     "shell.execute_reply.started": "2024-12-03T11:06:59.292554Z"
    }
   },
   "outputs": [
    {
     "data": {
      "text/html": [
       "<div>\n",
       "<style scoped>\n",
       "    .dataframe tbody tr th:only-of-type {\n",
       "        vertical-align: middle;\n",
       "    }\n",
       "\n",
       "    .dataframe tbody tr th {\n",
       "        vertical-align: top;\n",
       "    }\n",
       "\n",
       "    .dataframe thead th {\n",
       "        text-align: right;\n",
       "    }\n",
       "</style>\n",
       "<table border=\"1\" class=\"dataframe\">\n",
       "  <thead>\n",
       "    <tr style=\"text-align: right;\">\n",
       "      <th></th>\n",
       "      <th>trip_id</th>\n",
       "      <th>household_id</th>\n",
       "      <th>person_n</th>\n",
       "      <th>trip_n</th>\n",
       "      <th>travel_mode</th>\n",
       "      <th>purpose</th>\n",
       "      <th>fueltype</th>\n",
       "      <th>faretype</th>\n",
       "      <th>bus_scale</th>\n",
       "      <th>survey_year</th>\n",
       "      <th>...</th>\n",
       "      <th>dur_pt_int</th>\n",
       "      <th>pt_interchanges</th>\n",
       "      <th>dur_driving</th>\n",
       "      <th>cost_transit</th>\n",
       "      <th>cost_driving_fuel</th>\n",
       "      <th>cost_driving_ccharge</th>\n",
       "      <th>driving_traffic_percent</th>\n",
       "      <th>dur_pt</th>\n",
       "      <th>cost_driving</th>\n",
       "      <th>seg_age</th>\n",
       "    </tr>\n",
       "  </thead>\n",
       "  <tbody>\n",
       "    <tr>\n",
       "      <th>0</th>\n",
       "      <td>7</td>\n",
       "      <td>0</td>\n",
       "      <td>2</td>\n",
       "      <td>1</td>\n",
       "      <td>4</td>\n",
       "      <td>3</td>\n",
       "      <td>1</td>\n",
       "      <td>3</td>\n",
       "      <td>0.0</td>\n",
       "      <td>1</td>\n",
       "      <td>...</td>\n",
       "      <td>0.000000</td>\n",
       "      <td>0</td>\n",
       "      <td>0.059444</td>\n",
       "      <td>0.0</td>\n",
       "      <td>0.15</td>\n",
       "      <td>0.0</td>\n",
       "      <td>0.112150</td>\n",
       "      <td>0.165000</td>\n",
       "      <td>0.15</td>\n",
       "      <td>0</td>\n",
       "    </tr>\n",
       "    <tr>\n",
       "      <th>1</th>\n",
       "      <td>21</td>\n",
       "      <td>5</td>\n",
       "      <td>1</td>\n",
       "      <td>1</td>\n",
       "      <td>4</td>\n",
       "      <td>3</td>\n",
       "      <td>1</td>\n",
       "      <td>5</td>\n",
       "      <td>0.0</td>\n",
       "      <td>1</td>\n",
       "      <td>...</td>\n",
       "      <td>0.000000</td>\n",
       "      <td>0</td>\n",
       "      <td>0.167778</td>\n",
       "      <td>0.0</td>\n",
       "      <td>0.46</td>\n",
       "      <td>0.0</td>\n",
       "      <td>0.243377</td>\n",
       "      <td>0.377500</td>\n",
       "      <td>0.46</td>\n",
       "      <td>1</td>\n",
       "    </tr>\n",
       "    <tr>\n",
       "      <th>2</th>\n",
       "      <td>27</td>\n",
       "      <td>7</td>\n",
       "      <td>1</td>\n",
       "      <td>0</td>\n",
       "      <td>4</td>\n",
       "      <td>4</td>\n",
       "      <td>2</td>\n",
       "      <td>1</td>\n",
       "      <td>1.0</td>\n",
       "      <td>1</td>\n",
       "      <td>...</td>\n",
       "      <td>0.100000</td>\n",
       "      <td>1</td>\n",
       "      <td>0.340833</td>\n",
       "      <td>1.5</td>\n",
       "      <td>2.04</td>\n",
       "      <td>0.0</td>\n",
       "      <td>0.280359</td>\n",
       "      <td>0.810556</td>\n",
       "      <td>2.04</td>\n",
       "      <td>1</td>\n",
       "    </tr>\n",
       "    <tr>\n",
       "      <th>3</th>\n",
       "      <td>52</td>\n",
       "      <td>12</td>\n",
       "      <td>1</td>\n",
       "      <td>2</td>\n",
       "      <td>4</td>\n",
       "      <td>5</td>\n",
       "      <td>2</td>\n",
       "      <td>1</td>\n",
       "      <td>1.0</td>\n",
       "      <td>1</td>\n",
       "      <td>...</td>\n",
       "      <td>0.094722</td>\n",
       "      <td>1</td>\n",
       "      <td>0.355556</td>\n",
       "      <td>3.0</td>\n",
       "      <td>1.19</td>\n",
       "      <td>0.0</td>\n",
       "      <td>0.249219</td>\n",
       "      <td>0.649167</td>\n",
       "      <td>1.19</td>\n",
       "      <td>1</td>\n",
       "    </tr>\n",
       "    <tr>\n",
       "      <th>4</th>\n",
       "      <td>53</td>\n",
       "      <td>12</td>\n",
       "      <td>1</td>\n",
       "      <td>3</td>\n",
       "      <td>4</td>\n",
       "      <td>3</td>\n",
       "      <td>2</td>\n",
       "      <td>1</td>\n",
       "      <td>1.0</td>\n",
       "      <td>1</td>\n",
       "      <td>...</td>\n",
       "      <td>0.000000</td>\n",
       "      <td>0</td>\n",
       "      <td>0.062500</td>\n",
       "      <td>1.5</td>\n",
       "      <td>0.17</td>\n",
       "      <td>0.0</td>\n",
       "      <td>0.124444</td>\n",
       "      <td>0.144444</td>\n",
       "      <td>0.17</td>\n",
       "      <td>1</td>\n",
       "    </tr>\n",
       "  </tbody>\n",
       "</table>\n",
       "<p>5 rows × 35 columns</p>\n",
       "</div>"
      ],
      "text/plain": [
       "   trip_id  household_id  person_n  trip_n  travel_mode  purpose  fueltype  \\\n",
       "0        7             0         2       1            4        3         1   \n",
       "1       21             5         1       1            4        3         1   \n",
       "2       27             7         1       0            4        4         2   \n",
       "3       52            12         1       2            4        5         2   \n",
       "4       53            12         1       3            4        3         2   \n",
       "\n",
       "   faretype  bus_scale  survey_year  ...  dur_pt_int  pt_interchanges  \\\n",
       "0         3        0.0            1  ...    0.000000                0   \n",
       "1         5        0.0            1  ...    0.000000                0   \n",
       "2         1        1.0            1  ...    0.100000                1   \n",
       "3         1        1.0            1  ...    0.094722                1   \n",
       "4         1        1.0            1  ...    0.000000                0   \n",
       "\n",
       "   dur_driving  cost_transit  cost_driving_fuel  cost_driving_ccharge  \\\n",
       "0     0.059444           0.0               0.15                   0.0   \n",
       "1     0.167778           0.0               0.46                   0.0   \n",
       "2     0.340833           1.5               2.04                   0.0   \n",
       "3     0.355556           3.0               1.19                   0.0   \n",
       "4     0.062500           1.5               0.17                   0.0   \n",
       "\n",
       "   driving_traffic_percent    dur_pt  cost_driving  seg_age  \n",
       "0                 0.112150  0.165000          0.15        0  \n",
       "1                 0.243377  0.377500          0.46        1  \n",
       "2                 0.280359  0.810556          2.04        1  \n",
       "3                 0.249219  0.649167          1.19        1  \n",
       "4                 0.124444  0.144444          0.17        1  \n",
       "\n",
       "[5 rows x 35 columns]"
      ]
     },
     "metadata": {},
     "output_type": "display_data"
    }
   ],
   "source": [
    "display(df.head())"
   ]
  },
  {
   "cell_type": "code",
   "execution_count": 7,
   "metadata": {
    "execution": {
     "iopub.execute_input": "2024-12-03T11:07:00.432732Z",
     "iopub.status.busy": "2024-12-03T11:07:00.429924Z",
     "iopub.status.idle": "2024-12-03T11:07:00.441399Z",
     "shell.execute_reply": "2024-12-03T11:07:00.439808Z",
     "shell.execute_reply.started": "2024-12-03T11:07:00.432645Z"
    }
   },
   "outputs": [],
   "source": [
    "database = db.Database('lpmc', df)"
   ]
  },
  {
   "cell_type": "code",
   "execution_count": 8,
   "metadata": {
    "execution": {
     "iopub.execute_input": "2024-12-03T11:07:01.108856Z",
     "iopub.status.busy": "2024-12-03T11:07:01.105362Z",
     "iopub.status.idle": "2024-12-03T11:07:01.159627Z",
     "shell.execute_reply": "2024-12-03T11:07:01.158005Z",
     "shell.execute_reply.started": "2024-12-03T11:07:01.108707Z"
    }
   },
   "outputs": [
    {
     "data": {
      "text/html": [
       "<div>\n",
       "<style scoped>\n",
       "    .dataframe tbody tr th:only-of-type {\n",
       "        vertical-align: middle;\n",
       "    }\n",
       "\n",
       "    .dataframe tbody tr th {\n",
       "        vertical-align: top;\n",
       "    }\n",
       "\n",
       "    .dataframe thead th {\n",
       "        text-align: right;\n",
       "    }\n",
       "</style>\n",
       "<table border=\"1\" class=\"dataframe\">\n",
       "  <thead>\n",
       "    <tr style=\"text-align: right;\">\n",
       "      <th></th>\n",
       "      <th>dur_walking</th>\n",
       "      <th>dur_cycling</th>\n",
       "      <th>dur_pt</th>\n",
       "      <th>dur_driving</th>\n",
       "    </tr>\n",
       "  </thead>\n",
       "  <tbody>\n",
       "    <tr>\n",
       "      <th>count</th>\n",
       "      <td>5000.000000</td>\n",
       "      <td>5000.000000</td>\n",
       "      <td>5000.000000</td>\n",
       "      <td>5000.000000</td>\n",
       "    </tr>\n",
       "    <tr>\n",
       "      <th>mean</th>\n",
       "      <td>1.121458</td>\n",
       "      <td>0.358602</td>\n",
       "      <td>0.463576</td>\n",
       "      <td>0.280342</td>\n",
       "    </tr>\n",
       "    <tr>\n",
       "      <th>std</th>\n",
       "      <td>1.126564</td>\n",
       "      <td>0.353291</td>\n",
       "      <td>0.309862</td>\n",
       "      <td>0.253633</td>\n",
       "    </tr>\n",
       "    <tr>\n",
       "      <th>min</th>\n",
       "      <td>0.028611</td>\n",
       "      <td>0.006944</td>\n",
       "      <td>0.011944</td>\n",
       "      <td>0.006944</td>\n",
       "    </tr>\n",
       "    <tr>\n",
       "      <th>25%</th>\n",
       "      <td>0.345000</td>\n",
       "      <td>0.113611</td>\n",
       "      <td>0.223264</td>\n",
       "      <td>0.106111</td>\n",
       "    </tr>\n",
       "    <tr>\n",
       "      <th>50%</th>\n",
       "      <td>0.717500</td>\n",
       "      <td>0.228056</td>\n",
       "      <td>0.385278</td>\n",
       "      <td>0.190139</td>\n",
       "    </tr>\n",
       "    <tr>\n",
       "      <th>75%</th>\n",
       "      <td>1.498889</td>\n",
       "      <td>0.481736</td>\n",
       "      <td>0.635347</td>\n",
       "      <td>0.364514</td>\n",
       "    </tr>\n",
       "    <tr>\n",
       "      <th>max</th>\n",
       "      <td>9.278333</td>\n",
       "      <td>2.668333</td>\n",
       "      <td>2.078333</td>\n",
       "      <td>1.790833</td>\n",
       "    </tr>\n",
       "  </tbody>\n",
       "</table>\n",
       "</div>"
      ],
      "text/plain": [
       "       dur_walking  dur_cycling       dur_pt  dur_driving\n",
       "count  5000.000000  5000.000000  5000.000000  5000.000000\n",
       "mean      1.121458     0.358602     0.463576     0.280342\n",
       "std       1.126564     0.353291     0.309862     0.253633\n",
       "min       0.028611     0.006944     0.011944     0.006944\n",
       "25%       0.345000     0.113611     0.223264     0.106111\n",
       "50%       0.717500     0.228056     0.385278     0.190139\n",
       "75%       1.498889     0.481736     0.635347     0.364514\n",
       "max       9.278333     2.668333     2.078333     1.790833"
      ]
     },
     "execution_count": 8,
     "metadata": {},
     "output_type": "execute_result"
    }
   ],
   "source": [
    "df[[\"dur_walking\", \"dur_cycling\", \"dur_pt\", \"dur_driving\"]].describe()"
   ]
  },
  {
   "cell_type": "code",
   "execution_count": 9,
   "metadata": {},
   "outputs": [],
   "source": [
    "# Time related variables\n",
    "dur_walking = Variable('dur_walking') # in hours\n",
    "dur_cycling = Variable('dur_cycling') # in hours\n",
    "# dur_pt_access = Variable('dur_pt_access') # in hours\n",
    "# dur_pt_rail = Variable('dur_pt_rail') # in hours\n",
    "# dur_pt_bus = Variable('dur_pt_bus') # in hours\n",
    "# dur_pt_int = Variable('dur_pt_int') # in hours\n",
    "dur_pt = Variable('dur_pt')\n",
    "dur_driving = Variable('dur_driving') # in hours\n",
    "\n",
    "\n",
    "# Cost related variables\n",
    "cost_transit = Variable('cost_transit') # in GBP\n",
    "# cost_driving_fuel = Variable('cost_driving_fuel') # in GBP\n",
    "# cost_driving_ccharge = Variable('cost_driving_ccharge') # in GBP\n",
    "cost_driving = Variable('cost_driving')\n",
    "\n",
    "# Choice taken by the individual\n",
    "travel_mode = Variable('travel_mode') # 1 = walk, 2 = cycle, 3 = PT, 4 = car"
   ]
  },
  {
   "cell_type": "markdown",
   "metadata": {},
   "source": [
    "## Model 0"
   ]
  },
  {
   "cell_type": "markdown",
   "metadata": {},
   "source": [
    "We identify the variables that will enter the model specification."
   ]
  },
  {
   "cell_type": "markdown",
   "metadata": {},
   "source": [
    "Parameters to be estimated"
   ]
  },
  {
   "cell_type": "code",
   "execution_count": null,
   "metadata": {
    "execution": {
     "iopub.execute_input": "2024-12-03T11:07:03.519238Z",
     "iopub.status.busy": "2024-12-03T11:07:03.517285Z",
     "iopub.status.idle": "2024-12-03T11:07:03.533506Z",
     "shell.execute_reply": "2024-12-03T11:07:03.530539Z",
     "shell.execute_reply.started": "2024-12-03T11:07:03.519146Z"
    }
   },
   "outputs": [],
   "source": [
    "# ASC_WALK = Beta('asc_walk', 0, None, None, 0)\n",
    "ASC_CYCLE = Beta('asc_cycle', 0, None, None, 0)\n",
    "ASC_PT = Beta('asc_pt', 0, None, None, 0)\n",
    "ASC_CAR = Beta('asc_car', 0, None, None, 0)\n",
    "\n",
    "B_TIME = Beta('b_time', 0, None, None, 0)\n",
    "B_COST = Beta('b_cost', 0, None, None, 0)"
   ]
  },
  {
   "cell_type": "markdown",
   "metadata": {},
   "source": [
    "Definition of the utility functions."
   ]
  },
  {
   "cell_type": "code",
   "execution_count": null,
   "metadata": {
    "execution": {
     "iopub.execute_input": "2024-12-03T11:07:04.193259Z",
     "iopub.status.busy": "2024-12-03T11:07:04.189617Z",
     "iopub.status.idle": "2024-12-03T11:07:04.208654Z",
     "shell.execute_reply": "2024-12-03T11:07:04.205363Z",
     "shell.execute_reply.started": "2024-12-03T11:07:04.193171Z"
    }
   },
   "outputs": [],
   "source": [
    "# Walk\n",
    "V1 = (\n",
    "  # ASC_WALK -> Normalized with respect to walk\n",
    "  B_TIME * dur_walking\n",
    ")\n",
    "\n",
    "# Cycle\n",
    "V2 = (\n",
    "  ASC_CYCLE\n",
    "  + B_TIME * dur_cycling\n",
    ")\n",
    "\n",
    "# Public transport\n",
    "V3 = (\n",
    "  ASC_PT\n",
    "  + B_TIME * dur_pt\n",
    "  #+ B_TIME * (dur_pt_access + dur_pt_rail + dur_pt_bus + dur_pt_int)\n",
    "  + B_COST * cost_transit\n",
    ")\n",
    "\n",
    "# Car\n",
    "V4 = (\n",
    "  ASC_CAR\n",
    "  + B_TIME * dur_driving\n",
    "  + B_COST * cost_driving\n",
    "  #+ B_COST * (cost_driving_fuel + cost_driving_ccharge)\n",
    ")"
   ]
  },
  {
   "cell_type": "code",
   "execution_count": null,
   "metadata": {
    "execution": {
     "iopub.execute_input": "2024-12-03T11:07:04.582073Z",
     "iopub.status.busy": "2024-12-03T11:07:04.581120Z",
     "iopub.status.idle": "2024-12-03T11:07:04.593619Z",
     "shell.execute_reply": "2024-12-03T11:07:04.590812Z",
     "shell.execute_reply.started": "2024-12-03T11:07:04.581997Z"
    }
   },
   "outputs": [],
   "source": [
    "V = {1: V1, 2: V2, 3: V3, 4: V4}"
   ]
  },
  {
   "cell_type": "markdown",
   "metadata": {},
   "source": [
    "Definition of the model."
   ]
  },
  {
   "cell_type": "code",
   "execution_count": null,
   "metadata": {
    "execution": {
     "iopub.execute_input": "2024-12-03T11:20:47.916130Z",
     "iopub.status.busy": "2024-12-03T11:20:47.913290Z",
     "iopub.status.idle": "2024-12-03T11:20:48.196905Z",
     "shell.execute_reply": "2024-12-03T11:20:48.194298Z",
     "shell.execute_reply.started": "2024-12-03T11:20:47.916041Z"
    }
   },
   "outputs": [],
   "source": [
    "# All alternatives are available to all individuals.\n",
    "logprob = loglogit(V, None, travel_mode)\n",
    "biogeme_model0 = bio.BIOGEME(database, logprob)\n",
    "biogeme_model0.modelName = 'model_0'"
   ]
  },
  {
   "cell_type": "markdown",
   "metadata": {},
   "source": [
    "Estimate the parameters."
   ]
  },
  {
   "cell_type": "code",
   "execution_count": null,
   "metadata": {
    "execution": {
     "iopub.execute_input": "2024-12-03T11:16:04.595447Z",
     "iopub.status.busy": "2024-12-03T11:16:04.593756Z",
     "iopub.status.idle": "2024-12-03T11:16:04.841127Z",
     "shell.execute_reply": "2024-12-03T11:16:04.839157Z",
     "shell.execute_reply.started": "2024-12-03T11:16:04.595367Z"
    }
   },
   "outputs": [],
   "source": [
    "results = biogeme_model0.estimate()"
   ]
  },
  {
   "cell_type": "code",
   "execution_count": null,
   "metadata": {
    "execution": {
     "iopub.execute_input": "2024-12-03T11:20:41.157524Z",
     "iopub.status.busy": "2024-12-03T11:20:41.156450Z",
     "iopub.status.idle": "2024-12-03T11:20:41.201029Z",
     "shell.execute_reply": "2024-12-03T11:20:41.198827Z",
     "shell.execute_reply.started": "2024-12-03T11:20:41.157442Z"
    }
   },
   "outputs": [],
   "source": [
    "results_0 = biogeme_model0.estimate()"
   ]
  },
  {
   "cell_type": "markdown",
   "metadata": {},
   "source": [
    "Summary statistics."
   ]
  },
  {
   "cell_type": "code",
   "execution_count": null,
   "metadata": {
    "execution": {
     "iopub.execute_input": "2024-12-03T11:16:06.599442Z",
     "iopub.status.busy": "2024-12-03T11:16:06.598421Z",
     "iopub.status.idle": "2024-12-03T11:16:06.648708Z",
     "shell.execute_reply": "2024-12-03T11:16:06.646498Z",
     "shell.execute_reply.started": "2024-12-03T11:16:06.599352Z"
    }
   },
   "outputs": [],
   "source": [
    "print(results.print_general_statistics())"
   ]
  },
  {
   "cell_type": "code",
   "execution_count": null,
   "metadata": {
    "execution": {
     "iopub.execute_input": "2024-12-03T11:14:28.305234Z",
     "iopub.status.busy": "2024-12-03T11:14:28.303237Z",
     "iopub.status.idle": "2024-12-03T11:14:28.361429Z",
     "shell.execute_reply": "2024-12-03T11:14:28.359739Z",
     "shell.execute_reply.started": "2024-12-03T11:14:28.305144Z"
    }
   },
   "outputs": [],
   "source": [
    "display(results.get_estimated_parameters())"
   ]
  },
  {
   "cell_type": "markdown",
   "metadata": {},
   "source": [
    "## Model 1\n",
    "In this version of the model, we introduce alternative-specific coefficients for either b_time (model 1a) or b_cost (model 1b), and we compare the results to determine which model yields the best results "
   ]
  },
  {
   "cell_type": "markdown",
   "metadata": {},
   "source": [
    "### Model 1a (alternative-specific b_time)\n"
   ]
  },
  {
   "cell_type": "markdown",
   "metadata": {},
   "source": [
    "Parameters to be estimated"
   ]
  },
  {
   "cell_type": "code",
   "execution_count": null,
   "metadata": {},
   "outputs": [],
   "source": [
    "# Alternative specific constants (ASC_walk is normalized to 0)\n",
    "ASC_CYCLE_1A = Beta('ASC_CYCLE_1A', 0, None, None, 0)\n",
    "ASC_PT_1A    = Beta('ASC_PT_1A', 0, None, None, 0)\n",
    "ASC_CAR_1A   = Beta('ASC_CAR_1A', 0, None, None, 0)\n",
    "\n",
    "# Alternative specific time coefficient\n",
    "B_TIME_WALK_1A  = Beta('B_TIME_WALK_1A', 0, None, None, 0)\n",
    "B_TIME_CYCLE_1A = Beta('B_TIME_CYCLE_1A', 0, None, None, 0)\n",
    "B_TIME_PT_1A    = Beta('B_TIME_PT_1A', 0, None, None, 0)\n",
    "B_TIME_CAR_1A   = Beta('B_TIME_CAR_1A', 0, None, None, 0)\n",
    "\n",
    "# Generic cost coefficient\n",
    "B_COST_1A = Beta('B_COST_1A', 0, None, None, 0)"
   ]
  },
  {
   "cell_type": "markdown",
   "metadata": {},
   "source": [
    "Definition of the utility functions"
   ]
  },
  {
   "cell_type": "code",
   "execution_count": null,
   "metadata": {},
   "outputs": [],
   "source": [
    "V_walk_1A = (\n",
    "    B_TIME_WALK_1A * dur_walking\n",
    ")\n",
    "\n",
    "V_cycle_1A = (\n",
    "    ASC_CYCLE_1A\n",
    "    + B_TIME_CYCLE_1A * dur_cycling\n",
    ")\n",
    "\n",
    "V_PT_1A = (\n",
    "    ASC_PT_1A\n",
    "    + B_TIME_PT_1A * dur_pt\n",
    "    + B_COST_1A * cost_transit\n",
    ")\n",
    "\n",
    "V_car_1A = (\n",
    "    ASC_CAR_1A\n",
    "    + B_TIME_CAR_1A * dur_driving\n",
    "    + B_COST_1A * cost_driving\n",
    ")\n",
    "\n",
    "V_1A = {1: V_walk_1A, 2: V_cycle_1A, 3: V_PT_1A, 4: V_car_1A}"
   ]
  },
  {
   "cell_type": "markdown",
   "metadata": {},
   "source": [
    "Definition of the model"
   ]
  },
  {
   "cell_type": "code",
   "execution_count": null,
   "metadata": {},
   "outputs": [],
   "source": [
    "logprob_1A = loglogit(V_1A, None, travel_mode)\n",
    "biogeme_1A = bio.BIOGEME(database, logprob_1A)\n",
    "biogeme_1A.modelName = 'model_1A'"
   ]
  },
  {
   "cell_type": "markdown",
   "metadata": {},
   "source": [
    "Estimation and display of the results"
   ]
  },
  {
   "cell_type": "code",
   "execution_count": null,
   "metadata": {},
   "outputs": [],
   "source": [
    "results_1A = biogeme_1A.estimate()\n",
    "print(results_1A.print_general_statistics())"
   ]
  },
  {
   "cell_type": "code",
   "execution_count": null,
   "metadata": {},
   "outputs": [],
   "source": [
    "display(results_1A.get_estimated_parameters())"
   ]
  },
  {
   "cell_type": "markdown",
   "metadata": {},
   "source": [
    "_Observations for the report_\n",
    "\n",
    "First, we observe that all the B coefficients are negative, which makes sense, because a longer and/or more expensive travel mode is less attractive. \n",
    "\n",
    "The cost coefficient of model 1A is very close to the one for the model 0. On the other hand, the time coefficient, which was made alternative specific in model 1A, now strongly depends on the chosen mode. In particular, we observe it is the smallest (in absolute value) for PT; an interpretation could be that commuters are more prone to long PT travel times because they can read, sleep, etc., activites they cannot do while driving or cycling. On the other hand, the largest time_coefficient (again, in absolute value) is for walking, probably because beyond 20-30 minutes, people consider that doing the route by foot is too long.\n",
    "\n",
    "If we compare the Akaike or Bayesian information criterion between model 0 and model 1a, we observe they are both lower in the case of model 1a; it means the latter fits the data better than model 0."
   ]
  },
  {
   "cell_type": "markdown",
   "metadata": {},
   "source": [
    "### Model 1b (alternative-specific b_cost)\n",
    "\n",
    "We reproduce exactly the same steps as for model 1A, but we now assume a generic time coefficient, and a alternative specific cost coefficient"
   ]
  },
  {
   "cell_type": "markdown",
   "metadata": {},
   "source": [
    "Parameters to be estimated"
   ]
  },
  {
   "cell_type": "code",
   "execution_count": null,
   "metadata": {},
   "outputs": [],
   "source": [
    "# Alternative specific constants (ASC_walk is normalized to 0)\n",
    "ASC_CYCLE_1B = Beta('ASC_CYCLE_1B', 0, None, None, 0)\n",
    "ASC_PT_1B    = Beta('ASC_PT_1B', 0, None, None, 0)\n",
    "ASC_CAR_1B   = Beta('ASC_CAR_1B', 0, None, None, 0)\n",
    "\n",
    "# Alternative specific cost coefficient\n",
    "B_COST_PT_1B    = Beta('B_COST_PT_1B', 0, None, None, 0)\n",
    "B_COST_CAR_1B   = Beta('B_COST_CAR_1B', 0, None, None, 0)\n",
    "\n",
    "# Generic time coefficient\n",
    "B_TIME_1B = Beta('B_TIME_1B', 0, None, None, 0)"
   ]
  },
  {
   "cell_type": "markdown",
   "metadata": {},
   "source": [
    "Definition of the utility functions "
   ]
  },
  {
   "cell_type": "code",
   "execution_count": null,
   "metadata": {},
   "outputs": [],
   "source": [
    "V_walk_1B = (\n",
    "    B_TIME_1B * dur_walking\n",
    ")\n",
    "\n",
    "V_cycle_1B = (\n",
    "    ASC_CYCLE_1B\n",
    "    + B_TIME_1B * dur_cycling\n",
    ")\n",
    "\n",
    "V_PT_1B = (\n",
    "    ASC_PT_1B\n",
    "    + B_TIME_1B * dur_pt\n",
    "    + B_COST_PT_1B * cost_transit\n",
    ")\n",
    "\n",
    "V_car_1B = (\n",
    "    ASC_CAR_1B\n",
    "    + B_TIME_1B * dur_driving\n",
    "    + B_COST_CAR_1B * cost_driving\n",
    ")\n",
    "\n",
    "V_1B = {1: V_walk_1B, 2: V_cycle_1B, 3: V_PT_1B, 4: V_car_1B}"
   ]
  },
  {
   "cell_type": "markdown",
   "metadata": {},
   "source": [
    "Definition of the model"
   ]
  },
  {
   "cell_type": "code",
   "execution_count": null,
   "metadata": {},
   "outputs": [],
   "source": [
    "logprob_1B = loglogit(V_1B, None, travel_mode)\n",
    "biogeme_1B = bio.BIOGEME(database, logprob_1B)\n",
    "biogeme_1B.modelName = 'model_1B'"
   ]
  },
  {
   "cell_type": "markdown",
   "metadata": {},
   "source": [
    "Estimation and display of the results"
   ]
  },
  {
   "cell_type": "code",
   "execution_count": null,
   "metadata": {},
   "outputs": [],
   "source": [
    "results_1B = biogeme_1B.estimate()\n",
    "print(results_1B.print_general_statistics())"
   ]
  },
  {
   "cell_type": "code",
   "execution_count": null,
   "metadata": {},
   "outputs": [],
   "source": [
    "display(results_1B.get_estimated_parameters())"
   ]
  },
  {
   "cell_type": "code",
   "execution_count": null,
   "metadata": {},
   "outputs": [],
   "source": [
    "lr_result1A = results_1A.likelihood_ratio_test(results, 0.05)\n",
    "print(f'{lr_result1A.statistic=:.3g}')\n",
    "print(f'{lr_result1A.threshold=:.3g}')\n",
    "print(lr_result1A.message)"
   ]
  },
  {
   "cell_type": "code",
   "execution_count": null,
   "metadata": {},
   "outputs": [],
   "source": [
    "lr_result1B = results_1B.likelihood_ratio_test(results, 0.05)\n",
    "print(f'{lr_result1B.statistic=:.3g}')\n",
    "print(f'{lr_result1B.threshold=:.3g}')\n",
    "print(lr_result1B.message)"
   ]
  },
  {
   "cell_type": "markdown",
   "metadata": {},
   "source": [
    "_Observations for the report_\n",
    "\n",
    "This model seems clearly less effective than model 1A. We see it because\n",
    "\n",
    "1) The Bayesian and Akaike criterion are higher for model 1B\n",
    "2) the t-test are closer to 0\n",
    "3) the cost coefficient for PT is higher than 0, which doesn't make much sense\n",
    "\n",
    "We could have guessed that model 1B would be less interesting than model 1A, because only two alternatives out of four have a cost parameter, which means that making B_cost alternative specific allows less flexibility in the model than making B_time alternative specific\n",
    "\n",
    "So our preferred model for the rest of the project will be model 1A (alternative specific time coefficients)"
   ]
  },
  {
   "cell_type": "markdown",
   "metadata": {},
   "source": [
    "To formalize this, we perform a Cox test. We define a general model containing both an alternative-specific b_time and alt-spec b_cost"
   ]
  },
  {
   "cell_type": "code",
   "execution_count": null,
   "metadata": {},
   "outputs": [],
   "source": [
    "# Utility functions\n",
    "V_walk_1Cox = (B_TIME_WALK_1A * dur_walking)\n",
    "\n",
    "V_cycle_1Cox = (\n",
    "    ASC_CYCLE\n",
    "    + B_TIME_CYCLE_1A * dur_cycling\n",
    ")\n",
    "\n",
    "V_PT_1Cox = (\n",
    "    ASC_PT\n",
    "    + B_TIME_PT_1A * dur_pt\n",
    "    + B_COST_PT_1B * cost_transit\n",
    ")\n",
    "\n",
    "V_car_1Cox = (\n",
    "    ASC_CAR\n",
    "    + B_TIME_CAR_1A * dur_driving\n",
    "    + B_COST_CAR_1B * cost_driving\n",
    ")\n",
    "\n",
    "V_1Cox = {1: V_walk_1Cox, 2: V_cycle_1Cox, 3: V_PT_1Cox, 4: V_car_1Cox}\n",
    "\n",
    "# Estimation of the results\n",
    "logprob_1Cox = loglogit(V_1Cox, None, travel_mode)\n",
    "biogeme_1Cox = bio.BIOGEME(database, logprob_1Cox)\n",
    "biogeme_1Cox.modelName = 'model_1Cox'\n",
    "results_1Cox = biogeme_1Cox.estimate()"
   ]
  },
  {
   "cell_type": "markdown",
   "metadata": {},
   "source": [
    "We compare model 1C with model 1A"
   ]
  },
  {
   "cell_type": "code",
   "execution_count": null,
   "metadata": {},
   "outputs": [],
   "source": [
    "lr_result1AC = results_1A.likelihood_ratio_test(results_1Cox, 0.005)\n",
    "print(f'{lr_result1AC.statistic=:.3g}')\n",
    "print(f'{lr_result1AC.threshold=:.3g}')\n",
    "print(lr_result1AC.message)"
   ]
  },
  {
   "cell_type": "markdown",
   "metadata": {},
   "source": [
    "We compare model 1C with model 1B"
   ]
  },
  {
   "cell_type": "code",
   "execution_count": null,
   "metadata": {},
   "outputs": [],
   "source": [
    "lr_result1BC = results_1B.likelihood_ratio_test(results_1Cox, 0.005)\n",
    "print(f'{lr_result1BC.statistic=:.3g}')\n",
    "print(f'{lr_result1BC.threshold=:.3g}')\n",
    "print(lr_result1BC.message)"
   ]
  },
  {
   "cell_type": "code",
   "execution_count": null,
   "metadata": {},
   "outputs": [],
   "source": [
    "V_pref = V_1A\n",
    "results_pref = results_1A"
   ]
  },
  {
   "cell_type": "markdown",
   "metadata": {},
   "source": [
    "To conclude, model 1A is better than model 1B because, at the level $\\alpha = 0.5 \\%$, model B can be rejected against the composite model, but model A cannot. By the Cox test, 1A is better than 1B"
   ]
  },
  {
   "cell_type": "markdown",
   "metadata": {},
   "source": [
    "## Model 2"
   ]
  },
  {
   "cell_type": "markdown",
   "metadata": {},
   "source": [
    "#### Age"
   ]
  },
  {
   "cell_type": "code",
   "execution_count": null,
   "metadata": {},
   "outputs": [],
   "source": [
    "# Alternative specific constants (ASC_walk is normalized to 0)\n",
    "ASC_CYCLE_2A = Beta('ASC_CYCLE_2A', 0, None, None, 0)\n",
    "ASC_PT_2A    = Beta('ASC_PT_2A', 0, None, None, 0)\n",
    "ASC_CAR_2A   = Beta('ASC_CAR_2A', 0, None, None, 0)\n",
    "\n",
    "# Alternative specific time coefficient\n",
    "B_TIME_WALK_2A  = Beta('B_TIME_WALK_2A', 0, None, None, 0)\n",
    "B_TIME_CYCLE_2A = Beta('B_TIME_CYCLE_2A', 0, None, None, 0)\n",
    "B_TIME_PT_2A    = Beta('B_TIME_PT_2A', 0, None, None, 0)\n",
    "B_TIME_CAR_2A   = Beta('B_TIME_CAR_2A', 0, None, None, 0)\n",
    "\n",
    "# Generic cost coefficient\n",
    "B_COST_2A = Beta('B_COST_2A', 0, None, None, 0)\n",
    "\n",
    "age = Variable('age')\n",
    "B_AGE_CYCLE_2A = Beta('B_AGE_CYCLE_2A', 0, None, None, 0)\n",
    "B_AGE_PT_2A = Beta('B_AGE_PT_2A', 0, None, None, 0)\n",
    "B_AGE_CAR_2A = Beta('B_AGE_CAR_2A', 0, None, None, 0)"
   ]
  },
  {
   "cell_type": "code",
   "execution_count": null,
   "metadata": {},
   "outputs": [],
   "source": [
    "V_walk_2A = (\n",
    "    B_TIME_WALK_2A * dur_walking\n",
    ")\n",
    "\n",
    "V_cycle_2A = (\n",
    "    ASC_CYCLE_2A\n",
    "    + B_AGE_CYCLE_2A * age\n",
    "    + B_TIME_CYCLE_2A * dur_cycling\n",
    ")\n",
    "\n",
    "V_pt_2A = (\n",
    "    ASC_PT_2A\n",
    "    + B_AGE_PT_2A * age\n",
    "    + B_TIME_PT_2A * dur_pt\n",
    "    + B_COST_2A * cost_transit\n",
    ")\n",
    "\n",
    "V_car_2A = (\n",
    "    ASC_CAR_2A\n",
    "    + B_AGE_CAR_2A * age\n",
    "    + B_TIME_CAR_2A * dur_driving\n",
    "    + B_COST_2A * cost_driving\n",
    ")\n",
    "\n",
    "V_2A ={1: V_walk_2A, 2: V_cycle_2A, 3: V_pt_2A, 4: V_car_2A}\n",
    "\n",
    "logprob_2A = loglogit(V_2A, None, travel_mode)\n",
    "biogeme_2A = bio.BIOGEME(database, logprob_2A)\n",
    "biogeme_2A.modelName = 'model_2A'\n",
    "\n",
    "results_2A = biogeme_2A.estimate()\n",
    "print(results_2A.print_general_statistics())"
   ]
  },
  {
   "cell_type": "code",
   "execution_count": null,
   "metadata": {},
   "outputs": [],
   "source": [
    "display(results_2A.get_estimated_parameters())"
   ]
  },
  {
   "cell_type": "code",
   "execution_count": null,
   "metadata": {},
   "outputs": [],
   "source": [
    "lr_result2A = results_2A.likelihood_ratio_test(results_pref, 0.05)\n",
    "print(f'{lr_result2A.statistic=:.3g}')\n",
    "print(f'{lr_result2A.threshold=:.3g}')\n",
    "print(lr_result2A.message)"
   ]
  },
  {
   "cell_type": "code",
   "execution_count": null,
   "metadata": {},
   "outputs": [],
   "source": [
    "V_walk_2A_significant = (\n",
    "    B_TIME_WALK_2A * dur_walking\n",
    ")\n",
    "\n",
    "V_cycle_2A_significant = (\n",
    "    ASC_CYCLE_2A\n",
    "    # + B_AGE_CYCLE_2A * age\n",
    "    + B_TIME_CYCLE_2A * dur_cycling\n",
    ")\n",
    "\n",
    "V_pt_2A_significant = (\n",
    "    ASC_PT_2A\n",
    "    + B_AGE_PT_2A * age\n",
    "    + B_TIME_PT_2A * dur_pt\n",
    "    + B_COST_2A * cost_transit\n",
    ")\n",
    "\n",
    "V_car_2A_significant = (\n",
    "    ASC_CAR_2A\n",
    "    + B_AGE_CAR_2A * age\n",
    "    + B_TIME_CAR_2A * dur_driving\n",
    "    + B_COST_2A * cost_driving\n",
    ")\n",
    "\n",
    "V_2A_significant ={1: V_walk_2A_significant, 2: V_cycle_2A_significant, 3: V_pt_2A_significant, 4: V_car_2A_significant}\n",
    "\n",
    "logprob_2A_significant = loglogit(V_2A_significant, None, travel_mode)\n",
    "biogeme_2A_significant = bio.BIOGEME(database, logprob_2A_significant)\n",
    "biogeme_2A_significant.modelName = 'model_2A_significant'\n",
    "\n",
    "results_2A_significant = biogeme_2A_significant.estimate()\n",
    "print(results_2A_significant.print_general_statistics())"
   ]
  },
  {
   "cell_type": "code",
   "execution_count": null,
   "metadata": {},
   "outputs": [],
   "source": [
    "display(results_2A_significant.get_estimated_parameters())"
   ]
  },
  {
   "cell_type": "code",
   "execution_count": null,
   "metadata": {},
   "outputs": [],
   "source": [
    "lr_result2A_significant = results_2A_significant.likelihood_ratio_test(results_pref, 0.05)\n",
    "print(f'{lr_result2A_significant.statistic=:.3g}')\n",
    "print(f'{lr_result2A_significant.threshold=:.3g}')\n",
    "print(lr_result2A_significant.message)"
   ]
  },
  {
   "cell_type": "code",
   "execution_count": null,
   "metadata": {},
   "outputs": [],
   "source": [
    "# Alternative specific constants (ASC_walk is normalized to 0)\n",
    "ASC_CYCLE_2B = Beta('ASC_CYCLE_2B', 0, None, None, 0)\n",
    "ASC_PT_2B    = Beta('ASC_PT_2B', 0, None, None, 0)\n",
    "ASC_CAR_2B   = Beta('ASC_CAR_2B', 0, None, None, 0)\n",
    "\n",
    "# Alternative specific time coefficient\n",
    "B_TIME_WALK_2B  = Beta('B_TIME_WALK_2B', 0, None, None, 0)\n",
    "B_TIME_CYCLE_2B = Beta('B_TIME_CYCLE_2B', 0, None, None, 0)\n",
    "B_TIME_PT_2B    = Beta('B_TIME_PT_2B', 0, None, None, 0)\n",
    "B_TIME_CAR_2B   = Beta('B_TIME_CAR_2B', 0, None, None, 0)\n",
    "\n",
    "# Generic cost coefficient\n",
    "B_COST_2B = Beta('B_COST_2B', 0, None, None, 0)\n",
    "\n",
    "age = Variable('age')\n",
    "B_AGE_CYCLE_2B = Beta('B_AGE_CYCLE_2B', 0, None, None, 0)\n",
    "B_AGE_PT_2B = Beta('B_AGE_PT_2B', 0, None, None, 0)\n",
    "B_AGE_CAR_2B = Beta('B_AGE_CAR_2B', 0, None, None, 0)"
   ]
  },
  {
   "cell_type": "code",
   "execution_count": null,
   "metadata": {},
   "outputs": [],
   "source": [
    "V_walk_2B = (\n",
    "    B_TIME_WALK_2B * dur_walking \n",
    ")\n",
    "\n",
    "V_cycle_2B = (\n",
    "    ASC_CYCLE_2B\n",
    "    + B_TIME_CYCLE_2B * dur_cycling \n",
    ")\n",
    "\n",
    "V_PT_2B = (\n",
    "    ASC_PT_2B\n",
    "    + B_TIME_PT_2B * dur_pt \n",
    "    + B_COST_2B * cost_transit * age\n",
    ")\n",
    "\n",
    "V_car_2B = (\n",
    "    ASC_CAR_2B\n",
    "    + B_TIME_CAR_2B * dur_driving \n",
    "    + B_COST_2B * cost_driving * age\n",
    ")\n",
    "\n",
    "V_2B ={1: V_walk_2B, 2: V_cycle_2B, 3: V_PT_2B, 4: V_car_2B}\n",
    "\n",
    "logprob_2B = loglogit(V_2B, None, travel_mode)\n",
    "biogeme_2B = bio.BIOGEME(database, logprob_2B)\n",
    "biogeme_2B.modelName = 'model_2B'\n",
    "\n",
    "results_2B = biogeme_2B.estimate()\n",
    "print(results_2B.print_general_statistics())"
   ]
  },
  {
   "cell_type": "code",
   "execution_count": null,
   "metadata": {},
   "outputs": [],
   "source": [
    "display(results_2B.get_estimated_parameters())"
   ]
  },
  {
   "cell_type": "code",
   "execution_count": null,
   "metadata": {},
   "outputs": [],
   "source": [
    "lr_result2B = results_2B.likelihood_ratio_test(results_pref, 0.05)\n",
    "print(f'{lr_result2B.statistic=:.3g}')\n",
    "print(f'{lr_result2B.threshold=:.3g}')\n",
    "print(lr_result2B.message)"
   ]
  },
  {
   "cell_type": "code",
   "execution_count": null,
   "metadata": {},
   "outputs": [],
   "source": [
    "V_pref = V_2A_significant\n",
    "results_pref = results_2A_significant"
   ]
  },
  {
   "cell_type": "markdown",
   "metadata": {},
   "source": [
    "## Model 3\n",
    "\n",
    "Using Model_pref as the base model, include an appropriate non-linear transformation of one of the variables. Report both the specication and the estimation results (as defined previously)."
   ]
  },
  {
   "cell_type": "code",
   "execution_count": null,
   "metadata": {},
   "outputs": [],
   "source": [
    "sns.histplot(df[\"dur_walking\"])\n",
    "sns.histplot(df[\"dur_cycling\"])\n",
    "sns.histplot(df[\"dur_pt_access\"] + df[\"dur_pt_rail\"] + df[\"dur_pt_bus\"] + df[\"dur_pt_int\"])\n",
    "sns.histplot(df[\"dur_driving\"])\n",
    "# plt.xscale('log')\n",
    "plt.legend(['Walking', 'Cycling', 'Public transport', 'Driving'])\n",
    "plt.show()"
   ]
  },
  {
   "cell_type": "markdown",
   "metadata": {},
   "source": [
    "#### Piecewise Linear"
   ]
  },
  {
   "cell_type": "code",
   "execution_count": null,
   "metadata": {},
   "outputs": [],
   "source": [
    "# Alternative specific constants (ASC_walk is normalized to 0)\n",
    "ASC_CYCLE_3A = Beta('ASC_CYCLE_3A', 0, None, None, 0)\n",
    "ASC_PT_3A    = Beta('ASC_PT_3A', 0, None, None, 0)\n",
    "ASC_CAR_3A   = Beta('ASC_CAR_3A', 0, None, None, 0)\n",
    "\n",
    "# Generic cost coefficient\n",
    "B_COST_3A = Beta('B_COST_3A', 0, None, None, 0)\n",
    "\n",
    "age = Variable('age')\n",
    "# B_AGE_CYCLE_3A = Beta('B_AGE_CYCLE_3A', 0, None, None, 0)\n",
    "B_AGE_PT_3A = Beta('B_AGE_PT_3A', 0, None, None, 0)\n",
    "B_AGE_CAR_3A = Beta('B_AGE_CAR_3A', 0, None, None, 0)"
   ]
  },
  {
   "cell_type": "code",
   "execution_count": null,
   "metadata": {},
   "outputs": [],
   "source": [
    "thresholds = [0, 0.1, 0.5, 1, 2, None]\n",
    "\n",
    "BETA_TIME_3A_1 = Beta('BETA_TIME_3A_0_0.1', 0, None, None, 0)\n",
    "BETA_TIME_3A_2 = Beta('BETA_TIME_3A_0.1_0.5', 0, None, None, 0)\n",
    "BETA_TIME_3A_3 = Beta('BETA_TIME_3A_0.5_1', 0, None, None, 0)\n",
    "BETA_TIME_3A_4 = Beta('BETA_TIME_3A_1_2', 0, None, None, 0)\n",
    "BETA_TIME_3A_5 = Beta('BETA_TIME_3A_2_more', 0, None, None, 0)\n",
    "betas_piecewise = [BETA_TIME_3A_1, BETA_TIME_3A_2, BETA_TIME_3A_3, BETA_TIME_3A_4, BETA_TIME_3A_5]"
   ]
  },
  {
   "cell_type": "code",
   "execution_count": null,
   "metadata": {},
   "outputs": [],
   "source": [
    "piecewise_dur_walking = piecewise_formula(\n",
    "    dur_walking, thresholds, betas_piecewise\n",
    ")\n",
    "piecewise_dur_cycling = piecewise_formula(\n",
    "    dur_cycling, thresholds, betas_piecewise\n",
    ")\n",
    "piecewise_dur_pt = piecewise_formula(\n",
    "    dur_pt, thresholds, betas_piecewise\n",
    ")\n",
    "piecewise_dur_driving = piecewise_formula(\n",
    "    dur_driving, thresholds, betas_piecewise\n",
    ")"
   ]
  },
  {
   "cell_type": "code",
   "execution_count": null,
   "metadata": {},
   "outputs": [],
   "source": [
    "V_walk_3A_piecewise = (\n",
    "    piecewise_dur_walking\n",
    ")\n",
    "\n",
    "V_cycle_3A_piecewise = (\n",
    "    ASC_CYCLE_3A\n",
    "    # + B_AGE_CYCLE_3A * age\n",
    "    + piecewise_dur_cycling\n",
    ")\n",
    "\n",
    "V_pt_3A_piecewise = (\n",
    "    ASC_PT_3A\n",
    "    + B_AGE_PT_3A * age\n",
    "    + piecewise_dur_pt\n",
    "    + B_COST_3A * cost_transit\n",
    ")\n",
    "\n",
    "V_car_3A_piecewise = (\n",
    "    ASC_CAR_3A\n",
    "    + B_AGE_CAR_3A * age\n",
    "    + piecewise_dur_driving\n",
    "    + B_COST_3A * cost_driving\n",
    ")\n",
    "\n",
    "V_3A_piecewise ={1: V_walk_3A_piecewise, 2: V_cycle_3A_piecewise, 3: V_pt_3A_piecewise, 4: V_car_3A_piecewise}\n",
    "logprob_3A_piecewise = loglogit(V_3A_piecewise, None, travel_mode)\n",
    "biogeme_3A_piecewise = bio.BIOGEME(database, logprob_3A_piecewise)\n",
    "biogeme_3A_piecewise.modelName = 'model_3A_piecewise'\n",
    "\n",
    "results_3A_piecewise = biogeme_3A_piecewise.estimate()\n",
    "print(results_3A_piecewise.print_general_statistics())"
   ]
  },
  {
   "cell_type": "code",
   "execution_count": null,
   "metadata": {},
   "outputs": [],
   "source": [
    "results_3A_piecewise.getEstimatedParameters()"
   ]
  },
  {
   "cell_type": "code",
   "execution_count": null,
   "metadata": {},
   "outputs": [],
   "source": [
    "piecewise_estimates = results_3A_piecewise.get_beta_values()\n",
    "V_walk_3A_piecewise.fix_betas(beta_values=piecewise_estimates, prefix='piecewise_')\n",
    "V_cycle_3A_piecewise.fix_betas(beta_values=piecewise_estimates, prefix='piecewise_')\n",
    "V_pt_3A_piecewise.fix_betas(beta_values=piecewise_estimates, prefix='piecewise_')\n",
    "V_car_3A_piecewise.fix_betas(beta_values=piecewise_estimates, prefix='piecewise_')"
   ]
  },
  {
   "cell_type": "code",
   "execution_count": null,
   "metadata": {},
   "outputs": [],
   "source": [
    "alpha = Beta('alpha', 0, None, None, 0)\n",
    "Opt1 = (1 - alpha) * V_walk_2A + alpha * V_walk_3A_piecewise\n",
    "Opt2 = (1 - alpha) * V_cycle_2A + alpha * V_cycle_3A_piecewise\n",
    "Opt3 = (1 - alpha) * V_pt_2A + alpha * V_pt_3A_piecewise\n",
    "Opt4 = (1 - alpha) * V_car_2A + alpha * V_car_3A_piecewise\n",
    "\n",
    "V = {1: Opt1, 2: Opt2, 3: Opt3, 4: Opt4}\n",
    "logprob = loglogit(V, None, travel_mode)\n",
    "biogeme = bio.BIOGEME(database, logprob)\n",
    "biogeme.modelName = 'model_3A_composite'\n",
    "results_composite = biogeme.estimate()\n"
   ]
  },
  {
   "cell_type": "code",
   "execution_count": null,
   "metadata": {},
   "outputs": [],
   "source": [
    "composite_parameters = results_composite.get_estimated_parameters()\n",
    "display(composite_parameters)"
   ]
  },
  {
   "cell_type": "code",
   "execution_count": null,
   "metadata": {},
   "outputs": [],
   "source": [
    "t_test_alpha = composite_parameters.loc['alpha', 'Rob. t-test']\n",
    "print(f't-test for alpha: {t_test_alpha:.3g}')"
   ]
  },
  {
   "cell_type": "code",
   "execution_count": null,
   "metadata": {},
   "outputs": [],
   "source": [
    "p_value_alpha = composite_parameters.loc['alpha', 'Rob. p-value']\n",
    "print(f'p-value for alpha: {p_value_alpha:.3g}')\n"
   ]
  },
  {
   "cell_type": "markdown",
   "metadata": {},
   "source": [
    "Under the null hypothesis, the true value of $\\alpha$ is 0. This hypothesis can be safely rejected here. Therefore, the piecewise linear specification is preferred."
   ]
  },
  {
   "cell_type": "markdown",
   "metadata": {},
   "source": [
    "#### Box-Cox"
   ]
  },
  {
   "cell_type": "code",
   "execution_count": null,
   "metadata": {},
   "outputs": [],
   "source": [
    "# Alternative specific constants (ASC_walk is normalized to 0)\n",
    "ASC_CYCLE_3B = Beta('ASC_CYCLE_3B', 0, None, None, 0)\n",
    "ASC_PT_3B    = Beta('ASC_PT_3B', 0, None, None, 0)\n",
    "ASC_CAR_3B   = Beta('ASC_CAR_3B', 0, None, None, 0)\n",
    "\n",
    "# Alternative specific time coefficient\n",
    "B_TIME_WALK_3B  = Beta('B_TIME_WALK_3B', 0, None, None, 0)\n",
    "B_TIME_CYCLE_3B = Beta('B_TIME_CYCLE_3B', 0, None, None, 0)\n",
    "B_TIME_PT_3B    = Beta('B_TIME_PT_3B', 0, None, None, 0)\n",
    "B_TIME_CAR_3B   = Beta('B_TIME_CAR_3B', 0, None, None, 0)\n",
    "\n",
    "# Generic cost coefficient\n",
    "B_COST_3B = Beta('B_COST_3B', 0, None, None, 0)\n",
    "\n",
    "age = Variable('age')\n",
    "# B_AGE_CYCLE_3B = Beta('B_AGE_CYCLE_3B', 0, None, None, 0)\n",
    "B_AGE_PT_3B = Beta('B_AGE_PT_3B', 0, None, None, 0)\n",
    "B_AGE_CAR_3B = Beta('B_AGE_CAR_3B', 0, None, None, 0)"
   ]
  },
  {
   "cell_type": "code",
   "execution_count": null,
   "metadata": {},
   "outputs": [],
   "source": [
    "lambda_boxcox_walking = Beta('lambda_boxcox_walking', 1, -10, 10, 0)\n",
    "boxcox_dur_walking_unrestricted = boxcox(dur_walking, lambda_boxcox_walking)\n",
    "\n",
    "lambda_boxcox_cycling = Beta('lambda_boxcox_cycling', 1, -10, 10, 0)\n",
    "boxcox_dur_cycling_unrestricted = boxcox(dur_cycling, lambda_boxcox_cycling)\n",
    "\n",
    "lambda_boxcox_pt = Beta('lambda_boxcox_pt', 1, -10, 10, 0)\n",
    "boxcox_dur_pt_unrestricted = boxcox(dur_pt, lambda_boxcox_pt)\n",
    "\n",
    "lambda_boxcox_driving = Beta('lambda_boxcox_driving', 1, -10, 10, 0)\n",
    "boxcox_dur_driving_unrestricted = boxcox(dur_driving, lambda_boxcox_driving)"
   ]
  },
  {
   "cell_type": "code",
   "execution_count": null,
   "metadata": {},
   "outputs": [],
   "source": [
    "V_walk_3B_unrestricted = (\n",
    "    B_TIME_WALK_3B * boxcox_dur_walking_unrestricted\n",
    ")\n",
    "\n",
    "V_cycle_3B_unrestricted = (\n",
    "    ASC_CYCLE_3B\n",
    "    # + B_AGE_CYCLE_3B * age\n",
    "    + B_TIME_CYCLE_3B * boxcox_dur_cycling_unrestricted\n",
    ")\n",
    "\n",
    "V_pt_3B_unrestricted = (\n",
    "    ASC_PT_3B\n",
    "    + B_AGE_PT_3B * age\n",
    "    + B_TIME_PT_3B * boxcox_dur_pt_unrestricted\n",
    "    + B_COST_3B * cost_transit\n",
    ")\n",
    "\n",
    "V_car_3B_unrestricted = (\n",
    "    ASC_CAR_3B\n",
    "    + B_AGE_CAR_3B * age\n",
    "    + B_TIME_CAR_3B * boxcox_dur_driving_unrestricted\n",
    "    + B_COST_3B * cost_driving\n",
    ")\n",
    "\n",
    "V_3B_unrestricted ={1: V_walk_3B_unrestricted, 2: V_cycle_3B_unrestricted, 3: V_pt_3B_unrestricted, 4: V_car_3B_unrestricted}\n",
    "logprob_3B_unrestricted = loglogit(V_3B_unrestricted, None, travel_mode)\n",
    "biogeme_3B_unrestricted = bio.BIOGEME(database, logprob_3B_unrestricted)\n",
    "biogeme_3B_unrestricted.modelName = 'model_3B_unrestricted'\n",
    "\n",
    "results_3B_unrestricted = biogeme_3B_unrestricted.estimate()\n",
    "print(results_3B_unrestricted.print_general_statistics())"
   ]
  },
  {
   "cell_type": "code",
   "execution_count": null,
   "metadata": {},
   "outputs": [],
   "source": [
    "results_3B_unrestricted.getEstimatedParameters()"
   ]
  },
  {
   "cell_type": "code",
   "execution_count": null,
   "metadata": {},
   "outputs": [],
   "source": [
    "lr_result3B = results_3B_unrestricted.likelihood_ratio_test(results_pref, 0.05)\n",
    "print(f'{lr_result3B.statistic=:.3g}')\n",
    "print(f'{lr_result3B.threshold=:.3g}')\n",
    "print(lr_result3B.message)"
   ]
  },
  {
   "cell_type": "code",
   "execution_count": null,
   "metadata": {},
   "outputs": [],
   "source": [
    "lambda_boxcox = Beta('lambda_boxcox', 1, -10, 10, 0)\n",
    "boxcox_dur_walking_restricted = boxcox(dur_walking, lambda_boxcox)\n",
    "boxcox_dur_cycling_restricted = boxcox(dur_cycling, lambda_boxcox)\n",
    "boxcox_dur_pt_restricted = boxcox(dur_pt, lambda_boxcox)\n",
    "boxcox_dur_driving_restricted = boxcox(dur_driving, lambda_boxcox)"
   ]
  },
  {
   "cell_type": "code",
   "execution_count": null,
   "metadata": {},
   "outputs": [],
   "source": [
    "V_walk_3B_restricted = (\n",
    "    B_TIME_WALK_3B * boxcox_dur_walking_restricted\n",
    ")\n",
    "\n",
    "V_cycle_3B_restricted = (\n",
    "    ASC_CYCLE_3B\n",
    "    # + B_AGE_CYCLE_3B * age\n",
    "    + B_TIME_CYCLE_3B * boxcox_dur_cycling_restricted\n",
    ")\n",
    "\n",
    "V_pt_3B_restricted = (\n",
    "    ASC_PT_3B\n",
    "    + B_AGE_PT_3B * age\n",
    "    + B_TIME_PT_3B * boxcox_dur_pt_restricted\n",
    "    + B_COST_3B * cost_transit\n",
    ")\n",
    "\n",
    "V_car_3B_restricted = (\n",
    "    ASC_CAR_3B\n",
    "    + B_AGE_CAR_3B * age\n",
    "    + B_TIME_CAR_3B * boxcox_dur_driving_restricted\n",
    "    + B_COST_3B * cost_driving\n",
    ")\n",
    "\n",
    "V_3B_restricted = {1: V_walk_3B_restricted, 2: V_cycle_3B_restricted, 3: V_pt_3B_restricted, 4: V_car_3B_restricted}\n",
    "logprob_3B_restricted = loglogit(V_3B_restricted, None, travel_mode)\n",
    "biogeme_3B_restricted = bio.BIOGEME(database, logprob_3B_restricted)\n",
    "biogeme_3B_restricted.modelName = 'model_3B_restricted'\n",
    "\n",
    "results_3B_restricted = biogeme_3B_restricted.estimate()\n",
    "print(results_3B_restricted.print_general_statistics())"
   ]
  },
  {
   "cell_type": "code",
   "execution_count": null,
   "metadata": {},
   "outputs": [],
   "source": [
    "results_3B_restricted.getEstimatedParameters()"
   ]
  },
  {
   "cell_type": "code",
   "execution_count": null,
   "metadata": {},
   "outputs": [],
   "source": [
    "# lr_result3B = results_3B_restricted.likelihood_ratio_test(results_pref, 0.05)\n",
    "# print(f'{lr_result3B.statistic=:.3g}')\n",
    "# print(f'{lr_result3B.threshold=:.3g}')\n",
    "# print(lr_result3B.message)"
   ]
  },
  {
   "cell_type": "markdown",
   "metadata": {},
   "source": [
    "Testing the unrestricted model where each utility has its own lambda, with the restriction of all lambdas equal."
   ]
  },
  {
   "cell_type": "code",
   "execution_count": null,
   "metadata": {},
   "outputs": [],
   "source": [
    "lr_result3B = results_3B_unrestricted.likelihood_ratio_test(results_3B_restricted, 0.05)\n",
    "print(f'{lr_result3B.statistic=:.3g}')\n",
    "print(f'{lr_result3B.threshold=:.3g}')\n",
    "print(lr_result3B.message)"
   ]
  },
  {
   "cell_type": "markdown",
   "metadata": {},
   "source": [
    "#### Power series"
   ]
  },
  {
   "cell_type": "markdown",
   "metadata": {},
   "source": [
    "Trying square"
   ]
  },
  {
   "cell_type": "code",
   "execution_count": null,
   "metadata": {},
   "outputs": [],
   "source": [
    "# Alternative specific constants (ASC_walk is normalized to 0)\n",
    "ASC_CYCLE_3C = Beta('ASC_CYCLE_3C', 0, None, None, 0)\n",
    "ASC_PT_3C    = Beta('ASC_PT_3C', 0, None, None, 0)\n",
    "ASC_CAR_3C   = Beta('ASC_CAR_3C', 0, None, None, 0)\n",
    "\n",
    "# Alternative specific time coefficient\n",
    "B_TIME_WALK_3C  = Beta('B_TIME_WALK_3C', 0, None, None, 0)\n",
    "B_TIME_CYCLE_3C = Beta('B_TIME_CYCLE_3C', 0, None, None, 0)\n",
    "B_TIME_PT_3C    = Beta('B_TIME_PT_3C', 0, None, None, 0)\n",
    "B_TIME_CAR_3C   = Beta('B_TIME_CAR_3C', 0, None, None, 0)\n",
    "\n",
    "# Power parameters\n",
    "B_TIME_WALK_3C_squared  = Beta('B_TIME_WALK_3C_squared', 0, None, None, 0)\n",
    "B_TIME_CYCLE_3C_squared = Beta('B_TIME_CYCLE_3C_squared', 0, None, None, 0)\n",
    "B_TIME_PT_3C_squared    = Beta('B_TIME_PT_3C_squared', 0, None, None, 0)\n",
    "B_TIME_CAR_3C_squared   = Beta('B_TIME_CAR_3C_squared', 0, None, None, 0)\n",
    "\n",
    "# Generic cost coefficient\n",
    "B_COST_3C = Beta('B_COST_3C', 0, None, None, 0)\n",
    "\n",
    "age = Variable('age')\n",
    "# B_AGE_CYCLE_3C = Beta('B_AGE_CYCLE_3C', 0, None, None, 0)\n",
    "B_AGE_PT_3C = Beta('B_AGE_PT_3C', 0, None, None, 0)\n",
    "B_AGE_CAR_3C = Beta('B_AGE_CAR_3C', 0, None, None, 0)"
   ]
  },
  {
   "cell_type": "code",
   "execution_count": null,
   "metadata": {},
   "outputs": [],
   "source": [
    "V_walk_3C_piecewise_squared = (\n",
    "    B_TIME_WALK_3C * dur_walking\n",
    "    + B_TIME_WALK_3C_squared * dur_walking * dur_walking\n",
    ")\n",
    "\n",
    "V_cycle_3C_piecewise_squared = (\n",
    "    ASC_CYCLE_3C\n",
    "    # + B_AGE_CYCLE_3C * age\n",
    "    + B_TIME_CYCLE_3C * dur_cycling\n",
    "    + B_TIME_CYCLE_3C_squared * dur_cycling * dur_cycling\n",
    ")\n",
    "\n",
    "V_pt_3C_piecewise_squared = (\n",
    "    ASC_PT_3C\n",
    "    + B_AGE_PT_3C * age\n",
    "    + B_TIME_PT_3C * dur_pt\n",
    "    + B_TIME_PT_3C_squared * dur_pt * dur_pt\n",
    "    + B_COST_3C * cost_transit\n",
    ")\n",
    "\n",
    "V_car_3C_piecewise_squared = (\n",
    "    ASC_CAR_3C\n",
    "    + B_AGE_CAR_3C * age\n",
    "    + B_TIME_CAR_3C * dur_driving\n",
    "    + B_TIME_CAR_3C_squared * dur_driving * dur_driving\n",
    "    + B_COST_3C * cost_driving\n",
    ")\n",
    "\n",
    "V_3C_piecewise_squared ={1: V_walk_3C_piecewise_squared, 2: V_cycle_3C_piecewise_squared, 3: V_pt_3C_piecewise_squared, 4: V_car_3C_piecewise_squared}\n",
    "logprob_3C_piecewise_squared = loglogit(V_3C_piecewise_squared, None, travel_mode)\n",
    "biogeme_3C_piecewise_squared = bio.BIOGEME(database, logprob_3C_piecewise_squared)\n",
    "biogeme_3C_piecewise_squared.modelName = 'model_3C_power_series_2'\n",
    "\n",
    "results_3C_piecewise_squared = biogeme_3C_piecewise_squared.estimate()\n",
    "print(results_3C_piecewise_squared.print_general_statistics())"
   ]
  },
  {
   "cell_type": "markdown",
   "metadata": {},
   "source": [
    "Trying cubed"
   ]
  },
  {
   "cell_type": "code",
   "execution_count": null,
   "metadata": {},
   "outputs": [],
   "source": [
    "# Alternative specific constants (ASC_walk is normalized to 0)\n",
    "ASC_CYCLE_3C = Beta('ASC_CYCLE_3C', 0, None, None, 0)\n",
    "ASC_PT_3C    = Beta('ASC_PT_3C', 0, None, None, 0)\n",
    "ASC_CAR_3C   = Beta('ASC_CAR_3C', 0, None, None, 0)\n",
    "\n",
    "# Alternative specific time coefficient\n",
    "B_TIME_WALK_3C  = Beta('B_TIME_WALK_3C', 0, None, None, 0)\n",
    "B_TIME_CYCLE_3C = Beta('B_TIME_CYCLE_3C', 0, None, None, 0)\n",
    "B_TIME_PT_3C    = Beta('B_TIME_PT_3C', 0, None, None, 0)\n",
    "B_TIME_CAR_3C   = Beta('B_TIME_CAR_3C', 0, None, None, 0)\n",
    "\n",
    "# Power parameters\n",
    "B_TIME_WALK_3C_cubed  = Beta('B_TIME_WALK_3C_cubed', 0, None, None, 0)\n",
    "B_TIME_CYCLE_3C_cubed = Beta('B_TIME_CYCLE_3C_cubed', 0, None, None, 0)\n",
    "B_TIME_PT_3C_cubed    = Beta('B_TIME_PT_3C_cubed', 0, None, None, 0)\n",
    "B_TIME_CAR_3C_cubed   = Beta('B_TIME_CAR_3C_cubed', 0, None, None, 0)\n",
    "\n",
    "# Generic cost coefficient\n",
    "B_COST_3C = Beta('B_COST_3C', 0, None, None, 0)\n",
    "\n",
    "age = Variable('age')\n",
    "# B_AGE_CYCLE_3C = Beta('B_AGE_CYCLE_3C', 0, None, None, 0)\n",
    "B_AGE_PT_3C = Beta('B_AGE_PT_3C', 0, None, None, 0)\n",
    "B_AGE_CAR_3C = Beta('B_AGE_CAR_3C', 0, None, None, 0)"
   ]
  },
  {
   "cell_type": "code",
   "execution_count": null,
   "metadata": {},
   "outputs": [],
   "source": [
    "V_walk_3C_piecewise_cubed = (\n",
    "    B_TIME_WALK_3C * dur_walking\n",
    "    + B_TIME_WALK_3C_cubed * dur_walking * dur_walking * dur_walking\n",
    ")\n",
    "\n",
    "V_cycle_3C_piecewise_cubed = (\n",
    "    ASC_CYCLE_3C\n",
    "    # + B_AGE_CYCLE_3C * age\n",
    "    + B_TIME_CYCLE_3C * dur_cycling\n",
    "    + B_TIME_CYCLE_3C_cubed * dur_cycling * dur_cycling * dur_cycling\n",
    ")\n",
    "\n",
    "V_pt_3C_piecewise_cubed = (\n",
    "    ASC_PT_3C\n",
    "    + B_AGE_PT_3C * age\n",
    "    + B_TIME_PT_3C * dur_pt\n",
    "    + B_TIME_PT_3C_cubed * dur_pt * dur_pt * dur_pt\n",
    "    + B_COST_3C * cost_transit\n",
    ")\n",
    "\n",
    "V_car_3C_piecewise_cubed = (\n",
    "    ASC_CAR_3C\n",
    "    + B_AGE_CAR_3C * age\n",
    "    + B_TIME_CAR_3C * dur_driving\n",
    "    + B_TIME_CAR_3C_cubed * dur_driving * dur_driving * dur_driving\n",
    "    + B_COST_3C * cost_driving\n",
    ")\n",
    "\n",
    "V_3C_piecewise_cubed ={1: V_walk_3C_piecewise_cubed, 2: V_cycle_3C_piecewise_cubed, 3: V_pt_3C_piecewise_cubed, 4: V_car_3C_piecewise_cubed}\n",
    "logprob_3C_piecewise_cubed = loglogit(V_3C_piecewise_cubed, None, travel_mode)\n",
    "biogeme_3C_piecewise_cubed = bio.BIOGEME(database, logprob_3C_piecewise_cubed)\n",
    "biogeme_3C_piecewise_cubed.modelName = 'model_3C_power_series_3'\n",
    "\n",
    "results_3C_piecewise_cubed = biogeme_3C_piecewise_cubed.estimate()\n",
    "print(results_3C_piecewise_cubed.print_general_statistics())"
   ]
  },
  {
   "cell_type": "code",
   "execution_count": null,
   "metadata": {},
   "outputs": [],
   "source": [
    "V_pref = V_3B_unrestricted\n",
    "results_pref = results_3B_unrestricted"
   ]
  },
  {
   "cell_type": "markdown",
   "metadata": {},
   "source": [
    "## Model 4"
   ]
  },
  {
   "cell_type": "code",
   "execution_count": null,
   "metadata": {},
   "outputs": [],
   "source": [
    "mu_motorized = Beta('mu_motorized', 1, 0, None, 0)\n",
    "motorized = OneNestForNestedLogit(nest_param=mu_motorized, list_of_alternatives=[3, 4], name='motorized')\n",
    "walk = OneNestForNestedLogit(nest_param=1, list_of_alternatives=[1], name='walk')\n",
    "bike = OneNestForNestedLogit(nest_param=1, list_of_alternatives=[2], name='bike')\n",
    "nests = NestsForNestedLogit(choice_set=V_pref, tuple_of_nests=(motorized, walk, bike))"
   ]
  },
  {
   "cell_type": "code",
   "execution_count": null,
   "metadata": {},
   "outputs": [],
   "source": [
    "logprob_4 = lognested(V_pref, None, nests, travel_mode)\n",
    "biogeme_4 = bio.BIOGEME(database, logprob_4)\n",
    "biogeme_4.modelName = 'model_4'\n",
    "results_4 = biogeme_4.estimate()\n",
    "print(results_4.print_general_statistics())"
   ]
  },
  {
   "cell_type": "code",
   "execution_count": null,
   "metadata": {},
   "outputs": [],
   "source": [
    "table_4 = results_4.get_estimated_parameters()\n",
    "display(table_4)\n"
   ]
  },
  {
   "cell_type": "markdown",
   "metadata": {},
   "source": [
    "The nested parameter is greater than one, consistently with the theory."
   ]
  },
  {
   "cell_type": "code",
   "execution_count": null,
   "metadata": {},
   "outputs": [],
   "source": [
    "value_mu_motorized = table_4.loc['mu_motorized', 'Value']\n",
    "print(f'Nest parameter: {value_mu_motorized:.3g}')\n",
    "\n",
    "mu_stderr = table_4.loc['mu_motorized', 'Rob. Std err']\n",
    "tested_value = 1\n",
    "t_test = (tested_value - value_mu_motorized) / mu_stderr\n",
    "print(f't_test against 1: {t_test:.3g}')"
   ]
  },
  {
   "cell_type": "code",
   "execution_count": null,
   "metadata": {},
   "outputs": [],
   "source": [
    "LL_logit = results_pref.data.logLike\n",
    "LL_nested_existing = results_4.data.logLike\n",
    "LR = -2 * (LL_logit - LL_nested_existing)\n",
    "print(f'Statistic for the LR test: {LR:.3g}')"
   ]
  },
  {
   "cell_type": "code",
   "execution_count": null,
   "metadata": {},
   "outputs": [],
   "source": [
    "dof = results_4.data.nparam - results_pref.data.nparam\n",
    "print(f'Degrees of freedom: {dof}')"
   ]
  },
  {
   "cell_type": "code",
   "execution_count": null,
   "metadata": {},
   "outputs": [],
   "source": [
    "print(f'Threshold for the test: {chi2.isf(0.05, dof):.3g}')"
   ]
  },
  {
   "cell_type": "code",
   "execution_count": null,
   "metadata": {},
   "outputs": [],
   "source": [
    "lr_test_existing = results_4.likelihood_ratio_test(\n",
    "    results_pref, significance_level=0.05\n",
    ")\n",
    "print(f'{lr_test_existing.statistic=:.3g}')\n",
    "print(f'{lr_test_existing.threshold=:.3g}')\n",
    "print(lr_test_existing.message)\n"
   ]
  },
  {
   "cell_type": "markdown",
   "metadata": {},
   "source": [
    "## Market shares"
   ]
  },
  {
   "cell_type": "code",
   "execution_count": 10,
   "metadata": {},
   "outputs": [],
   "source": [
    "def get_weights(df):\n",
    "    # Size of each segment in the population (N_g)\n",
    "    census = {\n",
    "        'female_44_less': 2841376,\n",
    "        'female_45_more': 1519948,\n",
    "        'male_44_less': 2926408,\n",
    "        'male_45_more': 1379198,\n",
    "    }\n",
    "\n",
    "    # Size of the population (N)\n",
    "    population_size = sum(census.values())\n",
    "\n",
    "    # Identify each segment in the database\n",
    "    filters = {\n",
    "        'female_44_less': (df.age <= 44) & (df.female == 1),\n",
    "        'female_45_more': (df.age >= 45) & (df.female == 1),\n",
    "        'male_44_less': (df.age <= 44) & (df.female == 0),\n",
    "        'male_45_more': (df.age >= 45) & (df.female == 0),\n",
    "    }\n",
    "\n",
    "    # Size of each segment in the sample (S_g)\n",
    "    sample_segments = {\n",
    "        segment_name: segment_rows.sum() for segment_name, segment_rows in filters.items()\n",
    "    }\n",
    "\n",
    "    # Size of the sample (S)\n",
    "    sample_size = sum(sample_segments.values())\n",
    "\n",
    "    # Weights (omega_g = (N_g / N) * (S / S_g))\n",
    "    weights = {\n",
    "        segment_name: census[segment_name] * sample_size / (segment_size * population_size)\n",
    "        for segment_name, segment_size in sample_segments.items()\n",
    "    }\n",
    "\n",
    "    return weights\n",
    "\n",
    "def get_segments_size_in_sample(df):\n",
    "    # Identify each segment in the database\n",
    "    filters = {\n",
    "        'female_44_less': (df.age <= 44) & (df.female == 1),\n",
    "        'female_45_more': (df.age >= 45) & (df.female == 1),\n",
    "        'male_44_less': (df.age <= 44) & (df.female == 0),\n",
    "        'male_45_more': (df.age >= 45) & (df.female == 0),\n",
    "    }\n",
    "\n",
    "    # Size of each segment in the sample (S_g)\n",
    "    sample_segments = {\n",
    "        segment_name: segment_rows.sum() for segment_name, segment_rows in filters.items()\n",
    "    }\n",
    "\n",
    "    return sample_segments\n",
    "\n",
    "\n",
    "def get_market_shares(df, V, alpha = 0.9, is_nested=False, nests=None):\n",
    "    \"\"\"\n",
    "    Input parameters :\n",
    "    -> database : a panda dataframe,\n",
    "    -> V : a dictionnary with the utility functions\n",
    "       (1:walk, 2:cycle, 3:pt, 4:car)\n",
    "    -> alpha : size of the confidence intervals\n",
    "    -> is_nested : boolean, True if the model is nested logit\n",
    "    -> nests : nest object, if the model is nested logit\n",
    "    Output :\n",
    "    -> market_shares : dictionnary with the market shares \n",
    "        (1:walk, 2:cycle, 3:pt, 4:car)\n",
    "    -> left : dict with the left bound of IC\n",
    "    -> right : dict with the right bound of IC\n",
    "    The three dicts are in %\n",
    "    \"\"\"\n",
    "    weights = get_weights(df)\n",
    "\n",
    "    filters = {\n",
    "        'female_44_less': (df.age <= 44) & (df.female == 1),\n",
    "        'female_45_more': (df.age >= 45) & (df.female == 1),\n",
    "        'male_44_less': (df.age <= 44) & (df.female == 0),\n",
    "        'male_45_more': (df.age >= 45) & (df.female == 0),\n",
    "    }\n",
    "\n",
    "    # Create a new dataframe to add the market shares in it\n",
    "    df_ms = df.copy()\n",
    "\n",
    "    # Add the weights in the dataframe\n",
    "    for segment_name, segment_rows in filters.items():\n",
    "        df_ms.loc[segment_rows, 'weight'] = weights[segment_name]\n",
    "\n",
    "    # Useful variables for later\n",
    "    weight = Variable('weight')\n",
    "    travel_mode = Variable('travel_mode')\n",
    "\n",
    "    if is_nested is False:\n",
    "        # Apply model to the new dataframe\n",
    "        database_ms = db.Database('lpcm_ms', df_ms)\n",
    "        logprob_ms  = loglogit(V, None, travel_mode)\n",
    "        biogeme_ms  = bio.BIOGEME(database_ms, logprob_ms)\n",
    "        biogeme_ms.modelName = 'market_shares'\n",
    "        results_ms  = biogeme_ms.estimate()\n",
    "\n",
    "        # Normalization for probabilities\n",
    "        normV = exp(V[1]) + exp(V[2]) + exp(V[3]) + exp(V[4])\n",
    "\n",
    "        # Probabilities\n",
    "        prob_walk  = exp(V[1]) / normV\n",
    "        prob_cycle = exp(V[2]) / normV\n",
    "        prob_pt    = exp(V[3]) / normV\n",
    "        prob_car   = exp(V[4]) / normV\n",
    "    else:\n",
    "        database_ms = db.Database('lpmc', df_ms)\n",
    "        logprob_ms  = lognested(V, None, nests, travel_mode)\n",
    "        biogeme_ms  = bio.BIOGEME(database_ms, logprob_ms)\n",
    "        biogeme_ms.modelName = 'market_shares'\n",
    "        results_ms  = biogeme_ms.estimate()\n",
    "        prob_walk   = nested(V, None, nests, 1)\n",
    "        prob_cycle  = nested(V, None, nests, 2)\n",
    "        prob_pt     = nested(V, None, nests, 3)\n",
    "        prob_car    = nested(V, None, nests, 4)  \n",
    "\n",
    "    # Computation of interesting formulas\n",
    "    simulate = {\n",
    "        'weight': weight,\n",
    "        'Prob. walk': prob_walk,\n",
    "        'Prob. cycle': prob_cycle,\n",
    "        'Prob. PT': prob_pt,\n",
    "        'Prob. car': prob_car\n",
    "    }\n",
    "    biosim_ms = bio.BIOGEME(database_ms, simulate)\n",
    "    simulated_values = biosim_ms.simulate(results_ms.get_beta_values())\n",
    "\n",
    "    simulated_values['Weighted walk'] = (\n",
    "        simulated_values['weight'] * simulated_values['Prob. walk']\n",
    "    )\n",
    "    simulated_values['Weighted cycle'] = (\n",
    "        simulated_values['weight'] * simulated_values['Prob. cycle']\n",
    "    )\n",
    "    simulated_values['Weighted PT'] = (\n",
    "        simulated_values['weight'] * simulated_values['Prob. PT']\n",
    "    )\n",
    "    simulated_values['Weighted car'] = (\n",
    "        simulated_values['weight'] * simulated_values['Prob. car']\n",
    "    )\n",
    "\n",
    "    # Market shares\n",
    "    market_share_walk  = simulated_values['Weighted walk'].mean()\n",
    "    market_share_cycle = simulated_values['Weighted cycle'].mean()\n",
    "    market_share_pt    = simulated_values['Weighted PT'].mean()\n",
    "    market_share_car   = simulated_values['Weighted car'].mean()\n",
    "\n",
    "    market_shares = {\n",
    "        1: market_share_walk*100, \n",
    "        2: market_share_cycle*100,\n",
    "        3: market_share_pt*100,\n",
    "        4: market_share_car*100,\n",
    "    }\n",
    "\n",
    "    # Confidence intervals\n",
    "    biogeme_ms.bootstrap_samples = 100\n",
    "    results_bootstrapping = biogeme_ms.estimate(run_bootstrap=True)\n",
    "    betas = biogeme_ms.free_beta_names\n",
    "    b = results_bootstrapping.get_betas_for_sensitivity_analysis(betas)\n",
    "    left, right = biosim_ms.confidence_intervals(b, alpha)\n",
    "\n",
    "    left['Weighted walk']  = left['weight'] * left['Prob. walk']\n",
    "    left['Weighted cycle'] = left['weight'] * left['Prob. cycle']\n",
    "    left['Weighted PT']    = left['weight'] * left['Prob. PT']\n",
    "    left['Weighted car']   = left['weight'] * left['Prob. car']\n",
    "\n",
    "    right['Weighted walk']  = right['weight'] * right['Prob. walk']\n",
    "    right['Weighted cycle'] = right['weight'] * right['Prob. cycle']\n",
    "    right['Weighted PT']    = right['weight'] * right['Prob. PT']\n",
    "    right['Weighted car']   = right['weight'] * right['Prob. car']\n",
    "\n",
    "    left_market_share_walk  = left['Weighted walk'].mean()\n",
    "    left_market_share_cycle = left['Weighted cycle'].mean()\n",
    "    left_market_share_pt    = left['Weighted PT'].mean()\n",
    "    left_market_share_car   = left['Weighted car'].mean()\n",
    "\n",
    "    right_market_share_walk  = right['Weighted walk'].mean()\n",
    "    right_market_share_cycle = right['Weighted cycle'].mean()\n",
    "    right_market_share_pt    = right['Weighted PT'].mean()\n",
    "    right_market_share_car   = right['Weighted car'].mean()\n",
    "\n",
    "    left = {\n",
    "        1: left_market_share_walk*100,\n",
    "        2: left_market_share_cycle*100,\n",
    "        3: left_market_share_pt*100,\n",
    "        4: left_market_share_car*100,\n",
    "    }\n",
    "\n",
    "    right = {\n",
    "        1: right_market_share_walk*100,\n",
    "        2: right_market_share_cycle*100,\n",
    "        3: right_market_share_pt*100,\n",
    "        4: right_market_share_car*100,\n",
    "    }\n",
    "\n",
    "    return market_shares, left, right\n",
    "\n",
    "def display_market_shares(df, V, alpha = 0.9, is_nested=False, nests=None):\n",
    "    market_shares, left, right = get_market_shares(df, V, alpha, is_nested=is_nested, nests=nests)\n",
    "    alternative_names = {\n",
    "        1: 'walk',\n",
    "        2: 'cycle',\n",
    "        3: 'PT',\n",
    "        4: 'car'\n",
    "    }\n",
    "    for i in np.arange(1,5):\n",
    "        print(\n",
    "            f'Market share for {alternative_names[i]}: {market_shares[i]:.2f}% '\n",
    "            f'CI: ['\n",
    "            f'{left[i]:.2f}%-'\n",
    "            f'{right[i]:.2f}'\n",
    "            f'%]'\n",
    "        )\n",
    "\n",
    "def get_sample_market_shares(df):\n",
    "    market_shares = {}\n",
    "    # Compute the segments size in the sample\n",
    "    segments = {\n",
    "        'walk': sum(df.travel_mode == 1),\n",
    "        'cycle' : sum(df.travel_mode == 2),\n",
    "        'pt' : sum(df.travel_mode == 3),\n",
    "        'car' : sum(df.travel_mode == 4)\n",
    "    }\n",
    "    S = sum(segments.values())\n",
    "    for name, value in segments.items():\n",
    "        market_shares[name] = value/S\n",
    "    return market_shares\n",
    "\n",
    "def display_sample_market_shares(df):\n",
    "    market_shares = get_sample_market_shares(df)\n",
    "    for name, value in market_shares.items():\n",
    "        print(f'Real market share within sample for {name}: {100*value:.2f}% ')\n",
    "\n",
    "def get_weighted_market_shares(df):\n",
    "    # The predicted share for alternative i is given by W(i) = 1/S * sum_{over individuals}(omega_n * P(i,x_n))\n",
    "    # Where S the number of individuals in the sample, omega the weights, and P(i,x_n) the probability\n",
    "    # that individual n choses alternative i. In our case we have two possibilities.\n",
    "    # 1) We can compute the market shares within the sample, without taking the weights into account (equivalently,\n",
    "    #    considering all weights equal to 1, the sampling is perfectly representative of the population)\n",
    "    #    (that is what the function get_sample_market_shares does)\n",
    "    # 2) We can take those weights into accounts, and using the formula above where P(i,x_n) is the percentage\n",
    "    #    of individuals within the segment to which individual n belongs that chose alternative i. After some manipulations\n",
    "    #    of equations, we find W(i) = sum_{over segments} (N_g / N) (S_g(i) / S_g)\n",
    "    #    where N_g/N is the true proportion of the segment in the population, S_g the size of the segment in the sample\n",
    "    #    and S_g(i) the number of persons within this segment having chosen alternative i\n",
    "    census = {\n",
    "        'female_44_less': 2841376,\n",
    "        'female_45_more': 1519948,\n",
    "        'male_44_less': 2926408,\n",
    "        'male_45_more': 1379198,\n",
    "    }\n",
    "    N = sum(census.values())\n",
    "\n",
    "    filters = {\n",
    "        'female_44_less': sum((df.age <= 44) & (df.female == 1)),\n",
    "        'female_45_more': sum((df.age >= 45) & (df.female == 1)),\n",
    "        'male_44_less': sum((df.age <= 44) & (df.female == 0)),\n",
    "        'male_45_more': sum((df.age >= 45) & (df.female == 0)),\n",
    "    }\n",
    "    S = sum(filters.values())\n",
    "\n",
    "    market_shares = {}\n",
    "\n",
    "    alternative_names = {1: 'walk', 2: 'cycle', 3: 'pt', 4: 'car'}\n",
    "\n",
    "    for i in np.arange(1,5):\n",
    "        filters_alternative = {\n",
    "            'female_44_less': sum((df.age <= 44) & (df.female == 1) & (df.travel_mode == i)),\n",
    "            'female_45_more': sum((df.age >= 45) & (df.female == 1) & (df.travel_mode == i)),\n",
    "            'male_44_less': sum((df.age <= 44) & (df.female == 0) & (df.travel_mode == i)),\n",
    "            'male_45_more': sum((df.age >= 45) & (df.female == 0) & (df.travel_mode == i)),\n",
    "        }\n",
    "        ms = 0\n",
    "        for name in census.keys():\n",
    "            ms += (census[name] / N) * (filters_alternative[name] / filters[name])\n",
    "        market_shares[alternative_names[i]] = ms\n",
    "    \n",
    "    return market_shares\n",
    "\n",
    "    \n",
    "\n",
    "def display_weighted_market_shares(df):\n",
    "    market_shares = get_weighted_market_shares(df)\n",
    "    for name, value in market_shares.items():\n",
    "        print(f'Weighted market share for {name}: {100*value:.2f}% ')"
   ]
  },
  {
   "cell_type": "code",
   "execution_count": null,
   "metadata": {},
   "outputs": [],
   "source": [
    "#########################################\n",
    "# Display of relevant data for the report\n",
    "#########################################\n",
    "\n",
    "# Size of segments within sample\n",
    "segments_size = get_segments_size_in_sample(df)\n",
    "print('Size of segments within sample : ', segments_size)\n",
    "print('S = ', sum(segments_size.values()))\n",
    "\n",
    "# Size of segments in total population\n",
    "census = {\n",
    "        'female_44_less': 2841376,\n",
    "        'female_45_more': 1519948,\n",
    "        'male_44_less': 2926408,\n",
    "        'male_45_more': 1379198,\n",
    "    }\n",
    "print('Size of segments within population : ', census)\n",
    "print('N = ', sum(census.values()))\n",
    "\n",
    "# Weights\n",
    "print(get_weights(df))\n",
    "\n",
    "# Sample and weighted market shares\n",
    "display_sample_market_shares(df)\n",
    "display_weighted_market_shares(df)\n",
    "\n",
    "# Market shares for a few models\n",
    "print('Model 1A')\n",
    "display_market_shares(df, V_1A)\n",
    "print('Model 2B')\n",
    "display_market_shares(df, V_2A)\n",
    "print('Model 3B unrestricted')\n",
    "display_market_shares(df, V_3B_unrestricted)\n",
    "print('Model 4')\n",
    "display_market_shares(df, V_pref, is_nested=True, nests=nests)"
   ]
  },
  {
   "cell_type": "markdown",
   "metadata": {},
   "source": [
    "## Forecasting"
   ]
  },
  {
   "cell_type": "markdown",
   "metadata": {},
   "source": [
    "Edit (by Thomas) : they were basically two errors in the code\n",
    "- when using the method Derive, the second argument (the variable with respect to which we are taking the derivative) must actually be\n",
    "  a key of the database, so a string\n",
    "  So instead of writing\n",
    "  ```python\n",
    "  direct_elas_cost_transit = Derive(prob_pt_F1, cost_transit) * cost_transit / prob_pt_F1\n",
    "  ```\n",
    "  write\n",
    "  ```python\n",
    "  direct_elas_cost_transit = Derive(prob_pt_F1, 'cost_transit') * cost_transit / prob_pt_F1\n",
    "  ```\n",
    "- instead of defining the new prices by\n",
    "  ```python\n",
    "  new_cost_driving = cost_driving + 1.5\n",
    "  cost_cycl3 = 0\n",
    "  cost_walk = 0\n",
    "  ```\n",
    "  it is better to add a column to the dataframe with the new prices\n",
    "  ```python\n",
    "  df_ms['new_cost_driving'] = df_ms['cost_driving'] + 1.5\n",
    "  df_ms['cost_walk'] = 0\n",
    "  df_ms['cost_cycle'] = 0\n",
    "  ```\n",
    "  You have to do that for the function Derive() to work (because again, the variable with which we take the derivative must be part of the \n",
    "  database)\n",
    "\n",
    "- also, when you define the utility functions, you should not   replace ```cost_driving``` by ```cost_driving+1.5```. The idea is to estimate the \n",
    "  model on the current values of the attributes, than to simulate what results it gives for different values of the attributes.\n",
    "  To say it differently : we start with the attributes and characteristics gathered for the current prices. So we estimate a model based on these current values, with which we find all the coefficients like beta_time, beta_cost, etc.\n",
    "  Then we propose new values of the attributes (for example, new_price = old_price + 1.5), and we simply plug these values into the estimated model to see what market shares, elasticities, etc. we find. But the whole point is that we use the same coefficients beta that we found earlier. Because these coefficients represent the reactions of the individuals faced with a given price, travel time, etc. So we _simulate_ the model on these new values of the attributes, we do not _estimate_ it.\n",
    "\n",
    "So to summarize the method\n",
    "1) Estimate the model on the current values of the attributes\n",
    "2) Introduce a new value for one attribute \n",
    "3) _Simulate_ the market shares, elasticities, etc. that would result from this new set of attributes"
   ]
  },
  {
   "cell_type": "markdown",
   "metadata": {},
   "source": [
    "## Estimate the model"
   ]
  },
  {
   "cell_type": "code",
   "execution_count": 11,
   "metadata": {},
   "outputs": [],
   "source": [
    "# Alternative specific constants (ASC_walk is normalized to 0)\n",
    "ASC_CYCLE_F = Beta('ASC_CYCLE_F', 0, None, None, 0)\n",
    "ASC_PT_F    = Beta('ASC_PT_F', 0, None, None, 0)\n",
    "ASC_CAR_F   = Beta('ASC_CAR_F', 0, None, None, 0)\n",
    "\n",
    "# Alternative specific time coefficient\n",
    "B_TIME_WALK_F  = Beta('B_TIME_WALK_F', 0, None, None, 0)\n",
    "B_TIME_CYCLE_F = Beta('B_TIME_CYCLE_F', 0, None, None, 0)\n",
    "B_TIME_PT_F    = Beta('B_TIME_PT_F', 0, None, None, 0)\n",
    "B_TIME_CAR_F   = Beta('B_TIME_CAR_F', 0, None, None, 0)\n",
    "\n",
    "# Generic cost coefficient\n",
    "B_COST_F = Beta('B_COST_F', 0, None, None, 0)\n",
    "\n",
    "age = Variable('age')\n",
    "B_AGE_PT_F = Beta('B_AGE_PT_F', 0, None, None, 0)\n",
    "B_AGE_CAR_F = Beta('B_AGE_CAR_F', 0, None, None, 0)"
   ]
  },
  {
   "cell_type": "code",
   "execution_count": 12,
   "metadata": {},
   "outputs": [],
   "source": [
    "lambda_boxcox_walking = Beta('lambda_boxcox_walking', 1, -10, 10, 0)\n",
    "boxcox_dur_walking_unrestricted = boxcox(dur_walking, lambda_boxcox_walking)\n",
    "\n",
    "lambda_boxcox_cycling = Beta('lambda_boxcox_cycling', 1, -10, 10, 0)\n",
    "boxcox_dur_cycling_unrestricted = boxcox(dur_cycling, lambda_boxcox_cycling)\n",
    "\n",
    "lambda_boxcox_pt = Beta('lambda_boxcox_pt', 1, -10, 10, 0)\n",
    "boxcox_dur_pt_unrestricted = boxcox(dur_pt, lambda_boxcox_pt)\n",
    "\n",
    "lambda_boxcox_driving = Beta('lambda_boxcox_driving', 1, -10, 10, 0)\n",
    "boxcox_dur_driving_unrestricted = boxcox(dur_driving, lambda_boxcox_driving)"
   ]
  },
  {
   "cell_type": "code",
   "execution_count": 13,
   "metadata": {},
   "outputs": [],
   "source": [
    "V_walk_F = (\n",
    "    B_TIME_WALK_F * boxcox_dur_walking_unrestricted\n",
    ")\n",
    "\n",
    "V_cycle_F = (\n",
    "    ASC_CYCLE_F\n",
    "    + B_TIME_CYCLE_F * boxcox_dur_cycling_unrestricted\n",
    ")\n",
    "\n",
    "V_pt_F = (\n",
    "    ASC_PT_F\n",
    "    + B_AGE_PT_F * age\n",
    "    + B_TIME_PT_F * boxcox_dur_pt_unrestricted\n",
    "    + B_COST_F * cost_transit\n",
    ")\n",
    "\n",
    "V_car_F = (\n",
    "    ASC_CAR_F\n",
    "    + B_AGE_CAR_F * age\n",
    "    + B_TIME_CAR_F * boxcox_dur_driving_unrestricted\n",
    "    + B_COST_F * cost_driving\n",
    ")\n",
    "\n",
    "V_F = {1: V_walk_F, 2: V_cycle_F, 3: V_pt_F, 4: V_car_F}\n",
    "#logprob_F1 = loglogit(V_F1, None, travel_mode)\n",
    "#biogeme_F1 = bio.BIOGEME(database, logprob_F1)\n",
    "#biogeme_F1.modelName = 'model_F1'\n",
    "\n",
    "#results_F1 = biogeme_F1.estimate()\n",
    "#print(results_F1.print_general_statistics())"
   ]
  },
  {
   "cell_type": "code",
   "execution_count": 226,
   "metadata": {},
   "outputs": [],
   "source": [
    "#V_pref = V_F1\n",
    "#results_pref = results_F1"
   ]
  },
  {
   "cell_type": "code",
   "execution_count": 14,
   "metadata": {},
   "outputs": [],
   "source": [
    "# Define nests\n",
    "mu_motorized = Beta('mu_motorized', 1, 0, None, 0)\n",
    "motorized = OneNestForNestedLogit(nest_param=mu_motorized, list_of_alternatives=[3, 4], name='motorized')\n",
    "walk = OneNestForNestedLogit(nest_param=1, list_of_alternatives=[1], name='walk')\n",
    "bike = OneNestForNestedLogit(nest_param=1, list_of_alternatives=[2], name='bike')\n",
    "nests = NestsForNestedLogit(choice_set=V_F, tuple_of_nests=(motorized, walk, bike))"
   ]
  },
  {
   "cell_type": "code",
   "execution_count": 15,
   "metadata": {},
   "outputs": [
    {
     "name": "stdout",
     "output_type": "stream",
     "text": [
      "Number of estimated parameters:\t15\n",
      "Sample size:\t5000\n",
      "Excluded observations:\t0\n",
      "Init log likelihood:\t-6931.472\n",
      "Final log likelihood:\t-4170.035\n",
      "Likelihood ratio test for the init. model:\t5522.874\n",
      "Rho-square for the init. model:\t0.398\n",
      "Rho-square-bar for the init. model:\t0.396\n",
      "Akaike Information Criterion:\t8370.07\n",
      "Bayesian Information Criterion:\t8467.828\n",
      "Final gradient norm:\t5.6002E-01\n",
      "Nbr of threads:\t8\n",
      "\n",
      "                          Value  Rob. Std err  Rob. t-test  Rob. p-value\n",
      "ASC_CAR_F              0.254072      0.625128     0.406432  6.844254e-01\n",
      "ASC_CYCLE_F           -1.679908      0.431983    -3.888832  1.007279e-04\n",
      "ASC_PT_F               1.513546      0.362380     4.176677  2.957987e-05\n",
      "B_AGE_CAR_F            0.018990      0.002181     8.705844  0.000000e+00\n",
      "B_AGE_PT_F             0.014726      0.002418     6.089581  1.132065e-09\n",
      "B_COST_F              -0.084697      0.023868    -3.548571  3.873280e-04\n",
      "B_TIME_CAR_F          -2.261506      0.562232    -4.022370  5.761543e-05\n",
      "B_TIME_CYCLE_F        -2.256241      0.554454    -4.069306  4.715347e-05\n",
      "B_TIME_PT_F           -2.249793      0.497961    -4.518009  6.242393e-06\n",
      "B_TIME_WALK_F         -4.280608      0.364675   -11.738139  0.000000e+00\n",
      "lambda_boxcox_cycling  0.177269      0.140817     1.258863  2.080798e-01\n",
      "lambda_boxcox_driving  0.211448      0.073799     2.865171  4.167839e-03\n",
      "lambda_boxcox_pt       0.446549      0.119386     3.740389  1.837354e-04\n",
      "lambda_boxcox_walking  0.086785      0.060814     1.427040  1.535685e-01\n",
      "mu_motorized           1.442860      0.296681     4.863332  1.154258e-06\n"
     ]
    }
   ],
   "source": [
    "# Estimate the model\n",
    "logprob_V_F = lognested(V_F, None, nests, travel_mode)\n",
    "biogeme_V_F = bio.BIOGEME(database, logprob_V_F)\n",
    "biogeme_V_F.modelName = 'model_V_F'\n",
    "results_V_F = biogeme_V_F.estimate()\n",
    "print(results_V_F.print_general_statistics())\n",
    "print(results_V_F.get_estimated_parameters())\n"
   ]
  },
  {
   "cell_type": "code",
   "execution_count": 229,
   "metadata": {},
   "outputs": [
    {
     "data": {
      "text/plain": [
       "\"\\nweights = get_weights(df)\\n\\nfilters = {\\n    'female_44_less': (df.age <= 44) & (df.female == 1),\\n    'female_45_more': (df.age >= 45) & (df.female == 1),\\n    'male_44_less': (df.age <= 44) & (df.female == 0),\\n    'male_45_more': (df.age >= 45) & (df.female == 0),\\n}\\n\\n# Create a new dataframe where we modify the costs according \\ndf_ms = df.copy()\\n\\n# Add the weights in the dataframe\\nfor segment_name, segment_rows in filters.items():\\n    df_ms.loc[segment_rows, 'weight'] = weights[segment_name]\\n\\n# Useful variables for later\\nweight = Variable('weight')\\n\\n\\n\\nfilename = 'elasticities.pickle'\\ntry:\\n    with open(filename, 'rb') as f:\\n        simulated_values = pickle.load(f)\\n        print(f'Elasticities read from {filename}')\\nexcept FileNotFoundError:\\n    database_f1 = db.Database('lpmc', df_ms)\\n    \\n    logprob_V_F1 = lognested(V_pref, None, nests, travel_mode)\\n    biogeme_V_F1 = bio.BIOGEME(database_f1, logprob_V_F1)\\n    biogeme_V_F1.modelName = 'model_V_F1'\\n    results_V_F1 = biogeme_V_F1.estimate()\\n    \\n    biosim = bio.BIOGEME(database_f1, simulate)\\n    simulated_values = biosim.simulate(results_V_F1.get_beta_values())\\n    print(f'Elasticities calculated and saved in {filename}')\\n    with open(filename, 'wb') as f:\\n        pickle.dump(simulated_values, f)\\n\""
      ]
     },
     "execution_count": 229,
     "metadata": {},
     "output_type": "execute_result"
    }
   ],
   "source": [
    "'''\n",
    "weights = get_weights(df)\n",
    "\n",
    "filters = {\n",
    "    'female_44_less': (df.age <= 44) & (df.female == 1),\n",
    "    'female_45_more': (df.age >= 45) & (df.female == 1),\n",
    "    'male_44_less': (df.age <= 44) & (df.female == 0),\n",
    "    'male_45_more': (df.age >= 45) & (df.female == 0),\n",
    "}\n",
    "\n",
    "# Create a new dataframe where we modify the costs according \n",
    "df_ms = df.copy()\n",
    "\n",
    "# Add the weights in the dataframe\n",
    "for segment_name, segment_rows in filters.items():\n",
    "    df_ms.loc[segment_rows, 'weight'] = weights[segment_name]\n",
    "\n",
    "# Useful variables for later\n",
    "weight = Variable('weight')\n",
    "\n",
    "\n",
    "\n",
    "filename = 'elasticities.pickle'\n",
    "try:\n",
    "    with open(filename, 'rb') as f:\n",
    "        simulated_values = pickle.load(f)\n",
    "        print(f'Elasticities read from {filename}')\n",
    "except FileNotFoundError:\n",
    "    database_f1 = db.Database('lpmc', df_ms)\n",
    "    \n",
    "    logprob_V_F1 = lognested(V_pref, None, nests, travel_mode)\n",
    "    biogeme_V_F1 = bio.BIOGEME(database_f1, logprob_V_F1)\n",
    "    biogeme_V_F1.modelName = 'model_V_F1'\n",
    "    results_V_F1 = biogeme_V_F1.estimate()\n",
    "    \n",
    "    biosim = bio.BIOGEME(database_f1, simulate)\n",
    "    simulated_values = biosim.simulate(results_V_F1.get_beta_values())\n",
    "    print(f'Elasticities calculated and saved in {filename}')\n",
    "    with open(filename, 'wb') as f:\n",
    "        pickle.dump(simulated_values, f)\n",
    "'''\n"
   ]
  },
  {
   "cell_type": "markdown",
   "metadata": {},
   "source": [
    "## Simulate the model with scenario 1"
   ]
  },
  {
   "cell_type": "code",
   "execution_count": 56,
   "metadata": {},
   "outputs": [
    {
     "name": "stdout",
     "output_type": "stream",
     "text": [
      "Elasticities calculated and saved in elasticities_scen1.pickle\n"
     ]
    }
   ],
   "source": [
    "weights = get_weights(df)\n",
    "\n",
    "filters = {\n",
    "    'female_44_less': (df.age <= 44) & (df.female == 1),\n",
    "    'female_45_more': (df.age >= 45) & (df.female == 1),\n",
    "    'male_44_less': (df.age <= 44) & (df.female == 0),\n",
    "    'male_45_more': (df.age >= 45) & (df.female == 0),\n",
    "}\n",
    "\n",
    "# New variables\n",
    "cost_walk = Variable('cost_walk')\n",
    "cost_cycle = Variable('cost_cycle')\n",
    "weight = Variable('weight')\n",
    "\n",
    "#############\n",
    "# To simulate\n",
    "#############\n",
    "\n",
    "# Probabilities\n",
    "prob_walk_F   = nested(V_F, None, nests, 1)\n",
    "prob_cycle_F  = nested(V_F, None, nests, 2)\n",
    "prob_pt_F     = nested(V_F, None, nests, 3)\n",
    "prob_car_F    = nested(V_F, None, nests, 4) \n",
    "\n",
    "# Elasticities\n",
    "direct_elas_cost_transit = Derive(prob_pt_F, 'cost_transit') * cost_transit / prob_pt_F\n",
    "cross_elas_pt_vs_cost_driving = Derive(prob_pt_F, 'cost_driving') * cost_driving / prob_pt_F\n",
    "cross_elas_pt_vs_cost_walk = Derive(prob_pt_F, 'cost_walk') * cost_walk / prob_pt_F\n",
    "cross_elas_pt_vs_cost_cycle = Derive(prob_pt_F, 'cost_cycle') * cost_cycle / prob_pt_F\n",
    "\n",
    "direct_elas_cost_driving = Derive(prob_car_F, 'cost_driving') * cost_driving / prob_car_F\n",
    "cross_elas_car_vs_cost_transit = Derive(prob_car_F, 'cost_transit') * cost_transit / prob_car_F\n",
    "cross_elas_car_vs_cost_walk = Derive(prob_car_F, 'cost_walk') * cost_walk / prob_car_F\n",
    "cross_elas_car_vs_cost_cycle = Derive(prob_car_F, 'cost_cycle') * cost_cycle / prob_car_F\n",
    "\n",
    "# Values of time\n",
    "Value_of_time_car = (Derive(V_car_F, 'dur_driving')) / (Derive(V_car_F, 'cost_driving'))\n",
    "Value_of_time_pt = (Derive(V_pt_F, 'dur_pt')) / (Derive(V_pt_F, 'cost_transit'))\n",
    "\n",
    "simulate = {\n",
    "    'weight': weight,\n",
    "    'Prob walk': prob_walk_F,\n",
    "    'Prob cycle': prob_cycle_F,\n",
    "    'Prob car': prob_car_F,\n",
    "    'Prob public transportation': prob_pt_F,\n",
    "    'direct_elas_cost_transit': direct_elas_cost_transit,\n",
    "    'direct_elas_cost_driving': direct_elas_cost_driving,\n",
    "    'cross_elas_pt_vs_cost_driving': cross_elas_pt_vs_cost_driving,\n",
    "    'cross_elas_pt_vs_cost_walk': cross_elas_pt_vs_cost_walk,\n",
    "    'cross_elas_pt_vs_cost_cycle': cross_elas_pt_vs_cost_cycle,\n",
    "    'cross_elas_car_vs_cost_transit': cross_elas_car_vs_cost_transit,\n",
    "    'cross_elas_car_vs_cost_walk': cross_elas_car_vs_cost_walk,\n",
    "    'cross_elas_car_vs_cost_cycle': cross_elas_car_vs_cost_cycle,\n",
    "    'value of time car': Value_of_time_car,\n",
    "    'value of time pt': Value_of_time_pt\n",
    "}\n",
    "\n",
    "# Create a new dataframe where we modify the costs according to the scenario\n",
    "df_scen1 = df.copy()\n",
    "df_scen1['cost_driving'] = df_scen1['cost_driving'] + 1.5\n",
    "df_scen1['cost_walk'] = 0\n",
    "df_scen1['cost_cycle'] = 0\n",
    "for segment_name, segment_rows in filters.items():\n",
    "    df_scen1.loc[segment_rows, 'weight'] = weights[segment_name]\n",
    "\n",
    "\n",
    "filename = 'elasticities_scen1.pickle'\n",
    "database_f1 = db.Database('lpmc', df_scen1)\n",
    "\n",
    "biosim = bio.BIOGEME(database_f1, simulate)\n",
    "simulated_values = biosim.simulate(results_V_F.get_beta_values())\n",
    "print(f'Elasticities calculated and saved in {filename}')\n",
    "with open(filename, 'wb') as f:\n",
    "    pickle.dump(simulated_values, f)"
   ]
  },
  {
   "cell_type": "code",
   "execution_count": 57,
   "metadata": {},
   "outputs": [],
   "source": [
    "simulated_values['Denominator car'] = (\n",
    "    simulated_values['weight'] * simulated_values['Prob car'] \n",
    ")\n",
    "\n",
    "simulated_values['Denominator pt'] = (\n",
    "    simulated_values['weight'] * simulated_values['Prob public transportation'] \n",
    ")\n",
    "\n",
    "simulated_values['Numerator direct pt'] = (\n",
    "    simulated_values['weight'] * simulated_values['Prob public transportation'] * simulated_values['direct_elas_cost_transit']\n",
    ")\n",
    "\n",
    "simulated_values['Numerator cross pt vs car'] = (\n",
    "    simulated_values['weight'] * simulated_values['Prob public transportation'] * simulated_values['cross_elas_pt_vs_cost_driving']\n",
    ")\n",
    "simulated_values['Numerator cross pt vs walk'] = (\n",
    "    simulated_values['weight'] * simulated_values['Prob public transportation'] * simulated_values['cross_elas_pt_vs_cost_walk']\n",
    ")\n",
    "simulated_values['Numerator cross pt vs cycle'] = (\n",
    "    simulated_values['weight'] * simulated_values['Prob public transportation'] * simulated_values['cross_elas_pt_vs_cost_cycle']\n",
    ")\n",
    "simulated_values['Numerator direct car'] = (\n",
    "    simulated_values['weight'] * simulated_values['Prob car'] * simulated_values['direct_elas_cost_driving']\n",
    ")\n",
    "simulated_values['Numerator cross car vs pt'] = (\n",
    "    simulated_values['weight'] * simulated_values['Prob car'] * simulated_values['cross_elas_car_vs_cost_transit'] \n",
    ")\n",
    "simulated_values['Numerator cross car vs walk'] = (\n",
    "    simulated_values['weight'] * simulated_values['Prob car'] * simulated_values['cross_elas_car_vs_cost_walk']\n",
    ")\n",
    "simulated_values['Numerator cross car vs cycle'] = (\n",
    "    simulated_values['weight'] * simulated_values['Prob car'] * simulated_values['cross_elas_car_vs_cost_cycle']\n",
    ")"
   ]
  },
  {
   "cell_type": "code",
   "execution_count": 58,
   "metadata": {},
   "outputs": [],
   "source": [
    "direct_agg_pt = simulated_values['Numerator direct pt'].sum() / simulated_values['Denominator pt'].sum()\n",
    "cross_agg_pt_vs_new_car = simulated_values['Numerator cross pt vs car'].sum() / simulated_values['Denominator pt'].sum()\n",
    "cross_agg_pt_vs_walk = simulated_values['Numerator cross pt vs walk'].sum() / simulated_values['Denominator pt'].sum()\n",
    "cross_agg_pt_vs_cycle = simulated_values['Numerator cross pt vs cycle'].sum() / simulated_values['Denominator pt'].sum()\n",
    "\n",
    "direct_agg_new_car = simulated_values['Numerator direct car'].sum() / simulated_values['Denominator car'].sum()\n",
    "cross_agg_new_car_vs_pt = simulated_values['Numerator cross car vs pt'].sum() / simulated_values['Denominator car'].sum()\n",
    "cross_agg_new_car_vs_walk = simulated_values['Numerator cross car vs walk'].sum() / simulated_values['Denominator car'].sum()\n",
    "cross_agg_new_car_vs_cycle = simulated_values['Numerator cross car vs cycle'].sum() / simulated_values['Denominator car'].sum()\n",
    "\n",
    "ms_walk  = 100 * (simulated_values['weight'] * simulated_values['Prob walk']).mean()\n",
    "ms_cycle = 100 * (simulated_values['weight'] * simulated_values['Prob cycle']).mean()\n",
    "ms_car   = 100 * (simulated_values['weight'] * simulated_values['Prob car']).mean()\n",
    "ms_pt    = 100 * (simulated_values['weight'] * simulated_values['Prob public transportation']).mean()\n",
    "\n",
    "# vot_car = simulated_values['value of time car'].mean()\n",
    "vot_car = (simulated_values['weight'] * simulated_values['value of time car']).mean()\n",
    "# vot_pt  = simulated_values['value of time pt'].mean()\n",
    "vot_pt = (simulated_values['weight'] * simulated_values['value of time pt']).mean()\n",
    "\n",
    "revenue_pt = ((df['travel_mode'] == 3) * df['cost_transit']).sum()\n",
    "revenue_pt_scen1 = (simulated_values['weight'] * simulated_values['Prob public transportation'] * df_scen1['cost_transit']).sum()"
   ]
  },
  {
   "cell_type": "code",
   "execution_count": 59,
   "metadata": {},
   "outputs": [
    {
     "name": "stdout",
     "output_type": "stream",
     "text": [
      "direct_agg_pt: -0.08321 - Direct aggregation for public transport\n",
      "cross_agg_pt_vs_new_car: 0.12960 - Cross aggregation for public transport vs new car\n",
      "cross_agg_pt_vs_walk: 0.00000 - Cross aggregation for public transport vs walk\n",
      "cross_agg_pt_vs_cycle: 0.00000 - Cross aggregation for public transport vs cycle\n",
      "direct_agg_new_car: -0.14927 - Direct aggregation for new car\n",
      "cross_agg_new_car_vs_pt: 0.06692 - Cross aggregation for new car vs public transport\n",
      "cross_agg_new_car_vs_walk: 0.00000 - Cross aggregation for new car vs walk\n",
      "cross_agg_new_car_vs_cycle: 0.00000 - Cross aggregation for new car vs cycle\n",
      "Market shares for walking : 18.94805\n",
      "Market shares for cycling : 3.42405\n",
      "Market shares for car : 40.09139\n",
      "Market shares for pt : 37.53650\n",
      "Mean value of time for car : 120.81346\n",
      "Mean value of time for pt : 50.22594\n",
      "Expected revenue for pt (original scenario) : 3287.33000\n",
      "Expected revenue for pt (scneario 1) : 3680.26551\n"
     ]
    }
   ],
   "source": [
    "print(f'direct_agg_pt: {direct_agg_pt:.5f} - Direct aggregation for public transport')\n",
    "print(f'cross_agg_pt_vs_new_car: {cross_agg_pt_vs_new_car:.5f} - Cross aggregation for public transport vs new car')\n",
    "print(f'cross_agg_pt_vs_walk: {cross_agg_pt_vs_walk:.5f} - Cross aggregation for public transport vs walk')\n",
    "print(f'cross_agg_pt_vs_cycle: {cross_agg_pt_vs_cycle:.5f} - Cross aggregation for public transport vs cycle')\n",
    "\n",
    "print(f'direct_agg_new_car: {direct_agg_new_car:.5f} - Direct aggregation for new car')\n",
    "print(f'cross_agg_new_car_vs_pt: {cross_agg_new_car_vs_pt:.5f} - Cross aggregation for new car vs public transport')\n",
    "print(f'cross_agg_new_car_vs_walk: {cross_agg_new_car_vs_walk:.5f} - Cross aggregation for new car vs walk')\n",
    "print(f'cross_agg_new_car_vs_cycle: {cross_agg_new_car_vs_cycle:.5f} - Cross aggregation for new car vs cycle')\n",
    "\n",
    "print(f'Market shares for walking : {ms_walk:.5f}')\n",
    "print(f'Market shares for cycling : {ms_cycle:.5f}')\n",
    "print(f'Market shares for car : {ms_car:.5f}')\n",
    "print(f'Market shares for pt : {ms_pt:.5f}')\n",
    "\n",
    "print(f'Mean value of time for car : {vot_car:.5f}')\n",
    "print(f'Mean value of time for pt : {vot_pt:.5f}')\n",
    "\n",
    "print(f'Expected revenue for pt (original scenario) : {revenue_pt:.5f}')\n",
    "print(f'Expected revenue for pt (scneario 1) : {revenue_pt_scen1:.5f}')"
   ]
  },
  {
   "cell_type": "markdown",
   "metadata": {},
   "source": [
    "## Simulate model on scenario 2"
   ]
  },
  {
   "cell_type": "code",
   "execution_count": 62,
   "metadata": {},
   "outputs": [
    {
     "name": "stdout",
     "output_type": "stream",
     "text": [
      "Elasticities calculated and saved in elasticities_scen2.pickle\n"
     ]
    }
   ],
   "source": [
    "weights = get_weights(df)\n",
    "\n",
    "filters = {\n",
    "    'female_44_less': (df.age <= 44) & (df.female == 1),\n",
    "    'female_45_more': (df.age >= 45) & (df.female == 1),\n",
    "    'male_44_less': (df.age <= 44) & (df.female == 0),\n",
    "    'male_45_more': (df.age >= 45) & (df.female == 0),\n",
    "}\n",
    "\n",
    "# New variables\n",
    "cost_walk = Variable('cost_walk')\n",
    "cost_cycle = Variable('cost_cycle')\n",
    "weight = Variable('weight')\n",
    "\n",
    "#############\n",
    "# To simulate\n",
    "#############\n",
    "\n",
    "# Probabilities\n",
    "prob_walk_F   = nested(V_F, None, nests, 1)\n",
    "prob_cycle_F  = nested(V_F, None, nests, 2)\n",
    "prob_pt_F     = nested(V_F, None, nests, 3)\n",
    "prob_car_F    = nested(V_F, None, nests, 4) \n",
    "\n",
    "# Elasticities\n",
    "direct_elas_cost_transit = Derive(prob_pt_F, 'cost_transit') * cost_transit / prob_pt_F\n",
    "cross_elas_pt_vs_cost_driving = Derive(prob_pt_F, 'cost_driving') * cost_driving / prob_pt_F\n",
    "cross_elas_pt_vs_cost_walk = Derive(prob_pt_F, 'cost_walk') * cost_walk / prob_pt_F\n",
    "cross_elas_pt_vs_cost_cycle = Derive(prob_pt_F, 'cost_cycle') * cost_cycle / prob_pt_F\n",
    "\n",
    "direct_elas_cost_driving = Derive(prob_car_F, 'cost_driving') * cost_driving / prob_car_F\n",
    "cross_elas_car_vs_cost_transit = Derive(prob_car_F, 'cost_transit') * cost_transit / prob_car_F\n",
    "cross_elas_car_vs_cost_walk = Derive(prob_car_F, 'cost_walk') * cost_walk / prob_car_F\n",
    "cross_elas_car_vs_cost_cycle = Derive(prob_car_F, 'cost_cycle') * cost_cycle / prob_car_F\n",
    "\n",
    "# Values of time\n",
    "Value_of_time_car = (Derive(V_car_F, 'dur_driving')) / (Derive(V_car_F, 'cost_driving'))\n",
    "Value_of_time_pt = (Derive(V_pt_F, 'dur_pt')) / (Derive(V_pt_F, 'cost_transit'))\n",
    "\n",
    "simulate = {\n",
    "    'weight': weight,\n",
    "    'Prob walk': prob_walk_F,\n",
    "    'Prob cycle': prob_cycle_F,\n",
    "    'Prob car': prob_car_F,\n",
    "    'Prob public transportation': prob_pt_F,\n",
    "    'direct_elas_cost_transit': direct_elas_cost_transit,\n",
    "    'direct_elas_cost_driving': direct_elas_cost_driving,\n",
    "    'cross_elas_pt_vs_cost_driving': cross_elas_pt_vs_cost_driving,\n",
    "    'cross_elas_pt_vs_cost_walk': cross_elas_pt_vs_cost_walk,\n",
    "    'cross_elas_pt_vs_cost_cycle': cross_elas_pt_vs_cost_cycle,\n",
    "    'cross_elas_car_vs_cost_transit': cross_elas_car_vs_cost_transit,\n",
    "    'cross_elas_car_vs_cost_walk': cross_elas_car_vs_cost_walk,\n",
    "    'cross_elas_car_vs_cost_cycle': cross_elas_car_vs_cost_cycle,\n",
    "    'value of time car': Value_of_time_car,\n",
    "    'value of time pt': Value_of_time_pt\n",
    "}\n",
    "\n",
    "# Create a new dataframe where we modify the costs according to the scenario\n",
    "df_scen2 = df.copy()\n",
    "df_scen2['cost_transit'] = df_scen2['cost_transit'] * 0.8\n",
    "df_scen2['cost_walk'] = 0\n",
    "df_scen2['cost_cycle'] = 0\n",
    "for segment_name, segment_rows in filters.items():\n",
    "    df_scen2.loc[segment_rows, 'weight'] = weights[segment_name]\n",
    "\n",
    "\n",
    "filename = 'elasticities_scen2.pickle'\n",
    "database_f2 = db.Database('lpmc', df_scen2)\n",
    "\n",
    "biosim = bio.BIOGEME(database_f2, simulate)\n",
    "simulated_values = biosim.simulate(results_V_F.get_beta_values())\n",
    "print(f'Elasticities calculated and saved in {filename}')\n",
    "with open(filename, 'wb') as f:\n",
    "    pickle.dump(simulated_values, f)"
   ]
  },
  {
   "cell_type": "code",
   "execution_count": 63,
   "metadata": {},
   "outputs": [],
   "source": [
    "simulated_values['Denominator car'] = (\n",
    "    simulated_values['weight'] * simulated_values['Prob car'] \n",
    ")\n",
    "\n",
    "simulated_values['Denominator pt'] = (\n",
    "    simulated_values['weight'] * simulated_values['Prob public transportation'] \n",
    ")\n",
    "\n",
    "simulated_values['Numerator direct pt'] = (\n",
    "    simulated_values['weight'] * simulated_values['Prob public transportation'] * simulated_values['direct_elas_cost_transit']\n",
    ")\n",
    "\n",
    "simulated_values['Numerator cross pt vs car'] = (\n",
    "    simulated_values['weight'] * simulated_values['Prob public transportation'] * simulated_values['cross_elas_pt_vs_cost_driving']\n",
    ")\n",
    "simulated_values['Numerator cross pt vs walk'] = (\n",
    "    simulated_values['weight'] * simulated_values['Prob public transportation'] * simulated_values['cross_elas_pt_vs_cost_walk']\n",
    ")\n",
    "simulated_values['Numerator cross pt vs cycle'] = (\n",
    "    simulated_values['weight'] * simulated_values['Prob public transportation'] * simulated_values['cross_elas_pt_vs_cost_cycle']\n",
    ")\n",
    "simulated_values['Numerator direct car'] = (\n",
    "    simulated_values['weight'] * simulated_values['Prob car'] * simulated_values['direct_elas_cost_driving']\n",
    ")\n",
    "simulated_values['Numerator cross car vs pt'] = (\n",
    "    simulated_values['weight'] * simulated_values['Prob car'] * simulated_values['cross_elas_car_vs_cost_transit'] \n",
    ")\n",
    "simulated_values['Numerator cross car vs walk'] = (\n",
    "    simulated_values['weight'] * simulated_values['Prob car'] * simulated_values['cross_elas_car_vs_cost_walk']\n",
    ")\n",
    "simulated_values['Numerator cross car vs cycle'] = (\n",
    "    simulated_values['weight'] * simulated_values['Prob car'] * simulated_values['cross_elas_car_vs_cost_cycle']\n",
    ")"
   ]
  },
  {
   "cell_type": "code",
   "execution_count": 64,
   "metadata": {},
   "outputs": [],
   "source": [
    "direct_agg_pt = simulated_values['Numerator direct pt'].sum() / simulated_values['Denominator pt'].sum()\n",
    "cross_agg_pt_vs_new_car = simulated_values['Numerator cross pt vs car'].sum() / simulated_values['Denominator pt'].sum()\n",
    "cross_agg_pt_vs_walk = simulated_values['Numerator cross pt vs walk'].sum() / simulated_values['Denominator pt'].sum()\n",
    "cross_agg_pt_vs_cycle = simulated_values['Numerator cross pt vs cycle'].sum() / simulated_values['Denominator pt'].sum()\n",
    "\n",
    "direct_agg_new_car = simulated_values['Numerator direct car'].sum() / simulated_values['Denominator car'].sum()\n",
    "cross_agg_new_car_vs_pt = simulated_values['Numerator cross car vs pt'].sum() / simulated_values['Denominator car'].sum()\n",
    "cross_agg_new_car_vs_walk = simulated_values['Numerator cross car vs walk'].sum() / simulated_values['Denominator car'].sum()\n",
    "cross_agg_new_car_vs_cycle = simulated_values['Numerator cross car vs cycle'].sum() / simulated_values['Denominator car'].sum()\n",
    "\n",
    "ms_walk  = 100 * (simulated_values['weight'] * simulated_values['Prob walk']).mean()\n",
    "ms_cycle = 100 * (simulated_values['weight'] * simulated_values['Prob cycle']).mean()\n",
    "ms_car   = 100 * (simulated_values['weight'] * simulated_values['Prob car']).mean()\n",
    "ms_pt    = 100 * (simulated_values['weight'] * simulated_values['Prob public transportation']).mean()\n",
    "\n",
    "\n",
    "# vot_car = simulated_values['value of time car'].mean()\n",
    "vot_car = (simulated_values['weight'] * simulated_values['value of time car']).mean()\n",
    "# vot_pt  = simulated_values['value of time pt'].mean()\n",
    "vot_pt = (simulated_values['weight'] * simulated_values['value of time pt']).mean()\n",
    "\n",
    "revenue_pt = ((df['travel_mode'] == 3) * df['cost_transit']).sum()\n",
    "revenue_pt_scen2 = (simulated_values['weight'] * simulated_values['Prob public transportation'] * df_scen2['cost_transit']).sum()"
   ]
  },
  {
   "cell_type": "code",
   "execution_count": 50,
   "metadata": {},
   "outputs": [
    {
     "data": {
      "text/plain": [
       "<matplotlib.lines.Line2D at 0x12cf055d0>"
      ]
     },
     "execution_count": 50,
     "metadata": {},
     "output_type": "execute_result"
    },
    {
     "data": {
      "image/png": "[encoded data removed]",
      "text/plain": [
       "<Figure size 640x480 with 1 Axes>"
      ]
     },
     "metadata": {},
     "output_type": "display_data"
    }
   ],
   "source": [
    "sns.histplot(simulated_values['weight'] * simulated_values['value of time pt'])\n",
    "plt.axvline(x=(simulated_values['weight'] * simulated_values['value of time pt']).quantile(0.5), color='r', linestyle='--')"
   ]
  },
  {
   "cell_type": "code",
   "execution_count": 51,
   "metadata": {},
   "outputs": [
    {
     "data": {
      "text/plain": [
       "<matplotlib.lines.Line2D at 0x12cccbf50>"
      ]
     },
     "execution_count": 51,
     "metadata": {},
     "output_type": "execute_result"
    },
    {
     "data": {
      "image/png": "[encoded data removed]",
      "text/plain": [
       "<Figure size 640x480 with 1 Axes>"
      ]
     },
     "metadata": {},
     "output_type": "display_data"
    }
   ],
   "source": [
    "sns.histplot(df[\"dur_pt\"]*60)\n",
    "plt.axvline(x=df[\"dur_pt\"].quantile(0.5)*60, color='r', linestyle='--')\n",
    "plt.axvline(x=df[\"dur_pt\"].quantile(0.75)*60, color='r', linestyle='--')"
   ]
  },
  {
   "cell_type": "code",
   "execution_count": null,
   "metadata": {},
   "outputs": [
    {
     "data": {
      "image/png": "[encoded data removed]",
      "text/plain": [
       "<Figure size 640x480 with 1 Axes>"
      ]
     },
     "metadata": {},
     "output_type": "display_data"
    }
   ],
   "source": [
    "# sns.histplot(df[\"dur_walking\"])\n",
    "# sns.histplot(df[\"dur_cycling\"])\n",
    "sns.histplot(df[\"dur_pt\"]*60)\n",
    "# sns.histplot(df[\"dur_driving\"])\n",
    "# plt.xscale('log')\n",
    "# plt.legend(['Walking', 'Cycling', 'Public transport', 'Driving'])\n",
    "plt.show()"
   ]
  },
  {
   "cell_type": "code",
   "execution_count": 34,
   "metadata": {},
   "outputs": [
    {
     "data": {
      "text/html": [
       "<div>\n",
       "<style scoped>\n",
       "    .dataframe tbody tr th:only-of-type {\n",
       "        vertical-align: middle;\n",
       "    }\n",
       "\n",
       "    .dataframe tbody tr th {\n",
       "        vertical-align: top;\n",
       "    }\n",
       "\n",
       "    .dataframe thead th {\n",
       "        text-align: right;\n",
       "    }\n",
       "</style>\n",
       "<table border=\"1\" class=\"dataframe\">\n",
       "  <thead>\n",
       "    <tr style=\"text-align: right;\">\n",
       "      <th></th>\n",
       "      <th>trip_id</th>\n",
       "      <th>household_id</th>\n",
       "      <th>person_n</th>\n",
       "      <th>trip_n</th>\n",
       "      <th>travel_mode</th>\n",
       "      <th>purpose</th>\n",
       "      <th>fueltype</th>\n",
       "      <th>faretype</th>\n",
       "      <th>bus_scale</th>\n",
       "      <th>survey_year</th>\n",
       "      <th>...</th>\n",
       "      <th>dur_pt_int</th>\n",
       "      <th>pt_interchanges</th>\n",
       "      <th>dur_driving</th>\n",
       "      <th>cost_transit</th>\n",
       "      <th>cost_driving_fuel</th>\n",
       "      <th>cost_driving_ccharge</th>\n",
       "      <th>driving_traffic_percent</th>\n",
       "      <th>dur_pt</th>\n",
       "      <th>cost_driving</th>\n",
       "      <th>seg_age</th>\n",
       "    </tr>\n",
       "  </thead>\n",
       "  <tbody>\n",
       "    <tr>\n",
       "      <th>0</th>\n",
       "      <td>7</td>\n",
       "      <td>0</td>\n",
       "      <td>2</td>\n",
       "      <td>1</td>\n",
       "      <td>4</td>\n",
       "      <td>3</td>\n",
       "      <td>1</td>\n",
       "      <td>3</td>\n",
       "      <td>0.0</td>\n",
       "      <td>1</td>\n",
       "      <td>...</td>\n",
       "      <td>0.000000</td>\n",
       "      <td>0</td>\n",
       "      <td>0.059444</td>\n",
       "      <td>0.0</td>\n",
       "      <td>0.15</td>\n",
       "      <td>0.0</td>\n",
       "      <td>0.112150</td>\n",
       "      <td>0.165000</td>\n",
       "      <td>0.15</td>\n",
       "      <td>0</td>\n",
       "    </tr>\n",
       "    <tr>\n",
       "      <th>1</th>\n",
       "      <td>21</td>\n",
       "      <td>5</td>\n",
       "      <td>1</td>\n",
       "      <td>1</td>\n",
       "      <td>4</td>\n",
       "      <td>3</td>\n",
       "      <td>1</td>\n",
       "      <td>5</td>\n",
       "      <td>0.0</td>\n",
       "      <td>1</td>\n",
       "      <td>...</td>\n",
       "      <td>0.000000</td>\n",
       "      <td>0</td>\n",
       "      <td>0.167778</td>\n",
       "      <td>0.0</td>\n",
       "      <td>0.46</td>\n",
       "      <td>0.0</td>\n",
       "      <td>0.243377</td>\n",
       "      <td>0.377500</td>\n",
       "      <td>0.46</td>\n",
       "      <td>1</td>\n",
       "    </tr>\n",
       "    <tr>\n",
       "      <th>2</th>\n",
       "      <td>27</td>\n",
       "      <td>7</td>\n",
       "      <td>1</td>\n",
       "      <td>0</td>\n",
       "      <td>4</td>\n",
       "      <td>4</td>\n",
       "      <td>2</td>\n",
       "      <td>1</td>\n",
       "      <td>1.0</td>\n",
       "      <td>1</td>\n",
       "      <td>...</td>\n",
       "      <td>0.100000</td>\n",
       "      <td>1</td>\n",
       "      <td>0.340833</td>\n",
       "      <td>1.5</td>\n",
       "      <td>2.04</td>\n",
       "      <td>0.0</td>\n",
       "      <td>0.280359</td>\n",
       "      <td>0.810556</td>\n",
       "      <td>2.04</td>\n",
       "      <td>1</td>\n",
       "    </tr>\n",
       "    <tr>\n",
       "      <th>3</th>\n",
       "      <td>52</td>\n",
       "      <td>12</td>\n",
       "      <td>1</td>\n",
       "      <td>2</td>\n",
       "      <td>4</td>\n",
       "      <td>5</td>\n",
       "      <td>2</td>\n",
       "      <td>1</td>\n",
       "      <td>1.0</td>\n",
       "      <td>1</td>\n",
       "      <td>...</td>\n",
       "      <td>0.094722</td>\n",
       "      <td>1</td>\n",
       "      <td>0.355556</td>\n",
       "      <td>3.0</td>\n",
       "      <td>1.19</td>\n",
       "      <td>0.0</td>\n",
       "      <td>0.249219</td>\n",
       "      <td>0.649167</td>\n",
       "      <td>1.19</td>\n",
       "      <td>1</td>\n",
       "    </tr>\n",
       "    <tr>\n",
       "      <th>4</th>\n",
       "      <td>53</td>\n",
       "      <td>12</td>\n",
       "      <td>1</td>\n",
       "      <td>3</td>\n",
       "      <td>4</td>\n",
       "      <td>3</td>\n",
       "      <td>2</td>\n",
       "      <td>1</td>\n",
       "      <td>1.0</td>\n",
       "      <td>1</td>\n",
       "      <td>...</td>\n",
       "      <td>0.000000</td>\n",
       "      <td>0</td>\n",
       "      <td>0.062500</td>\n",
       "      <td>1.5</td>\n",
       "      <td>0.17</td>\n",
       "      <td>0.0</td>\n",
       "      <td>0.124444</td>\n",
       "      <td>0.144444</td>\n",
       "      <td>0.17</td>\n",
       "      <td>1</td>\n",
       "    </tr>\n",
       "    <tr>\n",
       "      <th>...</th>\n",
       "      <td>...</td>\n",
       "      <td>...</td>\n",
       "      <td>...</td>\n",
       "      <td>...</td>\n",
       "      <td>...</td>\n",
       "      <td>...</td>\n",
       "      <td>...</td>\n",
       "      <td>...</td>\n",
       "      <td>...</td>\n",
       "      <td>...</td>\n",
       "      <td>...</td>\n",
       "      <td>...</td>\n",
       "      <td>...</td>\n",
       "      <td>...</td>\n",
       "      <td>...</td>\n",
       "      <td>...</td>\n",
       "      <td>...</td>\n",
       "      <td>...</td>\n",
       "      <td>...</td>\n",
       "      <td>...</td>\n",
       "      <td>...</td>\n",
       "    </tr>\n",
       "    <tr>\n",
       "      <th>4995</th>\n",
       "      <td>81014</td>\n",
       "      <td>17596</td>\n",
       "      <td>2</td>\n",
       "      <td>0</td>\n",
       "      <td>1</td>\n",
       "      <td>3</td>\n",
       "      <td>6</td>\n",
       "      <td>5</td>\n",
       "      <td>0.0</td>\n",
       "      <td>3</td>\n",
       "      <td>...</td>\n",
       "      <td>0.000000</td>\n",
       "      <td>0</td>\n",
       "      <td>0.108056</td>\n",
       "      <td>0.0</td>\n",
       "      <td>0.25</td>\n",
       "      <td>0.0</td>\n",
       "      <td>0.210797</td>\n",
       "      <td>0.188333</td>\n",
       "      <td>0.25</td>\n",
       "      <td>0</td>\n",
       "    </tr>\n",
       "    <tr>\n",
       "      <th>4996</th>\n",
       "      <td>81038</td>\n",
       "      <td>17604</td>\n",
       "      <td>1</td>\n",
       "      <td>4</td>\n",
       "      <td>4</td>\n",
       "      <td>3</td>\n",
       "      <td>5</td>\n",
       "      <td>1</td>\n",
       "      <td>1.0</td>\n",
       "      <td>3</td>\n",
       "      <td>...</td>\n",
       "      <td>0.000000</td>\n",
       "      <td>0</td>\n",
       "      <td>0.157778</td>\n",
       "      <td>1.5</td>\n",
       "      <td>0.55</td>\n",
       "      <td>0.0</td>\n",
       "      <td>0.366197</td>\n",
       "      <td>0.256389</td>\n",
       "      <td>0.55</td>\n",
       "      <td>1</td>\n",
       "    </tr>\n",
       "    <tr>\n",
       "      <th>4997</th>\n",
       "      <td>81058</td>\n",
       "      <td>17606</td>\n",
       "      <td>1</td>\n",
       "      <td>0</td>\n",
       "      <td>3</td>\n",
       "      <td>3</td>\n",
       "      <td>6</td>\n",
       "      <td>1</td>\n",
       "      <td>1.0</td>\n",
       "      <td>3</td>\n",
       "      <td>...</td>\n",
       "      <td>0.000000</td>\n",
       "      <td>0</td>\n",
       "      <td>0.278333</td>\n",
       "      <td>1.5</td>\n",
       "      <td>0.65</td>\n",
       "      <td>0.0</td>\n",
       "      <td>0.419162</td>\n",
       "      <td>0.444444</td>\n",
       "      <td>0.65</td>\n",
       "      <td>0</td>\n",
       "    </tr>\n",
       "    <tr>\n",
       "      <th>4998</th>\n",
       "      <td>81059</td>\n",
       "      <td>17606</td>\n",
       "      <td>1</td>\n",
       "      <td>2</td>\n",
       "      <td>3</td>\n",
       "      <td>3</td>\n",
       "      <td>6</td>\n",
       "      <td>1</td>\n",
       "      <td>1.0</td>\n",
       "      <td>3</td>\n",
       "      <td>...</td>\n",
       "      <td>0.000000</td>\n",
       "      <td>0</td>\n",
       "      <td>0.281667</td>\n",
       "      <td>1.5</td>\n",
       "      <td>0.63</td>\n",
       "      <td>0.0</td>\n",
       "      <td>0.384615</td>\n",
       "      <td>0.460556</td>\n",
       "      <td>0.63</td>\n",
       "      <td>0</td>\n",
       "    </tr>\n",
       "    <tr>\n",
       "      <th>4999</th>\n",
       "      <td>81076</td>\n",
       "      <td>17611</td>\n",
       "      <td>1</td>\n",
       "      <td>1</td>\n",
       "      <td>3</td>\n",
       "      <td>4</td>\n",
       "      <td>6</td>\n",
       "      <td>1</td>\n",
       "      <td>1.0</td>\n",
       "      <td>3</td>\n",
       "      <td>...</td>\n",
       "      <td>0.000000</td>\n",
       "      <td>0</td>\n",
       "      <td>0.106111</td>\n",
       "      <td>1.5</td>\n",
       "      <td>0.32</td>\n",
       "      <td>0.0</td>\n",
       "      <td>0.143979</td>\n",
       "      <td>0.324167</td>\n",
       "      <td>0.32</td>\n",
       "      <td>1</td>\n",
       "    </tr>\n",
       "  </tbody>\n",
       "</table>\n",
       "<p>5000 rows × 35 columns</p>\n",
       "</div>"
      ],
      "text/plain": [
       "      trip_id  household_id  person_n  trip_n  travel_mode  purpose  fueltype  \\\n",
       "0           7             0         2       1            4        3         1   \n",
       "1          21             5         1       1            4        3         1   \n",
       "2          27             7         1       0            4        4         2   \n",
       "3          52            12         1       2            4        5         2   \n",
       "4          53            12         1       3            4        3         2   \n",
       "...       ...           ...       ...     ...          ...      ...       ...   \n",
       "4995    81014         17596         2       0            1        3         6   \n",
       "4996    81038         17604         1       4            4        3         5   \n",
       "4997    81058         17606         1       0            3        3         6   \n",
       "4998    81059         17606         1       2            3        3         6   \n",
       "4999    81076         17611         1       1            3        4         6   \n",
       "\n",
       "      faretype  bus_scale  survey_year  ...  dur_pt_int  pt_interchanges  \\\n",
       "0            3        0.0            1  ...    0.000000                0   \n",
       "1            5        0.0            1  ...    0.000000                0   \n",
       "2            1        1.0            1  ...    0.100000                1   \n",
       "3            1        1.0            1  ...    0.094722                1   \n",
       "4            1        1.0            1  ...    0.000000                0   \n",
       "...        ...        ...          ...  ...         ...              ...   \n",
       "4995         5        0.0            3  ...    0.000000                0   \n",
       "4996         1        1.0            3  ...    0.000000                0   \n",
       "4997         1        1.0            3  ...    0.000000                0   \n",
       "4998         1        1.0            3  ...    0.000000                0   \n",
       "4999         1        1.0            3  ...    0.000000                0   \n",
       "\n",
       "      dur_driving  cost_transit  cost_driving_fuel  cost_driving_ccharge  \\\n",
       "0        0.059444           0.0               0.15                   0.0   \n",
       "1        0.167778           0.0               0.46                   0.0   \n",
       "2        0.340833           1.5               2.04                   0.0   \n",
       "3        0.355556           3.0               1.19                   0.0   \n",
       "4        0.062500           1.5               0.17                   0.0   \n",
       "...           ...           ...                ...                   ...   \n",
       "4995     0.108056           0.0               0.25                   0.0   \n",
       "4996     0.157778           1.5               0.55                   0.0   \n",
       "4997     0.278333           1.5               0.65                   0.0   \n",
       "4998     0.281667           1.5               0.63                   0.0   \n",
       "4999     0.106111           1.5               0.32                   0.0   \n",
       "\n",
       "      driving_traffic_percent    dur_pt  cost_driving  seg_age  \n",
       "0                    0.112150  0.165000          0.15        0  \n",
       "1                    0.243377  0.377500          0.46        1  \n",
       "2                    0.280359  0.810556          2.04        1  \n",
       "3                    0.249219  0.649167          1.19        1  \n",
       "4                    0.124444  0.144444          0.17        1  \n",
       "...                       ...       ...           ...      ...  \n",
       "4995                 0.210797  0.188333          0.25        0  \n",
       "4996                 0.366197  0.256389          0.55        1  \n",
       "4997                 0.419162  0.444444          0.65        0  \n",
       "4998                 0.384615  0.460556          0.63        0  \n",
       "4999                 0.143979  0.324167          0.32        1  \n",
       "\n",
       "[5000 rows x 35 columns]"
      ]
     },
     "execution_count": 34,
     "metadata": {},
     "output_type": "execute_result"
    }
   ],
   "source": [
    "df"
   ]
  },
  {
   "cell_type": "code",
   "execution_count": 65,
   "metadata": {},
   "outputs": [
    {
     "name": "stdout",
     "output_type": "stream",
     "text": [
      "direct_agg_pt: -0.06935 - Direct aggregation for public transport\n",
      "cross_agg_pt_vs_new_car: 0.06930 - Cross aggregation for public transport vs new car\n",
      "cross_agg_pt_vs_walk: 0.00000 - Cross aggregation for public transport vs walk\n",
      "cross_agg_pt_vs_cycle: 0.00000 - Cross aggregation for public transport vs cycle\n",
      "direct_agg_new_car: -0.06504 - Direct aggregation for new car\n",
      "cross_agg_new_car_vs_pt: 0.05031 - Cross aggregation for new car vs public transport\n",
      "cross_agg_new_car_vs_walk: 0.00000 - Cross aggregation for new car vs walk\n",
      "cross_agg_new_car_vs_cycle: 0.00000 - Cross aggregation for new car vs cycle\n",
      "Market shares for walking : 18.25652\n",
      "Market shares for cycling : 3.20499\n",
      "Market shares for car : 42.85942\n",
      "Market shares for pt : 35.67906\n",
      "Mean value of time for car : 120.81346\n",
      "Mean value of time for pt : 50.22594\n",
      "Expected revenue for pt (original scenario) : 3287.33000\n",
      "Expected revenue for pt (scneario 2) : 2857.42544\n"
     ]
    }
   ],
   "source": [
    "print(f'direct_agg_pt: {direct_agg_pt:.5f} - Direct aggregation for public transport')\n",
    "print(f'cross_agg_pt_vs_new_car: {cross_agg_pt_vs_new_car:.5f} - Cross aggregation for public transport vs new car')\n",
    "print(f'cross_agg_pt_vs_walk: {cross_agg_pt_vs_walk:.5f} - Cross aggregation for public transport vs walk')\n",
    "print(f'cross_agg_pt_vs_cycle: {cross_agg_pt_vs_cycle:.5f} - Cross aggregation for public transport vs cycle')\n",
    "\n",
    "print(f'direct_agg_new_car: {direct_agg_new_car:.5f} - Direct aggregation for new car')\n",
    "print(f'cross_agg_new_car_vs_pt: {cross_agg_new_car_vs_pt:.5f} - Cross aggregation for new car vs public transport')\n",
    "print(f'cross_agg_new_car_vs_walk: {cross_agg_new_car_vs_walk:.5f} - Cross aggregation for new car vs walk')\n",
    "print(f'cross_agg_new_car_vs_cycle: {cross_agg_new_car_vs_cycle:.5f} - Cross aggregation for new car vs cycle')\n",
    "\n",
    "print(f'Market shares for walking : {ms_walk:.5f}')\n",
    "print(f'Market shares for cycling : {ms_cycle:.5f}')\n",
    "print(f'Market shares for car : {ms_car:.5f}')\n",
    "print(f'Market shares for pt : {ms_pt:.5f}')\n",
    "\n",
    "print(f'Mean value of time for car : {vot_car:.5f}')\n",
    "print(f'Mean value of time for pt : {vot_pt:.5f}')\n",
    "\n",
    "print(f'Expected revenue for pt (original scenario) : {revenue_pt:.5f}')\n",
    "print(f'Expected revenue for pt (scneario 2) : {revenue_pt_scen2:.5f}')"
   ]
  },
  {
   "cell_type": "code",
   "execution_count": null,
   "metadata": {},
   "outputs": [],
   "source": [
    "# We are still using the same model, so no need to estimate it again\n",
    "'''\n",
    "# Alternative specific constants (ASC_walk is normalized to 0)\n",
    "ASC_CYCLE_F2 = Beta('ASC_CYCLE_F2', 0, None, None, 0)\n",
    "ASC_PT_F2    = Beta('ASC_PT_F2', 0, None, None, 0)\n",
    "ASC_CAR_F2   = Beta('ASC_CAR_F2', 0, None, None, 0)\n",
    "\n",
    "# Alternative specific time coefficient\n",
    "B_TIME_WALK_F2  = Beta('B_TIME_WALK_F2', 0, None, None, 0)\n",
    "B_TIME_CYCLE_F2 = Beta('B_TIME_CYCLE_F2', 0, None, None, 0)\n",
    "B_TIME_PT_F2    = Beta('B_TIME_PT_F2', 0, None, None, 0)\n",
    "B_TIME_CAR_F2   = Beta('B_TIME_CAR_F2', 0, None, None, 0)\n",
    "\n",
    "# Generic cost coefficient\n",
    "B_COST_F2 = Beta('B_COST_F2', 0, None, None, 0)\n",
    "\n",
    "age = Variable('age')\n",
    "# B_AGE_CYCLE_F2 = Beta('B_AGE_CYCLE_F2', 0, None, None, 0)\n",
    "B_AGE_PT_F2 = Beta('B_AGE_PT_F2', 0, None, None, 0)\n",
    "B_AGE_CAR_F2 = Beta('B_AGE_CAR_F2', 0, None, None, 0)\n",
    "'''"
   ]
  },
  {
   "cell_type": "code",
   "execution_count": null,
   "metadata": {},
   "outputs": [],
   "source": [
    "'''lambda_boxcox_walking = Beta('lambda_boxcox_walking', 1, -10, 10, 0)\n",
    "boxcox_dur_walking_unrestricted = boxcox(dur_walking, lambda_boxcox_walking)\n",
    "\n",
    "lambda_boxcox_cycling = Beta('lambda_boxcox_cycling', 1, -10, 10, 0)\n",
    "boxcox_dur_cycling_unrestricted = boxcox(dur_cycling, lambda_boxcox_cycling)\n",
    "\n",
    "lambda_boxcox_pt = Beta('lambda_boxcox_pt', 1, -10, 10, 0)\n",
    "boxcox_dur_pt_unrestricted = boxcox(dur_pt, lambda_boxcox_pt)\n",
    "\n",
    "lambda_boxcox_driving = Beta('lambda_boxcox_driving', 1, -10, 10, 0)\n",
    "boxcox_dur_driving_unrestricted = boxcox(dur_driving, lambda_boxcox_driving)'''"
   ]
  },
  {
   "cell_type": "code",
   "execution_count": null,
   "metadata": {},
   "outputs": [],
   "source": [
    "'''V_walk_F2 = (\n",
    "    B_TIME_WALK_F2 * boxcox_dur_walking_unrestricted\n",
    ")\n",
    "\n",
    "V_cycle_F2 = (\n",
    "    ASC_CYCLE_F2\n",
    "    # + B_AGE_CYCLE_F2 * age\n",
    "    + B_TIME_CYCLE_F2 * boxcox_dur_cycling_unrestricted\n",
    ")\n",
    "\n",
    "V_pt_F2 = (\n",
    "    ASC_PT_F2\n",
    "    + B_AGE_PT_F2 * age\n",
    "    + B_TIME_PT_F2 * boxcox_dur_pt_unrestricted\n",
    "    + B_COST_F2 * cost_transit\n",
    ")\n",
    "\n",
    "V_car_F2 = (\n",
    "    ASC_CAR_F2\n",
    "    + B_AGE_CAR_F2 * age\n",
    "    + B_TIME_CAR_F2 * boxcox_dur_driving_unrestricted\n",
    "    + B_COST_F2 * cost_driving\n",
    ")\n",
    "\n",
    "V_F2 = {1: V_walk_F2, 2: V_cycle_F2, 3: V_pt_F2, 4: V_car_F2}\n",
    "logprob_F2 = loglogit(V_F2, None, travel_mode)\n",
    "biogeme_F2 = bio.BIOGEME(database, logprob_F2)\n",
    "biogeme_F2.modelName = 'model_F2'\n",
    "\n",
    "results_F2 = biogeme_F2.estimate()\n",
    "print(results_F2.print_general_statistics())'''"
   ]
  },
  {
   "cell_type": "code",
   "execution_count": null,
   "metadata": {},
   "outputs": [],
   "source": [
    "'''V_pref = V_F2\n",
    "results_pref = results_F2'''"
   ]
  },
  {
   "cell_type": "code",
   "execution_count": null,
   "metadata": {},
   "outputs": [],
   "source": [
    "'''mu_motorized = Beta('mu_motorized', 1, 0, None, 0)\n",
    "motorized = OneNestForNestedLogit(nest_param=mu_motorized, list_of_alternatives=[3, 4], name='motorized')\n",
    "walk = OneNestForNestedLogit(nest_param=1, list_of_alternatives=[1], name='walk')\n",
    "bike = OneNestForNestedLogit(nest_param=1, list_of_alternatives=[2], name='bike')\n",
    "nests = NestsForNestedLogit(choice_set=V_pref, tuple_of_nests=(motorized, walk, bike))'''"
   ]
  },
  {
   "cell_type": "code",
   "execution_count": null,
   "metadata": {},
   "outputs": [],
   "source": [
    "'''logprob_V_F2 = lognested(V_pref, None, nests, travel_mode)\n",
    "biogeme_V_F2 = bio.BIOGEME(database, logprob_V_F2)\n",
    "biogeme_V_F2.modelName = 'model_V_F2'\n",
    "results_V_F2 = biogeme_V_F2.estimate()\n",
    "print(results_V_F2.print_general_statistics())\n",
    "print(results_V_F2.print_general_statistics())'''"
   ]
  },
  {
   "cell_type": "code",
   "execution_count": null,
   "metadata": {},
   "outputs": [],
   "source": [
    "'''print('Model V_F2')\n",
    "display_market_shares(df, V_F2)'''"
   ]
  },
  {
   "cell_type": "code",
   "execution_count": null,
   "metadata": {},
   "outputs": [],
   "source": [
    "#new_cost_transit = 0.8 * cost_transit"
   ]
  },
  {
   "cell_type": "code",
   "execution_count": null,
   "metadata": {},
   "outputs": [],
   "source": [
    "#Value_of_time_car_F2 = - (Derive(V_car_F2, boxcox_dur_driving_unrestricted)) / (Derive(V_car_F2, cost_driving))"
   ]
  },
  {
   "cell_type": "code",
   "execution_count": null,
   "metadata": {},
   "outputs": [],
   "source": [
    "#Value_of_time_pt_F2 = - (Derive(V_pt_F2, boxcox_dur_pt_unrestricted)) / (Derive(V_pt_F2, new_cost_transit))"
   ]
  },
  {
   "cell_type": "code",
   "execution_count": null,
   "metadata": {},
   "outputs": [],
   "source": [
    "'''prob_walk_F2   = nested(V_F2, None, nests, 1)\n",
    "prob_cycle_F2  = nested(V_F2, None, nests, 2)\n",
    "prob_pt_F2     = nested(V_F2, None, nests, 3)\n",
    "prob_car_F2    = nested(V_F2, None, nests, 4) '''"
   ]
  },
  {
   "cell_type": "code",
   "execution_count": null,
   "metadata": {},
   "outputs": [],
   "source": [
    "'''\n",
    "direct_elas_new_cost_transit = Derive(prob_pt_F2, 'new_cost_transit') * new_cost_transit / prob_pt_F2\n",
    "cross_elas_pt_vs_cost_driving = Derive(prob_pt_F2, 'cost_driving') * cost_driving / prob_pt_F2\n",
    "cross_elas_pt_vs_cost_walk = Derive(prob_pt_F2, 'cost_walk') * cost_walk / prob_pt_F2\n",
    "cross_elas_pt_vs_cost_cycle = Derive(prob_pt_F2, 'cost_cycle') * cost_cycle / prob_pt_F2\n",
    "direct_elas_cost_driving = Derive(prob_car_F2, 'cost_driving') * cost_driving / prob_car_F2\n",
    "cross_elas_car_vs_new_cost_transit = Derive(prob_car_F2, 'new_cost_transit') * new_cost_transit / prob_car_F2\n",
    "cross_elas_car_vs_cost_walk = Derive(prob_car_F2, 'cost_walk') * cost_walk / prob_car_F2\n",
    "cross_elas_car_vs_cost_cycle = Derive(prob_car_F2, 'cost_cycle') * cost_cycle / prob_car_F2\n",
    "'''"
   ]
  },
  {
   "cell_type": "code",
   "execution_count": null,
   "metadata": {},
   "outputs": [],
   "source": [
    "'''\n",
    "weights = get_weights(df)\n",
    "\n",
    "filters = {\n",
    "    'female_44_less': (df.age <= 44) & (df.female == 1),\n",
    "    'female_45_more': (df.age >= 45) & (df.female == 1),\n",
    "    'male_44_less': (df.age <= 44) & (df.female == 0),\n",
    "    'male_45_more': (df.age >= 45) & (df.female == 0),\n",
    "}\n",
    "\n",
    "# Create a new dataframe to add the market shares in it\n",
    "df_ms = df.copy()\n",
    "df_ms['new_cost_transit'] = df_ms['cost_transit'] * 0.8\n",
    "df_ms['cost_walk'] = 0\n",
    "df_ms['cost_cycle'] = 0\n",
    "\n",
    "# Add the weights in the dataframe\n",
    "for segment_name, segment_rows in filters.items():\n",
    "    df_ms.loc[segment_rows, 'weight'] = weights[segment_name]\n",
    "\n",
    "# Useful variables for later\n",
    "weight = Variable('weight')\n",
    "\n",
    "\n",
    "simulate = {\n",
    "    'weight': weight,\n",
    "    'Prob car': prob_car_F2,\n",
    "    'Prob public transportation': prob_pt_F2,\n",
    "    'direct_elas_new_cost_transit': direct_elas_cost_transit,\n",
    "    'direct_elas_cost_driving': direct_elas_new_cost_driving,\n",
    "    'cross_elas_pt_vs_cost_driving': cross_elas_pt_vs_new_cost_driving,\n",
    "    'cross_elas_pt_vs_cost_walk': cross_elas_pt_vs_cost_walk,\n",
    "    'cross_elas_pt_vs_cost_cycle': cross_elas_pt_vs_cost_cycle,\n",
    "    'cross_elas_car_vs_new_cost_transit': cross_elas_car_vs_cost_transit,\n",
    "    'cross_elas_car_vs_cost_walk': cross_elas_car_vs_cost_walk,\n",
    "    'cross_elas_car_vs_cost_cycle': cross_elas_car_vs_cost_cycle,\n",
    "}\n",
    "\n",
    "\n",
    "filename = 'elasticities_2.pickle'\n",
    "try:\n",
    "    with open(filename, 'rb') as f:\n",
    "        simulated_values = pickle.load(f)\n",
    "        print(f'Elasticities read from {filename}')\n",
    "except FileNotFoundError:\n",
    "    biosim = bio.BIOGEME(database, simulate)\n",
    "    simulated_values = biosim.simulate(results_V_F2.get_beta_values())\n",
    "    print(f'Elasticities calculated and saved in {filename}')\n",
    "    with open(filename, 'wb') as f:\n",
    "        pickle.dump(simulated_values, f)\n",
    "'''"
   ]
  }
 ],
 "metadata": {
  "kernelspec": {
   "display_name": "mmb",
   "language": "python",
   "name": "python3"
  },
  "language_info": {
   "codemirror_mode": {
    "name": "ipython",
    "version": 3
   },
   "file_extension": ".py",
   "mimetype": "text/x-python",
   "name": "python",
   "nbconvert_exporter": "python",
   "pygments_lexer": "ipython3",
   "version": "3.11.9"
  }
 },
 "nbformat": 4,
 "nbformat_minor": 4
}
