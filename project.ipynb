{
 "cells": [
  {
   "cell_type": "code",
   "execution_count": null,
   "metadata": {},
   "outputs": [],
   "source": [
    "import pandas as pd\n",
    "import biogeme.database as db\n",
    "import biogeme.biogeme as bio\n",
    "from biogeme.expressions import Beta, Variable, log, exp\n",
    "from biogeme.models import loglogit, piecewise_formula, boxcox, lognested, nested\n",
    "from biogeme.nests import OneNestForNestedLogit, NestsForNestedLogit\n",
    "from scipy.stats import chi2\n",
    "import matplotlib.pyplot as plt\n",
    "import seaborn as sns\n",
    "import numpy as np\n"
   ]
  },
  {
   "cell_type": "code",
   "execution_count": 2,
   "metadata": {},
   "outputs": [],
   "source": [
    "# Loading the data\n",
    "df = pd.read_csv('lpmc06.dat', sep='\\t')"
   ]
  },
  {
   "cell_type": "code",
   "execution_count": 3,
   "metadata": {},
   "outputs": [],
   "source": [
    "df[\"dur_pt\"] = df[\"dur_pt_access\"] + df[\"dur_pt_rail\"] + df[\"dur_pt_bus\"] + df[\"dur_pt_int\"]\n",
    "df[\"cost_driving\"] = df[\"cost_driving_fuel\"] + df[\"cost_driving_ccharge\"]"
   ]
  },
  {
   "cell_type": "code",
   "execution_count": 4,
   "metadata": {},
   "outputs": [],
   "source": [
    "df[\"seg_age\"] = df[\"age\"].apply(lambda x: 0 if x < 35 else 1)"
   ]
  },
  {
   "cell_type": "code",
   "execution_count": 5,
   "metadata": {},
   "outputs": [
    {
     "data": {
      "text/plain": [
       "Index(['trip_id', 'household_id', 'person_n', 'trip_n', 'travel_mode',\n",
       "       'purpose', 'fueltype', 'faretype', 'bus_scale', 'survey_year',\n",
       "       'travel_year', 'travel_month', 'travel_date', 'day_of_week',\n",
       "       'start_time', 'age', 'female', 'driving_license', 'car_ownership',\n",
       "       'distance', 'dur_walking', 'dur_cycling', 'dur_pt_access',\n",
       "       'dur_pt_rail', 'dur_pt_bus', 'dur_pt_int', 'pt_interchanges',\n",
       "       'dur_driving', 'cost_transit', 'cost_driving_fuel',\n",
       "       'cost_driving_ccharge', 'driving_traffic_percent', 'dur_pt',\n",
       "       'cost_driving', 'seg_age'],\n",
       "      dtype='object')"
      ]
     },
     "metadata": {},
     "output_type": "display_data"
    }
   ],
   "source": [
    "display(df.columns)"
   ]
  },
  {
   "cell_type": "code",
   "execution_count": 6,
   "metadata": {},
   "outputs": [
    {
     "data": {
      "text/html": [
       "<div>\n",
       "<style scoped>\n",
       "    .dataframe tbody tr th:only-of-type {\n",
       "        vertical-align: middle;\n",
       "    }\n",
       "\n",
       "    .dataframe tbody tr th {\n",
       "        vertical-align: top;\n",
       "    }\n",
       "\n",
       "    .dataframe thead th {\n",
       "        text-align: right;\n",
       "    }\n",
       "</style>\n",
       "<table border=\"1\" class=\"dataframe\">\n",
       "  <thead>\n",
       "    <tr style=\"text-align: right;\">\n",
       "      <th></th>\n",
       "      <th>trip_id</th>\n",
       "      <th>household_id</th>\n",
       "      <th>person_n</th>\n",
       "      <th>trip_n</th>\n",
       "      <th>travel_mode</th>\n",
       "      <th>purpose</th>\n",
       "      <th>fueltype</th>\n",
       "      <th>faretype</th>\n",
       "      <th>bus_scale</th>\n",
       "      <th>survey_year</th>\n",
       "      <th>...</th>\n",
       "      <th>dur_pt_int</th>\n",
       "      <th>pt_interchanges</th>\n",
       "      <th>dur_driving</th>\n",
       "      <th>cost_transit</th>\n",
       "      <th>cost_driving_fuel</th>\n",
       "      <th>cost_driving_ccharge</th>\n",
       "      <th>driving_traffic_percent</th>\n",
       "      <th>dur_pt</th>\n",
       "      <th>cost_driving</th>\n",
       "      <th>seg_age</th>\n",
       "    </tr>\n",
       "  </thead>\n",
       "  <tbody>\n",
       "    <tr>\n",
       "      <th>0</th>\n",
       "      <td>7</td>\n",
       "      <td>0</td>\n",
       "      <td>2</td>\n",
       "      <td>1</td>\n",
       "      <td>4</td>\n",
       "      <td>3</td>\n",
       "      <td>1</td>\n",
       "      <td>3</td>\n",
       "      <td>0.0</td>\n",
       "      <td>1</td>\n",
       "      <td>...</td>\n",
       "      <td>0.000000</td>\n",
       "      <td>0</td>\n",
       "      <td>0.059444</td>\n",
       "      <td>0.0</td>\n",
       "      <td>0.15</td>\n",
       "      <td>0.0</td>\n",
       "      <td>0.112150</td>\n",
       "      <td>0.165000</td>\n",
       "      <td>0.15</td>\n",
       "      <td>0</td>\n",
       "    </tr>\n",
       "    <tr>\n",
       "      <th>1</th>\n",
       "      <td>21</td>\n",
       "      <td>5</td>\n",
       "      <td>1</td>\n",
       "      <td>1</td>\n",
       "      <td>4</td>\n",
       "      <td>3</td>\n",
       "      <td>1</td>\n",
       "      <td>5</td>\n",
       "      <td>0.0</td>\n",
       "      <td>1</td>\n",
       "      <td>...</td>\n",
       "      <td>0.000000</td>\n",
       "      <td>0</td>\n",
       "      <td>0.167778</td>\n",
       "      <td>0.0</td>\n",
       "      <td>0.46</td>\n",
       "      <td>0.0</td>\n",
       "      <td>0.243377</td>\n",
       "      <td>0.377500</td>\n",
       "      <td>0.46</td>\n",
       "      <td>1</td>\n",
       "    </tr>\n",
       "    <tr>\n",
       "      <th>2</th>\n",
       "      <td>27</td>\n",
       "      <td>7</td>\n",
       "      <td>1</td>\n",
       "      <td>0</td>\n",
       "      <td>4</td>\n",
       "      <td>4</td>\n",
       "      <td>2</td>\n",
       "      <td>1</td>\n",
       "      <td>1.0</td>\n",
       "      <td>1</td>\n",
       "      <td>...</td>\n",
       "      <td>0.100000</td>\n",
       "      <td>1</td>\n",
       "      <td>0.340833</td>\n",
       "      <td>1.5</td>\n",
       "      <td>2.04</td>\n",
       "      <td>0.0</td>\n",
       "      <td>0.280359</td>\n",
       "      <td>0.810556</td>\n",
       "      <td>2.04</td>\n",
       "      <td>1</td>\n",
       "    </tr>\n",
       "    <tr>\n",
       "      <th>3</th>\n",
       "      <td>52</td>\n",
       "      <td>12</td>\n",
       "      <td>1</td>\n",
       "      <td>2</td>\n",
       "      <td>4</td>\n",
       "      <td>5</td>\n",
       "      <td>2</td>\n",
       "      <td>1</td>\n",
       "      <td>1.0</td>\n",
       "      <td>1</td>\n",
       "      <td>...</td>\n",
       "      <td>0.094722</td>\n",
       "      <td>1</td>\n",
       "      <td>0.355556</td>\n",
       "      <td>3.0</td>\n",
       "      <td>1.19</td>\n",
       "      <td>0.0</td>\n",
       "      <td>0.249219</td>\n",
       "      <td>0.649167</td>\n",
       "      <td>1.19</td>\n",
       "      <td>1</td>\n",
       "    </tr>\n",
       "    <tr>\n",
       "      <th>4</th>\n",
       "      <td>53</td>\n",
       "      <td>12</td>\n",
       "      <td>1</td>\n",
       "      <td>3</td>\n",
       "      <td>4</td>\n",
       "      <td>3</td>\n",
       "      <td>2</td>\n",
       "      <td>1</td>\n",
       "      <td>1.0</td>\n",
       "      <td>1</td>\n",
       "      <td>...</td>\n",
       "      <td>0.000000</td>\n",
       "      <td>0</td>\n",
       "      <td>0.062500</td>\n",
       "      <td>1.5</td>\n",
       "      <td>0.17</td>\n",
       "      <td>0.0</td>\n",
       "      <td>0.124444</td>\n",
       "      <td>0.144444</td>\n",
       "      <td>0.17</td>\n",
       "      <td>1</td>\n",
       "    </tr>\n",
       "  </tbody>\n",
       "</table>\n",
       "<p>5 rows × 35 columns</p>\n",
       "</div>"
      ],
      "text/plain": [
       "   trip_id  household_id  person_n  trip_n  travel_mode  purpose  fueltype  \\\n",
       "0        7             0         2       1            4        3         1   \n",
       "1       21             5         1       1            4        3         1   \n",
       "2       27             7         1       0            4        4         2   \n",
       "3       52            12         1       2            4        5         2   \n",
       "4       53            12         1       3            4        3         2   \n",
       "\n",
       "   faretype  bus_scale  survey_year  ...  dur_pt_int  pt_interchanges  \\\n",
       "0         3        0.0            1  ...    0.000000                0   \n",
       "1         5        0.0            1  ...    0.000000                0   \n",
       "2         1        1.0            1  ...    0.100000                1   \n",
       "3         1        1.0            1  ...    0.094722                1   \n",
       "4         1        1.0            1  ...    0.000000                0   \n",
       "\n",
       "   dur_driving  cost_transit  cost_driving_fuel  cost_driving_ccharge  \\\n",
       "0     0.059444           0.0               0.15                   0.0   \n",
       "1     0.167778           0.0               0.46                   0.0   \n",
       "2     0.340833           1.5               2.04                   0.0   \n",
       "3     0.355556           3.0               1.19                   0.0   \n",
       "4     0.062500           1.5               0.17                   0.0   \n",
       "\n",
       "   driving_traffic_percent    dur_pt  cost_driving  seg_age  \n",
       "0                 0.112150  0.165000          0.15        0  \n",
       "1                 0.243377  0.377500          0.46        1  \n",
       "2                 0.280359  0.810556          2.04        1  \n",
       "3                 0.249219  0.649167          1.19        1  \n",
       "4                 0.124444  0.144444          0.17        1  \n",
       "\n",
       "[5 rows x 35 columns]"
      ]
     },
     "metadata": {},
     "output_type": "display_data"
    }
   ],
   "source": [
    "display(df.head())"
   ]
  },
  {
   "cell_type": "code",
   "execution_count": 7,
   "metadata": {},
   "outputs": [],
   "source": [
    "database = db.Database('lpmc', df)"
   ]
  },
  {
   "cell_type": "code",
   "execution_count": 8,
   "metadata": {},
   "outputs": [
    {
     "data": {
      "text/html": [
       "<div>\n",
       "<style scoped>\n",
       "    .dataframe tbody tr th:only-of-type {\n",
       "        vertical-align: middle;\n",
       "    }\n",
       "\n",
       "    .dataframe tbody tr th {\n",
       "        vertical-align: top;\n",
       "    }\n",
       "\n",
       "    .dataframe thead th {\n",
       "        text-align: right;\n",
       "    }\n",
       "</style>\n",
       "<table border=\"1\" class=\"dataframe\">\n",
       "  <thead>\n",
       "    <tr style=\"text-align: right;\">\n",
       "      <th></th>\n",
       "      <th>dur_walking</th>\n",
       "      <th>dur_cycling</th>\n",
       "      <th>dur_pt</th>\n",
       "      <th>dur_driving</th>\n",
       "    </tr>\n",
       "  </thead>\n",
       "  <tbody>\n",
       "    <tr>\n",
       "      <th>count</th>\n",
       "      <td>5000.000000</td>\n",
       "      <td>5000.000000</td>\n",
       "      <td>5000.000000</td>\n",
       "      <td>5000.000000</td>\n",
       "    </tr>\n",
       "    <tr>\n",
       "      <th>mean</th>\n",
       "      <td>1.121458</td>\n",
       "      <td>0.358602</td>\n",
       "      <td>0.463576</td>\n",
       "      <td>0.280342</td>\n",
       "    </tr>\n",
       "    <tr>\n",
       "      <th>std</th>\n",
       "      <td>1.126564</td>\n",
       "      <td>0.353291</td>\n",
       "      <td>0.309862</td>\n",
       "      <td>0.253633</td>\n",
       "    </tr>\n",
       "    <tr>\n",
       "      <th>min</th>\n",
       "      <td>0.028611</td>\n",
       "      <td>0.006944</td>\n",
       "      <td>0.011944</td>\n",
       "      <td>0.006944</td>\n",
       "    </tr>\n",
       "    <tr>\n",
       "      <th>25%</th>\n",
       "      <td>0.345000</td>\n",
       "      <td>0.113611</td>\n",
       "      <td>0.223264</td>\n",
       "      <td>0.106111</td>\n",
       "    </tr>\n",
       "    <tr>\n",
       "      <th>50%</th>\n",
       "      <td>0.717500</td>\n",
       "      <td>0.228056</td>\n",
       "      <td>0.385278</td>\n",
       "      <td>0.190139</td>\n",
       "    </tr>\n",
       "    <tr>\n",
       "      <th>75%</th>\n",
       "      <td>1.498889</td>\n",
       "      <td>0.481736</td>\n",
       "      <td>0.635347</td>\n",
       "      <td>0.364514</td>\n",
       "    </tr>\n",
       "    <tr>\n",
       "      <th>max</th>\n",
       "      <td>9.278333</td>\n",
       "      <td>2.668333</td>\n",
       "      <td>2.078333</td>\n",
       "      <td>1.790833</td>\n",
       "    </tr>\n",
       "  </tbody>\n",
       "</table>\n",
       "</div>"
      ],
      "text/plain": [
       "       dur_walking  dur_cycling       dur_pt  dur_driving\n",
       "count  5000.000000  5000.000000  5000.000000  5000.000000\n",
       "mean      1.121458     0.358602     0.463576     0.280342\n",
       "std       1.126564     0.353291     0.309862     0.253633\n",
       "min       0.028611     0.006944     0.011944     0.006944\n",
       "25%       0.345000     0.113611     0.223264     0.106111\n",
       "50%       0.717500     0.228056     0.385278     0.190139\n",
       "75%       1.498889     0.481736     0.635347     0.364514\n",
       "max       9.278333     2.668333     2.078333     1.790833"
      ]
     },
     "execution_count": 8,
     "metadata": {},
     "output_type": "execute_result"
    }
   ],
   "source": [
    "df[[\"dur_walking\", \"dur_cycling\", \"dur_pt\", \"dur_driving\"]].describe()"
   ]
  },
  {
   "cell_type": "markdown",
   "metadata": {},
   "source": [
    "## Model 0"
   ]
  },
  {
   "cell_type": "markdown",
   "metadata": {},
   "source": [
    "We identify the variables that will enter the model specification."
   ]
  },
  {
   "cell_type": "code",
   "execution_count": 9,
   "metadata": {},
   "outputs": [],
   "source": [
    "# Time related variables\n",
    "dur_walking = Variable('dur_walking') # in hours\n",
    "dur_cycling = Variable('dur_cycling') # in hours\n",
    "# dur_pt_access = Variable('dur_pt_access') # in hours\n",
    "# dur_pt_rail = Variable('dur_pt_rail') # in hours\n",
    "# dur_pt_bus = Variable('dur_pt_bus') # in hours\n",
    "# dur_pt_int = Variable('dur_pt_int') # in hours\n",
    "dur_pt = Variable('dur_pt')\n",
    "dur_driving = Variable('dur_driving') # in hours\n",
    "\n",
    "\n",
    "# Cost related variables\n",
    "cost_transit = Variable('cost_transit') # in GBP\n",
    "# cost_driving_fuel = Variable('cost_driving_fuel') # in GBP\n",
    "# cost_driving_ccharge = Variable('cost_driving_ccharge') # in GBP\n",
    "cost_driving = Variable('cost_driving')\n",
    "\n",
    "# Choice taken by the individual\n",
    "travel_mode = Variable('travel_mode') # 1 = walk, 2 = cycle, 3 = PT, 4 = car"
   ]
  },
  {
   "cell_type": "markdown",
   "metadata": {},
   "source": [
    "Parameters to be estimated"
   ]
  },
  {
   "cell_type": "code",
   "execution_count": 10,
   "metadata": {},
   "outputs": [],
   "source": [
    "# ASC_WALK = Beta('asc_walk', 0, None, None, 0)\n",
    "ASC_CYCLE = Beta('asc_cycle', 0, None, None, 0)\n",
    "ASC_PT = Beta('asc_pt', 0, None, None, 0)\n",
    "ASC_CAR = Beta('asc_car', 0, None, None, 0)\n",
    "\n",
    "B_TIME = Beta('b_time', 0, None, None, 0)\n",
    "B_COST = Beta('b_cost', 0, None, None, 0)"
   ]
  },
  {
   "cell_type": "markdown",
   "metadata": {},
   "source": [
    "Definition of the utility functions."
   ]
  },
  {
   "cell_type": "code",
   "execution_count": 11,
   "metadata": {},
   "outputs": [],
   "source": [
    "# Walk\n",
    "V1 = (\n",
    "  # ASC_WALK -> Normalized with respect to walk\n",
    "  B_TIME * dur_walking\n",
    ")\n",
    "\n",
    "# Cycle\n",
    "V2 = (\n",
    "  ASC_CYCLE\n",
    "  + B_TIME * dur_cycling\n",
    ")\n",
    "\n",
    "# Public transport\n",
    "V3 = (\n",
    "  ASC_PT\n",
    "  + B_TIME * dur_pt\n",
    "  #+ B_TIME * (dur_pt_access + dur_pt_rail + dur_pt_bus + dur_pt_int)\n",
    "  + B_COST * cost_transit\n",
    ")\n",
    "\n",
    "# Car\n",
    "V4 = (\n",
    "  ASC_CAR\n",
    "  + B_TIME * dur_driving\n",
    "  + B_COST * cost_driving\n",
    "  #+ B_COST * (cost_driving_fuel + cost_driving_ccharge)\n",
    ")"
   ]
  },
  {
   "cell_type": "code",
   "execution_count": 12,
   "metadata": {},
   "outputs": [],
   "source": [
    "V = {1: V1, 2: V2, 3: V3, 4: V4}"
   ]
  },
  {
   "cell_type": "markdown",
   "metadata": {},
   "source": [
    "Definition of the model."
   ]
  },
  {
   "cell_type": "code",
   "execution_count": 13,
   "metadata": {},
   "outputs": [],
   "source": [
    "# All alternatives are available to all individuals.\n",
    "logprob = loglogit(V, None, travel_mode)\n",
    "biogeme = bio.BIOGEME(database, logprob)\n",
    "biogeme.modelName = 'model_0'"
   ]
  },
  {
   "cell_type": "markdown",
   "metadata": {},
   "source": [
    "Estimate the parameters."
   ]
  },
  {
   "cell_type": "code",
   "execution_count": 14,
   "metadata": {},
   "outputs": [],
   "source": [
    "results = biogeme.estimate()"
   ]
  },
  {
   "cell_type": "markdown",
   "metadata": {},
   "source": [
    "Summary statistics."
   ]
  },
  {
   "cell_type": "code",
   "execution_count": 15,
   "metadata": {},
   "outputs": [
    {
     "name": "stdout",
     "output_type": "stream",
     "text": [
      "Number of estimated parameters:\t5\n",
      "Sample size:\t5000\n",
      "Excluded observations:\t0\n",
      "Init log likelihood:\t-4658.601\n",
      "Final log likelihood:\t-4658.601\n",
      "Likelihood ratio test for the init. model:\t-0\n",
      "Rho-square for the init. model:\t0\n",
      "Rho-square-bar for the init. model:\t-0.00107\n",
      "Akaike Information Criterion:\t9327.202\n",
      "Bayesian Information Criterion:\t9359.788\n",
      "Final gradient norm:\t1.0183E-03\n",
      "Nbr of threads:\t8\n",
      "\n"
     ]
    }
   ],
   "source": [
    "print(results.print_general_statistics())"
   ]
  },
  {
   "cell_type": "code",
   "execution_count": 16,
   "metadata": {},
   "outputs": [
    {
     "data": {
      "text/html": [
       "<div>\n",
       "<style scoped>\n",
       "    .dataframe tbody tr th:only-of-type {\n",
       "        vertical-align: middle;\n",
       "    }\n",
       "\n",
       "    .dataframe tbody tr th {\n",
       "        vertical-align: top;\n",
       "    }\n",
       "\n",
       "    .dataframe thead th {\n",
       "        text-align: right;\n",
       "    }\n",
       "</style>\n",
       "<table border=\"1\" class=\"dataframe\">\n",
       "  <thead>\n",
       "    <tr style=\"text-align: right;\">\n",
       "      <th></th>\n",
       "      <th>Value</th>\n",
       "      <th>Rob. Std err</th>\n",
       "      <th>Rob. t-test</th>\n",
       "      <th>Rob. p-value</th>\n",
       "    </tr>\n",
       "  </thead>\n",
       "  <tbody>\n",
       "    <tr>\n",
       "      <th>asc_car</th>\n",
       "      <td>-1.264832</td>\n",
       "      <td>0.078562</td>\n",
       "      <td>-16.099815</td>\n",
       "      <td>0.0</td>\n",
       "    </tr>\n",
       "    <tr>\n",
       "      <th>asc_cycle</th>\n",
       "      <td>-3.742817</td>\n",
       "      <td>0.103011</td>\n",
       "      <td>-36.334033</td>\n",
       "      <td>0.0</td>\n",
       "    </tr>\n",
       "    <tr>\n",
       "      <th>asc_pt</th>\n",
       "      <td>-0.552210</td>\n",
       "      <td>0.053870</td>\n",
       "      <td>-10.250839</td>\n",
       "      <td>0.0</td>\n",
       "    </tr>\n",
       "    <tr>\n",
       "      <th>b_cost</th>\n",
       "      <td>-0.160728</td>\n",
       "      <td>0.014288</td>\n",
       "      <td>-11.248889</td>\n",
       "      <td>0.0</td>\n",
       "    </tr>\n",
       "    <tr>\n",
       "      <th>b_time</th>\n",
       "      <td>-5.340745</td>\n",
       "      <td>0.197809</td>\n",
       "      <td>-26.999514</td>\n",
       "      <td>0.0</td>\n",
       "    </tr>\n",
       "  </tbody>\n",
       "</table>\n",
       "</div>"
      ],
      "text/plain": [
       "              Value  Rob. Std err  Rob. t-test  Rob. p-value\n",
       "asc_car   -1.264832      0.078562   -16.099815           0.0\n",
       "asc_cycle -3.742817      0.103011   -36.334033           0.0\n",
       "asc_pt    -0.552210      0.053870   -10.250839           0.0\n",
       "b_cost    -0.160728      0.014288   -11.248889           0.0\n",
       "b_time    -5.340745      0.197809   -26.999514           0.0"
      ]
     },
     "metadata": {},
     "output_type": "display_data"
    }
   ],
   "source": [
    "display(results.get_estimated_parameters())"
   ]
  },
  {
   "cell_type": "markdown",
   "metadata": {},
   "source": [
    "## Model 1\n",
    "In this version of the model, we introduce alternative-specific coefficients for either b_time (model 1a) or b_cost (model 1b), and we compare the results to determine which model yields the best results "
   ]
  },
  {
   "cell_type": "markdown",
   "metadata": {},
   "source": [
    "### Model 1a (alternative-specific b_time)\n"
   ]
  },
  {
   "cell_type": "markdown",
   "metadata": {},
   "source": [
    "Parameters to be estimated"
   ]
  },
  {
   "cell_type": "code",
   "execution_count": 17,
   "metadata": {},
   "outputs": [],
   "source": [
    "# Alternative specific constants (ASC_walk is normalized to 0)\n",
    "ASC_CYCLE_1A = Beta('ASC_CYCLE_1A', 0, None, None, 0)\n",
    "ASC_PT_1A    = Beta('ASC_PT_1A', 0, None, None, 0)\n",
    "ASC_CAR_1A   = Beta('ASC_CAR_1A', 0, None, None, 0)\n",
    "\n",
    "# Alternative specific time coefficient\n",
    "B_TIME_WALK_1A  = Beta('B_TIME_WALK_1A', 0, None, None, 0)\n",
    "B_TIME_CYCLE_1A = Beta('B_TIME_CYCLE_1A', 0, None, None, 0)\n",
    "B_TIME_PT_1A    = Beta('B_TIME_PT_1A', 0, None, None, 0)\n",
    "B_TIME_CAR_1A   = Beta('B_TIME_CAR_1A', 0, None, None, 0)\n",
    "\n",
    "# Generic cost coefficient\n",
    "B_COST_1A = Beta('B_COST_1A', 0, None, None, 0)"
   ]
  },
  {
   "cell_type": "markdown",
   "metadata": {},
   "source": [
    "Definition of the utility functions"
   ]
  },
  {
   "cell_type": "code",
   "execution_count": 18,
   "metadata": {},
   "outputs": [],
   "source": [
    "V_walk_1A = (\n",
    "    B_TIME_WALK_1A * dur_walking\n",
    ")\n",
    "\n",
    "V_cycle_1A = (\n",
    "    ASC_CYCLE_1A\n",
    "    + B_TIME_CYCLE_1A * dur_cycling\n",
    ")\n",
    "\n",
    "V_PT_1A = (\n",
    "    ASC_PT_1A\n",
    "    + B_TIME_PT_1A * dur_pt\n",
    "    + B_COST_1A * cost_transit\n",
    ")\n",
    "\n",
    "V_car_1A = (\n",
    "    ASC_CAR_1A\n",
    "    + B_TIME_CAR_1A * dur_driving\n",
    "    + B_COST_1A * cost_driving\n",
    ")\n",
    "\n",
    "V_1A = {1: V_walk_1A, 2: V_cycle_1A, 3: V_PT_1A, 4: V_car_1A}"
   ]
  },
  {
   "cell_type": "markdown",
   "metadata": {},
   "source": [
    "Definition of the model"
   ]
  },
  {
   "cell_type": "code",
   "execution_count": 19,
   "metadata": {},
   "outputs": [],
   "source": [
    "logprob_1A = loglogit(V_1A, None, travel_mode)\n",
    "biogeme_1A = bio.BIOGEME(database, logprob_1A)\n",
    "biogeme_1A.modelName = 'model_1A'"
   ]
  },
  {
   "cell_type": "markdown",
   "metadata": {},
   "source": [
    "Estimation and display of the results"
   ]
  },
  {
   "cell_type": "code",
   "execution_count": 20,
   "metadata": {},
   "outputs": [
    {
     "name": "stdout",
     "output_type": "stream",
     "text": [
      "Number of estimated parameters:\t8\n",
      "Sample size:\t5000\n",
      "Excluded observations:\t0\n",
      "Init log likelihood:\t-4319.913\n",
      "Final log likelihood:\t-4319.913\n",
      "Likelihood ratio test for the init. model:\t-0\n",
      "Rho-square for the init. model:\t0\n",
      "Rho-square-bar for the init. model:\t-0.00185\n",
      "Akaike Information Criterion:\t8655.826\n",
      "Bayesian Information Criterion:\t8707.963\n",
      "Final gradient norm:\t9.2739E-03\n",
      "Nbr of threads:\t8\n",
      "\n"
     ]
    }
   ],
   "source": [
    "results_1A = biogeme_1A.estimate()\n",
    "print(results_1A.print_general_statistics())"
   ]
  },
  {
   "cell_type": "code",
   "execution_count": 21,
   "metadata": {},
   "outputs": [
    {
     "data": {
      "text/html": [
       "<div>\n",
       "<style scoped>\n",
       "    .dataframe tbody tr th:only-of-type {\n",
       "        vertical-align: middle;\n",
       "    }\n",
       "\n",
       "    .dataframe tbody tr th {\n",
       "        vertical-align: top;\n",
       "    }\n",
       "\n",
       "    .dataframe thead th {\n",
       "        text-align: right;\n",
       "    }\n",
       "</style>\n",
       "<table border=\"1\" class=\"dataframe\">\n",
       "  <thead>\n",
       "    <tr style=\"text-align: right;\">\n",
       "      <th></th>\n",
       "      <th>Value</th>\n",
       "      <th>Rob. Std err</th>\n",
       "      <th>Rob. t-test</th>\n",
       "      <th>Rob. p-value</th>\n",
       "    </tr>\n",
       "  </thead>\n",
       "  <tbody>\n",
       "    <tr>\n",
       "      <th>ASC_CAR_1A</th>\n",
       "      <td>-2.087660</td>\n",
       "      <td>0.133307</td>\n",
       "      <td>-15.660566</td>\n",
       "      <td>0.0</td>\n",
       "    </tr>\n",
       "    <tr>\n",
       "      <th>ASC_CYCLE_1A</th>\n",
       "      <td>-4.799358</td>\n",
       "      <td>0.193220</td>\n",
       "      <td>-24.838868</td>\n",
       "      <td>0.0</td>\n",
       "    </tr>\n",
       "    <tr>\n",
       "      <th>ASC_PT_1A</th>\n",
       "      <td>-2.552549</td>\n",
       "      <td>0.135051</td>\n",
       "      <td>-18.900568</td>\n",
       "      <td>0.0</td>\n",
       "    </tr>\n",
       "    <tr>\n",
       "      <th>B_COST_1A</th>\n",
       "      <td>-0.140590</td>\n",
       "      <td>0.015325</td>\n",
       "      <td>-9.174014</td>\n",
       "      <td>0.0</td>\n",
       "    </tr>\n",
       "    <tr>\n",
       "      <th>B_TIME_CAR_1A</th>\n",
       "      <td>-6.120530</td>\n",
       "      <td>0.405937</td>\n",
       "      <td>-15.077542</td>\n",
       "      <td>0.0</td>\n",
       "    </tr>\n",
       "    <tr>\n",
       "      <th>B_TIME_CYCLE_1A</th>\n",
       "      <td>-5.197150</td>\n",
       "      <td>0.467915</td>\n",
       "      <td>-11.107040</td>\n",
       "      <td>0.0</td>\n",
       "    </tr>\n",
       "    <tr>\n",
       "      <th>B_TIME_PT_1A</th>\n",
       "      <td>-3.256306</td>\n",
       "      <td>0.254676</td>\n",
       "      <td>-12.786052</td>\n",
       "      <td>0.0</td>\n",
       "    </tr>\n",
       "    <tr>\n",
       "      <th>B_TIME_WALK_1A</th>\n",
       "      <td>-8.643431</td>\n",
       "      <td>0.418678</td>\n",
       "      <td>-20.644601</td>\n",
       "      <td>0.0</td>\n",
       "    </tr>\n",
       "  </tbody>\n",
       "</table>\n",
       "</div>"
      ],
      "text/plain": [
       "                    Value  Rob. Std err  Rob. t-test  Rob. p-value\n",
       "ASC_CAR_1A      -2.087660      0.133307   -15.660566           0.0\n",
       "ASC_CYCLE_1A    -4.799358      0.193220   -24.838868           0.0\n",
       "ASC_PT_1A       -2.552549      0.135051   -18.900568           0.0\n",
       "B_COST_1A       -0.140590      0.015325    -9.174014           0.0\n",
       "B_TIME_CAR_1A   -6.120530      0.405937   -15.077542           0.0\n",
       "B_TIME_CYCLE_1A -5.197150      0.467915   -11.107040           0.0\n",
       "B_TIME_PT_1A    -3.256306      0.254676   -12.786052           0.0\n",
       "B_TIME_WALK_1A  -8.643431      0.418678   -20.644601           0.0"
      ]
     },
     "metadata": {},
     "output_type": "display_data"
    }
   ],
   "source": [
    "display(results_1A.get_estimated_parameters())"
   ]
  },
  {
   "cell_type": "markdown",
   "metadata": {},
   "source": [
    "_Observations for the report_\n",
    "\n",
    "First, we observe that all the B coefficients are negative, which makes sense, because a longer and/or more expensive travel mode is less attractive. \n",
    "\n",
    "The cost coefficient of model 1A is very close to the one for the model 0. On the other hand, the time coefficient, which was made alternative specific in model 1A, now strongly depends on the chosen mode. In particular, we observe it is the smallest (in absolute value) for PT; an interpretation could be that commuters are more prone to long PT travel times because they can read, sleep, etc., activites they cannot do while driving or cycling. On the other hand, the largest time_coefficient (again, in absolute value) is for walking, probably because beyond 20-30 minutes, people consider that doing the route by foot is too long.\n",
    "\n",
    "If we compare the Akaike or Bayesian information criterion between model 0 and model 1a, we observe they are both lower in the case of model 1a; it means the latter fits the data better than model 0."
   ]
  },
  {
   "cell_type": "markdown",
   "metadata": {},
   "source": [
    "### Model 1b (alternative-specific b_cost)\n",
    "\n",
    "We reproduce exactly the same steps as for model 1A, but we now assume a generic time coefficient, and a alternative specific cost coefficient"
   ]
  },
  {
   "cell_type": "markdown",
   "metadata": {},
   "source": [
    "Parameters to be estimated"
   ]
  },
  {
   "cell_type": "code",
   "execution_count": 22,
   "metadata": {},
   "outputs": [],
   "source": [
    "# Alternative specific constants (ASC_walk is normalized to 0)\n",
    "ASC_CYCLE_1B = Beta('ASC_CYCLE_1B', 0, None, None, 0)\n",
    "ASC_PT_1B    = Beta('ASC_PT_1B', 0, None, None, 0)\n",
    "ASC_CAR_1B   = Beta('ASC_CAR_1B', 0, None, None, 0)\n",
    "\n",
    "# Alternative specific cost coefficient\n",
    "B_COST_PT_1B    = Beta('B_COST_PT_1B', 0, None, None, 0)\n",
    "B_COST_CAR_1B   = Beta('B_COST_CAR_1B', 0, None, None, 0)\n",
    "\n",
    "# Generic time coefficient\n",
    "B_TIME_1B = Beta('B_TIME_1B', 0, None, None, 0)"
   ]
  },
  {
   "cell_type": "markdown",
   "metadata": {},
   "source": [
    "Definition of the utility functions "
   ]
  },
  {
   "cell_type": "code",
   "execution_count": 23,
   "metadata": {},
   "outputs": [],
   "source": [
    "V_walk_1B = (\n",
    "    B_TIME_1B * dur_walking\n",
    ")\n",
    "\n",
    "V_cycle_1B = (\n",
    "    ASC_CYCLE_1B\n",
    "    + B_TIME_1B * dur_cycling\n",
    ")\n",
    "\n",
    "V_PT_1B = (\n",
    "    ASC_PT_1B\n",
    "    + B_TIME_1B * dur_pt\n",
    "    + B_COST_PT_1B * cost_transit\n",
    ")\n",
    "\n",
    "V_car_1B = (\n",
    "    ASC_CAR_1B\n",
    "    + B_TIME_1B * dur_driving\n",
    "    + B_COST_CAR_1B * cost_driving\n",
    ")\n",
    "\n",
    "V_1B = {1: V_walk_1B, 2: V_cycle_1B, 3: V_PT_1B, 4: V_car_1B}"
   ]
  },
  {
   "cell_type": "markdown",
   "metadata": {},
   "source": [
    "Definition of the model"
   ]
  },
  {
   "cell_type": "code",
   "execution_count": 24,
   "metadata": {},
   "outputs": [],
   "source": [
    "logprob_1B = loglogit(V_1B, None, travel_mode)\n",
    "biogeme_1B = bio.BIOGEME(database, logprob_1B)\n",
    "biogeme_1B.modelName = 'model_1B'"
   ]
  },
  {
   "cell_type": "markdown",
   "metadata": {},
   "source": [
    "Estimation and display of the results"
   ]
  },
  {
   "cell_type": "code",
   "execution_count": 25,
   "metadata": {},
   "outputs": [
    {
     "name": "stdout",
     "output_type": "stream",
     "text": [
      "Number of estimated parameters:\t6\n",
      "Sample size:\t5000\n",
      "Excluded observations:\t0\n",
      "Init log likelihood:\t-4607.516\n",
      "Final log likelihood:\t-4607.516\n",
      "Likelihood ratio test for the init. model:\t-0\n",
      "Rho-square for the init. model:\t0\n",
      "Rho-square-bar for the init. model:\t-0.0013\n",
      "Akaike Information Criterion:\t9227.032\n",
      "Bayesian Information Criterion:\t9266.136\n",
      "Final gradient norm:\t5.3980E-04\n",
      "Nbr of threads:\t8\n",
      "\n"
     ]
    }
   ],
   "source": [
    "results_1B = biogeme_1B.estimate()\n",
    "print(results_1B.print_general_statistics())"
   ]
  },
  {
   "cell_type": "code",
   "execution_count": 26,
   "metadata": {},
   "outputs": [
    {
     "data": {
      "text/html": [
       "<div>\n",
       "<style scoped>\n",
       "    .dataframe tbody tr th:only-of-type {\n",
       "        vertical-align: middle;\n",
       "    }\n",
       "\n",
       "    .dataframe tbody tr th {\n",
       "        vertical-align: top;\n",
       "    }\n",
       "\n",
       "    .dataframe thead th {\n",
       "        text-align: right;\n",
       "    }\n",
       "</style>\n",
       "<table border=\"1\" class=\"dataframe\">\n",
       "  <thead>\n",
       "    <tr style=\"text-align: right;\">\n",
       "      <th></th>\n",
       "      <th>Value</th>\n",
       "      <th>Rob. Std err</th>\n",
       "      <th>Rob. t-test</th>\n",
       "      <th>Rob. p-value</th>\n",
       "    </tr>\n",
       "  </thead>\n",
       "  <tbody>\n",
       "    <tr>\n",
       "      <th>ASC_CAR_1B</th>\n",
       "      <td>-1.181056</td>\n",
       "      <td>0.078388</td>\n",
       "      <td>-15.066824</td>\n",
       "      <td>0.000000</td>\n",
       "    </tr>\n",
       "    <tr>\n",
       "      <th>ASC_CYCLE_1B</th>\n",
       "      <td>-3.698346</td>\n",
       "      <td>0.103376</td>\n",
       "      <td>-35.775502</td>\n",
       "      <td>0.000000</td>\n",
       "    </tr>\n",
       "    <tr>\n",
       "      <th>ASC_PT_1B</th>\n",
       "      <td>-0.836648</td>\n",
       "      <td>0.065575</td>\n",
       "      <td>-12.758696</td>\n",
       "      <td>0.000000</td>\n",
       "    </tr>\n",
       "    <tr>\n",
       "      <th>B_COST_CAR_1B</th>\n",
       "      <td>-0.205583</td>\n",
       "      <td>0.021929</td>\n",
       "      <td>-9.374982</td>\n",
       "      <td>0.000000</td>\n",
       "    </tr>\n",
       "    <tr>\n",
       "      <th>B_COST_PT_1B</th>\n",
       "      <td>0.052828</td>\n",
       "      <td>0.029809</td>\n",
       "      <td>1.772231</td>\n",
       "      <td>0.076356</td>\n",
       "    </tr>\n",
       "    <tr>\n",
       "      <th>B_TIME_1B</th>\n",
       "      <td>-5.339547</td>\n",
       "      <td>0.200044</td>\n",
       "      <td>-26.691801</td>\n",
       "      <td>0.000000</td>\n",
       "    </tr>\n",
       "  </tbody>\n",
       "</table>\n",
       "</div>"
      ],
      "text/plain": [
       "                  Value  Rob. Std err  Rob. t-test  Rob. p-value\n",
       "ASC_CAR_1B    -1.181056      0.078388   -15.066824      0.000000\n",
       "ASC_CYCLE_1B  -3.698346      0.103376   -35.775502      0.000000\n",
       "ASC_PT_1B     -0.836648      0.065575   -12.758696      0.000000\n",
       "B_COST_CAR_1B -0.205583      0.021929    -9.374982      0.000000\n",
       "B_COST_PT_1B   0.052828      0.029809     1.772231      0.076356\n",
       "B_TIME_1B     -5.339547      0.200044   -26.691801      0.000000"
      ]
     },
     "metadata": {},
     "output_type": "display_data"
    }
   ],
   "source": [
    "display(results_1B.get_estimated_parameters())"
   ]
  },
  {
   "cell_type": "code",
   "execution_count": 27,
   "metadata": {},
   "outputs": [
    {
     "name": "stdout",
     "output_type": "stream",
     "text": [
      "lr_result1A.statistic=677\n",
      "lr_result1A.threshold=7.81\n",
      "H0 can be rejected at level 5.0%\n"
     ]
    }
   ],
   "source": [
    "lr_result1A = results_1A.likelihood_ratio_test(results, 0.05)\n",
    "print(f'{lr_result1A.statistic=:.3g}')\n",
    "print(f'{lr_result1A.threshold=:.3g}')\n",
    "print(lr_result1A.message)"
   ]
  },
  {
   "cell_type": "code",
   "execution_count": 28,
   "metadata": {},
   "outputs": [
    {
     "name": "stdout",
     "output_type": "stream",
     "text": [
      "lr_result1B.statistic=102\n",
      "lr_result1B.threshold=3.84\n",
      "H0 can be rejected at level 5.0%\n"
     ]
    }
   ],
   "source": [
    "lr_result1B = results_1B.likelihood_ratio_test(results, 0.05)\n",
    "print(f'{lr_result1B.statistic=:.3g}')\n",
    "print(f'{lr_result1B.threshold=:.3g}')\n",
    "print(lr_result1B.message)"
   ]
  },
  {
   "cell_type": "markdown",
   "metadata": {},
   "source": [
    "_Observations for the report_\n",
    "\n",
    "This model seems clearly less effective than model 1A. We see it because\n",
    "\n",
    "1) The Bayesian and Akaike criterion are higher for model 1B\n",
    "2) the t-test are closer to 0\n",
    "3) the cost coefficient for PT is higher than 0, which doesn't make much sense\n",
    "\n",
    "We could have guessed that model 1B would be less interesting than model 1A, because only two alternatives out of four have a cost parameter, which means that making B_cost alternative specific allows less flexibility in the model than making B_time alternative specific\n",
    "\n",
    "So our preferred model for the rest of the project will be model 1A (alternative specific time coefficients)"
   ]
  },
  {
   "cell_type": "markdown",
   "metadata": {},
   "source": [
    "To formalize this, we perform a Cox test. We define a general model containing both an alternative-specific b_time and alt-spec b_cost"
   ]
  },
  {
   "cell_type": "code",
   "execution_count": 29,
   "metadata": {},
   "outputs": [],
   "source": [
    "# Utility functions\n",
    "V_walk_1Cox = (B_TIME_WALK_1A * dur_walking)\n",
    "\n",
    "V_cycle_1Cox = (\n",
    "    ASC_CYCLE\n",
    "    + B_TIME_CYCLE_1A * dur_cycling\n",
    ")\n",
    "\n",
    "V_PT_1Cox = (\n",
    "    ASC_PT\n",
    "    + B_TIME_PT_1A * dur_pt\n",
    "    + B_COST_PT_1B * cost_transit\n",
    ")\n",
    "\n",
    "V_car_1Cox = (\n",
    "    ASC_CAR\n",
    "    + B_TIME_CAR_1A * dur_driving\n",
    "    + B_COST_CAR_1B * cost_driving\n",
    ")\n",
    "\n",
    "V_1Cox = {1: V_walk_1Cox, 2: V_cycle_1Cox, 3: V_PT_1Cox, 4: V_car_1Cox}\n",
    "\n",
    "# Estimation of the results\n",
    "logprob_1Cox = loglogit(V_1Cox, None, travel_mode)\n",
    "biogeme_1Cox = bio.BIOGEME(database, logprob_1Cox)\n",
    "biogeme_1Cox.modelName = 'model_1Cox'\n",
    "results_1Cox = biogeme_1Cox.estimate()"
   ]
  },
  {
   "cell_type": "markdown",
   "metadata": {},
   "source": [
    "We compare model 1C with model 1A"
   ]
  },
  {
   "cell_type": "code",
   "execution_count": 30,
   "metadata": {},
   "outputs": [
    {
     "name": "stdout",
     "output_type": "stream",
     "text": [
      "lr_result1AC.statistic=7.03\n",
      "lr_result1AC.threshold=7.88\n",
      "H0 cannot be rejected at level 0.5%\n"
     ]
    }
   ],
   "source": [
    "lr_result1AC = results_1A.likelihood_ratio_test(results_1Cox, 0.005)\n",
    "print(f'{lr_result1AC.statistic=:.3g}')\n",
    "print(f'{lr_result1AC.threshold=:.3g}')\n",
    "print(lr_result1AC.message)"
   ]
  },
  {
   "cell_type": "markdown",
   "metadata": {},
   "source": [
    "We compare model 1C with model 1B"
   ]
  },
  {
   "cell_type": "code",
   "execution_count": 31,
   "metadata": {},
   "outputs": [
    {
     "name": "stdout",
     "output_type": "stream",
     "text": [
      "lr_result1BC.statistic=582\n",
      "lr_result1BC.threshold=12.8\n",
      "H0 can be rejected at level 0.5%\n"
     ]
    }
   ],
   "source": [
    "lr_result1BC = results_1B.likelihood_ratio_test(results_1Cox, 0.005)\n",
    "print(f'{lr_result1BC.statistic=:.3g}')\n",
    "print(f'{lr_result1BC.threshold=:.3g}')\n",
    "print(lr_result1BC.message)"
   ]
  },
  {
   "cell_type": "code",
   "execution_count": 32,
   "metadata": {},
   "outputs": [],
   "source": [
    "V_pref = V_1A\n",
    "results_pref = results_1A"
   ]
  },
  {
   "cell_type": "markdown",
   "metadata": {},
   "source": [
    "To conclude, model 1A is better than model 1B because, at the level $\\alpha = 0.5 \\%$, model B can be rejected against the composite model, but model A cannot. By the Cox test, 1A is better than 1B"
   ]
  },
  {
   "cell_type": "markdown",
   "metadata": {},
   "source": [
    "## Model 2"
   ]
  },
  {
   "cell_type": "markdown",
   "metadata": {},
   "source": [
    "#### Age"
   ]
  },
  {
   "cell_type": "code",
   "execution_count": 33,
   "metadata": {},
   "outputs": [],
   "source": [
    "# Alternative specific constants (ASC_walk is normalized to 0)\n",
    "ASC_CYCLE_2A = Beta('ASC_CYCLE_2A', 0, None, None, 0)\n",
    "ASC_PT_2A    = Beta('ASC_PT_2A', 0, None, None, 0)\n",
    "ASC_CAR_2A   = Beta('ASC_CAR_2A', 0, None, None, 0)\n",
    "\n",
    "# Alternative specific time coefficient\n",
    "B_TIME_WALK_2A  = Beta('B_TIME_WALK_2A', 0, None, None, 0)\n",
    "B_TIME_CYCLE_2A = Beta('B_TIME_CYCLE_2A', 0, None, None, 0)\n",
    "B_TIME_PT_2A    = Beta('B_TIME_PT_2A', 0, None, None, 0)\n",
    "B_TIME_CAR_2A   = Beta('B_TIME_CAR_2A', 0, None, None, 0)\n",
    "\n",
    "# Generic cost coefficient\n",
    "B_COST_2A = Beta('B_COST_2A', 0, None, None, 0)\n",
    "\n",
    "age = Variable('age')\n",
    "B_AGE_CYCLE_2A = Beta('B_AGE_CYCLE_2A', 0, None, None, 0)\n",
    "B_AGE_PT_2A = Beta('B_AGE_PT_2A', 0, None, None, 0)\n",
    "B_AGE_CAR_2A = Beta('B_AGE_CAR_2A', 0, None, None, 0)"
   ]
  },
  {
   "cell_type": "code",
   "execution_count": 34,
   "metadata": {},
   "outputs": [
    {
     "name": "stdout",
     "output_type": "stream",
     "text": [
      "Number of estimated parameters:\t11\n",
      "Sample size:\t5000\n",
      "Excluded observations:\t0\n",
      "Init log likelihood:\t-4285.994\n",
      "Final log likelihood:\t-4285.994\n",
      "Likelihood ratio test for the init. model:\t-0\n",
      "Rho-square for the init. model:\t0\n",
      "Rho-square-bar for the init. model:\t-0.00257\n",
      "Akaike Information Criterion:\t8593.988\n",
      "Bayesian Information Criterion:\t8665.678\n",
      "Final gradient norm:\t1.2485E-01\n",
      "Nbr of threads:\t8\n",
      "\n"
     ]
    }
   ],
   "source": [
    "V_walk_2A = (\n",
    "    B_TIME_WALK_2A * dur_walking\n",
    ")\n",
    "\n",
    "V_cycle_2A = (\n",
    "    ASC_CYCLE_2A\n",
    "    + B_AGE_CYCLE_2A * age\n",
    "    + B_TIME_CYCLE_2A * dur_cycling\n",
    ")\n",
    "\n",
    "V_pt_2A = (\n",
    "    ASC_PT_2A\n",
    "    + B_AGE_PT_2A * age\n",
    "    + B_TIME_PT_2A * dur_pt\n",
    "    + B_COST_2A * cost_transit\n",
    ")\n",
    "\n",
    "V_car_2A = (\n",
    "    ASC_CAR_2A\n",
    "    + B_AGE_CAR_2A * age\n",
    "    + B_TIME_CAR_2A * dur_driving\n",
    "    + B_COST_2A * cost_driving\n",
    ")\n",
    "\n",
    "V_2A ={1: V_walk_2A, 2: V_cycle_2A, 3: V_pt_2A, 4: V_car_2A}\n",
    "\n",
    "logprob_2A = loglogit(V_2A, None, travel_mode)\n",
    "biogeme_2A = bio.BIOGEME(database, logprob_2A)\n",
    "biogeme_2A.modelName = 'model_2A'\n",
    "\n",
    "results_2A = biogeme_2A.estimate()\n",
    "print(results_2A.print_general_statistics())"
   ]
  },
  {
   "cell_type": "code",
   "execution_count": 35,
   "metadata": {},
   "outputs": [
    {
     "data": {
      "text/html": [
       "<div>\n",
       "<style scoped>\n",
       "    .dataframe tbody tr th:only-of-type {\n",
       "        vertical-align: middle;\n",
       "    }\n",
       "\n",
       "    .dataframe tbody tr th {\n",
       "        vertical-align: top;\n",
       "    }\n",
       "\n",
       "    .dataframe thead th {\n",
       "        text-align: right;\n",
       "    }\n",
       "</style>\n",
       "<table border=\"1\" class=\"dataframe\">\n",
       "  <thead>\n",
       "    <tr style=\"text-align: right;\">\n",
       "      <th></th>\n",
       "      <th>Value</th>\n",
       "      <th>Rob. Std err</th>\n",
       "      <th>Rob. t-test</th>\n",
       "      <th>Rob. p-value</th>\n",
       "    </tr>\n",
       "  </thead>\n",
       "  <tbody>\n",
       "    <tr>\n",
       "      <th>ASC_CAR_2A</th>\n",
       "      <td>-2.875254</td>\n",
       "      <td>0.176813</td>\n",
       "      <td>-16.261510</td>\n",
       "      <td>0.000000e+00</td>\n",
       "    </tr>\n",
       "    <tr>\n",
       "      <th>ASC_CYCLE_2A</th>\n",
       "      <td>-4.943190</td>\n",
       "      <td>0.262985</td>\n",
       "      <td>-18.796450</td>\n",
       "      <td>0.000000e+00</td>\n",
       "    </tr>\n",
       "    <tr>\n",
       "      <th>ASC_PT_2A</th>\n",
       "      <td>-3.058113</td>\n",
       "      <td>0.175231</td>\n",
       "      <td>-17.451942</td>\n",
       "      <td>0.000000e+00</td>\n",
       "    </tr>\n",
       "    <tr>\n",
       "      <th>B_AGE_CAR_2A</th>\n",
       "      <td>0.018770</td>\n",
       "      <td>0.002321</td>\n",
       "      <td>8.087943</td>\n",
       "      <td>6.661338e-16</td>\n",
       "    </tr>\n",
       "    <tr>\n",
       "      <th>B_AGE_CYCLE_2A</th>\n",
       "      <td>0.002596</td>\n",
       "      <td>0.004206</td>\n",
       "      <td>0.617245</td>\n",
       "      <td>5.370734e-01</td>\n",
       "    </tr>\n",
       "    <tr>\n",
       "      <th>B_AGE_PT_2A</th>\n",
       "      <td>0.012036</td>\n",
       "      <td>0.002509</td>\n",
       "      <td>4.796941</td>\n",
       "      <td>1.611073e-06</td>\n",
       "    </tr>\n",
       "    <tr>\n",
       "      <th>B_COST_2A</th>\n",
       "      <td>-0.141627</td>\n",
       "      <td>0.015358</td>\n",
       "      <td>-9.221744</td>\n",
       "      <td>0.000000e+00</td>\n",
       "    </tr>\n",
       "    <tr>\n",
       "      <th>B_TIME_CAR_2A</th>\n",
       "      <td>-6.067418</td>\n",
       "      <td>0.404419</td>\n",
       "      <td>-15.002793</td>\n",
       "      <td>0.000000e+00</td>\n",
       "    </tr>\n",
       "    <tr>\n",
       "      <th>B_TIME_CYCLE_2A</th>\n",
       "      <td>-5.229308</td>\n",
       "      <td>0.472931</td>\n",
       "      <td>-11.057242</td>\n",
       "      <td>0.000000e+00</td>\n",
       "    </tr>\n",
       "    <tr>\n",
       "      <th>B_TIME_PT_2A</th>\n",
       "      <td>-3.249322</td>\n",
       "      <td>0.253367</td>\n",
       "      <td>-12.824576</td>\n",
       "      <td>0.000000e+00</td>\n",
       "    </tr>\n",
       "    <tr>\n",
       "      <th>B_TIME_WALK_2A</th>\n",
       "      <td>-8.763746</td>\n",
       "      <td>0.430897</td>\n",
       "      <td>-20.338364</td>\n",
       "      <td>0.000000e+00</td>\n",
       "    </tr>\n",
       "  </tbody>\n",
       "</table>\n",
       "</div>"
      ],
      "text/plain": [
       "                    Value  Rob. Std err  Rob. t-test  Rob. p-value\n",
       "ASC_CAR_2A      -2.875254      0.176813   -16.261510  0.000000e+00\n",
       "ASC_CYCLE_2A    -4.943190      0.262985   -18.796450  0.000000e+00\n",
       "ASC_PT_2A       -3.058113      0.175231   -17.451942  0.000000e+00\n",
       "B_AGE_CAR_2A     0.018770      0.002321     8.087943  6.661338e-16\n",
       "B_AGE_CYCLE_2A   0.002596      0.004206     0.617245  5.370734e-01\n",
       "B_AGE_PT_2A      0.012036      0.002509     4.796941  1.611073e-06\n",
       "B_COST_2A       -0.141627      0.015358    -9.221744  0.000000e+00\n",
       "B_TIME_CAR_2A   -6.067418      0.404419   -15.002793  0.000000e+00\n",
       "B_TIME_CYCLE_2A -5.229308      0.472931   -11.057242  0.000000e+00\n",
       "B_TIME_PT_2A    -3.249322      0.253367   -12.824576  0.000000e+00\n",
       "B_TIME_WALK_2A  -8.763746      0.430897   -20.338364  0.000000e+00"
      ]
     },
     "metadata": {},
     "output_type": "display_data"
    }
   ],
   "source": [
    "display(results_2A.get_estimated_parameters())"
   ]
  },
  {
   "cell_type": "code",
   "execution_count": 36,
   "metadata": {},
   "outputs": [
    {
     "name": "stdout",
     "output_type": "stream",
     "text": [
      "lr_result2A.statistic=67.8\n",
      "lr_result2A.threshold=7.81\n",
      "H0 can be rejected at level 5.0%\n"
     ]
    }
   ],
   "source": [
    "lr_result2A = results_2A.likelihood_ratio_test(results_pref, 0.05)\n",
    "print(f'{lr_result2A.statistic=:.3g}')\n",
    "print(f'{lr_result2A.threshold=:.3g}')\n",
    "print(lr_result2A.message)"
   ]
  },
  {
   "cell_type": "code",
   "execution_count": 37,
   "metadata": {},
   "outputs": [
    {
     "name": "stdout",
     "output_type": "stream",
     "text": [
      "Number of estimated parameters:\t10\n",
      "Sample size:\t5000\n",
      "Excluded observations:\t0\n",
      "Init log likelihood:\t-4286.787\n",
      "Final log likelihood:\t-4286.136\n",
      "Likelihood ratio test for the init. model:\t1.301007\n",
      "Rho-square for the init. model:\t0.000152\n",
      "Rho-square-bar for the init. model:\t-0.00218\n",
      "Akaike Information Criterion:\t8592.272\n",
      "Bayesian Information Criterion:\t8657.444\n",
      "Final gradient norm:\t5.2842E-02\n",
      "Nbr of threads:\t8\n",
      "\n"
     ]
    }
   ],
   "source": [
    "V_walk_2A_significant = (\n",
    "    B_TIME_WALK_2A * dur_walking\n",
    ")\n",
    "\n",
    "V_cycle_2A_significant = (\n",
    "    ASC_CYCLE_2A\n",
    "    # + B_AGE_CYCLE_2A * age\n",
    "    + B_TIME_CYCLE_2A * dur_cycling\n",
    ")\n",
    "\n",
    "V_pt_2A_significant = (\n",
    "    ASC_PT_2A\n",
    "    + B_AGE_PT_2A * age\n",
    "    + B_TIME_PT_2A * dur_pt\n",
    "    + B_COST_2A * cost_transit\n",
    ")\n",
    "\n",
    "V_car_2A_significant = (\n",
    "    ASC_CAR_2A\n",
    "    + B_AGE_CAR_2A * age\n",
    "    + B_TIME_CAR_2A * dur_driving\n",
    "    + B_COST_2A * cost_driving\n",
    ")\n",
    "\n",
    "V_2A_significant ={1: V_walk_2A_significant, 2: V_cycle_2A_significant, 3: V_pt_2A_significant, 4: V_car_2A_significant}\n",
    "\n",
    "logprob_2A_significant = loglogit(V_2A_significant, None, travel_mode)\n",
    "biogeme_2A_significant = bio.BIOGEME(database, logprob_2A_significant)\n",
    "biogeme_2A_significant.modelName = 'model_2A_significant'\n",
    "\n",
    "results_2A_significant = biogeme_2A_significant.estimate()\n",
    "print(results_2A_significant.print_general_statistics())"
   ]
  },
  {
   "cell_type": "code",
   "execution_count": 38,
   "metadata": {},
   "outputs": [
    {
     "data": {
      "text/html": [
       "<div>\n",
       "<style scoped>\n",
       "    .dataframe tbody tr th:only-of-type {\n",
       "        vertical-align: middle;\n",
       "    }\n",
       "\n",
       "    .dataframe tbody tr th {\n",
       "        vertical-align: top;\n",
       "    }\n",
       "\n",
       "    .dataframe thead th {\n",
       "        text-align: right;\n",
       "    }\n",
       "</style>\n",
       "<table border=\"1\" class=\"dataframe\">\n",
       "  <thead>\n",
       "    <tr style=\"text-align: right;\">\n",
       "      <th></th>\n",
       "      <th>Value</th>\n",
       "      <th>Rob. Std err</th>\n",
       "      <th>Rob. t-test</th>\n",
       "      <th>Rob. p-value</th>\n",
       "    </tr>\n",
       "  </thead>\n",
       "  <tbody>\n",
       "    <tr>\n",
       "      <th>ASC_CAR_2A</th>\n",
       "      <td>-2.853097</td>\n",
       "      <td>0.169069</td>\n",
       "      <td>-16.875370</td>\n",
       "      <td>0.000000e+00</td>\n",
       "    </tr>\n",
       "    <tr>\n",
       "      <th>ASC_CYCLE_2A</th>\n",
       "      <td>-4.846654</td>\n",
       "      <td>0.197726</td>\n",
       "      <td>-24.512007</td>\n",
       "      <td>0.000000e+00</td>\n",
       "    </tr>\n",
       "    <tr>\n",
       "      <th>ASC_PT_2A</th>\n",
       "      <td>-3.035558</td>\n",
       "      <td>0.167748</td>\n",
       "      <td>-18.095920</td>\n",
       "      <td>0.000000e+00</td>\n",
       "    </tr>\n",
       "    <tr>\n",
       "      <th>B_AGE_CAR_2A</th>\n",
       "      <td>0.018260</td>\n",
       "      <td>0.002090</td>\n",
       "      <td>8.737527</td>\n",
       "      <td>0.000000e+00</td>\n",
       "    </tr>\n",
       "    <tr>\n",
       "      <th>B_AGE_PT_2A</th>\n",
       "      <td>0.011516</td>\n",
       "      <td>0.002288</td>\n",
       "      <td>5.033873</td>\n",
       "      <td>4.806669e-07</td>\n",
       "    </tr>\n",
       "    <tr>\n",
       "      <th>B_COST_2A</th>\n",
       "      <td>-0.141696</td>\n",
       "      <td>0.015360</td>\n",
       "      <td>-9.225122</td>\n",
       "      <td>0.000000e+00</td>\n",
       "    </tr>\n",
       "    <tr>\n",
       "      <th>B_TIME_CAR_2A</th>\n",
       "      <td>-6.066329</td>\n",
       "      <td>0.404343</td>\n",
       "      <td>-15.002942</td>\n",
       "      <td>0.000000e+00</td>\n",
       "    </tr>\n",
       "    <tr>\n",
       "      <th>B_TIME_CYCLE_2A</th>\n",
       "      <td>-5.231646</td>\n",
       "      <td>0.473602</td>\n",
       "      <td>-11.046497</td>\n",
       "      <td>0.000000e+00</td>\n",
       "    </tr>\n",
       "    <tr>\n",
       "      <th>B_TIME_PT_2A</th>\n",
       "      <td>-3.248611</td>\n",
       "      <td>0.253289</td>\n",
       "      <td>-12.825729</td>\n",
       "      <td>0.000000e+00</td>\n",
       "    </tr>\n",
       "    <tr>\n",
       "      <th>B_TIME_WALK_2A</th>\n",
       "      <td>-8.755196</td>\n",
       "      <td>0.428914</td>\n",
       "      <td>-20.412488</td>\n",
       "      <td>0.000000e+00</td>\n",
       "    </tr>\n",
       "  </tbody>\n",
       "</table>\n",
       "</div>"
      ],
      "text/plain": [
       "                    Value  Rob. Std err  Rob. t-test  Rob. p-value\n",
       "ASC_CAR_2A      -2.853097      0.169069   -16.875370  0.000000e+00\n",
       "ASC_CYCLE_2A    -4.846654      0.197726   -24.512007  0.000000e+00\n",
       "ASC_PT_2A       -3.035558      0.167748   -18.095920  0.000000e+00\n",
       "B_AGE_CAR_2A     0.018260      0.002090     8.737527  0.000000e+00\n",
       "B_AGE_PT_2A      0.011516      0.002288     5.033873  4.806669e-07\n",
       "B_COST_2A       -0.141696      0.015360    -9.225122  0.000000e+00\n",
       "B_TIME_CAR_2A   -6.066329      0.404343   -15.002942  0.000000e+00\n",
       "B_TIME_CYCLE_2A -5.231646      0.473602   -11.046497  0.000000e+00\n",
       "B_TIME_PT_2A    -3.248611      0.253289   -12.825729  0.000000e+00\n",
       "B_TIME_WALK_2A  -8.755196      0.428914   -20.412488  0.000000e+00"
      ]
     },
     "metadata": {},
     "output_type": "display_data"
    }
   ],
   "source": [
    "display(results_2A_significant.get_estimated_parameters())"
   ]
  },
  {
   "cell_type": "code",
   "execution_count": 39,
   "metadata": {},
   "outputs": [
    {
     "name": "stdout",
     "output_type": "stream",
     "text": [
      "lr_result2A_significant.statistic=67.6\n",
      "lr_result2A_significant.threshold=5.99\n",
      "H0 can be rejected at level 5.0%\n"
     ]
    }
   ],
   "source": [
    "lr_result2A_significant = results_2A_significant.likelihood_ratio_test(results_pref, 0.05)\n",
    "print(f'{lr_result2A_significant.statistic=:.3g}')\n",
    "print(f'{lr_result2A_significant.threshold=:.3g}')\n",
    "print(lr_result2A_significant.message)"
   ]
  },
  {
   "cell_type": "code",
   "execution_count": 40,
   "metadata": {},
   "outputs": [],
   "source": [
    "# Alternative specific constants (ASC_walk is normalized to 0)\n",
    "ASC_CYCLE_2B = Beta('ASC_CYCLE_2B', 0, None, None, 0)\n",
    "ASC_PT_2B    = Beta('ASC_PT_2B', 0, None, None, 0)\n",
    "ASC_CAR_2B   = Beta('ASC_CAR_2B', 0, None, None, 0)\n",
    "\n",
    "# Alternative specific time coefficient\n",
    "B_TIME_WALK_2B  = Beta('B_TIME_WALK_2B', 0, None, None, 0)\n",
    "B_TIME_CYCLE_2B = Beta('B_TIME_CYCLE_2B', 0, None, None, 0)\n",
    "B_TIME_PT_2B    = Beta('B_TIME_PT_2B', 0, None, None, 0)\n",
    "B_TIME_CAR_2B   = Beta('B_TIME_CAR_2B', 0, None, None, 0)\n",
    "\n",
    "# Generic cost coefficient\n",
    "B_COST_2B = Beta('B_COST_2B', 0, None, None, 0)\n",
    "\n",
    "age = Variable('age')\n",
    "B_AGE_CYCLE_2B = Beta('B_AGE_CYCLE_2B', 0, None, None, 0)\n",
    "B_AGE_PT_2B = Beta('B_AGE_PT_2B', 0, None, None, 0)\n",
    "B_AGE_CAR_2B = Beta('B_AGE_CAR_2B', 0, None, None, 0)"
   ]
  },
  {
   "cell_type": "code",
   "execution_count": 41,
   "metadata": {},
   "outputs": [
    {
     "name": "stdout",
     "output_type": "stream",
     "text": [
      "Number of estimated parameters:\t8\n",
      "Sample size:\t5000\n",
      "Excluded observations:\t0\n",
      "Init log likelihood:\t-4332.703\n",
      "Final log likelihood:\t-4332.703\n",
      "Likelihood ratio test for the init. model:\t-0\n",
      "Rho-square for the init. model:\t0\n",
      "Rho-square-bar for the init. model:\t-0.00185\n",
      "Akaike Information Criterion:\t8681.407\n",
      "Bayesian Information Criterion:\t8733.544\n",
      "Final gradient norm:\t4.2487E-01\n",
      "Nbr of threads:\t8\n",
      "\n"
     ]
    }
   ],
   "source": [
    "V_walk_2B = (\n",
    "    B_TIME_WALK_2B * dur_walking \n",
    ")\n",
    "\n",
    "V_cycle_2B = (\n",
    "    ASC_CYCLE_2B\n",
    "    + B_TIME_CYCLE_2B * dur_cycling \n",
    ")\n",
    "\n",
    "V_PT_2B = (\n",
    "    ASC_PT_2B\n",
    "    + B_TIME_PT_2B * dur_pt \n",
    "    + B_COST_2B * cost_transit * age\n",
    ")\n",
    "\n",
    "V_car_2B = (\n",
    "    ASC_CAR_2B\n",
    "    + B_TIME_CAR_2B * dur_driving \n",
    "    + B_COST_2B * cost_driving * age\n",
    ")\n",
    "\n",
    "V_2B ={1: V_walk_2B, 2: V_cycle_2B, 3: V_PT_2B, 4: V_car_2B}\n",
    "\n",
    "logprob_2B = loglogit(V_2B, None, travel_mode)\n",
    "biogeme_2B = bio.BIOGEME(database, logprob_2B)\n",
    "biogeme_2B.modelName = 'model_2B'\n",
    "\n",
    "results_2B = biogeme_2B.estimate()\n",
    "print(results_2B.print_general_statistics())"
   ]
  },
  {
   "cell_type": "code",
   "execution_count": 42,
   "metadata": {},
   "outputs": [
    {
     "data": {
      "text/html": [
       "<div>\n",
       "<style scoped>\n",
       "    .dataframe tbody tr th:only-of-type {\n",
       "        vertical-align: middle;\n",
       "    }\n",
       "\n",
       "    .dataframe tbody tr th {\n",
       "        vertical-align: top;\n",
       "    }\n",
       "\n",
       "    .dataframe thead th {\n",
       "        text-align: right;\n",
       "    }\n",
       "</style>\n",
       "<table border=\"1\" class=\"dataframe\">\n",
       "  <thead>\n",
       "    <tr style=\"text-align: right;\">\n",
       "      <th></th>\n",
       "      <th>Value</th>\n",
       "      <th>Rob. Std err</th>\n",
       "      <th>Rob. t-test</th>\n",
       "      <th>Rob. p-value</th>\n",
       "    </tr>\n",
       "  </thead>\n",
       "  <tbody>\n",
       "    <tr>\n",
       "      <th>ASC_CAR_2B</th>\n",
       "      <td>-2.093516</td>\n",
       "      <td>0.133448</td>\n",
       "      <td>-15.687844</td>\n",
       "      <td>0.000000e+00</td>\n",
       "    </tr>\n",
       "    <tr>\n",
       "      <th>ASC_CYCLE_2B</th>\n",
       "      <td>-4.810449</td>\n",
       "      <td>0.193347</td>\n",
       "      <td>-24.879912</td>\n",
       "      <td>0.000000e+00</td>\n",
       "    </tr>\n",
       "    <tr>\n",
       "      <th>ASC_PT_2B</th>\n",
       "      <td>-2.561539</td>\n",
       "      <td>0.134996</td>\n",
       "      <td>-18.974871</td>\n",
       "      <td>0.000000e+00</td>\n",
       "    </tr>\n",
       "    <tr>\n",
       "      <th>B_COST_2B</th>\n",
       "      <td>-0.003017</td>\n",
       "      <td>0.000445</td>\n",
       "      <td>-6.780019</td>\n",
       "      <td>1.201594e-11</td>\n",
       "    </tr>\n",
       "    <tr>\n",
       "      <th>B_TIME_CAR_2B</th>\n",
       "      <td>-6.260847</td>\n",
       "      <td>0.403183</td>\n",
       "      <td>-15.528552</td>\n",
       "      <td>0.000000e+00</td>\n",
       "    </tr>\n",
       "    <tr>\n",
       "      <th>B_TIME_CYCLE_2B</th>\n",
       "      <td>-5.186415</td>\n",
       "      <td>0.467821</td>\n",
       "      <td>-11.086319</td>\n",
       "      <td>0.000000e+00</td>\n",
       "    </tr>\n",
       "    <tr>\n",
       "      <th>B_TIME_PT_2B</th>\n",
       "      <td>-3.334402</td>\n",
       "      <td>0.253651</td>\n",
       "      <td>-13.145645</td>\n",
       "      <td>0.000000e+00</td>\n",
       "    </tr>\n",
       "    <tr>\n",
       "      <th>B_TIME_WALK_2B</th>\n",
       "      <td>-8.658976</td>\n",
       "      <td>0.418431</td>\n",
       "      <td>-20.693918</td>\n",
       "      <td>0.000000e+00</td>\n",
       "    </tr>\n",
       "  </tbody>\n",
       "</table>\n",
       "</div>"
      ],
      "text/plain": [
       "                    Value  Rob. Std err  Rob. t-test  Rob. p-value\n",
       "ASC_CAR_2B      -2.093516      0.133448   -15.687844  0.000000e+00\n",
       "ASC_CYCLE_2B    -4.810449      0.193347   -24.879912  0.000000e+00\n",
       "ASC_PT_2B       -2.561539      0.134996   -18.974871  0.000000e+00\n",
       "B_COST_2B       -0.003017      0.000445    -6.780019  1.201594e-11\n",
       "B_TIME_CAR_2B   -6.260847      0.403183   -15.528552  0.000000e+00\n",
       "B_TIME_CYCLE_2B -5.186415      0.467821   -11.086319  0.000000e+00\n",
       "B_TIME_PT_2B    -3.334402      0.253651   -13.145645  0.000000e+00\n",
       "B_TIME_WALK_2B  -8.658976      0.418431   -20.693918  0.000000e+00"
      ]
     },
     "metadata": {},
     "output_type": "display_data"
    }
   ],
   "source": [
    "display(results_2B.get_estimated_parameters())"
   ]
  },
  {
   "cell_type": "code",
   "execution_count": 43,
   "metadata": {},
   "outputs": [
    {
     "name": "stdout",
     "output_type": "stream",
     "text": [
      "lr_result2B.statistic=25.6\n",
      "lr_result2B.threshold=nan\n",
      "H0 can be rejected at level 5.0%\n"
     ]
    }
   ],
   "source": [
    "lr_result2B = results_2B.likelihood_ratio_test(results_pref, 0.05)\n",
    "print(f'{lr_result2B.statistic=:.3g}')\n",
    "print(f'{lr_result2B.threshold=:.3g}')\n",
    "print(lr_result2B.message)"
   ]
  },
  {
   "cell_type": "code",
   "execution_count": 44,
   "metadata": {},
   "outputs": [],
   "source": [
    "V_pref = V_2A_significant\n",
    "results_pref = results_2A_significant"
   ]
  },
  {
   "cell_type": "markdown",
   "metadata": {},
   "source": [
    "## Model 3\n",
    "\n",
    "Using Model_pref as the base model, include an appropriate non-linear transformation of one of the variables. Report both the specication and the estimation results (as defined previously)."
   ]
  },
  {
   "cell_type": "code",
   "execution_count": 45,
   "metadata": {},
   "outputs": [
    {
     "data": {
      "image/png": "[encoded data removed]",
      "text/plain": [
       "<Figure size 640x480 with 1 Axes>"
      ]
     },
     "metadata": {},
     "output_type": "display_data"
    }
   ],
   "source": [
    "sns.histplot(df[\"dur_walking\"])\n",
    "sns.histplot(df[\"dur_cycling\"])\n",
    "sns.histplot(df[\"dur_pt_access\"] + df[\"dur_pt_rail\"] + df[\"dur_pt_bus\"] + df[\"dur_pt_int\"])\n",
    "sns.histplot(df[\"dur_driving\"])\n",
    "# plt.xscale('log')\n",
    "plt.legend(['Walking', 'Cycling', 'Public transport', 'Driving'])\n",
    "plt.show()"
   ]
  },
  {
   "cell_type": "markdown",
   "metadata": {},
   "source": [
    "#### Piecewise Linear"
   ]
  },
  {
   "cell_type": "code",
   "execution_count": 46,
   "metadata": {},
   "outputs": [],
   "source": [
    "# Alternative specific constants (ASC_walk is normalized to 0)\n",
    "ASC_CYCLE_3A = Beta('ASC_CYCLE_3A', 0, None, None, 0)\n",
    "ASC_PT_3A    = Beta('ASC_PT_3A', 0, None, None, 0)\n",
    "ASC_CAR_3A   = Beta('ASC_CAR_3A', 0, None, None, 0)\n",
    "\n",
    "# Generic cost coefficient\n",
    "B_COST_3A = Beta('B_COST_3A', 0, None, None, 0)\n",
    "\n",
    "age = Variable('age')\n",
    "# B_AGE_CYCLE_3A = Beta('B_AGE_CYCLE_3A', 0, None, None, 0)\n",
    "B_AGE_PT_3A = Beta('B_AGE_PT_3A', 0, None, None, 0)\n",
    "B_AGE_CAR_3A = Beta('B_AGE_CAR_3A', 0, None, None, 0)"
   ]
  },
  {
   "cell_type": "code",
   "execution_count": 47,
   "metadata": {},
   "outputs": [],
   "source": [
    "thresholds = [0, 0.1, 0.5, 1, 2, None]\n",
    "\n",
    "BETA_TIME_3A_1 = Beta('BETA_TIME_3A_0_0.1', 0, None, None, 0)\n",
    "BETA_TIME_3A_2 = Beta('BETA_TIME_3A_0.1_0.5', 0, None, None, 0)\n",
    "BETA_TIME_3A_3 = Beta('BETA_TIME_3A_0.5_1', 0, None, None, 0)\n",
    "BETA_TIME_3A_4 = Beta('BETA_TIME_3A_1_2', 0, None, None, 0)\n",
    "BETA_TIME_3A_5 = Beta('BETA_TIME_3A_2_more', 0, None, None, 0)\n",
    "betas_piecewise = [BETA_TIME_3A_1, BETA_TIME_3A_2, BETA_TIME_3A_3, BETA_TIME_3A_4, BETA_TIME_3A_5]"
   ]
  },
  {
   "cell_type": "code",
   "execution_count": 48,
   "metadata": {},
   "outputs": [],
   "source": [
    "piecewise_dur_walking = piecewise_formula(\n",
    "    dur_walking, thresholds, betas_piecewise\n",
    ")\n",
    "piecewise_dur_cycling = piecewise_formula(\n",
    "    dur_cycling, thresholds, betas_piecewise\n",
    ")\n",
    "piecewise_dur_pt = piecewise_formula(\n",
    "    dur_pt, thresholds, betas_piecewise\n",
    ")\n",
    "piecewise_dur_driving = piecewise_formula(\n",
    "    dur_driving, thresholds, betas_piecewise\n",
    ")"
   ]
  },
  {
   "cell_type": "code",
   "execution_count": 49,
   "metadata": {},
   "outputs": [
    {
     "name": "stdout",
     "output_type": "stream",
     "text": [
      "Number of estimated parameters:\t11\n",
      "Sample size:\t5000\n",
      "Excluded observations:\t0\n",
      "Init log likelihood:\t-4472.095\n",
      "Final log likelihood:\t-4472.043\n",
      "Likelihood ratio test for the init. model:\t0.1031292\n",
      "Rho-square for the init. model:\t1.15e-05\n",
      "Rho-square-bar for the init. model:\t-0.00245\n",
      "Akaike Information Criterion:\t8966.086\n",
      "Bayesian Information Criterion:\t9037.776\n",
      "Final gradient norm:\t6.6805E-01\n",
      "Nbr of threads:\t8\n",
      "\n"
     ]
    }
   ],
   "source": [
    "V_walk_3A_piecewise = (\n",
    "    piecewise_dur_walking\n",
    ")\n",
    "\n",
    "V_cycle_3A_piecewise = (\n",
    "    ASC_CYCLE_3A\n",
    "    # + B_AGE_CYCLE_3A * age\n",
    "    + piecewise_dur_cycling\n",
    ")\n",
    "\n",
    "V_pt_3A_piecewise = (\n",
    "    ASC_PT_3A\n",
    "    + B_AGE_PT_3A * age\n",
    "    + piecewise_dur_pt\n",
    "    + B_COST_3A * cost_transit\n",
    ")\n",
    "\n",
    "V_car_3A_piecewise = (\n",
    "    ASC_CAR_3A\n",
    "    + B_AGE_CAR_3A * age\n",
    "    + piecewise_dur_driving\n",
    "    + B_COST_3A * cost_driving\n",
    ")\n",
    "\n",
    "V_3A_piecewise ={1: V_walk_3A_piecewise, 2: V_cycle_3A_piecewise, 3: V_pt_3A_piecewise, 4: V_car_3A_piecewise}\n",
    "logprob_3A_piecewise = loglogit(V_3A_piecewise, None, travel_mode)\n",
    "biogeme_3A_piecewise = bio.BIOGEME(database, logprob_3A_piecewise)\n",
    "biogeme_3A_piecewise.modelName = 'model_3A_piecewise'\n",
    "\n",
    "results_3A_piecewise = biogeme_3A_piecewise.estimate()\n",
    "print(results_3A_piecewise.print_general_statistics())"
   ]
  },
  {
   "cell_type": "code",
   "execution_count": 50,
   "metadata": {},
   "outputs": [
    {
     "name": "stderr",
     "output_type": "stream",
     "text": [
      "C:\\Users\\vaffs\\AppData\\Local\\Temp\\ipykernel_14164\\159394502.py:1: DeprecationWarning: getEstimatedParameters is deprecated; use get_estimated_parameters instead.\n",
      "  results_3A_piecewise.getEstimatedParameters()\n"
     ]
    },
    {
     "data": {
      "text/html": [
       "<div>\n",
       "<style scoped>\n",
       "    .dataframe tbody tr th:only-of-type {\n",
       "        vertical-align: middle;\n",
       "    }\n",
       "\n",
       "    .dataframe tbody tr th {\n",
       "        vertical-align: top;\n",
       "    }\n",
       "\n",
       "    .dataframe thead th {\n",
       "        text-align: right;\n",
       "    }\n",
       "</style>\n",
       "<table border=\"1\" class=\"dataframe\">\n",
       "  <thead>\n",
       "    <tr style=\"text-align: right;\">\n",
       "      <th></th>\n",
       "      <th>Value</th>\n",
       "      <th>Rob. Std err</th>\n",
       "      <th>Rob. t-test</th>\n",
       "      <th>Rob. p-value</th>\n",
       "    </tr>\n",
       "  </thead>\n",
       "  <tbody>\n",
       "    <tr>\n",
       "      <th>ASC_CAR_3A</th>\n",
       "      <td>-3.062353</td>\n",
       "      <td>0.138719</td>\n",
       "      <td>-22.075942</td>\n",
       "      <td>0.000000e+00</td>\n",
       "    </tr>\n",
       "    <tr>\n",
       "      <th>ASC_CYCLE_3A</th>\n",
       "      <td>-4.694365</td>\n",
       "      <td>0.126630</td>\n",
       "      <td>-37.071603</td>\n",
       "      <td>0.000000e+00</td>\n",
       "    </tr>\n",
       "    <tr>\n",
       "      <th>ASC_PT_3A</th>\n",
       "      <td>-1.427652</td>\n",
       "      <td>0.105248</td>\n",
       "      <td>-13.564627</td>\n",
       "      <td>0.000000e+00</td>\n",
       "    </tr>\n",
       "    <tr>\n",
       "      <th>BETA_TIME_3A_0.1_0.5</th>\n",
       "      <td>-10.581484</td>\n",
       "      <td>0.390085</td>\n",
       "      <td>-27.126120</td>\n",
       "      <td>0.000000e+00</td>\n",
       "    </tr>\n",
       "    <tr>\n",
       "      <th>BETA_TIME_3A_0.5_1</th>\n",
       "      <td>-4.059968</td>\n",
       "      <td>0.232833</td>\n",
       "      <td>-17.437273</td>\n",
       "      <td>0.000000e+00</td>\n",
       "    </tr>\n",
       "    <tr>\n",
       "      <th>BETA_TIME_3A_0_0.1</th>\n",
       "      <td>-16.836230</td>\n",
       "      <td>2.376421</td>\n",
       "      <td>-7.084700</td>\n",
       "      <td>1.393552e-12</td>\n",
       "    </tr>\n",
       "    <tr>\n",
       "      <th>BETA_TIME_3A_1_2</th>\n",
       "      <td>-4.986685</td>\n",
       "      <td>0.409352</td>\n",
       "      <td>-12.181914</td>\n",
       "      <td>0.000000e+00</td>\n",
       "    </tr>\n",
       "    <tr>\n",
       "      <th>BETA_TIME_3A_2_more</th>\n",
       "      <td>-3.726845</td>\n",
       "      <td>1.837681</td>\n",
       "      <td>-2.028016</td>\n",
       "      <td>4.255863e-02</td>\n",
       "    </tr>\n",
       "    <tr>\n",
       "      <th>B_AGE_CAR_3A</th>\n",
       "      <td>0.017388</td>\n",
       "      <td>0.002039</td>\n",
       "      <td>8.526295</td>\n",
       "      <td>0.000000e+00</td>\n",
       "    </tr>\n",
       "    <tr>\n",
       "      <th>B_AGE_PT_3A</th>\n",
       "      <td>0.008697</td>\n",
       "      <td>0.002096</td>\n",
       "      <td>4.149853</td>\n",
       "      <td>3.326890e-05</td>\n",
       "    </tr>\n",
       "    <tr>\n",
       "      <th>B_COST_3A</th>\n",
       "      <td>-0.127315</td>\n",
       "      <td>0.015269</td>\n",
       "      <td>-8.338054</td>\n",
       "      <td>0.000000e+00</td>\n",
       "    </tr>\n",
       "  </tbody>\n",
       "</table>\n",
       "</div>"
      ],
      "text/plain": [
       "                          Value  Rob. Std err  Rob. t-test  Rob. p-value\n",
       "ASC_CAR_3A            -3.062353      0.138719   -22.075942  0.000000e+00\n",
       "ASC_CYCLE_3A          -4.694365      0.126630   -37.071603  0.000000e+00\n",
       "ASC_PT_3A             -1.427652      0.105248   -13.564627  0.000000e+00\n",
       "BETA_TIME_3A_0.1_0.5 -10.581484      0.390085   -27.126120  0.000000e+00\n",
       "BETA_TIME_3A_0.5_1    -4.059968      0.232833   -17.437273  0.000000e+00\n",
       "BETA_TIME_3A_0_0.1   -16.836230      2.376421    -7.084700  1.393552e-12\n",
       "BETA_TIME_3A_1_2      -4.986685      0.409352   -12.181914  0.000000e+00\n",
       "BETA_TIME_3A_2_more   -3.726845      1.837681    -2.028016  4.255863e-02\n",
       "B_AGE_CAR_3A           0.017388      0.002039     8.526295  0.000000e+00\n",
       "B_AGE_PT_3A            0.008697      0.002096     4.149853  3.326890e-05\n",
       "B_COST_3A             -0.127315      0.015269    -8.338054  0.000000e+00"
      ]
     },
     "execution_count": 50,
     "metadata": {},
     "output_type": "execute_result"
    }
   ],
   "source": [
    "results_3A_piecewise.getEstimatedParameters()"
   ]
  },
  {
   "cell_type": "code",
   "execution_count": 51,
   "metadata": {},
   "outputs": [],
   "source": [
    "piecewise_estimates = results_3A_piecewise.get_beta_values()\n",
    "V_walk_3A_piecewise.fix_betas(beta_values=piecewise_estimates, prefix='piecewise_')\n",
    "V_cycle_3A_piecewise.fix_betas(beta_values=piecewise_estimates, prefix='piecewise_')\n",
    "V_pt_3A_piecewise.fix_betas(beta_values=piecewise_estimates, prefix='piecewise_')\n",
    "V_car_3A_piecewise.fix_betas(beta_values=piecewise_estimates, prefix='piecewise_')"
   ]
  },
  {
   "cell_type": "code",
   "execution_count": 52,
   "metadata": {},
   "outputs": [],
   "source": [
    "alpha = Beta('alpha', 0, None, None, 0)\n",
    "Opt1 = (1 - alpha) * V_walk_2A + alpha * V_walk_3A_piecewise\n",
    "Opt2 = (1 - alpha) * V_cycle_2A + alpha * V_cycle_3A_piecewise\n",
    "Opt3 = (1 - alpha) * V_pt_2A + alpha * V_pt_3A_piecewise\n",
    "Opt4 = (1 - alpha) * V_car_2A + alpha * V_car_3A_piecewise\n",
    "\n",
    "V = {1: Opt1, 2: Opt2, 3: Opt3, 4: Opt4}\n",
    "logprob = loglogit(V, None, travel_mode)\n",
    "biogeme = bio.BIOGEME(database, logprob)\n",
    "biogeme.modelName = 'model_3A_composite'\n",
    "results_composite = biogeme.estimate()\n"
   ]
  },
  {
   "cell_type": "code",
   "execution_count": 53,
   "metadata": {},
   "outputs": [
    {
     "data": {
      "text/html": [
       "<div>\n",
       "<style scoped>\n",
       "    .dataframe tbody tr th:only-of-type {\n",
       "        vertical-align: middle;\n",
       "    }\n",
       "\n",
       "    .dataframe tbody tr th {\n",
       "        vertical-align: top;\n",
       "    }\n",
       "\n",
       "    .dataframe thead th {\n",
       "        text-align: right;\n",
       "    }\n",
       "</style>\n",
       "<table border=\"1\" class=\"dataframe\">\n",
       "  <thead>\n",
       "    <tr style=\"text-align: right;\">\n",
       "      <th></th>\n",
       "      <th>Value</th>\n",
       "      <th>Rob. Std err</th>\n",
       "      <th>Rob. t-test</th>\n",
       "      <th>Rob. p-value</th>\n",
       "    </tr>\n",
       "  </thead>\n",
       "  <tbody>\n",
       "    <tr>\n",
       "      <th>ASC_CAR_2A</th>\n",
       "      <td>-4.223552</td>\n",
       "      <td>0.597493</td>\n",
       "      <td>-7.068784</td>\n",
       "      <td>1.562972e-12</td>\n",
       "    </tr>\n",
       "    <tr>\n",
       "      <th>ASC_CYCLE_2A</th>\n",
       "      <td>-6.560051</td>\n",
       "      <td>0.799899</td>\n",
       "      <td>-8.201095</td>\n",
       "      <td>2.220446e-16</td>\n",
       "    </tr>\n",
       "    <tr>\n",
       "      <th>ASC_PT_2A</th>\n",
       "      <td>-5.707782</td>\n",
       "      <td>0.951412</td>\n",
       "      <td>-5.999273</td>\n",
       "      <td>1.982026e-09</td>\n",
       "    </tr>\n",
       "    <tr>\n",
       "      <th>B_AGE_CAR_2A</th>\n",
       "      <td>0.023015</td>\n",
       "      <td>0.006361</td>\n",
       "      <td>3.618163</td>\n",
       "      <td>2.967014e-04</td>\n",
       "    </tr>\n",
       "    <tr>\n",
       "      <th>B_AGE_CYCLE_2A</th>\n",
       "      <td>0.008250</td>\n",
       "      <td>0.011039</td>\n",
       "      <td>0.747396</td>\n",
       "      <td>4.548244e-01</td>\n",
       "    </tr>\n",
       "    <tr>\n",
       "      <th>B_AGE_PT_2A</th>\n",
       "      <td>0.018318</td>\n",
       "      <td>0.006870</td>\n",
       "      <td>2.666322</td>\n",
       "      <td>7.668613e-03</td>\n",
       "    </tr>\n",
       "    <tr>\n",
       "      <th>B_COST_2A</th>\n",
       "      <td>-0.164664</td>\n",
       "      <td>0.040841</td>\n",
       "      <td>-4.031805</td>\n",
       "      <td>5.535008e-05</td>\n",
       "    </tr>\n",
       "    <tr>\n",
       "      <th>B_TIME_CAR_2A</th>\n",
       "      <td>-3.476999</td>\n",
       "      <td>1.300251</td>\n",
       "      <td>-2.674099</td>\n",
       "      <td>7.493040e-03</td>\n",
       "    </tr>\n",
       "    <tr>\n",
       "      <th>B_TIME_CYCLE_2A</th>\n",
       "      <td>-2.570848</td>\n",
       "      <td>1.365471</td>\n",
       "      <td>-1.882755</td>\n",
       "      <td>5.973351e-02</td>\n",
       "    </tr>\n",
       "    <tr>\n",
       "      <th>B_TIME_PT_2A</th>\n",
       "      <td>0.929419</td>\n",
       "      <td>1.540874</td>\n",
       "      <td>0.603177</td>\n",
       "      <td>5.463912e-01</td>\n",
       "    </tr>\n",
       "    <tr>\n",
       "      <th>B_TIME_WALK_2A</th>\n",
       "      <td>-11.808126</td>\n",
       "      <td>1.262263</td>\n",
       "      <td>-9.354725</td>\n",
       "      <td>0.000000e+00</td>\n",
       "    </tr>\n",
       "    <tr>\n",
       "      <th>alpha</th>\n",
       "      <td>0.613693</td>\n",
       "      <td>0.079816</td>\n",
       "      <td>7.688809</td>\n",
       "      <td>1.487699e-14</td>\n",
       "    </tr>\n",
       "  </tbody>\n",
       "</table>\n",
       "</div>"
      ],
      "text/plain": [
       "                     Value  Rob. Std err  Rob. t-test  Rob. p-value\n",
       "ASC_CAR_2A       -4.223552      0.597493    -7.068784  1.562972e-12\n",
       "ASC_CYCLE_2A     -6.560051      0.799899    -8.201095  2.220446e-16\n",
       "ASC_PT_2A        -5.707782      0.951412    -5.999273  1.982026e-09\n",
       "B_AGE_CAR_2A      0.023015      0.006361     3.618163  2.967014e-04\n",
       "B_AGE_CYCLE_2A    0.008250      0.011039     0.747396  4.548244e-01\n",
       "B_AGE_PT_2A       0.018318      0.006870     2.666322  7.668613e-03\n",
       "B_COST_2A        -0.164664      0.040841    -4.031805  5.535008e-05\n",
       "B_TIME_CAR_2A    -3.476999      1.300251    -2.674099  7.493040e-03\n",
       "B_TIME_CYCLE_2A  -2.570848      1.365471    -1.882755  5.973351e-02\n",
       "B_TIME_PT_2A      0.929419      1.540874     0.603177  5.463912e-01\n",
       "B_TIME_WALK_2A  -11.808126      1.262263    -9.354725  0.000000e+00\n",
       "alpha             0.613693      0.079816     7.688809  1.487699e-14"
      ]
     },
     "metadata": {},
     "output_type": "display_data"
    }
   ],
   "source": [
    "composite_parameters = results_composite.get_estimated_parameters()\n",
    "display(composite_parameters)"
   ]
  },
  {
   "cell_type": "code",
   "execution_count": 54,
   "metadata": {},
   "outputs": [
    {
     "name": "stdout",
     "output_type": "stream",
     "text": [
      "t-test for alpha: 7.69\n"
     ]
    }
   ],
   "source": [
    "t_test_alpha = composite_parameters.loc['alpha', 'Rob. t-test']\n",
    "print(f't-test for alpha: {t_test_alpha:.3g}')"
   ]
  },
  {
   "cell_type": "code",
   "execution_count": 55,
   "metadata": {},
   "outputs": [
    {
     "name": "stdout",
     "output_type": "stream",
     "text": [
      "p-value for alpha: 1.49e-14\n"
     ]
    }
   ],
   "source": [
    "p_value_alpha = composite_parameters.loc['alpha', 'Rob. p-value']\n",
    "print(f'p-value for alpha: {p_value_alpha:.3g}')\n"
   ]
  },
  {
   "cell_type": "markdown",
   "metadata": {},
   "source": [
    "Under the null hypothesis, the true value of $\\alpha$ is 0. This hypothesis can be safely rejected here. Therefore, the piecewise linear specification is preferred."
   ]
  },
  {
   "cell_type": "markdown",
   "metadata": {},
   "source": [
    "#### Box-Cox"
   ]
  },
  {
   "cell_type": "code",
   "execution_count": 56,
   "metadata": {},
   "outputs": [],
   "source": [
    "# Alternative specific constants (ASC_walk is normalized to 0)\n",
    "ASC_CYCLE_3B = Beta('ASC_CYCLE_3B', 0, None, None, 0)\n",
    "ASC_PT_3B    = Beta('ASC_PT_3B', 0, None, None, 0)\n",
    "ASC_CAR_3B   = Beta('ASC_CAR_3B', 0, None, None, 0)\n",
    "\n",
    "# Alternative specific time coefficient\n",
    "B_TIME_WALK_3B  = Beta('B_TIME_WALK_3B', 0, None, None, 0)\n",
    "B_TIME_CYCLE_3B = Beta('B_TIME_CYCLE_3B', 0, None, None, 0)\n",
    "B_TIME_PT_3B    = Beta('B_TIME_PT_3B', 0, None, None, 0)\n",
    "B_TIME_CAR_3B   = Beta('B_TIME_CAR_3B', 0, None, None, 0)\n",
    "\n",
    "# Generic cost coefficient\n",
    "B_COST_3B = Beta('B_COST_3B', 0, None, None, 0)\n",
    "\n",
    "age = Variable('age')\n",
    "# B_AGE_CYCLE_3B = Beta('B_AGE_CYCLE_3B', 0, None, None, 0)\n",
    "B_AGE_PT_3B = Beta('B_AGE_PT_3B', 0, None, None, 0)\n",
    "B_AGE_CAR_3B = Beta('B_AGE_CAR_3B', 0, None, None, 0)"
   ]
  },
  {
   "cell_type": "code",
   "execution_count": 57,
   "metadata": {},
   "outputs": [],
   "source": [
    "lambda_boxcox_walking = Beta('lambda_boxcox_walking', 1, -10, 10, 0)\n",
    "boxcox_dur_walking_unrestricted = boxcox(dur_walking, lambda_boxcox_walking)\n",
    "\n",
    "lambda_boxcox_cycling = Beta('lambda_boxcox_cycling', 1, -10, 10, 0)\n",
    "boxcox_dur_cycling_unrestricted = boxcox(dur_cycling, lambda_boxcox_cycling)\n",
    "\n",
    "lambda_boxcox_pt = Beta('lambda_boxcox_pt', 1, -10, 10, 0)\n",
    "boxcox_dur_pt_unrestricted = boxcox(dur_pt, lambda_boxcox_pt)\n",
    "\n",
    "lambda_boxcox_driving = Beta('lambda_boxcox_driving', 1, -10, 10, 0)\n",
    "boxcox_dur_driving_unrestricted = boxcox(dur_driving, lambda_boxcox_driving)"
   ]
  },
  {
   "cell_type": "code",
   "execution_count": 58,
   "metadata": {},
   "outputs": [
    {
     "name": "stdout",
     "output_type": "stream",
     "text": [
      "Number of estimated parameters:\t14\n",
      "Sample size:\t5000\n",
      "Excluded observations:\t0\n",
      "Init log likelihood:\t-4174.291\n",
      "Final log likelihood:\t-4172.685\n",
      "Likelihood ratio test for the init. model:\t3.211293\n",
      "Rho-square for the init. model:\t0.000385\n",
      "Rho-square-bar for the init. model:\t-0.00297\n",
      "Akaike Information Criterion:\t8373.371\n",
      "Bayesian Information Criterion:\t8464.612\n",
      "Final gradient norm:\t3.3187E-01\n",
      "Nbr of threads:\t8\n",
      "\n"
     ]
    }
   ],
   "source": [
    "V_walk_3B_unrestricted = (\n",
    "    B_TIME_WALK_3B * boxcox_dur_walking_unrestricted\n",
    ")\n",
    "\n",
    "V_cycle_3B_unrestricted = (\n",
    "    ASC_CYCLE_3B\n",
    "    # + B_AGE_CYCLE_3B * age\n",
    "    + B_TIME_CYCLE_3B * boxcox_dur_cycling_unrestricted\n",
    ")\n",
    "\n",
    "V_pt_3B_unrestricted = (\n",
    "    ASC_PT_3B\n",
    "    + B_AGE_PT_3B * age\n",
    "    + B_TIME_PT_3B * boxcox_dur_pt_unrestricted\n",
    "    + B_COST_3B * cost_transit\n",
    ")\n",
    "\n",
    "V_car_3B_unrestricted = (\n",
    "    ASC_CAR_3B\n",
    "    + B_AGE_CAR_3B * age\n",
    "    + B_TIME_CAR_3B * boxcox_dur_driving_unrestricted\n",
    "    + B_COST_3B * cost_driving\n",
    ")\n",
    "\n",
    "V_3B_unrestricted ={1: V_walk_3B_unrestricted, 2: V_cycle_3B_unrestricted, 3: V_pt_3B_unrestricted, 4: V_car_3B_unrestricted}\n",
    "logprob_3B_unrestricted = loglogit(V_3B_unrestricted, None, travel_mode)\n",
    "biogeme_3B_unrestricted = bio.BIOGEME(database, logprob_3B_unrestricted)\n",
    "biogeme_3B_unrestricted.modelName = 'model_3B_unrestricted'\n",
    "\n",
    "results_3B_unrestricted = biogeme_3B_unrestricted.estimate()\n",
    "print(results_3B_unrestricted.print_general_statistics())"
   ]
  },
  {
   "cell_type": "code",
   "execution_count": 59,
   "metadata": {},
   "outputs": [
    {
     "name": "stderr",
     "output_type": "stream",
     "text": [
      "C:\\Users\\vaffs\\AppData\\Local\\Temp\\ipykernel_14164\\2375549392.py:1: DeprecationWarning: getEstimatedParameters is deprecated; use get_estimated_parameters instead.\n",
      "  results_3B_unrestricted.getEstimatedParameters()\n"
     ]
    },
    {
     "data": {
      "text/html": [
       "<div>\n",
       "<style scoped>\n",
       "    .dataframe tbody tr th:only-of-type {\n",
       "        vertical-align: middle;\n",
       "    }\n",
       "\n",
       "    .dataframe tbody tr th {\n",
       "        vertical-align: top;\n",
       "    }\n",
       "\n",
       "    .dataframe thead th {\n",
       "        text-align: right;\n",
       "    }\n",
       "</style>\n",
       "<table border=\"1\" class=\"dataframe\">\n",
       "  <thead>\n",
       "    <tr style=\"text-align: right;\">\n",
       "      <th></th>\n",
       "      <th>Value</th>\n",
       "      <th>Rob. Std err</th>\n",
       "      <th>Rob. t-test</th>\n",
       "      <th>Rob. p-value</th>\n",
       "    </tr>\n",
       "  </thead>\n",
       "  <tbody>\n",
       "    <tr>\n",
       "      <th>ASC_CAR_3B</th>\n",
       "      <td>-1.003063</td>\n",
       "      <td>0.268940</td>\n",
       "      <td>-3.729693</td>\n",
       "      <td>1.917134e-04</td>\n",
       "    </tr>\n",
       "    <tr>\n",
       "      <th>ASC_CYCLE_3B</th>\n",
       "      <td>-2.393146</td>\n",
       "      <td>0.283887</td>\n",
       "      <td>-8.429926</td>\n",
       "      <td>0.000000e+00</td>\n",
       "    </tr>\n",
       "    <tr>\n",
       "      <th>ASC_PT_3B</th>\n",
       "      <td>0.849186</td>\n",
       "      <td>0.206774</td>\n",
       "      <td>4.106839</td>\n",
       "      <td>4.011115e-05</td>\n",
       "    </tr>\n",
       "    <tr>\n",
       "      <th>B_AGE_CAR_3B</th>\n",
       "      <td>0.019775</td>\n",
       "      <td>0.002252</td>\n",
       "      <td>8.779052</td>\n",
       "      <td>0.000000e+00</td>\n",
       "    </tr>\n",
       "    <tr>\n",
       "      <th>B_AGE_PT_3B</th>\n",
       "      <td>0.013574</td>\n",
       "      <td>0.002549</td>\n",
       "      <td>5.324951</td>\n",
       "      <td>1.009801e-07</td>\n",
       "    </tr>\n",
       "    <tr>\n",
       "      <th>B_COST_3B</th>\n",
       "      <td>-0.127094</td>\n",
       "      <td>0.015455</td>\n",
       "      <td>-8.223507</td>\n",
       "      <td>2.220446e-16</td>\n",
       "    </tr>\n",
       "    <tr>\n",
       "      <th>B_TIME_CAR_3B</th>\n",
       "      <td>-3.422871</td>\n",
       "      <td>0.304455</td>\n",
       "      <td>-11.242631</td>\n",
       "      <td>0.000000e+00</td>\n",
       "    </tr>\n",
       "    <tr>\n",
       "      <th>B_TIME_CYCLE_3B</th>\n",
       "      <td>-3.066465</td>\n",
       "      <td>0.416820</td>\n",
       "      <td>-7.356813</td>\n",
       "      <td>1.882938e-13</td>\n",
       "    </tr>\n",
       "    <tr>\n",
       "      <th>B_TIME_PT_3B</th>\n",
       "      <td>-3.226611</td>\n",
       "      <td>0.308405</td>\n",
       "      <td>-10.462265</td>\n",
       "      <td>0.000000e+00</td>\n",
       "    </tr>\n",
       "    <tr>\n",
       "      <th>B_TIME_WALK_3B</th>\n",
       "      <td>-4.775548</td>\n",
       "      <td>0.269313</td>\n",
       "      <td>-17.732331</td>\n",
       "      <td>0.000000e+00</td>\n",
       "    </tr>\n",
       "    <tr>\n",
       "      <th>lambda_boxcox_cycling</th>\n",
       "      <td>0.242131</td>\n",
       "      <td>0.107983</td>\n",
       "      <td>2.242306</td>\n",
       "      <td>2.494163e-02</td>\n",
       "    </tr>\n",
       "    <tr>\n",
       "      <th>lambda_boxcox_driving</th>\n",
       "      <td>0.300947</td>\n",
       "      <td>0.057113</td>\n",
       "      <td>5.269370</td>\n",
       "      <td>1.368925e-07</td>\n",
       "    </tr>\n",
       "    <tr>\n",
       "      <th>lambda_boxcox_pt</th>\n",
       "      <td>0.549891</td>\n",
       "      <td>0.116223</td>\n",
       "      <td>4.731337</td>\n",
       "      <td>2.230460e-06</td>\n",
       "    </tr>\n",
       "    <tr>\n",
       "      <th>lambda_boxcox_walking</th>\n",
       "      <td>0.124299</td>\n",
       "      <td>0.054400</td>\n",
       "      <td>2.284917</td>\n",
       "      <td>2.231767e-02</td>\n",
       "    </tr>\n",
       "  </tbody>\n",
       "</table>\n",
       "</div>"
      ],
      "text/plain": [
       "                          Value  Rob. Std err  Rob. t-test  Rob. p-value\n",
       "ASC_CAR_3B            -1.003063      0.268940    -3.729693  1.917134e-04\n",
       "ASC_CYCLE_3B          -2.393146      0.283887    -8.429926  0.000000e+00\n",
       "ASC_PT_3B              0.849186      0.206774     4.106839  4.011115e-05\n",
       "B_AGE_CAR_3B           0.019775      0.002252     8.779052  0.000000e+00\n",
       "B_AGE_PT_3B            0.013574      0.002549     5.324951  1.009801e-07\n",
       "B_COST_3B             -0.127094      0.015455    -8.223507  2.220446e-16\n",
       "B_TIME_CAR_3B         -3.422871      0.304455   -11.242631  0.000000e+00\n",
       "B_TIME_CYCLE_3B       -3.066465      0.416820    -7.356813  1.882938e-13\n",
       "B_TIME_PT_3B          -3.226611      0.308405   -10.462265  0.000000e+00\n",
       "B_TIME_WALK_3B        -4.775548      0.269313   -17.732331  0.000000e+00\n",
       "lambda_boxcox_cycling  0.242131      0.107983     2.242306  2.494163e-02\n",
       "lambda_boxcox_driving  0.300947      0.057113     5.269370  1.368925e-07\n",
       "lambda_boxcox_pt       0.549891      0.116223     4.731337  2.230460e-06\n",
       "lambda_boxcox_walking  0.124299      0.054400     2.284917  2.231767e-02"
      ]
     },
     "execution_count": 59,
     "metadata": {},
     "output_type": "execute_result"
    }
   ],
   "source": [
    "results_3B_unrestricted.getEstimatedParameters()"
   ]
  },
  {
   "cell_type": "code",
   "execution_count": 60,
   "metadata": {},
   "outputs": [
    {
     "name": "stdout",
     "output_type": "stream",
     "text": [
      "lr_result3B.statistic=227\n",
      "lr_result3B.threshold=9.49\n",
      "H0 can be rejected at level 5.0%\n"
     ]
    }
   ],
   "source": [
    "lr_result3B = results_3B_unrestricted.likelihood_ratio_test(results_pref, 0.05)\n",
    "print(f'{lr_result3B.statistic=:.3g}')\n",
    "print(f'{lr_result3B.threshold=:.3g}')\n",
    "print(lr_result3B.message)"
   ]
  },
  {
   "cell_type": "code",
   "execution_count": 61,
   "metadata": {},
   "outputs": [],
   "source": [
    "lambda_boxcox = Beta('lambda_boxcox', 1, -10, 10, 0)\n",
    "boxcox_dur_walking_restricted = boxcox(dur_walking, lambda_boxcox)\n",
    "boxcox_dur_cycling_restricted = boxcox(dur_cycling, lambda_boxcox)\n",
    "boxcox_dur_pt_restricted = boxcox(dur_pt, lambda_boxcox)\n",
    "boxcox_dur_driving_restricted = boxcox(dur_driving, lambda_boxcox)"
   ]
  },
  {
   "cell_type": "code",
   "execution_count": 62,
   "metadata": {},
   "outputs": [
    {
     "name": "stdout",
     "output_type": "stream",
     "text": [
      "Number of estimated parameters:\t11\n",
      "Sample size:\t5000\n",
      "Excluded observations:\t0\n",
      "Init log likelihood:\t-4182.878\n",
      "Final log likelihood:\t-4181.23\n",
      "Likelihood ratio test for the init. model:\t3.297487\n",
      "Rho-square for the init. model:\t0.000394\n",
      "Rho-square-bar for the init. model:\t-0.00224\n",
      "Akaike Information Criterion:\t8384.459\n",
      "Bayesian Information Criterion:\t8456.148\n",
      "Final gradient norm:\t2.6373E-01\n",
      "Nbr of threads:\t8\n",
      "\n"
     ]
    }
   ],
   "source": [
    "V_walk_3B_restricted = (\n",
    "    B_TIME_WALK_3B * boxcox_dur_walking_restricted\n",
    ")\n",
    "\n",
    "V_cycle_3B_restricted = (\n",
    "    ASC_CYCLE_3B\n",
    "    # + B_AGE_CYCLE_3B * age\n",
    "    + B_TIME_CYCLE_3B * boxcox_dur_cycling_restricted\n",
    ")\n",
    "\n",
    "V_pt_3B_restricted = (\n",
    "    ASC_PT_3B\n",
    "    + B_AGE_PT_3B * age\n",
    "    + B_TIME_PT_3B * boxcox_dur_pt_restricted\n",
    "    + B_COST_3B * cost_transit\n",
    ")\n",
    "\n",
    "V_car_3B_restricted = (\n",
    "    ASC_CAR_3B\n",
    "    + B_AGE_CAR_3B * age\n",
    "    + B_TIME_CAR_3B * boxcox_dur_driving_restricted\n",
    "    + B_COST_3B * cost_driving\n",
    ")\n",
    "\n",
    "V_3B_restricted = {1: V_walk_3B_restricted, 2: V_cycle_3B_restricted, 3: V_pt_3B_restricted, 4: V_car_3B_restricted}\n",
    "logprob_3B_restricted = loglogit(V_3B_restricted, None, travel_mode)\n",
    "biogeme_3B_restricted = bio.BIOGEME(database, logprob_3B_restricted)\n",
    "biogeme_3B_restricted.modelName = 'model_3B_restricted'\n",
    "\n",
    "results_3B_restricted = biogeme_3B_restricted.estimate()\n",
    "print(results_3B_restricted.print_general_statistics())"
   ]
  },
  {
   "cell_type": "code",
   "execution_count": 63,
   "metadata": {},
   "outputs": [
    {
     "name": "stderr",
     "output_type": "stream",
     "text": [
      "C:\\Users\\vaffs\\AppData\\Local\\Temp\\ipykernel_14164\\883718923.py:1: DeprecationWarning: getEstimatedParameters is deprecated; use get_estimated_parameters instead.\n",
      "  results_3B_restricted.getEstimatedParameters()\n"
     ]
    },
    {
     "data": {
      "text/html": [
       "<div>\n",
       "<style scoped>\n",
       "    .dataframe tbody tr th:only-of-type {\n",
       "        vertical-align: middle;\n",
       "    }\n",
       "\n",
       "    .dataframe tbody tr th {\n",
       "        vertical-align: top;\n",
       "    }\n",
       "\n",
       "    .dataframe thead th {\n",
       "        text-align: right;\n",
       "    }\n",
       "</style>\n",
       "<table border=\"1\" class=\"dataframe\">\n",
       "  <thead>\n",
       "    <tr style=\"text-align: right;\">\n",
       "      <th></th>\n",
       "      <th>Value</th>\n",
       "      <th>Rob. Std err</th>\n",
       "      <th>Rob. t-test</th>\n",
       "      <th>Rob. p-value</th>\n",
       "    </tr>\n",
       "  </thead>\n",
       "  <tbody>\n",
       "    <tr>\n",
       "      <th>ASC_CAR_3B</th>\n",
       "      <td>-0.408487</td>\n",
       "      <td>0.220823</td>\n",
       "      <td>-1.849835</td>\n",
       "      <td>6.433737e-02</td>\n",
       "    </tr>\n",
       "    <tr>\n",
       "      <th>ASC_CYCLE_3B</th>\n",
       "      <td>-2.035129</td>\n",
       "      <td>0.252759</td>\n",
       "      <td>-8.051670</td>\n",
       "      <td>8.881784e-16</td>\n",
       "    </tr>\n",
       "    <tr>\n",
       "      <th>ASC_PT_3B</th>\n",
       "      <td>1.345993</td>\n",
       "      <td>0.185463</td>\n",
       "      <td>7.257491</td>\n",
       "      <td>3.943512e-13</td>\n",
       "    </tr>\n",
       "    <tr>\n",
       "      <th>B_AGE_CAR_3B</th>\n",
       "      <td>0.019712</td>\n",
       "      <td>0.002243</td>\n",
       "      <td>8.788554</td>\n",
       "      <td>0.000000e+00</td>\n",
       "    </tr>\n",
       "    <tr>\n",
       "      <th>B_AGE_PT_3B</th>\n",
       "      <td>0.013268</td>\n",
       "      <td>0.002512</td>\n",
       "      <td>5.282283</td>\n",
       "      <td>1.275838e-07</td>\n",
       "    </tr>\n",
       "    <tr>\n",
       "      <th>B_COST_3B</th>\n",
       "      <td>-0.132962</td>\n",
       "      <td>0.015290</td>\n",
       "      <td>-8.695814</td>\n",
       "      <td>0.000000e+00</td>\n",
       "    </tr>\n",
       "    <tr>\n",
       "      <th>B_TIME_CAR_3B</th>\n",
       "      <td>-2.916830</td>\n",
       "      <td>0.245388</td>\n",
       "      <td>-11.886590</td>\n",
       "      <td>0.000000e+00</td>\n",
       "    </tr>\n",
       "    <tr>\n",
       "      <th>B_TIME_CYCLE_3B</th>\n",
       "      <td>-2.898158</td>\n",
       "      <td>0.244054</td>\n",
       "      <td>-11.875048</td>\n",
       "      <td>0.000000e+00</td>\n",
       "    </tr>\n",
       "    <tr>\n",
       "      <th>B_TIME_PT_3B</th>\n",
       "      <td>-2.398117</td>\n",
       "      <td>0.177530</td>\n",
       "      <td>-13.508266</td>\n",
       "      <td>0.000000e+00</td>\n",
       "    </tr>\n",
       "    <tr>\n",
       "      <th>B_TIME_WALK_3B</th>\n",
       "      <td>-5.344883</td>\n",
       "      <td>0.249081</td>\n",
       "      <td>-21.458450</td>\n",
       "      <td>0.000000e+00</td>\n",
       "    </tr>\n",
       "    <tr>\n",
       "      <th>lambda_boxcox</th>\n",
       "      <td>0.199595</td>\n",
       "      <td>0.046699</td>\n",
       "      <td>4.274093</td>\n",
       "      <td>1.919171e-05</td>\n",
       "    </tr>\n",
       "  </tbody>\n",
       "</table>\n",
       "</div>"
      ],
      "text/plain": [
       "                    Value  Rob. Std err  Rob. t-test  Rob. p-value\n",
       "ASC_CAR_3B      -0.408487      0.220823    -1.849835  6.433737e-02\n",
       "ASC_CYCLE_3B    -2.035129      0.252759    -8.051670  8.881784e-16\n",
       "ASC_PT_3B        1.345993      0.185463     7.257491  3.943512e-13\n",
       "B_AGE_CAR_3B     0.019712      0.002243     8.788554  0.000000e+00\n",
       "B_AGE_PT_3B      0.013268      0.002512     5.282283  1.275838e-07\n",
       "B_COST_3B       -0.132962      0.015290    -8.695814  0.000000e+00\n",
       "B_TIME_CAR_3B   -2.916830      0.245388   -11.886590  0.000000e+00\n",
       "B_TIME_CYCLE_3B -2.898158      0.244054   -11.875048  0.000000e+00\n",
       "B_TIME_PT_3B    -2.398117      0.177530   -13.508266  0.000000e+00\n",
       "B_TIME_WALK_3B  -5.344883      0.249081   -21.458450  0.000000e+00\n",
       "lambda_boxcox    0.199595      0.046699     4.274093  1.919171e-05"
      ]
     },
     "execution_count": 63,
     "metadata": {},
     "output_type": "execute_result"
    }
   ],
   "source": [
    "results_3B_restricted.getEstimatedParameters()"
   ]
  },
  {
   "cell_type": "code",
   "execution_count": 64,
   "metadata": {},
   "outputs": [],
   "source": [
    "# lr_result3B = results_3B_restricted.likelihood_ratio_test(results_pref, 0.05)\n",
    "# print(f'{lr_result3B.statistic=:.3g}')\n",
    "# print(f'{lr_result3B.threshold=:.3g}')\n",
    "# print(lr_result3B.message)"
   ]
  },
  {
   "cell_type": "markdown",
   "metadata": {},
   "source": [
    "Testing the unrestricted model where each utility has its own lambda, with the restriction of all lambdas equal."
   ]
  },
  {
   "cell_type": "code",
   "execution_count": 65,
   "metadata": {},
   "outputs": [
    {
     "name": "stdout",
     "output_type": "stream",
     "text": [
      "lr_result3B.statistic=17.1\n",
      "lr_result3B.threshold=7.81\n",
      "H0 can be rejected at level 5.0%\n"
     ]
    }
   ],
   "source": [
    "lr_result3B = results_3B_unrestricted.likelihood_ratio_test(results_3B_restricted, 0.05)\n",
    "print(f'{lr_result3B.statistic=:.3g}')\n",
    "print(f'{lr_result3B.threshold=:.3g}')\n",
    "print(lr_result3B.message)"
   ]
  },
  {
   "cell_type": "markdown",
   "metadata": {},
   "source": [
    "#### Power series"
   ]
  },
  {
   "cell_type": "markdown",
   "metadata": {},
   "source": [
    "Trying square"
   ]
  },
  {
   "cell_type": "code",
   "execution_count": 66,
   "metadata": {},
   "outputs": [],
   "source": [
    "# Alternative specific constants (ASC_walk is normalized to 0)\n",
    "ASC_CYCLE_3C = Beta('ASC_CYCLE_3C', 0, None, None, 0)\n",
    "ASC_PT_3C    = Beta('ASC_PT_3C', 0, None, None, 0)\n",
    "ASC_CAR_3C   = Beta('ASC_CAR_3C', 0, None, None, 0)\n",
    "\n",
    "# Alternative specific time coefficient\n",
    "B_TIME_WALK_3C  = Beta('B_TIME_WALK_3C', 0, None, None, 0)\n",
    "B_TIME_CYCLE_3C = Beta('B_TIME_CYCLE_3C', 0, None, None, 0)\n",
    "B_TIME_PT_3C    = Beta('B_TIME_PT_3C', 0, None, None, 0)\n",
    "B_TIME_CAR_3C   = Beta('B_TIME_CAR_3C', 0, None, None, 0)\n",
    "\n",
    "# Power parameters\n",
    "B_TIME_WALK_3C_squared  = Beta('B_TIME_WALK_3C_squared', 0, None, None, 0)\n",
    "B_TIME_CYCLE_3C_squared = Beta('B_TIME_CYCLE_3C_squared', 0, None, None, 0)\n",
    "B_TIME_PT_3C_squared    = Beta('B_TIME_PT_3C_squared', 0, None, None, 0)\n",
    "B_TIME_CAR_3C_squared   = Beta('B_TIME_CAR_3C_squared', 0, None, None, 0)\n",
    "\n",
    "# Generic cost coefficient\n",
    "B_COST_3C = Beta('B_COST_3C', 0, None, None, 0)\n",
    "\n",
    "age = Variable('age')\n",
    "# B_AGE_CYCLE_3C = Beta('B_AGE_CYCLE_3C', 0, None, None, 0)\n",
    "B_AGE_PT_3C = Beta('B_AGE_PT_3C', 0, None, None, 0)\n",
    "B_AGE_CAR_3C = Beta('B_AGE_CAR_3C', 0, None, None, 0)"
   ]
  },
  {
   "cell_type": "code",
   "execution_count": 67,
   "metadata": {},
   "outputs": [
    {
     "name": "stdout",
     "output_type": "stream",
     "text": [
      "Number of estimated parameters:\t14\n",
      "Sample size:\t5000\n",
      "Excluded observations:\t0\n",
      "Init log likelihood:\t-4224.227\n",
      "Final log likelihood:\t-4223.509\n",
      "Likelihood ratio test for the init. model:\t1.4374\n",
      "Rho-square for the init. model:\t0.00017\n",
      "Rho-square-bar for the init. model:\t-0.00314\n",
      "Akaike Information Criterion:\t8475.017\n",
      "Bayesian Information Criterion:\t8566.258\n",
      "Final gradient norm:\t1.5427E-01\n",
      "Nbr of threads:\t8\n",
      "\n"
     ]
    }
   ],
   "source": [
    "V_walk_3C_piecewise_squared = (\n",
    "    B_TIME_WALK_3C * dur_walking\n",
    "    + B_TIME_WALK_3C_squared * dur_walking * dur_walking\n",
    ")\n",
    "\n",
    "V_cycle_3C_piecewise_squared = (\n",
    "    ASC_CYCLE_3C\n",
    "    # + B_AGE_CYCLE_3C * age\n",
    "    + B_TIME_CYCLE_3C * dur_cycling\n",
    "    + B_TIME_CYCLE_3C_squared * dur_cycling * dur_cycling\n",
    ")\n",
    "\n",
    "V_pt_3C_piecewise_squared = (\n",
    "    ASC_PT_3C\n",
    "    + B_AGE_PT_3C * age\n",
    "    + B_TIME_PT_3C * dur_pt\n",
    "    + B_TIME_PT_3C_squared * dur_pt * dur_pt\n",
    "    + B_COST_3C * cost_transit\n",
    ")\n",
    "\n",
    "V_car_3C_piecewise_squared = (\n",
    "    ASC_CAR_3C\n",
    "    + B_AGE_CAR_3C * age\n",
    "    + B_TIME_CAR_3C * dur_driving\n",
    "    + B_TIME_CAR_3C_squared * dur_driving * dur_driving\n",
    "    + B_COST_3C * cost_driving\n",
    ")\n",
    "\n",
    "V_3C_piecewise_squared ={1: V_walk_3C_piecewise_squared, 2: V_cycle_3C_piecewise_squared, 3: V_pt_3C_piecewise_squared, 4: V_car_3C_piecewise_squared}\n",
    "logprob_3C_piecewise_squared = loglogit(V_3C_piecewise_squared, None, travel_mode)\n",
    "biogeme_3C_piecewise_squared = bio.BIOGEME(database, logprob_3C_piecewise_squared)\n",
    "biogeme_3C_piecewise_squared.modelName = 'model_3C_power_series_2'\n",
    "\n",
    "results_3C_piecewise_squared = biogeme_3C_piecewise_squared.estimate()\n",
    "print(results_3C_piecewise_squared.print_general_statistics())"
   ]
  },
  {
   "cell_type": "markdown",
   "metadata": {},
   "source": [
    "Trying cubed"
   ]
  },
  {
   "cell_type": "code",
   "execution_count": 68,
   "metadata": {},
   "outputs": [],
   "source": [
    "# Alternative specific constants (ASC_walk is normalized to 0)\n",
    "ASC_CYCLE_3C = Beta('ASC_CYCLE_3C', 0, None, None, 0)\n",
    "ASC_PT_3C    = Beta('ASC_PT_3C', 0, None, None, 0)\n",
    "ASC_CAR_3C   = Beta('ASC_CAR_3C', 0, None, None, 0)\n",
    "\n",
    "# Alternative specific time coefficient\n",
    "B_TIME_WALK_3C  = Beta('B_TIME_WALK_3C', 0, None, None, 0)\n",
    "B_TIME_CYCLE_3C = Beta('B_TIME_CYCLE_3C', 0, None, None, 0)\n",
    "B_TIME_PT_3C    = Beta('B_TIME_PT_3C', 0, None, None, 0)\n",
    "B_TIME_CAR_3C   = Beta('B_TIME_CAR_3C', 0, None, None, 0)\n",
    "\n",
    "# Power parameters\n",
    "B_TIME_WALK_3C_cubed  = Beta('B_TIME_WALK_3C_cubed', 0, None, None, 0)\n",
    "B_TIME_CYCLE_3C_cubed = Beta('B_TIME_CYCLE_3C_cubed', 0, None, None, 0)\n",
    "B_TIME_PT_3C_cubed    = Beta('B_TIME_PT_3C_cubed', 0, None, None, 0)\n",
    "B_TIME_CAR_3C_cubed   = Beta('B_TIME_CAR_3C_cubed', 0, None, None, 0)\n",
    "\n",
    "# Generic cost coefficient\n",
    "B_COST_3C = Beta('B_COST_3C', 0, None, None, 0)\n",
    "\n",
    "age = Variable('age')\n",
    "# B_AGE_CYCLE_3C = Beta('B_AGE_CYCLE_3C', 0, None, None, 0)\n",
    "B_AGE_PT_3C = Beta('B_AGE_PT_3C', 0, None, None, 0)\n",
    "B_AGE_CAR_3C = Beta('B_AGE_CAR_3C', 0, None, None, 0)"
   ]
  },
  {
   "cell_type": "code",
   "execution_count": 69,
   "metadata": {},
   "outputs": [
    {
     "name": "stdout",
     "output_type": "stream",
     "text": [
      "Number of estimated parameters:\t14\n",
      "Sample size:\t5000\n",
      "Excluded observations:\t0\n",
      "Init log likelihood:\t-4242.968\n",
      "Final log likelihood:\t-4242.303\n",
      "Likelihood ratio test for the init. model:\t1.330539\n",
      "Rho-square for the init. model:\t0.000157\n",
      "Rho-square-bar for the init. model:\t-0.00314\n",
      "Akaike Information Criterion:\t8512.606\n",
      "Bayesian Information Criterion:\t8603.847\n",
      "Final gradient norm:\t1.1770E-01\n",
      "Nbr of threads:\t8\n",
      "\n"
     ]
    }
   ],
   "source": [
    "V_walk_3C_piecewise_cubed = (\n",
    "    B_TIME_WALK_3C * dur_walking\n",
    "    + B_TIME_WALK_3C_cubed * dur_walking * dur_walking * dur_walking\n",
    ")\n",
    "\n",
    "V_cycle_3C_piecewise_cubed = (\n",
    "    ASC_CYCLE_3C\n",
    "    # + B_AGE_CYCLE_3C * age\n",
    "    + B_TIME_CYCLE_3C * dur_cycling\n",
    "    + B_TIME_CYCLE_3C_cubed * dur_cycling * dur_cycling * dur_cycling\n",
    ")\n",
    "\n",
    "V_pt_3C_piecewise_cubed = (\n",
    "    ASC_PT_3C\n",
    "    + B_AGE_PT_3C * age\n",
    "    + B_TIME_PT_3C * dur_pt\n",
    "    + B_TIME_PT_3C_cubed * dur_pt * dur_pt * dur_pt\n",
    "    + B_COST_3C * cost_transit\n",
    ")\n",
    "\n",
    "V_car_3C_piecewise_cubed = (\n",
    "    ASC_CAR_3C\n",
    "    + B_AGE_CAR_3C * age\n",
    "    + B_TIME_CAR_3C * dur_driving\n",
    "    + B_TIME_CAR_3C_cubed * dur_driving * dur_driving * dur_driving\n",
    "    + B_COST_3C * cost_driving\n",
    ")\n",
    "\n",
    "V_3C_piecewise_cubed ={1: V_walk_3C_piecewise_cubed, 2: V_cycle_3C_piecewise_cubed, 3: V_pt_3C_piecewise_cubed, 4: V_car_3C_piecewise_cubed}\n",
    "logprob_3C_piecewise_cubed = loglogit(V_3C_piecewise_cubed, None, travel_mode)\n",
    "biogeme_3C_piecewise_cubed = bio.BIOGEME(database, logprob_3C_piecewise_cubed)\n",
    "biogeme_3C_piecewise_cubed.modelName = 'model_3C_power_series_3'\n",
    "\n",
    "results_3C_piecewise_cubed = biogeme_3C_piecewise_cubed.estimate()\n",
    "print(results_3C_piecewise_cubed.print_general_statistics())"
   ]
  },
  {
   "cell_type": "code",
   "execution_count": 70,
   "metadata": {},
   "outputs": [],
   "source": [
    "V_pref = V_3B_unrestricted\n",
    "results_pref = results_3B_unrestricted"
   ]
  },
  {
   "cell_type": "markdown",
   "metadata": {},
   "source": [
    "## Model 4"
   ]
  },
  {
   "cell_type": "code",
   "execution_count": 71,
   "metadata": {},
   "outputs": [],
   "source": [
    "mu_motorized = Beta('mu_motorized', 1, 0, None, 0)\n",
    "motorized = OneNestForNestedLogit(nest_param=mu_motorized, list_of_alternatives=[3, 4], name='motorized')\n",
    "walk = OneNestForNestedLogit(nest_param=1, list_of_alternatives=[1], name='walk')\n",
    "bike = OneNestForNestedLogit(nest_param=1, list_of_alternatives=[2], name='bike')\n",
    "nests = NestsForNestedLogit(choice_set=V_pref, tuple_of_nests=(motorized, walk, bike))"
   ]
  },
  {
   "cell_type": "code",
   "execution_count": 72,
   "metadata": {},
   "outputs": [
    {
     "name": "stdout",
     "output_type": "stream",
     "text": [
      "Number of estimated parameters:\t15\n",
      "Sample size:\t5000\n",
      "Excluded observations:\t0\n",
      "Init log likelihood:\t-4171.758\n",
      "Final log likelihood:\t-4170.034\n",
      "Likelihood ratio test for the init. model:\t3.447996\n",
      "Rho-square for the init. model:\t0.000413\n",
      "Rho-square-bar for the init. model:\t-0.00318\n",
      "Akaike Information Criterion:\t8370.068\n",
      "Bayesian Information Criterion:\t8467.826\n",
      "Final gradient norm:\t1.6556E-01\n",
      "Nbr of threads:\t8\n",
      "\n"
     ]
    }
   ],
   "source": [
    "logprob_4 = lognested(V_pref, None, nests, travel_mode)\n",
    "biogeme_4 = bio.BIOGEME(database, logprob_4)\n",
    "biogeme_4.modelName = 'model_4'\n",
    "results_4 = biogeme_4.estimate()\n",
    "print(results_4.print_general_statistics())"
   ]
  },
  {
   "cell_type": "code",
   "execution_count": 73,
   "metadata": {},
   "outputs": [
    {
     "data": {
      "text/html": [
       "<div>\n",
       "<style scoped>\n",
       "    .dataframe tbody tr th:only-of-type {\n",
       "        vertical-align: middle;\n",
       "    }\n",
       "\n",
       "    .dataframe tbody tr th {\n",
       "        vertical-align: top;\n",
       "    }\n",
       "\n",
       "    .dataframe thead th {\n",
       "        text-align: right;\n",
       "    }\n",
       "</style>\n",
       "<table border=\"1\" class=\"dataframe\">\n",
       "  <thead>\n",
       "    <tr style=\"text-align: right;\">\n",
       "      <th></th>\n",
       "      <th>Value</th>\n",
       "      <th>Rob. Std err</th>\n",
       "      <th>Rob. t-test</th>\n",
       "      <th>Rob. p-value</th>\n",
       "    </tr>\n",
       "  </thead>\n",
       "  <tbody>\n",
       "    <tr>\n",
       "      <th>ASC_CAR_3B</th>\n",
       "      <td>0.232764</td>\n",
       "      <td>0.627361</td>\n",
       "      <td>0.371022</td>\n",
       "      <td>7.106214e-01</td>\n",
       "    </tr>\n",
       "    <tr>\n",
       "      <th>ASC_CYCLE_3B</th>\n",
       "      <td>-1.692696</td>\n",
       "      <td>0.433069</td>\n",
       "      <td>-3.908604</td>\n",
       "      <td>9.283089e-05</td>\n",
       "    </tr>\n",
       "    <tr>\n",
       "      <th>ASC_PT_3B</th>\n",
       "      <td>1.501319</td>\n",
       "      <td>0.363194</td>\n",
       "      <td>4.133650</td>\n",
       "      <td>3.570464e-05</td>\n",
       "    </tr>\n",
       "    <tr>\n",
       "      <th>B_AGE_CAR_3B</th>\n",
       "      <td>0.019015</td>\n",
       "      <td>0.002183</td>\n",
       "      <td>8.711644</td>\n",
       "      <td>0.000000e+00</td>\n",
       "    </tr>\n",
       "    <tr>\n",
       "      <th>B_AGE_PT_3B</th>\n",
       "      <td>0.014723</td>\n",
       "      <td>0.002421</td>\n",
       "      <td>6.080745</td>\n",
       "      <td>1.196255e-09</td>\n",
       "    </tr>\n",
       "    <tr>\n",
       "      <th>B_COST_3B</th>\n",
       "      <td>-0.085298</td>\n",
       "      <td>0.023974</td>\n",
       "      <td>-3.557888</td>\n",
       "      <td>3.738489e-04</td>\n",
       "    </tr>\n",
       "    <tr>\n",
       "      <th>B_TIME_CAR_3B</th>\n",
       "      <td>-2.278865</td>\n",
       "      <td>0.565664</td>\n",
       "      <td>-4.028653</td>\n",
       "      <td>5.609744e-05</td>\n",
       "    </tr>\n",
       "    <tr>\n",
       "      <th>B_TIME_CYCLE_3B</th>\n",
       "      <td>-2.269014</td>\n",
       "      <td>0.555981</td>\n",
       "      <td>-4.081103</td>\n",
       "      <td>4.482245e-05</td>\n",
       "    </tr>\n",
       "    <tr>\n",
       "      <th>B_TIME_PT_3B</th>\n",
       "      <td>-2.264939</td>\n",
       "      <td>0.500223</td>\n",
       "      <td>-4.527862</td>\n",
       "      <td>5.958341e-06</td>\n",
       "    </tr>\n",
       "    <tr>\n",
       "      <th>B_TIME_WALK_3B</th>\n",
       "      <td>-4.289004</td>\n",
       "      <td>0.365256</td>\n",
       "      <td>-11.742456</td>\n",
       "      <td>0.000000e+00</td>\n",
       "    </tr>\n",
       "    <tr>\n",
       "      <th>lambda_boxcox_cycling</th>\n",
       "      <td>0.178127</td>\n",
       "      <td>0.140199</td>\n",
       "      <td>1.270527</td>\n",
       "      <td>2.038968e-01</td>\n",
       "    </tr>\n",
       "    <tr>\n",
       "      <th>lambda_boxcox_driving</th>\n",
       "      <td>0.212701</td>\n",
       "      <td>0.073904</td>\n",
       "      <td>2.878084</td>\n",
       "      <td>4.000980e-03</td>\n",
       "    </tr>\n",
       "    <tr>\n",
       "      <th>lambda_boxcox_pt</th>\n",
       "      <td>0.447615</td>\n",
       "      <td>0.119464</td>\n",
       "      <td>3.746873</td>\n",
       "      <td>1.790529e-04</td>\n",
       "    </tr>\n",
       "    <tr>\n",
       "      <th>lambda_boxcox_walking</th>\n",
       "      <td>0.087396</td>\n",
       "      <td>0.060812</td>\n",
       "      <td>1.437148</td>\n",
       "      <td>1.506760e-01</td>\n",
       "    </tr>\n",
       "    <tr>\n",
       "      <th>mu_motorized</th>\n",
       "      <td>1.433446</td>\n",
       "      <td>0.293854</td>\n",
       "      <td>4.878093</td>\n",
       "      <td>1.071166e-06</td>\n",
       "    </tr>\n",
       "  </tbody>\n",
       "</table>\n",
       "</div>"
      ],
      "text/plain": [
       "                          Value  Rob. Std err  Rob. t-test  Rob. p-value\n",
       "ASC_CAR_3B             0.232764      0.627361     0.371022  7.106214e-01\n",
       "ASC_CYCLE_3B          -1.692696      0.433069    -3.908604  9.283089e-05\n",
       "ASC_PT_3B              1.501319      0.363194     4.133650  3.570464e-05\n",
       "B_AGE_CAR_3B           0.019015      0.002183     8.711644  0.000000e+00\n",
       "B_AGE_PT_3B            0.014723      0.002421     6.080745  1.196255e-09\n",
       "B_COST_3B             -0.085298      0.023974    -3.557888  3.738489e-04\n",
       "B_TIME_CAR_3B         -2.278865      0.565664    -4.028653  5.609744e-05\n",
       "B_TIME_CYCLE_3B       -2.269014      0.555981    -4.081103  4.482245e-05\n",
       "B_TIME_PT_3B          -2.264939      0.500223    -4.527862  5.958341e-06\n",
       "B_TIME_WALK_3B        -4.289004      0.365256   -11.742456  0.000000e+00\n",
       "lambda_boxcox_cycling  0.178127      0.140199     1.270527  2.038968e-01\n",
       "lambda_boxcox_driving  0.212701      0.073904     2.878084  4.000980e-03\n",
       "lambda_boxcox_pt       0.447615      0.119464     3.746873  1.790529e-04\n",
       "lambda_boxcox_walking  0.087396      0.060812     1.437148  1.506760e-01\n",
       "mu_motorized           1.433446      0.293854     4.878093  1.071166e-06"
      ]
     },
     "metadata": {},
     "output_type": "display_data"
    }
   ],
   "source": [
    "table_4 = results_4.get_estimated_parameters()\n",
    "display(table_4)\n"
   ]
  },
  {
   "cell_type": "markdown",
   "metadata": {},
   "source": [
    "The nested parameter is greater than one, consistently with the theory."
   ]
  },
  {
   "cell_type": "code",
   "execution_count": 80,
   "metadata": {},
   "outputs": [
    {
     "name": "stdout",
     "output_type": "stream",
     "text": [
      "Nest parameter: 1.43\n",
      "t_test against 1: -1.48\n"
     ]
    }
   ],
   "source": [
    "value_mu_motorized = table_4.loc['mu_motorized', 'Value']\n",
    "print(f'Nest parameter: {value_mu_motorized:.3g}')\n",
    "\n",
    "mu_stderr = table_4.loc['mu_motorized', 'Rob. Std err']\n",
    "tested_value = 1\n",
    "t_test = (tested_value - value_mu_motorized) / mu_stderr\n",
    "print(f't_test against 1: {t_test:.3g}')"
   ]
  },
  {
   "cell_type": "code",
   "execution_count": null,
   "metadata": {},
   "outputs": [
    {
     "name": "stdout",
     "output_type": "stream",
     "text": [
      "Statistic for the LR test: 5.3\n"
     ]
    }
   ],
   "source": [
    "LL_logit = results_pref.data.logLike\n",
    "LL_nested_existing = results_4.data.logLike\n",
    "LR = -2 * (LL_logit - LL_nested_existing)\n",
    "print(f'Statistic for the LR test: {LR:.3g}')"
   ]
  },
  {
   "cell_type": "code",
   "execution_count": 85,
   "metadata": {},
   "outputs": [
    {
     "name": "stdout",
     "output_type": "stream",
     "text": [
      "Degrees of freedom: 1\n"
     ]
    }
   ],
   "source": [
    "dof = results_4.data.nparam - results_pref.data.nparam\n",
    "print(f'Degrees of freedom: {dof}')"
   ]
  },
  {
   "cell_type": "code",
   "execution_count": 86,
   "metadata": {},
   "outputs": [
    {
     "name": "stdout",
     "output_type": "stream",
     "text": [
      "Threshold for the test: 3.84\n"
     ]
    }
   ],
   "source": [
    "print(f'Threshold for the test: {chi2.isf(0.05, dof):.3g}')"
   ]
  },
  {
   "cell_type": "code",
   "execution_count": 74,
   "metadata": {},
   "outputs": [
    {
     "name": "stdout",
     "output_type": "stream",
     "text": [
      "lr_test_existing.statistic=5.3\n",
      "lr_test_existing.threshold=3.84\n",
      "H0 can be rejected at level 5.0%\n"
     ]
    }
   ],
   "source": [
    "lr_test_existing = results_4.likelihood_ratio_test(\n",
    "    results_pref, significance_level=0.05\n",
    ")\n",
    "print(f'{lr_test_existing.statistic=:.3g}')\n",
    "print(f'{lr_test_existing.threshold=:.3g}')\n",
    "print(lr_test_existing.message)\n"
   ]
  },
  {
   "cell_type": "markdown",
   "metadata": {},
   "source": [
    "## Market shares"
   ]
  },
  {
   "cell_type": "code",
   "execution_count": null,
   "metadata": {},
   "outputs": [],
   "source": [
    "def get_weights(df):\n",
    "    # Size of each segment in the population (N_g)\n",
    "    census = {\n",
    "        'female_44_less': 2841376,\n",
    "        'female_45_more': 1519948,\n",
    "        'male_44_less': 2926408,\n",
    "        'male_45_more': 1379198,\n",
    "    }\n",
    "\n",
    "    # Size of the population (N)\n",
    "    population_size = sum(census.values())\n",
    "\n",
    "    # Identify each segment in the database\n",
    "    filters = {\n",
    "        'female_44_less': (df.age <= 44) & (df.female == 1),\n",
    "        'female_45_more': (df.age >= 45) & (df.female == 1),\n",
    "        'male_44_less': (df.age <= 44) & (df.female == 0),\n",
    "        'male_45_more': (df.age >= 45) & (df.female == 0),\n",
    "    }\n",
    "\n",
    "    # Size of each segment in the sample (S_g)\n",
    "    sample_segments = {\n",
    "        segment_name: segment_rows.sum() for segment_name, segment_rows in filters.items()\n",
    "    }\n",
    "\n",
    "    # Size of the sample (S)\n",
    "    sample_size = sum(sample_segments.values())\n",
    "\n",
    "    # Weights (omega_g = (N_g / N) * (S / S_g))\n",
    "    weights = {\n",
    "        segment_name: census[segment_name] * sample_size / (segment_size * population_size)\n",
    "        for segment_name, segment_size in sample_segments.items()\n",
    "    }\n",
    "\n",
    "    return weights\n",
    "\n",
    "def get_segments_size_in_sample(df):\n",
    "    # Identify each segment in the database\n",
    "    filters = {\n",
    "        'female_44_less': (df.age <= 44) & (df.female == 1),\n",
    "        'female_45_more': (df.age >= 45) & (df.female == 1),\n",
    "        'male_44_less': (df.age <= 44) & (df.female == 0),\n",
    "        'male_45_more': (df.age >= 45) & (df.female == 0),\n",
    "    }\n",
    "\n",
    "    # Size of each segment in the sample (S_g)\n",
    "    sample_segments = {\n",
    "        segment_name: segment_rows.sum() for segment_name, segment_rows in filters.items()\n",
    "    }\n",
    "\n",
    "    return sample_segments\n",
    "\n",
    "\n",
    "def get_market_shares(df, V, alpha = 0.9, nested_=False, nests=None):\n",
    "    \"\"\"\n",
    "    Input parameters :\n",
    "    -> database : a panda dataframe,\n",
    "    -> V : a dictionnary with the utility functions\n",
    "       (1:walk, 2:cycle, 3:pt, 4:car)\n",
    "    -> alpha : size of the confidence intervals\n",
    "    -> nested : boolean, True if the model is nested logit\n",
    "    -> nests : nest object, if the model is nested logit\n",
    "    Output :\n",
    "    -> market_shares : dictionnary with the market shares \n",
    "        (1:walk, 2:cycle, 3:pt, 4:car)\n",
    "    -> left : dict with the left bound of IC\n",
    "    -> right : dict with the right bound of IC\n",
    "    The three dicts are in %\n",
    "    \"\"\"\n",
    "    weights = get_weights(df)\n",
    "\n",
    "    filters = {\n",
    "        'female_44_less': (df.age <= 44) & (df.female == 1),\n",
    "        'female_45_more': (df.age >= 45) & (df.female == 1),\n",
    "        'male_44_less': (df.age <= 44) & (df.female == 0),\n",
    "        'male_45_more': (df.age >= 45) & (df.female == 0),\n",
    "    }\n",
    "\n",
    "    # Create a new dataframe to add the market shares in it\n",
    "    df_ms = df.copy()\n",
    "\n",
    "    # Add the weights in the dataframe\n",
    "    for segment_name, segment_rows in filters.items():\n",
    "        df_ms.loc[segment_rows, 'weight'] = weights[segment_name]\n",
    "\n",
    "    # Useful variables for later\n",
    "    weight = Variable('weight')\n",
    "    travel_mode = Variable('travel_mode')\n",
    "\n",
    "    if nested_ is False:\n",
    "        # Apply model to the new dataframe\n",
    "        database_ms = db.Database('lpcm_ms', df_ms)\n",
    "        logprob_ms  = loglogit(V, None, travel_mode)\n",
    "        biogeme_ms  = bio.BIOGEME(database_ms, logprob_ms)\n",
    "        biogeme_ms.modelName = 'market_shares'\n",
    "        results_ms  = biogeme_ms.estimate()\n",
    "\n",
    "        # Normalization for probabilities\n",
    "        normV = exp(V[1]) + exp(V[2]) + exp(V[3]) + exp(V[4])\n",
    "\n",
    "        # Probabilities\n",
    "        prob_walk  = exp(V[1]) / normV\n",
    "        prob_cycle = exp(V[2]) / normV\n",
    "        prob_pt    = exp(V[3]) / normV\n",
    "        prob_car   = exp(V[4]) / normV\n",
    "    else:\n",
    "        database_ms = db.Database('lpmc', df_ms)\n",
    "        logprob_ms  = lognested(V, None, nests, travel_mode)\n",
    "        biogeme_ms  = bio.BIOGEME(database_ms, logprob_ms)\n",
    "        biogeme_ms.modelName = 'market_shares'\n",
    "        results_ms  = biogeme_ms.estimate()\n",
    "        prob_walk   = nested(V, None, nests, 1)\n",
    "        prob_cycle  = nested(V, None, nests, 2)\n",
    "        prob_pt     = nested(V, None, nests, 3)\n",
    "        prob_car    = nested(V, None, nests, 4)  \n",
    "\n",
    "    # Computation of interesting formulas\n",
    "    simulate = {\n",
    "        'weight': weight,\n",
    "        'Prob. walk': prob_walk,\n",
    "        'Prob. cycle': prob_cycle,\n",
    "        'Prob. PT': prob_pt,\n",
    "        'Prob. car': prob_car\n",
    "    }\n",
    "    biosim_ms = bio.BIOGEME(database_ms, simulate)\n",
    "    simulated_values = biosim_ms.simulate(results_ms.get_beta_values())\n",
    "\n",
    "    simulated_values['Weighted walk'] = (\n",
    "        simulated_values['weight'] * simulated_values['Prob. walk']\n",
    "    )\n",
    "    simulated_values['Weighted cycle'] = (\n",
    "        simulated_values['weight'] * simulated_values['Prob. cycle']\n",
    "    )\n",
    "    simulated_values['Weighted PT'] = (\n",
    "        simulated_values['weight'] * simulated_values['Prob. PT']\n",
    "    )\n",
    "    simulated_values['Weighted car'] = (\n",
    "        simulated_values['weight'] * simulated_values['Prob. car']\n",
    "    )\n",
    "\n",
    "    # Market shares\n",
    "    market_share_walk  = simulated_values['Weighted walk'].mean()\n",
    "    market_share_cycle = simulated_values['Weighted cycle'].mean()\n",
    "    market_share_pt    = simulated_values['Weighted PT'].mean()\n",
    "    market_share_car   = simulated_values['Weighted car'].mean()\n",
    "\n",
    "    market_shares = {\n",
    "        1: market_share_walk*100, \n",
    "        2: market_share_cycle*100,\n",
    "        3: market_share_pt*100,\n",
    "        4: market_share_car*100,\n",
    "    }\n",
    "\n",
    "    # Confidence intervals\n",
    "    biogeme_ms.bootstrap_samples = 100\n",
    "    results_bootstrapping = biogeme_ms.estimate(run_bootstrap=True)\n",
    "    betas = biogeme_ms.free_beta_names\n",
    "    b = results_bootstrapping.get_betas_for_sensitivity_analysis(betas)\n",
    "    left, right = biosim_ms.confidence_intervals(b, alpha)\n",
    "\n",
    "    left['Weighted walk']  = left['weight'] * left['Prob. walk']\n",
    "    left['Weighted cycle'] = left['weight'] * left['Prob. cycle']\n",
    "    left['Weighted PT']    = left['weight'] * left['Prob. PT']\n",
    "    left['Weighted car']   = left['weight'] * left['Prob. car']\n",
    "\n",
    "    right['Weighted walk']  = right['weight'] * right['Prob. walk']\n",
    "    right['Weighted cycle'] = right['weight'] * right['Prob. cycle']\n",
    "    right['Weighted PT']    = right['weight'] * right['Prob. PT']\n",
    "    right['Weighted car']   = right['weight'] * right['Prob. car']\n",
    "\n",
    "    left_market_share_walk  = left['Weighted walk'].mean()\n",
    "    left_market_share_cycle = left['Weighted cycle'].mean()\n",
    "    left_market_share_pt    = left['Weighted PT'].mean()\n",
    "    left_market_share_car   = left['Weighted car'].mean()\n",
    "\n",
    "    right_market_share_walk  = right['Weighted walk'].mean()\n",
    "    right_market_share_cycle = right['Weighted cycle'].mean()\n",
    "    right_market_share_pt    = right['Weighted PT'].mean()\n",
    "    right_market_share_car   = right['Weighted car'].mean()\n",
    "\n",
    "    left = {\n",
    "        1: left_market_share_walk*100,\n",
    "        2: left_market_share_cycle*100,\n",
    "        3: left_market_share_pt*100,\n",
    "        4: left_market_share_car*100,\n",
    "    }\n",
    "\n",
    "    right = {\n",
    "        1: right_market_share_walk*100,\n",
    "        2: right_market_share_cycle*100,\n",
    "        3: right_market_share_pt*100,\n",
    "        4: right_market_share_car*100,\n",
    "    }\n",
    "\n",
    "    return market_shares, left, right\n",
    "\n",
    "def display_market_shares(df, V, alpha = 0.9, nested=False, nests=None):\n",
    "    market_shares, left, right = get_market_shares(df, V, alpha, nested_=nested, nests=nests)\n",
    "    alternative_names = {\n",
    "        1: 'walk',\n",
    "        2: 'cycle',\n",
    "        3: 'PT',\n",
    "        4: 'car'\n",
    "    }\n",
    "    for i in np.arange(1,5):\n",
    "        print(\n",
    "            f'Market share for {alternative_names[i]}: {market_shares[i]:.2f}% '\n",
    "            f'CI: ['\n",
    "            f'{left[i]:.2f}%-'\n",
    "            f'{right[i]:.2f}'\n",
    "            f'%]'\n",
    "        )\n",
    "\n",
    "def get_sample_market_shares(df):\n",
    "    market_shares = {}\n",
    "    # Compute the segments size in the sample\n",
    "    segments = {\n",
    "        'walk': sum(df.travel_mode == 1),\n",
    "        'cycle' : sum(df.travel_mode == 2),\n",
    "        'pt' : sum(df.travel_mode == 3),\n",
    "        'car' : sum(df.travel_mode == 4)\n",
    "    }\n",
    "    S = sum(segments.values())\n",
    "    for name, value in segments.items():\n",
    "        market_shares[name] = value/S\n",
    "    return market_shares\n",
    "\n",
    "def display_sample_market_shares(df):\n",
    "    market_shares = get_sample_market_shares(df)\n",
    "    for name, value in market_shares.items():\n",
    "        print(f'Real market share within sample for {name}: {100*value:.2f}% ')\n",
    "\n",
    "def get_weighted_market_shares(df):\n",
    "    # The predicted share for alternative i is given by W(i) = 1/S * sum_{over individuals}(omega_n * P(i,x_n))\n",
    "    # Where S the number of individuals in the sample, omega the weights, and P(i,x_n) the probability\n",
    "    # that individual n choses alternative i. In our case we have two possibilities.\n",
    "    # 1) We can compute the market shares within the sample, without taking the weights into account (equivalently,\n",
    "    #    considering all weights equal to 1, the sampling is perfectly representative of the population)\n",
    "    #    (that is what the function get_sample_market_shares does)\n",
    "    # 2) We can take those weights into accounts, and using the formula above where P(i,x_n) is the percentage\n",
    "    #    of individuals within the segment to which individual n belongs that chose alternative i. After some manipulations\n",
    "    #    of equations, we find W(i) = sum_{over segments} (N_g / N) (S_g(i) / S_g)\n",
    "    #    where N_g/N is the true proportion of the segment in the population, S_g the size of the segment in the sample\n",
    "    #    and S_g(i) the number of persons within this segment having chosen alternative i\n",
    "    census = {\n",
    "        'female_44_less': 2841376,\n",
    "        'female_45_more': 1519948,\n",
    "        'male_44_less': 2926408,\n",
    "        'male_45_more': 1379198,\n",
    "    }\n",
    "    N = sum(census.values())\n",
    "\n",
    "    filters = {\n",
    "        'female_44_less': sum((df.age <= 44) & (df.female == 1)),\n",
    "        'female_45_more': sum((df.age >= 45) & (df.female == 1)),\n",
    "        'male_44_less': sum((df.age <= 44) & (df.female == 0)),\n",
    "        'male_45_more': sum((df.age >= 45) & (df.female == 0)),\n",
    "    }\n",
    "    S = sum(filters.values())\n",
    "\n",
    "    market_shares = {}\n",
    "\n",
    "    alternative_names = {1: 'walk', 2: 'cycle', 3: 'pt', 4: 'car'}\n",
    "\n",
    "    for i in np.arange(1,5):\n",
    "        filters_alternative = {\n",
    "            'female_44_less': sum((df.age <= 44) & (df.female == 1) & (df.travel_mode == i)),\n",
    "            'female_45_more': sum((df.age >= 45) & (df.female == 1) & (df.travel_mode == i)),\n",
    "            'male_44_less': sum((df.age <= 44) & (df.female == 0) & (df.travel_mode == i)),\n",
    "            'male_45_more': sum((df.age >= 45) & (df.female == 0) & (df.travel_mode == i)),\n",
    "        }\n",
    "        ms = 0\n",
    "        for name in census.keys():\n",
    "            ms += (census[name] / N) * (filters_alternative[name] / filters[name])\n",
    "        market_shares[alternative_names[i]] = ms\n",
    "    \n",
    "    return market_shares\n",
    "\n",
    "    \n",
    "\n",
    "def display_weighted_market_shares(df):\n",
    "    market_shares = get_weighted_market_shares(df)\n",
    "    for name, value in market_shares.items():\n",
    "        print(f'Weighted market share for {name}: {100*value:.2f}% ')"
   ]
  },
  {
   "cell_type": "code",
   "execution_count": 76,
   "metadata": {},
   "outputs": [
    {
     "name": "stdout",
     "output_type": "stream",
     "text": [
      "Size of segments within sample :  {'female_44_less': np.int64(1673), 'female_45_more': np.int64(957), 'male_44_less': np.int64(1432), 'male_45_more': np.int64(938)}\n",
      "S =  5000\n",
      "Size of segments within population :  {'female_44_less': 2841376, 'female_45_more': 1519948, 'male_44_less': 2926408, 'male_45_more': 1379198}\n",
      "N =  8666930\n",
      "{'female_44_less': np.float64(0.9798001063863486), 'female_45_more': np.float64(0.9162658659077806), 'male_44_less': np.float64(1.178953219644437), 'male_45_more': np.float64(0.8482590381781011)}\n",
      "Real market share within sample for walk: 18.16% \n",
      "Real market share within sample for cycle: 3.18% \n",
      "Real market share within sample for pt: 34.74% \n",
      "Real market share within sample for car: 43.92% \n",
      "Weighted market share for walk: 18.28% \n",
      "Weighted market share for cycle: 3.33% \n",
      "Weighted market share for pt: 35.06% \n",
      "Weighted market share for car: 43.33% \n",
      "Model 1A\n"
     ]
    },
    {
     "name": "stderr",
     "output_type": "stream",
     "text": [
      "100%|██████████| 100/100 [00:33<00:00,  2.98it/s]\n"
     ]
    },
    {
     "name": "stdout",
     "output_type": "stream",
     "text": [
      "Market share for walk: 18.10% CI: [17.01%-19.11%]\n",
      "Market share for cycle: 3.18% CI: [2.63%-3.72%]\n",
      "Market share for PT: 34.96% CI: [33.28%-36.67%]\n",
      "Market share for car: 43.76% CI: [41.80%-45.76%]\n",
      "Model 2B\n"
     ]
    },
    {
     "name": "stderr",
     "output_type": "stream",
     "text": [
      "100%|██████████| 100/100 [01:22<00:00,  1.21it/s]\n"
     ]
    },
    {
     "name": "stdout",
     "output_type": "stream",
     "text": [
      "Market share for walk: 18.32% CI: [17.19%-19.54%]\n",
      "Market share for cycle: 3.23% CI: [2.57%-3.97%]\n",
      "Market share for PT: 35.01% CI: [32.78%-37.09%]\n",
      "Market share for car: 43.44% CI: [41.23%-45.86%]\n",
      "Model 3B unrestricted\n"
     ]
    },
    {
     "name": "stderr",
     "output_type": "stream",
     "text": [
      "100%|██████████| 100/100 [02:53<00:00,  1.73s/it]\n"
     ]
    },
    {
     "name": "stdout",
     "output_type": "stream",
     "text": [
      "Market share for walk: 18.31% CI: [17.13%-19.46%]\n",
      "Market share for cycle: 3.24% CI: [2.60%-4.05%]\n",
      "Market share for PT: 35.01% CI: [32.92%-37.13%]\n",
      "Market share for car: 43.44% CI: [41.03%-45.85%]\n",
      "Model 4\n"
     ]
    },
    {
     "ename": "TypeError",
     "evalue": "display_market_shares() got an unexpected keyword argument 'nested'",
     "output_type": "error",
     "traceback": [
      "\u001b[1;31m---------------------------------------------------------------------------\u001b[0m",
      "\u001b[1;31mTypeError\u001b[0m                                 Traceback (most recent call last)",
      "Cell \u001b[1;32mIn[76], line 35\u001b[0m\n\u001b[0;32m     33\u001b[0m display_market_shares(df, V_3B_unrestricted)\n\u001b[0;32m     34\u001b[0m \u001b[38;5;28mprint\u001b[39m(\u001b[38;5;124m'\u001b[39m\u001b[38;5;124mModel 4\u001b[39m\u001b[38;5;124m'\u001b[39m)\n\u001b[1;32m---> 35\u001b[0m \u001b[43mdisplay_market_shares\u001b[49m\u001b[43m(\u001b[49m\u001b[43mdf\u001b[49m\u001b[43m,\u001b[49m\u001b[43m \u001b[49m\u001b[43mV_pref\u001b[49m\u001b[43m,\u001b[49m\u001b[43m \u001b[49m\u001b[43mnested\u001b[49m\u001b[38;5;241;43m=\u001b[39;49m\u001b[38;5;28;43;01mTrue\u001b[39;49;00m\u001b[43m,\u001b[49m\u001b[43m \u001b[49m\u001b[43mnests\u001b[49m\u001b[38;5;241;43m=\u001b[39;49m\u001b[43mnests\u001b[49m\u001b[43m)\u001b[49m\n",
      "\u001b[1;31mTypeError\u001b[0m: display_market_shares() got an unexpected keyword argument 'nested'"
     ]
    }
   ],
   "source": [
    "#########################################\n",
    "# Display of relevant data for the report\n",
    "#########################################\n",
    "\n",
    "# Size of segments within sample\n",
    "segments_size = get_segments_size_in_sample(df)\n",
    "print('Size of segments within sample : ', segments_size)\n",
    "print('S = ', sum(segments_size.values()))\n",
    "\n",
    "# Size of segments in total population\n",
    "census = {\n",
    "        'female_44_less': 2841376,\n",
    "        'female_45_more': 1519948,\n",
    "        'male_44_less': 2926408,\n",
    "        'male_45_more': 1379198,\n",
    "    }\n",
    "print('Size of segments within population : ', census)\n",
    "print('N = ', sum(census.values()))\n",
    "\n",
    "# Weights\n",
    "print(get_weights(df))\n",
    "\n",
    "# Sample and weighted market shares\n",
    "display_sample_market_shares(df)\n",
    "display_weighted_market_shares(df)\n",
    "\n",
    "# Market shares for a few models\n",
    "print('Model 1A')\n",
    "display_market_shares(df, V_1A)\n",
    "print('Model 2B')\n",
    "display_market_shares(df, V_2A)\n",
    "print('Model 3B unrestricted')\n",
    "display_market_shares(df, V_3B_unrestricted)\n",
    "print('Model 4')\n",
    "display_market_shares(df, V_pref, nested=True, nests=nests)"
   ]
  },
  {
   "cell_type": "markdown",
   "metadata": {},
   "source": [
    "## Forecasting"
   ]
  },
  {
   "cell_type": "markdown",
   "metadata": {},
   "source": []
  }
 ],
 "metadata": {
  "kernelspec": {
   "display_name": "mmb",
   "language": "python",
   "name": "python3"
  },
  "language_info": {
   "codemirror_mode": {
    "name": "ipython",
    "version": 3
   },
   "file_extension": ".py",
   "mimetype": "text/x-python",
   "name": "python",
   "nbconvert_exporter": "python",
   "pygments_lexer": "ipython3",
   "version": "3.11.9"
  }
 },
 "nbformat": 4,
 "nbformat_minor": 2
}
