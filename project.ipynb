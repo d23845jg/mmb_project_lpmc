{
 "cells": [
  {
   "cell_type": "code",
   "execution_count": 17,
   "metadata": {},
   "outputs": [],
   "source": [
    "import pandas as pd\n",
    "import biogeme.database as db\n",
    "import biogeme.biogeme as bio\n",
    "from IPython.core.display_functions import display\n",
    "from biogeme.expressions import Beta, Variable\n",
    "from biogeme.models import loglogit\n",
    "from biogeme.segmentation import DiscreteSegmentationTuple, segmented_beta"
   ]
  },
  {
   "cell_type": "code",
   "execution_count": 18,
   "metadata": {},
   "outputs": [],
   "source": [
    "# Loading the data\n",
    "df = pd.read_csv('lpmc06.dat', sep='\\t')"
   ]
  },
  {
   "cell_type": "code",
   "execution_count": 19,
   "metadata": {},
   "outputs": [
    {
     "data": {
      "text/html": [
       "<div>\n",
       "<style scoped>\n",
       "    .dataframe tbody tr th:only-of-type {\n",
       "        vertical-align: middle;\n",
       "    }\n",
       "\n",
       "    .dataframe tbody tr th {\n",
       "        vertical-align: top;\n",
       "    }\n",
       "\n",
       "    .dataframe thead th {\n",
       "        text-align: right;\n",
       "    }\n",
       "</style>\n",
       "<table border=\"1\" class=\"dataframe\">\n",
       "  <thead>\n",
       "    <tr style=\"text-align: right;\">\n",
       "      <th></th>\n",
       "      <th>trip_id</th>\n",
       "      <th>household_id</th>\n",
       "      <th>person_n</th>\n",
       "      <th>trip_n</th>\n",
       "      <th>travel_mode</th>\n",
       "      <th>purpose</th>\n",
       "      <th>fueltype</th>\n",
       "      <th>faretype</th>\n",
       "      <th>bus_scale</th>\n",
       "      <th>survey_year</th>\n",
       "      <th>...</th>\n",
       "      <th>dur_pt_access</th>\n",
       "      <th>dur_pt_rail</th>\n",
       "      <th>dur_pt_bus</th>\n",
       "      <th>dur_pt_int</th>\n",
       "      <th>pt_interchanges</th>\n",
       "      <th>dur_driving</th>\n",
       "      <th>cost_transit</th>\n",
       "      <th>cost_driving_fuel</th>\n",
       "      <th>cost_driving_ccharge</th>\n",
       "      <th>driving_traffic_percent</th>\n",
       "    </tr>\n",
       "  </thead>\n",
       "  <tbody>\n",
       "    <tr>\n",
       "      <th>0</th>\n",
       "      <td>7</td>\n",
       "      <td>0</td>\n",
       "      <td>2</td>\n",
       "      <td>1</td>\n",
       "      <td>4</td>\n",
       "      <td>3</td>\n",
       "      <td>1</td>\n",
       "      <td>3</td>\n",
       "      <td>0.0</td>\n",
       "      <td>1</td>\n",
       "      <td>...</td>\n",
       "      <td>0.109444</td>\n",
       "      <td>0.000000</td>\n",
       "      <td>0.055556</td>\n",
       "      <td>0.000000</td>\n",
       "      <td>0</td>\n",
       "      <td>0.059444</td>\n",
       "      <td>0.0</td>\n",
       "      <td>0.15</td>\n",
       "      <td>0.0</td>\n",
       "      <td>0.112150</td>\n",
       "    </tr>\n",
       "    <tr>\n",
       "      <th>1</th>\n",
       "      <td>21</td>\n",
       "      <td>5</td>\n",
       "      <td>1</td>\n",
       "      <td>1</td>\n",
       "      <td>4</td>\n",
       "      <td>3</td>\n",
       "      <td>1</td>\n",
       "      <td>5</td>\n",
       "      <td>0.0</td>\n",
       "      <td>1</td>\n",
       "      <td>...</td>\n",
       "      <td>0.083889</td>\n",
       "      <td>0.000000</td>\n",
       "      <td>0.293611</td>\n",
       "      <td>0.000000</td>\n",
       "      <td>0</td>\n",
       "      <td>0.167778</td>\n",
       "      <td>0.0</td>\n",
       "      <td>0.46</td>\n",
       "      <td>0.0</td>\n",
       "      <td>0.243377</td>\n",
       "    </tr>\n",
       "    <tr>\n",
       "      <th>2</th>\n",
       "      <td>27</td>\n",
       "      <td>7</td>\n",
       "      <td>1</td>\n",
       "      <td>0</td>\n",
       "      <td>4</td>\n",
       "      <td>4</td>\n",
       "      <td>2</td>\n",
       "      <td>1</td>\n",
       "      <td>1.0</td>\n",
       "      <td>1</td>\n",
       "      <td>...</td>\n",
       "      <td>0.193889</td>\n",
       "      <td>0.516667</td>\n",
       "      <td>0.000000</td>\n",
       "      <td>0.100000</td>\n",
       "      <td>1</td>\n",
       "      <td>0.340833</td>\n",
       "      <td>1.5</td>\n",
       "      <td>2.04</td>\n",
       "      <td>0.0</td>\n",
       "      <td>0.280359</td>\n",
       "    </tr>\n",
       "    <tr>\n",
       "      <th>3</th>\n",
       "      <td>52</td>\n",
       "      <td>12</td>\n",
       "      <td>1</td>\n",
       "      <td>2</td>\n",
       "      <td>4</td>\n",
       "      <td>5</td>\n",
       "      <td>2</td>\n",
       "      <td>1</td>\n",
       "      <td>1.0</td>\n",
       "      <td>1</td>\n",
       "      <td>...</td>\n",
       "      <td>0.062500</td>\n",
       "      <td>0.000000</td>\n",
       "      <td>0.491944</td>\n",
       "      <td>0.094722</td>\n",
       "      <td>1</td>\n",
       "      <td>0.355556</td>\n",
       "      <td>3.0</td>\n",
       "      <td>1.19</td>\n",
       "      <td>0.0</td>\n",
       "      <td>0.249219</td>\n",
       "    </tr>\n",
       "    <tr>\n",
       "      <th>4</th>\n",
       "      <td>53</td>\n",
       "      <td>12</td>\n",
       "      <td>1</td>\n",
       "      <td>3</td>\n",
       "      <td>4</td>\n",
       "      <td>3</td>\n",
       "      <td>2</td>\n",
       "      <td>1</td>\n",
       "      <td>1.0</td>\n",
       "      <td>1</td>\n",
       "      <td>...</td>\n",
       "      <td>0.082500</td>\n",
       "      <td>0.000000</td>\n",
       "      <td>0.061944</td>\n",
       "      <td>0.000000</td>\n",
       "      <td>0</td>\n",
       "      <td>0.062500</td>\n",
       "      <td>1.5</td>\n",
       "      <td>0.17</td>\n",
       "      <td>0.0</td>\n",
       "      <td>0.124444</td>\n",
       "    </tr>\n",
       "  </tbody>\n",
       "</table>\n",
       "<p>5 rows × 32 columns</p>\n",
       "</div>"
      ],
      "text/plain": [
       "   trip_id  household_id  person_n  trip_n  travel_mode  purpose  fueltype  \\\n",
       "0        7             0         2       1            4        3         1   \n",
       "1       21             5         1       1            4        3         1   \n",
       "2       27             7         1       0            4        4         2   \n",
       "3       52            12         1       2            4        5         2   \n",
       "4       53            12         1       3            4        3         2   \n",
       "\n",
       "   faretype  bus_scale  survey_year  ...  dur_pt_access  dur_pt_rail  \\\n",
       "0         3        0.0            1  ...       0.109444     0.000000   \n",
       "1         5        0.0            1  ...       0.083889     0.000000   \n",
       "2         1        1.0            1  ...       0.193889     0.516667   \n",
       "3         1        1.0            1  ...       0.062500     0.000000   \n",
       "4         1        1.0            1  ...       0.082500     0.000000   \n",
       "\n",
       "   dur_pt_bus  dur_pt_int  pt_interchanges  dur_driving  cost_transit  \\\n",
       "0    0.055556    0.000000                0     0.059444           0.0   \n",
       "1    0.293611    0.000000                0     0.167778           0.0   \n",
       "2    0.000000    0.100000                1     0.340833           1.5   \n",
       "3    0.491944    0.094722                1     0.355556           3.0   \n",
       "4    0.061944    0.000000                0     0.062500           1.5   \n",
       "\n",
       "   cost_driving_fuel  cost_driving_ccharge  driving_traffic_percent  \n",
       "0               0.15                   0.0                 0.112150  \n",
       "1               0.46                   0.0                 0.243377  \n",
       "2               2.04                   0.0                 0.280359  \n",
       "3               1.19                   0.0                 0.249219  \n",
       "4               0.17                   0.0                 0.124444  \n",
       "\n",
       "[5 rows x 32 columns]"
      ]
     },
     "metadata": {},
     "output_type": "display_data"
    }
   ],
   "source": [
    "display(df.head())\n",
    "# Just a test comment"
   ]
  },
  {
   "cell_type": "code",
   "execution_count": 20,
   "metadata": {},
   "outputs": [],
   "source": [
    "database = db.Database('lpmc', df)"
   ]
  },
  {
   "cell_type": "markdown",
   "metadata": {},
   "source": [
    "## Model 0"
   ]
  },
  {
   "cell_type": "markdown",
   "metadata": {},
   "source": [
    "We identify the variables that will enter the model specification."
   ]
  },
  {
   "cell_type": "code",
   "execution_count": 21,
   "metadata": {},
   "outputs": [],
   "source": [
    "# Time related variables\n",
    "dur_walking = Variable('dur_walking') # in hours\n",
    "dur_cycling = Variable('dur_cycling') # in hours\n",
    "dur_pt_access = Variable('dur_pt_access') # in hours\n",
    "dur_pt_rail = Variable('dur_pt_rail') # in hours\n",
    "dur_pt_bus = Variable('dur_pt_bus') # in hours\n",
    "dur_pt_int = Variable('dur_pt_int') # in hours\n",
    "dur_driving = Variable('dur_driving') # in hours\n",
    "\n",
    "# Cost related variables\n",
    "cost_transit = Variable('cost_transit') # in GBP\n",
    "cost_driving_fuel = Variable('cost_driving_fuel') # in GBP\n",
    "cost_driving_ccharge = Variable('cost_driving_ccharge') # in GBP\n",
    "\n",
    "# Choice taken by the individual\n",
    "travel_mode = Variable('travel_mode')"
   ]
  },
  {
   "cell_type": "markdown",
   "metadata": {},
   "source": [
    "Parameters to be estimated"
   ]
  },
  {
   "cell_type": "code",
   "execution_count": 22,
   "metadata": {},
   "outputs": [],
   "source": [
    "# ASC_WALK = Beta('asc_walk', 0, None, None, 0)\n",
    "ASC_CYCLE = Beta('asc_cycle', 0, None, None, 0)\n",
    "ASC_PT = Beta('asc_pt', 0, None, None, 0)\n",
    "ASC_CAR = Beta('asc_car', 0, None, None, 0)\n",
    "\n",
    "B_TIME = Beta('b_time', 0, None, None, 0)\n",
    "B_COST = Beta('b_cost', 0, None, None, 0)"
   ]
  },
  {
   "cell_type": "markdown",
   "metadata": {},
   "source": [
    "Definition of the utility functions."
   ]
  },
  {
   "cell_type": "code",
   "execution_count": 23,
   "metadata": {},
   "outputs": [],
   "source": [
    "# Walk\n",
    "V1 = (\n",
    "  # ASC_WALK -> Normalized with respect to walk\n",
    "  B_TIME * dur_walking\n",
    ")\n",
    "\n",
    "# Cycle\n",
    "V2 = (\n",
    "  ASC_CYCLE\n",
    "  + B_TIME * dur_cycling\n",
    ")\n",
    "\n",
    "# Public transport\n",
    "V3 = (\n",
    "  ASC_PT\n",
    "  + B_TIME * (dur_pt_access + dur_pt_rail + dur_pt_bus + dur_pt_int)\n",
    "  + B_COST * cost_transit\n",
    ")\n",
    "\n",
    "# Car\n",
    "V4 = (\n",
    "  ASC_CAR\n",
    "  + B_TIME * dur_driving\n",
    "  + B_COST * (cost_driving_fuel + cost_driving_ccharge)\n",
    ")"
   ]
  },
  {
   "cell_type": "code",
   "execution_count": 24,
   "metadata": {},
   "outputs": [],
   "source": [
    "V = {1: V1, 2: V2, 3: V3, 4: V4}"
   ]
  },
  {
   "cell_type": "markdown",
   "metadata": {},
   "source": [
    "Definition of the model."
   ]
  },
  {
   "cell_type": "code",
   "execution_count": 25,
   "metadata": {},
   "outputs": [
    {
     "name": "stderr",
     "output_type": "stream",
     "text": [
      "File biogeme.toml has been created\n"
     ]
    }
   ],
   "source": [
    "# All alternatives are available to all individuals.\n",
    "logprob = loglogit(V, None, travel_mode)\n",
    "biogeme = bio.BIOGEME(database, logprob)\n",
    "biogeme.modelName = 'model_0'"
   ]
  },
  {
   "cell_type": "markdown",
   "metadata": {},
   "source": [
    "Estimate the parameters."
   ]
  },
  {
   "cell_type": "code",
   "execution_count": 26,
   "metadata": {},
   "outputs": [],
   "source": [
    "results = biogeme.estimate()"
   ]
  },
  {
   "cell_type": "markdown",
   "metadata": {},
   "source": [
    "Summary statistics."
   ]
  },
  {
   "cell_type": "code",
   "execution_count": 28,
   "metadata": {},
   "outputs": [
    {
     "name": "stdout",
     "output_type": "stream",
     "text": [
      "Number of estimated parameters:\t5\n",
      "Sample size:\t5000\n",
      "Excluded observations:\t0\n",
      "Init log likelihood:\t-6931.472\n",
      "Final log likelihood:\t-4658.601\n",
      "Likelihood ratio test for the init. model:\t4545.742\n",
      "Rho-square for the init. model:\t0.328\n",
      "Rho-square-bar for the init. model:\t0.327\n",
      "Akaike Information Criterion:\t9327.202\n",
      "Bayesian Information Criterion:\t9359.788\n",
      "Final gradient norm:\t1.0183E-03\n",
      "Nbr of threads:\t8\n",
      "\n"
     ]
    }
   ],
   "source": [
    "print(results.print_general_statistics())"
   ]
  },
  {
   "cell_type": "code",
   "execution_count": 29,
   "metadata": {},
   "outputs": [
    {
     "data": {
      "text/html": [
       "<div>\n",
       "<style scoped>\n",
       "    .dataframe tbody tr th:only-of-type {\n",
       "        vertical-align: middle;\n",
       "    }\n",
       "\n",
       "    .dataframe tbody tr th {\n",
       "        vertical-align: top;\n",
       "    }\n",
       "\n",
       "    .dataframe thead th {\n",
       "        text-align: right;\n",
       "    }\n",
       "</style>\n",
       "<table border=\"1\" class=\"dataframe\">\n",
       "  <thead>\n",
       "    <tr style=\"text-align: right;\">\n",
       "      <th></th>\n",
       "      <th>Value</th>\n",
       "      <th>Rob. Std err</th>\n",
       "      <th>Rob. t-test</th>\n",
       "      <th>Rob. p-value</th>\n",
       "    </tr>\n",
       "  </thead>\n",
       "  <tbody>\n",
       "    <tr>\n",
       "      <th>asc_car</th>\n",
       "      <td>-1.264832</td>\n",
       "      <td>0.078562</td>\n",
       "      <td>-16.099815</td>\n",
       "      <td>0.0</td>\n",
       "    </tr>\n",
       "    <tr>\n",
       "      <th>asc_cycle</th>\n",
       "      <td>-3.742817</td>\n",
       "      <td>0.103011</td>\n",
       "      <td>-36.334033</td>\n",
       "      <td>0.0</td>\n",
       "    </tr>\n",
       "    <tr>\n",
       "      <th>asc_pt</th>\n",
       "      <td>-0.552210</td>\n",
       "      <td>0.053870</td>\n",
       "      <td>-10.250839</td>\n",
       "      <td>0.0</td>\n",
       "    </tr>\n",
       "    <tr>\n",
       "      <th>b_cost</th>\n",
       "      <td>-0.160728</td>\n",
       "      <td>0.014288</td>\n",
       "      <td>-11.248889</td>\n",
       "      <td>0.0</td>\n",
       "    </tr>\n",
       "    <tr>\n",
       "      <th>b_time</th>\n",
       "      <td>-5.340745</td>\n",
       "      <td>0.197809</td>\n",
       "      <td>-26.999514</td>\n",
       "      <td>0.0</td>\n",
       "    </tr>\n",
       "  </tbody>\n",
       "</table>\n",
       "</div>"
      ],
      "text/plain": [
       "              Value  Rob. Std err  Rob. t-test  Rob. p-value\n",
       "asc_car   -1.264832      0.078562   -16.099815           0.0\n",
       "asc_cycle -3.742817      0.103011   -36.334033           0.0\n",
       "asc_pt    -0.552210      0.053870   -10.250839           0.0\n",
       "b_cost    -0.160728      0.014288   -11.248889           0.0\n",
       "b_time    -5.340745      0.197809   -26.999514           0.0"
      ]
     },
     "metadata": {},
     "output_type": "display_data"
    }
   ],
   "source": [
    "display(results.get_estimated_parameters())"
   ]
  },
  {
   "cell_type": "markdown",
   "metadata": {},
   "source": [
    "## Model 1"
   ]
  },
  {
   "cell_type": "markdown",
   "metadata": {},
   "source": [
    "## Model 2"
   ]
  },
  {
   "cell_type": "markdown",
   "metadata": {},
   "source": [
    "## Model 3"
   ]
  },
  {
   "cell_type": "markdown",
   "metadata": {},
   "source": [
    "## Model 4"
   ]
  }
 ],
 "metadata": {
  "kernelspec": {
   "display_name": "mmb",
   "language": "python",
   "name": "python3"
  },
  "language_info": {
   "codemirror_mode": {
    "name": "ipython",
    "version": 3
   },
   "file_extension": ".py",
   "mimetype": "text/x-python",
   "name": "python",
   "nbconvert_exporter": "python",
   "pygments_lexer": "ipython3",
   "version": "3.11.9"
  }
 },
 "nbformat": 4,
 "nbformat_minor": 2
}
