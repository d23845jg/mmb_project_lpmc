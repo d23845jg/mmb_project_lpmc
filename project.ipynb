{
 "cells": [
  {
   "cell_type": "code",
   "execution_count": 41,
   "metadata": {},
   "outputs": [],
   "source": [
    "import pandas as pd\n",
    "import biogeme.database as db\n",
    "import biogeme.biogeme as bio\n",
    "from IPython.core.display_functions import display\n",
    "from biogeme.expressions import Beta, Variable\n",
    "from biogeme.models import loglogit\n",
    "from biogeme.segmentation import DiscreteSegmentationTuple, segmented_beta\n",
    "from scipy.stats import chi2"
   ]
  },
  {
   "cell_type": "code",
   "execution_count": 2,
   "metadata": {},
   "outputs": [],
   "source": [
    "# Loading the data\n",
    "df = pd.read_csv('lpmc06.dat', sep='\\t')"
   ]
  },
  {
   "cell_type": "code",
   "execution_count": 3,
   "metadata": {},
   "outputs": [
    {
     "data": {
      "text/html": [
       "<div>\n",
       "<style scoped>\n",
       "    .dataframe tbody tr th:only-of-type {\n",
       "        vertical-align: middle;\n",
       "    }\n",
       "\n",
       "    .dataframe tbody tr th {\n",
       "        vertical-align: top;\n",
       "    }\n",
       "\n",
       "    .dataframe thead th {\n",
       "        text-align: right;\n",
       "    }\n",
       "</style>\n",
       "<table border=\"1\" class=\"dataframe\">\n",
       "  <thead>\n",
       "    <tr style=\"text-align: right;\">\n",
       "      <th></th>\n",
       "      <th>trip_id</th>\n",
       "      <th>household_id</th>\n",
       "      <th>person_n</th>\n",
       "      <th>trip_n</th>\n",
       "      <th>travel_mode</th>\n",
       "      <th>purpose</th>\n",
       "      <th>fueltype</th>\n",
       "      <th>faretype</th>\n",
       "      <th>bus_scale</th>\n",
       "      <th>survey_year</th>\n",
       "      <th>...</th>\n",
       "      <th>dur_pt_access</th>\n",
       "      <th>dur_pt_rail</th>\n",
       "      <th>dur_pt_bus</th>\n",
       "      <th>dur_pt_int</th>\n",
       "      <th>pt_interchanges</th>\n",
       "      <th>dur_driving</th>\n",
       "      <th>cost_transit</th>\n",
       "      <th>cost_driving_fuel</th>\n",
       "      <th>cost_driving_ccharge</th>\n",
       "      <th>driving_traffic_percent</th>\n",
       "    </tr>\n",
       "  </thead>\n",
       "  <tbody>\n",
       "    <tr>\n",
       "      <th>0</th>\n",
       "      <td>7</td>\n",
       "      <td>0</td>\n",
       "      <td>2</td>\n",
       "      <td>1</td>\n",
       "      <td>4</td>\n",
       "      <td>3</td>\n",
       "      <td>1</td>\n",
       "      <td>3</td>\n",
       "      <td>0.0</td>\n",
       "      <td>1</td>\n",
       "      <td>...</td>\n",
       "      <td>0.109444</td>\n",
       "      <td>0.000000</td>\n",
       "      <td>0.055556</td>\n",
       "      <td>0.000000</td>\n",
       "      <td>0</td>\n",
       "      <td>0.059444</td>\n",
       "      <td>0.0</td>\n",
       "      <td>0.15</td>\n",
       "      <td>0.0</td>\n",
       "      <td>0.112150</td>\n",
       "    </tr>\n",
       "    <tr>\n",
       "      <th>1</th>\n",
       "      <td>21</td>\n",
       "      <td>5</td>\n",
       "      <td>1</td>\n",
       "      <td>1</td>\n",
       "      <td>4</td>\n",
       "      <td>3</td>\n",
       "      <td>1</td>\n",
       "      <td>5</td>\n",
       "      <td>0.0</td>\n",
       "      <td>1</td>\n",
       "      <td>...</td>\n",
       "      <td>0.083889</td>\n",
       "      <td>0.000000</td>\n",
       "      <td>0.293611</td>\n",
       "      <td>0.000000</td>\n",
       "      <td>0</td>\n",
       "      <td>0.167778</td>\n",
       "      <td>0.0</td>\n",
       "      <td>0.46</td>\n",
       "      <td>0.0</td>\n",
       "      <td>0.243377</td>\n",
       "    </tr>\n",
       "    <tr>\n",
       "      <th>2</th>\n",
       "      <td>27</td>\n",
       "      <td>7</td>\n",
       "      <td>1</td>\n",
       "      <td>0</td>\n",
       "      <td>4</td>\n",
       "      <td>4</td>\n",
       "      <td>2</td>\n",
       "      <td>1</td>\n",
       "      <td>1.0</td>\n",
       "      <td>1</td>\n",
       "      <td>...</td>\n",
       "      <td>0.193889</td>\n",
       "      <td>0.516667</td>\n",
       "      <td>0.000000</td>\n",
       "      <td>0.100000</td>\n",
       "      <td>1</td>\n",
       "      <td>0.340833</td>\n",
       "      <td>1.5</td>\n",
       "      <td>2.04</td>\n",
       "      <td>0.0</td>\n",
       "      <td>0.280359</td>\n",
       "    </tr>\n",
       "    <tr>\n",
       "      <th>3</th>\n",
       "      <td>52</td>\n",
       "      <td>12</td>\n",
       "      <td>1</td>\n",
       "      <td>2</td>\n",
       "      <td>4</td>\n",
       "      <td>5</td>\n",
       "      <td>2</td>\n",
       "      <td>1</td>\n",
       "      <td>1.0</td>\n",
       "      <td>1</td>\n",
       "      <td>...</td>\n",
       "      <td>0.062500</td>\n",
       "      <td>0.000000</td>\n",
       "      <td>0.491944</td>\n",
       "      <td>0.094722</td>\n",
       "      <td>1</td>\n",
       "      <td>0.355556</td>\n",
       "      <td>3.0</td>\n",
       "      <td>1.19</td>\n",
       "      <td>0.0</td>\n",
       "      <td>0.249219</td>\n",
       "    </tr>\n",
       "    <tr>\n",
       "      <th>4</th>\n",
       "      <td>53</td>\n",
       "      <td>12</td>\n",
       "      <td>1</td>\n",
       "      <td>3</td>\n",
       "      <td>4</td>\n",
       "      <td>3</td>\n",
       "      <td>2</td>\n",
       "      <td>1</td>\n",
       "      <td>1.0</td>\n",
       "      <td>1</td>\n",
       "      <td>...</td>\n",
       "      <td>0.082500</td>\n",
       "      <td>0.000000</td>\n",
       "      <td>0.061944</td>\n",
       "      <td>0.000000</td>\n",
       "      <td>0</td>\n",
       "      <td>0.062500</td>\n",
       "      <td>1.5</td>\n",
       "      <td>0.17</td>\n",
       "      <td>0.0</td>\n",
       "      <td>0.124444</td>\n",
       "    </tr>\n",
       "  </tbody>\n",
       "</table>\n",
       "<p>5 rows × 32 columns</p>\n",
       "</div>"
      ],
      "text/plain": [
       "   trip_id  household_id  person_n  trip_n  travel_mode  purpose  fueltype  \\\n",
       "0        7             0         2       1            4        3         1   \n",
       "1       21             5         1       1            4        3         1   \n",
       "2       27             7         1       0            4        4         2   \n",
       "3       52            12         1       2            4        5         2   \n",
       "4       53            12         1       3            4        3         2   \n",
       "\n",
       "   faretype  bus_scale  survey_year  ...  dur_pt_access  dur_pt_rail  \\\n",
       "0         3        0.0            1  ...       0.109444     0.000000   \n",
       "1         5        0.0            1  ...       0.083889     0.000000   \n",
       "2         1        1.0            1  ...       0.193889     0.516667   \n",
       "3         1        1.0            1  ...       0.062500     0.000000   \n",
       "4         1        1.0            1  ...       0.082500     0.000000   \n",
       "\n",
       "   dur_pt_bus  dur_pt_int  pt_interchanges  dur_driving  cost_transit  \\\n",
       "0    0.055556    0.000000                0     0.059444           0.0   \n",
       "1    0.293611    0.000000                0     0.167778           0.0   \n",
       "2    0.000000    0.100000                1     0.340833           1.5   \n",
       "3    0.491944    0.094722                1     0.355556           3.0   \n",
       "4    0.061944    0.000000                0     0.062500           1.5   \n",
       "\n",
       "   cost_driving_fuel  cost_driving_ccharge  driving_traffic_percent  \n",
       "0               0.15                   0.0                 0.112150  \n",
       "1               0.46                   0.0                 0.243377  \n",
       "2               2.04                   0.0                 0.280359  \n",
       "3               1.19                   0.0                 0.249219  \n",
       "4               0.17                   0.0                 0.124444  \n",
       "\n",
       "[5 rows x 32 columns]"
      ]
     },
     "metadata": {},
     "output_type": "display_data"
    }
   ],
   "source": [
    "display(df.head())"
   ]
  },
  {
   "cell_type": "code",
   "execution_count": 4,
   "metadata": {},
   "outputs": [],
   "source": [
    "database = db.Database('lpmc', df)"
   ]
  },
  {
   "cell_type": "markdown",
   "metadata": {},
   "source": [
    "## Model 0"
   ]
  },
  {
   "cell_type": "markdown",
   "metadata": {},
   "source": [
    "We identify the variables that will enter the model specification."
   ]
  },
  {
   "cell_type": "code",
   "execution_count": 5,
   "metadata": {},
   "outputs": [],
   "source": [
    "# Time related variables\n",
    "dur_walking = Variable('dur_walking') # in hours\n",
    "dur_cycling = Variable('dur_cycling') # in hours\n",
    "dur_pt_access = Variable('dur_pt_access') # in hours\n",
    "dur_pt_rail = Variable('dur_pt_rail') # in hours\n",
    "dur_pt_bus = Variable('dur_pt_bus') # in hours\n",
    "dur_pt_int = Variable('dur_pt_int') # in hours\n",
    "dur_driving = Variable('dur_driving') # in hours\n",
    "\n",
    "dur_pt = dur_pt_access + dur_pt_rail + dur_pt_bus + dur_pt_int\n",
    "\n",
    "# Cost related variables\n",
    "cost_transit = Variable('cost_transit') # in GBP\n",
    "cost_driving_fuel = Variable('cost_driving_fuel') # in GBP\n",
    "cost_driving_ccharge = Variable('cost_driving_ccharge') # in GBP\n",
    "\n",
    "cost_driving = cost_driving_fuel + cost_driving_ccharge\n",
    "\n",
    "# Choice taken by the individual\n",
    "travel_mode = Variable('travel_mode') # 1 = walk, 2 = cycle, 3 = PT, 4 = car"
   ]
  },
  {
   "cell_type": "markdown",
   "metadata": {},
   "source": [
    "Parameters to be estimated"
   ]
  },
  {
   "cell_type": "code",
   "execution_count": 6,
   "metadata": {},
   "outputs": [],
   "source": [
    "# ASC_WALK = Beta('asc_walk', 0, None, None, 0)\n",
    "ASC_CYCLE = Beta('asc_cycle', 0, None, None, 0)\n",
    "ASC_PT = Beta('asc_pt', 0, None, None, 0)\n",
    "ASC_CAR = Beta('asc_car', 0, None, None, 0)\n",
    "\n",
    "B_TIME = Beta('b_time', 0, None, None, 0)\n",
    "B_COST = Beta('b_cost', 0, None, None, 0)"
   ]
  },
  {
   "cell_type": "markdown",
   "metadata": {},
   "source": [
    "Definition of the utility functions."
   ]
  },
  {
   "cell_type": "code",
   "execution_count": 7,
   "metadata": {},
   "outputs": [],
   "source": [
    "# Walk\n",
    "V1 = (\n",
    "  # ASC_WALK -> Normalized with respect to walk\n",
    "  B_TIME * dur_walking\n",
    ")\n",
    "\n",
    "# Cycle\n",
    "V2 = (\n",
    "  ASC_CYCLE\n",
    "  + B_TIME * dur_cycling\n",
    ")\n",
    "\n",
    "# Public transport\n",
    "V3 = (\n",
    "  ASC_PT\n",
    "  + B_TIME * dur_pt\n",
    "  #+ B_TIME * (dur_pt_access + dur_pt_rail + dur_pt_bus + dur_pt_int)\n",
    "  + B_COST * cost_transit\n",
    ")\n",
    "\n",
    "# Car\n",
    "V4 = (\n",
    "  ASC_CAR\n",
    "  + B_TIME * dur_driving\n",
    "  + B_COST * cost_driving\n",
    "  #+ B_COST * (cost_driving_fuel + cost_driving_ccharge)\n",
    ")"
   ]
  },
  {
   "cell_type": "code",
   "execution_count": 8,
   "metadata": {},
   "outputs": [],
   "source": [
    "V = {1: V1, 2: V2, 3: V3, 4: V4}"
   ]
  },
  {
   "cell_type": "markdown",
   "metadata": {},
   "source": [
    "Definition of the model."
   ]
  },
  {
   "cell_type": "code",
   "execution_count": 9,
   "metadata": {},
   "outputs": [],
   "source": [
    "# All alternatives are available to all individuals.\n",
    "logprob = loglogit(V, None, travel_mode)\n",
    "biogeme = bio.BIOGEME(database, logprob)\n",
    "biogeme.modelName = 'model_0'"
   ]
  },
  {
   "cell_type": "markdown",
   "metadata": {},
   "source": [
    "Estimate the parameters."
   ]
  },
  {
   "cell_type": "code",
   "execution_count": 10,
   "metadata": {},
   "outputs": [],
   "source": [
    "results = biogeme.estimate()"
   ]
  },
  {
   "cell_type": "markdown",
   "metadata": {},
   "source": [
    "Summary statistics."
   ]
  },
  {
   "cell_type": "code",
   "execution_count": 11,
   "metadata": {},
   "outputs": [
    {
     "name": "stdout",
     "output_type": "stream",
     "text": [
      "Number of estimated parameters:\t5\n",
      "Sample size:\t5000\n",
      "Excluded observations:\t0\n",
      "Init log likelihood:\t-4658.601\n",
      "Final log likelihood:\t-4658.601\n",
      "Likelihood ratio test for the init. model:\t-0\n",
      "Rho-square for the init. model:\t0\n",
      "Rho-square-bar for the init. model:\t-0.00107\n",
      "Akaike Information Criterion:\t9327.202\n",
      "Bayesian Information Criterion:\t9359.788\n",
      "Final gradient norm:\t1.0183E-03\n",
      "Nbr of threads:\t8\n",
      "\n"
     ]
    }
   ],
   "source": [
    "print(results.print_general_statistics())"
   ]
  },
  {
   "cell_type": "code",
   "execution_count": 12,
   "metadata": {},
   "outputs": [
    {
     "data": {
      "text/html": [
       "<div>\n",
       "<style scoped>\n",
       "    .dataframe tbody tr th:only-of-type {\n",
       "        vertical-align: middle;\n",
       "    }\n",
       "\n",
       "    .dataframe tbody tr th {\n",
       "        vertical-align: top;\n",
       "    }\n",
       "\n",
       "    .dataframe thead th {\n",
       "        text-align: right;\n",
       "    }\n",
       "</style>\n",
       "<table border=\"1\" class=\"dataframe\">\n",
       "  <thead>\n",
       "    <tr style=\"text-align: right;\">\n",
       "      <th></th>\n",
       "      <th>Value</th>\n",
       "      <th>Rob. Std err</th>\n",
       "      <th>Rob. t-test</th>\n",
       "      <th>Rob. p-value</th>\n",
       "    </tr>\n",
       "  </thead>\n",
       "  <tbody>\n",
       "    <tr>\n",
       "      <th>asc_car</th>\n",
       "      <td>-1.264832</td>\n",
       "      <td>0.078562</td>\n",
       "      <td>-16.099815</td>\n",
       "      <td>0.0</td>\n",
       "    </tr>\n",
       "    <tr>\n",
       "      <th>asc_cycle</th>\n",
       "      <td>-3.742817</td>\n",
       "      <td>0.103011</td>\n",
       "      <td>-36.334033</td>\n",
       "      <td>0.0</td>\n",
       "    </tr>\n",
       "    <tr>\n",
       "      <th>asc_pt</th>\n",
       "      <td>-0.552210</td>\n",
       "      <td>0.053870</td>\n",
       "      <td>-10.250839</td>\n",
       "      <td>0.0</td>\n",
       "    </tr>\n",
       "    <tr>\n",
       "      <th>b_cost</th>\n",
       "      <td>-0.160728</td>\n",
       "      <td>0.014288</td>\n",
       "      <td>-11.248889</td>\n",
       "      <td>0.0</td>\n",
       "    </tr>\n",
       "    <tr>\n",
       "      <th>b_time</th>\n",
       "      <td>-5.340745</td>\n",
       "      <td>0.197809</td>\n",
       "      <td>-26.999514</td>\n",
       "      <td>0.0</td>\n",
       "    </tr>\n",
       "  </tbody>\n",
       "</table>\n",
       "</div>"
      ],
      "text/plain": [
       "              Value  Rob. Std err  Rob. t-test  Rob. p-value\n",
       "asc_car   -1.264832      0.078562   -16.099815           0.0\n",
       "asc_cycle -3.742817      0.103011   -36.334033           0.0\n",
       "asc_pt    -0.552210      0.053870   -10.250839           0.0\n",
       "b_cost    -0.160728      0.014288   -11.248889           0.0\n",
       "b_time    -5.340745      0.197809   -26.999514           0.0"
      ]
     },
     "metadata": {},
     "output_type": "display_data"
    }
   ],
   "source": [
    "display(results.get_estimated_parameters())"
   ]
  },
  {
   "cell_type": "markdown",
   "metadata": {},
   "source": [
    "## Model 1\n",
    "In this version of the model, we introduce alternative-specific coefficients for either b_time (model 1a) or b_cost (model 1b), and we compare the results to determine which model yields the best results "
   ]
  },
  {
   "cell_type": "markdown",
   "metadata": {},
   "source": [
    "### Model 1a (alternative-specific b_time)\n"
   ]
  },
  {
   "cell_type": "markdown",
   "metadata": {},
   "source": [
    "Parameters to be estimated"
   ]
  },
  {
   "cell_type": "code",
   "execution_count": 13,
   "metadata": {},
   "outputs": [],
   "source": [
    "# Alternative specific constants (ASC_walk is normalized to 0)\n",
    "ASC_CYCLE_1A = Beta('ASC_CYCLE_1A', 0, None, None, 0)\n",
    "ASC_PT_1A    = Beta('ASC_PT_1A', 0, None, None, 0)\n",
    "ASC_CAR_1A   = Beta('ASC_CAR_1A', 0, None, None, 0)\n",
    "\n",
    "# Alternative specific time coefficient\n",
    "B_TIME_WALK_1A  = Beta('B_TIME_WALK_1A', 0, None, None, 0)\n",
    "B_TIME_CYCLE_1A = Beta('B_TIME_CYCLE_1A', 0, None, None, 0)\n",
    "B_TIME_PT_1A    = Beta('B_TIME_PT_1A', 0, None, None, 0)\n",
    "B_TIME_CAR_1A   = Beta('B_TIME_CAR_1A', 0, None, None, 0)\n",
    "\n",
    "# Generic cost coefficient\n",
    "B_COST_1A = Beta('B_COST_1A', 0, None, None, 0)"
   ]
  },
  {
   "cell_type": "markdown",
   "metadata": {},
   "source": [
    "Definition of the utility functions"
   ]
  },
  {
   "cell_type": "code",
   "execution_count": 14,
   "metadata": {},
   "outputs": [],
   "source": [
    "V_walk_1A = (\n",
    "    B_TIME_WALK_1A * dur_walking\n",
    ")\n",
    "\n",
    "V_cycle_1A = (\n",
    "    ASC_CYCLE_1A\n",
    "    + B_TIME_CYCLE_1A * dur_cycling\n",
    ")\n",
    "\n",
    "V_PT_1A = (\n",
    "    ASC_PT_1A\n",
    "    + B_TIME_PT_1A * dur_pt\n",
    "    + B_COST_1A * cost_transit\n",
    ")\n",
    "\n",
    "V_car_1A = (\n",
    "    ASC_CAR_1A\n",
    "    + B_TIME_CAR_1A * dur_driving\n",
    "    + B_COST_1A * cost_driving\n",
    ")\n",
    "\n",
    "V_1A ={1: V_walk_1A, 2: V_cycle_1A, 3: V_PT_1A, 4: V_car_1A}"
   ]
  },
  {
   "cell_type": "markdown",
   "metadata": {},
   "source": [
    "Definition of the model"
   ]
  },
  {
   "cell_type": "code",
   "execution_count": 15,
   "metadata": {},
   "outputs": [],
   "source": [
    "logprob_1A = loglogit(V_1A, None, travel_mode)\n",
    "biogeme_1A = bio.BIOGEME(database, logprob_1A)\n",
    "biogeme_1A.modelName = 'model_1A'"
   ]
  },
  {
   "cell_type": "markdown",
   "metadata": {},
   "source": [
    "Estimation and display of the results"
   ]
  },
  {
   "cell_type": "code",
   "execution_count": 16,
   "metadata": {},
   "outputs": [
    {
     "name": "stdout",
     "output_type": "stream",
     "text": [
      "Number of estimated parameters:\t8\n",
      "Sample size:\t5000\n",
      "Excluded observations:\t0\n",
      "Init log likelihood:\t-4319.913\n",
      "Final log likelihood:\t-4319.913\n",
      "Likelihood ratio test for the init. model:\t-0\n",
      "Rho-square for the init. model:\t0\n",
      "Rho-square-bar for the init. model:\t-0.00185\n",
      "Akaike Information Criterion:\t8655.826\n",
      "Bayesian Information Criterion:\t8707.963\n",
      "Final gradient norm:\t9.2739E-03\n",
      "Nbr of threads:\t8\n",
      "\n"
     ]
    }
   ],
   "source": [
    "results_1A = biogeme_1A.estimate()\n",
    "print(results_1A.print_general_statistics())"
   ]
  },
  {
   "cell_type": "code",
   "execution_count": 17,
   "metadata": {},
   "outputs": [
    {
     "data": {
      "text/html": [
       "<div>\n",
       "<style scoped>\n",
       "    .dataframe tbody tr th:only-of-type {\n",
       "        vertical-align: middle;\n",
       "    }\n",
       "\n",
       "    .dataframe tbody tr th {\n",
       "        vertical-align: top;\n",
       "    }\n",
       "\n",
       "    .dataframe thead th {\n",
       "        text-align: right;\n",
       "    }\n",
       "</style>\n",
       "<table border=\"1\" class=\"dataframe\">\n",
       "  <thead>\n",
       "    <tr style=\"text-align: right;\">\n",
       "      <th></th>\n",
       "      <th>Value</th>\n",
       "      <th>Rob. Std err</th>\n",
       "      <th>Rob. t-test</th>\n",
       "      <th>Rob. p-value</th>\n",
       "    </tr>\n",
       "  </thead>\n",
       "  <tbody>\n",
       "    <tr>\n",
       "      <th>ASC_CAR_1A</th>\n",
       "      <td>-2.087660</td>\n",
       "      <td>0.133307</td>\n",
       "      <td>-15.660566</td>\n",
       "      <td>0.0</td>\n",
       "    </tr>\n",
       "    <tr>\n",
       "      <th>ASC_CYCLE_1A</th>\n",
       "      <td>-4.799358</td>\n",
       "      <td>0.193220</td>\n",
       "      <td>-24.838868</td>\n",
       "      <td>0.0</td>\n",
       "    </tr>\n",
       "    <tr>\n",
       "      <th>ASC_PT_1A</th>\n",
       "      <td>-2.552549</td>\n",
       "      <td>0.135051</td>\n",
       "      <td>-18.900568</td>\n",
       "      <td>0.0</td>\n",
       "    </tr>\n",
       "    <tr>\n",
       "      <th>B_COST_1A</th>\n",
       "      <td>-0.140590</td>\n",
       "      <td>0.015325</td>\n",
       "      <td>-9.174014</td>\n",
       "      <td>0.0</td>\n",
       "    </tr>\n",
       "    <tr>\n",
       "      <th>B_TIME_CAR_1A</th>\n",
       "      <td>-6.120530</td>\n",
       "      <td>0.405937</td>\n",
       "      <td>-15.077542</td>\n",
       "      <td>0.0</td>\n",
       "    </tr>\n",
       "    <tr>\n",
       "      <th>B_TIME_CYCLE_1A</th>\n",
       "      <td>-5.197150</td>\n",
       "      <td>0.467915</td>\n",
       "      <td>-11.107040</td>\n",
       "      <td>0.0</td>\n",
       "    </tr>\n",
       "    <tr>\n",
       "      <th>B_TIME_PT_1A</th>\n",
       "      <td>-3.256306</td>\n",
       "      <td>0.254676</td>\n",
       "      <td>-12.786052</td>\n",
       "      <td>0.0</td>\n",
       "    </tr>\n",
       "    <tr>\n",
       "      <th>B_TIME_WALK_1A</th>\n",
       "      <td>-8.643431</td>\n",
       "      <td>0.418678</td>\n",
       "      <td>-20.644601</td>\n",
       "      <td>0.0</td>\n",
       "    </tr>\n",
       "  </tbody>\n",
       "</table>\n",
       "</div>"
      ],
      "text/plain": [
       "                    Value  Rob. Std err  Rob. t-test  Rob. p-value\n",
       "ASC_CAR_1A      -2.087660      0.133307   -15.660566           0.0\n",
       "ASC_CYCLE_1A    -4.799358      0.193220   -24.838868           0.0\n",
       "ASC_PT_1A       -2.552549      0.135051   -18.900568           0.0\n",
       "B_COST_1A       -0.140590      0.015325    -9.174014           0.0\n",
       "B_TIME_CAR_1A   -6.120530      0.405937   -15.077542           0.0\n",
       "B_TIME_CYCLE_1A -5.197150      0.467915   -11.107040           0.0\n",
       "B_TIME_PT_1A    -3.256306      0.254676   -12.786052           0.0\n",
       "B_TIME_WALK_1A  -8.643431      0.418678   -20.644601           0.0"
      ]
     },
     "metadata": {},
     "output_type": "display_data"
    }
   ],
   "source": [
    "display(results_1A.get_estimated_parameters())"
   ]
  },
  {
   "cell_type": "markdown",
   "metadata": {},
   "source": [
    "_Observations for the report_\n",
    "\n",
    "First, we observe that all the B coefficients are negative, which makes sense, because a longer and/or more expensive travel mode is less attractive. \n",
    "\n",
    "The cost coefficient of model 1A is very close to the one for the model 0. On the other hand, the time coefficient, which was made alternative specific in model 1A, now strongly depends on the chosen mode. In particular, we observe it is the smallest (in absolute value) for PT; an interpretation could be that commuters are more prone to long PT travel times because they can read, sleep, etc., activites they cannot do while driving or cycling. On the other hand, the largest time_coefficient (again, in absolute value) is for walking, probably because beyond 20-30 minutes, people consider that doing the route by foot is too long.\n",
    "\n",
    "If we compare the Akaike or Bayesian information criterion between model 0 and model 1a, we observe they are both lower in the case of model 1a; it means the latter fits the data better than model 0."
   ]
  },
  {
   "cell_type": "markdown",
   "metadata": {},
   "source": [
    "### Model 1b (alternative-specific b_cost)\n",
    "\n",
    "We reproduce exactly the same steps as for model 1A, but we now assume a generic time coefficient, and a alternative specific cost coefficient"
   ]
  },
  {
   "cell_type": "markdown",
   "metadata": {},
   "source": [
    "Parameters to be estimated"
   ]
  },
  {
   "cell_type": "code",
   "execution_count": 18,
   "metadata": {},
   "outputs": [],
   "source": [
    "# Alternative specific constants (ASC_walk is normalized to 0)\n",
    "ASC_CYCLE_1B = Beta('ASC_CYCLE_1B', 0, None, None, 0)\n",
    "ASC_PT_1B    = Beta('ASC_PT_1B', 0, None, None, 0)\n",
    "ASC_CAR_1B   = Beta('ASC_CAR_1B', 0, None, None, 0)\n",
    "\n",
    "# Alternative specific cost coefficient\n",
    "B_COST_PT_1B    = Beta('B_COST_PT_1B', 0, None, None, 0)\n",
    "B_COST_CAR_1B   = Beta('B_COST_CAR_1B', 0, None, None, 0)\n",
    "\n",
    "# Generic time coefficient\n",
    "B_TIME_1B = Beta('B_TIME_1B', 0, None, None, 0)"
   ]
  },
  {
   "cell_type": "markdown",
   "metadata": {},
   "source": [
    "Definition of the utility functions "
   ]
  },
  {
   "cell_type": "code",
   "execution_count": 19,
   "metadata": {},
   "outputs": [],
   "source": [
    "V_walk_1B = (\n",
    "    B_TIME_1B * dur_walking\n",
    ")\n",
    "\n",
    "V_cycle_1B = (\n",
    "    ASC_CYCLE_1B\n",
    "    + B_TIME_1B * dur_cycling\n",
    ")\n",
    "\n",
    "V_PT_1B = (\n",
    "    ASC_PT_1B\n",
    "    + B_TIME_1B * dur_pt\n",
    "    + B_COST_PT_1B * cost_transit\n",
    ")\n",
    "\n",
    "V_car_1B = (\n",
    "    ASC_CAR_1B\n",
    "    + B_TIME_1B * dur_driving\n",
    "    + B_COST_CAR_1B * cost_driving\n",
    ")\n",
    "\n",
    "V_1B = {1: V_walk_1B, 2: V_cycle_1B, 3: V_PT_1B, 4: V_car_1B}"
   ]
  },
  {
   "cell_type": "markdown",
   "metadata": {},
   "source": [
    "Definition of the model"
   ]
  },
  {
   "cell_type": "code",
   "execution_count": 20,
   "metadata": {},
   "outputs": [],
   "source": [
    "logprob_1B = loglogit(V_1B, None, travel_mode)\n",
    "biogeme_1B = bio.BIOGEME(database, logprob_1B)\n",
    "biogeme_1B.modelName = 'model_1B'"
   ]
  },
  {
   "cell_type": "markdown",
   "metadata": {},
   "source": [
    "Estimation and display of the results"
   ]
  },
  {
   "cell_type": "code",
   "execution_count": 21,
   "metadata": {},
   "outputs": [
    {
     "name": "stdout",
     "output_type": "stream",
     "text": [
      "Number of estimated parameters:\t6\n",
      "Sample size:\t5000\n",
      "Excluded observations:\t0\n",
      "Init log likelihood:\t-4607.516\n",
      "Final log likelihood:\t-4607.516\n",
      "Likelihood ratio test for the init. model:\t-0\n",
      "Rho-square for the init. model:\t0\n",
      "Rho-square-bar for the init. model:\t-0.0013\n",
      "Akaike Information Criterion:\t9227.032\n",
      "Bayesian Information Criterion:\t9266.136\n",
      "Final gradient norm:\t5.3980E-04\n",
      "Nbr of threads:\t8\n",
      "\n"
     ]
    }
   ],
   "source": [
    "results_1B = biogeme_1B.estimate()\n",
    "print(results_1B.print_general_statistics())"
   ]
  },
  {
   "cell_type": "code",
   "execution_count": 22,
   "metadata": {},
   "outputs": [
    {
     "data": {
      "text/html": [
       "<div>\n",
       "<style scoped>\n",
       "    .dataframe tbody tr th:only-of-type {\n",
       "        vertical-align: middle;\n",
       "    }\n",
       "\n",
       "    .dataframe tbody tr th {\n",
       "        vertical-align: top;\n",
       "    }\n",
       "\n",
       "    .dataframe thead th {\n",
       "        text-align: right;\n",
       "    }\n",
       "</style>\n",
       "<table border=\"1\" class=\"dataframe\">\n",
       "  <thead>\n",
       "    <tr style=\"text-align: right;\">\n",
       "      <th></th>\n",
       "      <th>Value</th>\n",
       "      <th>Rob. Std err</th>\n",
       "      <th>Rob. t-test</th>\n",
       "      <th>Rob. p-value</th>\n",
       "    </tr>\n",
       "  </thead>\n",
       "  <tbody>\n",
       "    <tr>\n",
       "      <th>ASC_CAR_1B</th>\n",
       "      <td>-1.181056</td>\n",
       "      <td>0.078388</td>\n",
       "      <td>-15.066824</td>\n",
       "      <td>0.000000</td>\n",
       "    </tr>\n",
       "    <tr>\n",
       "      <th>ASC_CYCLE_1B</th>\n",
       "      <td>-3.698346</td>\n",
       "      <td>0.103376</td>\n",
       "      <td>-35.775502</td>\n",
       "      <td>0.000000</td>\n",
       "    </tr>\n",
       "    <tr>\n",
       "      <th>ASC_PT_1B</th>\n",
       "      <td>-0.836648</td>\n",
       "      <td>0.065575</td>\n",
       "      <td>-12.758696</td>\n",
       "      <td>0.000000</td>\n",
       "    </tr>\n",
       "    <tr>\n",
       "      <th>B_COST_CAR_1B</th>\n",
       "      <td>-0.205583</td>\n",
       "      <td>0.021929</td>\n",
       "      <td>-9.374982</td>\n",
       "      <td>0.000000</td>\n",
       "    </tr>\n",
       "    <tr>\n",
       "      <th>B_COST_PT_1B</th>\n",
       "      <td>0.052828</td>\n",
       "      <td>0.029809</td>\n",
       "      <td>1.772231</td>\n",
       "      <td>0.076356</td>\n",
       "    </tr>\n",
       "    <tr>\n",
       "      <th>B_TIME_1B</th>\n",
       "      <td>-5.339547</td>\n",
       "      <td>0.200044</td>\n",
       "      <td>-26.691801</td>\n",
       "      <td>0.000000</td>\n",
       "    </tr>\n",
       "  </tbody>\n",
       "</table>\n",
       "</div>"
      ],
      "text/plain": [
       "                  Value  Rob. Std err  Rob. t-test  Rob. p-value\n",
       "ASC_CAR_1B    -1.181056      0.078388   -15.066824      0.000000\n",
       "ASC_CYCLE_1B  -3.698346      0.103376   -35.775502      0.000000\n",
       "ASC_PT_1B     -0.836648      0.065575   -12.758696      0.000000\n",
       "B_COST_CAR_1B -0.205583      0.021929    -9.374982      0.000000\n",
       "B_COST_PT_1B   0.052828      0.029809     1.772231      0.076356\n",
       "B_TIME_1B     -5.339547      0.200044   -26.691801      0.000000"
      ]
     },
     "metadata": {},
     "output_type": "display_data"
    }
   ],
   "source": [
    "display(results_1B.get_estimated_parameters())"
   ]
  },
  {
   "cell_type": "code",
   "execution_count": 49,
   "metadata": {},
   "outputs": [
    {
     "name": "stdout",
     "output_type": "stream",
     "text": [
      "lr_result1A.statistic=677\n",
      "lr_result1A.threshold=7.81\n",
      "H0 can be rejected at level 5.0%\n"
     ]
    }
   ],
   "source": [
    "lr_result1A = results_1A.likelihood_ratio_test(results, 0.05)\n",
    "print(f'{lr_result1A.statistic=:.3g}')\n",
    "print(f'{lr_result1A.threshold=:.3g}')\n",
    "print(lr_result1A.message)"
   ]
  },
  {
   "cell_type": "code",
   "execution_count": 50,
   "metadata": {},
   "outputs": [
    {
     "name": "stdout",
     "output_type": "stream",
     "text": [
      "lr_result1B.statistic=102\n",
      "lr_result1B.threshold=3.84\n",
      "H0 can be rejected at level 5.0%\n"
     ]
    }
   ],
   "source": [
    "lr_result1B = results_1B.likelihood_ratio_test(results, 0.05)\n",
    "print(f'{lr_result1B.statistic=:.3g}')\n",
    "print(f'{lr_result1B.threshold=:.3g}')\n",
    "print(lr_result1B.message)"
   ]
  },
  {
   "cell_type": "markdown",
   "metadata": {},
   "source": [
    "_Observations for the report_\n",
    "\n",
    "This model seems clearly less effective than model 1A. We see it because\n",
    "\n",
    "1) The Bayesian and Akaike criterion are higher for model 1B\n",
    "2) the t-test are closer to 0\n",
    "3) the cost coefficient for PT is higher than 0, which doesn't make much sense\n",
    "\n",
    "We could have guessed that model 1B would be less interesting than model 1A, because only two alternatives out of four have a cost parameter, which means that making B_cost alternative specific allows less flexibility in the model than making B_time alternative specific\n",
    "\n",
    "So our preferred model for the rest of the project will be model 1A (alternative specific time coefficients)"
   ]
  },
  {
   "cell_type": "markdown",
   "metadata": {},
   "source": [
    "## Model 2"
   ]
  },
  {
   "cell_type": "markdown",
   "metadata": {},
   "source": [
    "In this model we chose a socio-economic characteristic, ownership of a driving liecense, and interacted it with both the ASC and one of the attributes.\n",
    "\n",
    "It is easy to see that having a driving license has a significant impact on the choice."
   ]
  },
  {
   "cell_type": "markdown",
   "metadata": {},
   "source": [
    "We first add the variable driving license, and its segmentation"
   ]
  },
  {
   "cell_type": "code",
   "execution_count": 23,
   "metadata": {},
   "outputs": [],
   "source": [
    "driving_license = Variable('driving_license')\n",
    "driving_license_segmentation = DiscreteSegmentationTuple(\n",
    "    variable=driving_license, mapping={0: 'no driving license', 1: 'driving license'}\n",
    ")\n",
    "\n",
    "segmented_ASC_CAR_2A = segmented_beta(ASC_CAR_1A,[driving_license_segmentation])\n",
    "\n",
    "segmented_ASC_CYCLE_2A = segmented_beta(ASC_CYCLE_1A,[driving_license_segmentation])\n",
    "\n",
    "segmented_ASC_PT_2A = segmented_beta(ASC_PT_1A,[driving_license_segmentation])"
   ]
  },
  {
   "cell_type": "markdown",
   "metadata": {},
   "source": [
    "Then we define the model as usual, but the ASCs are segmented by ownership of driving license"
   ]
  },
  {
   "cell_type": "code",
   "execution_count": 32,
   "metadata": {},
   "outputs": [
    {
     "name": "stdout",
     "output_type": "stream",
     "text": [
      "Number of estimated parameters:\t11\n",
      "Sample size:\t5000\n",
      "Excluded observations:\t0\n",
      "Init log likelihood:\t-4446.507\n",
      "Final log likelihood:\t-4105.434\n",
      "Likelihood ratio test for the init. model:\t682.1469\n",
      "Rho-square for the init. model:\t0.0767\n",
      "Rho-square-bar for the init. model:\t0.0742\n",
      "Akaike Information Criterion:\t8232.867\n",
      "Bayesian Information Criterion:\t8304.556\n",
      "Final gradient norm:\t1.5579E-01\n",
      "Nbr of threads:\t8\n",
      "\n"
     ]
    }
   ],
   "source": [
    "V_walk_2A = (\n",
    "    B_TIME_WALK_1A * dur_walking\n",
    ")\n",
    "\n",
    "V_cycle_2A = (\n",
    "    segmented_ASC_CYCLE_2A\n",
    "    + B_TIME_CYCLE_1A * dur_cycling\n",
    ")\n",
    "\n",
    "V_PT_2A = (\n",
    "    segmented_ASC_PT_2A\n",
    "    + B_TIME_PT_1A * dur_pt\n",
    "    + B_COST_1A * cost_transit\n",
    ")\n",
    "\n",
    "V_car_2A = (\n",
    "    segmented_ASC_CAR_2A\n",
    "    + B_TIME_CAR_1A * dur_driving\n",
    "    + B_COST_1A * cost_driving\n",
    ")\n",
    "\n",
    "V_2A ={1: V_walk_2A, 2: V_cycle_2A, 3: V_PT_2A, 4: V_car_2A}\n",
    "\n",
    "logprob_2A = loglogit(V_2A, None, travel_mode)\n",
    "biogeme_2A = bio.BIOGEME(database, logprob_2A)\n",
    "biogeme_2A.modelName = 'model_2A'\n",
    "\n",
    "results_2A = biogeme_2A.estimate()\n",
    "print(results_2A.print_general_statistics())"
   ]
  },
  {
   "cell_type": "code",
   "execution_count": 25,
   "metadata": {},
   "outputs": [
    {
     "data": {
      "text/html": [
       "<div>\n",
       "<style scoped>\n",
       "    .dataframe tbody tr th:only-of-type {\n",
       "        vertical-align: middle;\n",
       "    }\n",
       "\n",
       "    .dataframe tbody tr th {\n",
       "        vertical-align: top;\n",
       "    }\n",
       "\n",
       "    .dataframe thead th {\n",
       "        text-align: right;\n",
       "    }\n",
       "</style>\n",
       "<table border=\"1\" class=\"dataframe\">\n",
       "  <thead>\n",
       "    <tr style=\"text-align: right;\">\n",
       "      <th></th>\n",
       "      <th>Value</th>\n",
       "      <th>Rob. Std err</th>\n",
       "      <th>Rob. t-test</th>\n",
       "      <th>Rob. p-value</th>\n",
       "    </tr>\n",
       "  </thead>\n",
       "  <tbody>\n",
       "    <tr>\n",
       "      <th>ASC_CAR_1A</th>\n",
       "      <td>-2.803883</td>\n",
       "      <td>0.153422</td>\n",
       "      <td>-18.275671</td>\n",
       "      <td>0.000000</td>\n",
       "    </tr>\n",
       "    <tr>\n",
       "      <th>ASC_CAR_1A_driving license</th>\n",
       "      <td>1.167559</td>\n",
       "      <td>0.098951</td>\n",
       "      <td>11.799355</td>\n",
       "      <td>0.000000</td>\n",
       "    </tr>\n",
       "    <tr>\n",
       "      <th>ASC_CYCLE_1A</th>\n",
       "      <td>-5.257499</td>\n",
       "      <td>0.235644</td>\n",
       "      <td>-22.311189</td>\n",
       "      <td>0.000000</td>\n",
       "    </tr>\n",
       "    <tr>\n",
       "      <th>ASC_CYCLE_1A_driving license</th>\n",
       "      <td>0.750222</td>\n",
       "      <td>0.192541</td>\n",
       "      <td>3.896420</td>\n",
       "      <td>0.000098</td>\n",
       "    </tr>\n",
       "    <tr>\n",
       "      <th>ASC_PT_1A</th>\n",
       "      <td>-2.447991</td>\n",
       "      <td>0.148828</td>\n",
       "      <td>-16.448512</td>\n",
       "      <td>0.000000</td>\n",
       "    </tr>\n",
       "    <tr>\n",
       "      <th>ASC_PT_1A_driving license</th>\n",
       "      <td>-0.332672</td>\n",
       "      <td>0.103479</td>\n",
       "      <td>-3.214863</td>\n",
       "      <td>0.001305</td>\n",
       "    </tr>\n",
       "    <tr>\n",
       "      <th>B_COST_1A</th>\n",
       "      <td>-0.117883</td>\n",
       "      <td>0.014041</td>\n",
       "      <td>-8.395413</td>\n",
       "      <td>0.000000</td>\n",
       "    </tr>\n",
       "    <tr>\n",
       "      <th>B_TIME_CAR_1A</th>\n",
       "      <td>-6.954715</td>\n",
       "      <td>0.441370</td>\n",
       "      <td>-15.757103</td>\n",
       "      <td>0.000000</td>\n",
       "    </tr>\n",
       "    <tr>\n",
       "      <th>B_TIME_CYCLE_1A</th>\n",
       "      <td>-5.665549</td>\n",
       "      <td>0.485894</td>\n",
       "      <td>-11.660059</td>\n",
       "      <td>0.000000</td>\n",
       "    </tr>\n",
       "    <tr>\n",
       "      <th>B_TIME_PT_1A</th>\n",
       "      <td>-3.552832</td>\n",
       "      <td>0.270049</td>\n",
       "      <td>-13.156250</td>\n",
       "      <td>0.000000</td>\n",
       "    </tr>\n",
       "    <tr>\n",
       "      <th>B_TIME_WALK_1A</th>\n",
       "      <td>-8.856365</td>\n",
       "      <td>0.431250</td>\n",
       "      <td>-20.536498</td>\n",
       "      <td>0.000000</td>\n",
       "    </tr>\n",
       "  </tbody>\n",
       "</table>\n",
       "</div>"
      ],
      "text/plain": [
       "                                 Value  Rob. Std err  Rob. t-test  \\\n",
       "ASC_CAR_1A                   -2.803883      0.153422   -18.275671   \n",
       "ASC_CAR_1A_driving license    1.167559      0.098951    11.799355   \n",
       "ASC_CYCLE_1A                 -5.257499      0.235644   -22.311189   \n",
       "ASC_CYCLE_1A_driving license  0.750222      0.192541     3.896420   \n",
       "ASC_PT_1A                    -2.447991      0.148828   -16.448512   \n",
       "ASC_PT_1A_driving license    -0.332672      0.103479    -3.214863   \n",
       "B_COST_1A                    -0.117883      0.014041    -8.395413   \n",
       "B_TIME_CAR_1A                -6.954715      0.441370   -15.757103   \n",
       "B_TIME_CYCLE_1A              -5.665549      0.485894   -11.660059   \n",
       "B_TIME_PT_1A                 -3.552832      0.270049   -13.156250   \n",
       "B_TIME_WALK_1A               -8.856365      0.431250   -20.536498   \n",
       "\n",
       "                              Rob. p-value  \n",
       "ASC_CAR_1A                        0.000000  \n",
       "ASC_CAR_1A_driving license        0.000000  \n",
       "ASC_CYCLE_1A                      0.000000  \n",
       "ASC_CYCLE_1A_driving license      0.000098  \n",
       "ASC_PT_1A                         0.000000  \n",
       "ASC_PT_1A_driving license         0.001305  \n",
       "B_COST_1A                         0.000000  \n",
       "B_TIME_CAR_1A                     0.000000  \n",
       "B_TIME_CYCLE_1A                   0.000000  \n",
       "B_TIME_PT_1A                      0.000000  \n",
       "B_TIME_WALK_1A                    0.000000  "
      ]
     },
     "metadata": {},
     "output_type": "display_data"
    }
   ],
   "source": [
    "display(results_2A.get_estimated_parameters())"
   ]
  },
  {
   "cell_type": "markdown",
   "metadata": {},
   "source": [
    "ASC_CAR with driving license is positive, which makes sense"
   ]
  },
  {
   "cell_type": "code",
   "execution_count": 33,
   "metadata": {},
   "outputs": [],
   "source": [
    "segmented_B_TIME_WALK_2B = segmented_beta(B_TIME_WALK_1A,[driving_license_segmentation])\n",
    "\n",
    "segmented_B_TIME_CAR_2B = segmented_beta(B_TIME_CAR_1A,[driving_license_segmentation])\n",
    "\n",
    "segmented_B_TIME_CYCLE_2B = segmented_beta(B_TIME_CYCLE_1A,[driving_license_segmentation])\n",
    "\n",
    "segmented_B_TIME_PT_2B = segmented_beta(B_TIME_PT_1A,[driving_license_segmentation])"
   ]
  },
  {
   "cell_type": "code",
   "execution_count": 34,
   "metadata": {},
   "outputs": [
    {
     "name": "stdout",
     "output_type": "stream",
     "text": [
      "Number of estimated parameters:\t12\n",
      "Sample size:\t5000\n",
      "Excluded observations:\t0\n",
      "Init log likelihood:\t-4142.745\n",
      "Final log likelihood:\t-4142.745\n",
      "Likelihood ratio test for the init. model:\t-0\n",
      "Rho-square for the init. model:\t0\n",
      "Rho-square-bar for the init. model:\t-0.0029\n",
      "Akaike Information Criterion:\t8309.49\n",
      "Bayesian Information Criterion:\t8387.697\n",
      "Final gradient norm:\t1.3575E-02\n",
      "Nbr of threads:\t8\n",
      "\n"
     ]
    }
   ],
   "source": [
    "V_walk_2B = (\n",
    "    segmented_B_TIME_WALK_2B * dur_walking\n",
    ")\n",
    "\n",
    "V_cycle_2B = (\n",
    "    ASC_CYCLE_1A\n",
    "    + segmented_B_TIME_CYCLE_2B * dur_cycling\n",
    ")\n",
    "\n",
    "V_PT_2B = (\n",
    "    ASC_PT_1A\n",
    "    + segmented_B_TIME_PT_2B * dur_pt\n",
    "    + B_COST_1A * cost_transit\n",
    ")\n",
    "\n",
    "V_car_2B = (\n",
    "    ASC_CAR_1A\n",
    "    + segmented_B_TIME_CAR_2B * dur_driving\n",
    "    + B_COST_1A * cost_driving\n",
    ")\n",
    "\n",
    "V_2B ={1: V_walk_2B, 2: V_cycle_2B, 3: V_PT_2B, 4: V_car_2B}\n",
    "\n",
    "logprob_2B = loglogit(V_2B, None, travel_mode)\n",
    "biogeme_2B = bio.BIOGEME(database, logprob_2B)\n",
    "biogeme_2B.modelName = 'model_2B'\n",
    "\n",
    "results_2B = biogeme_2B.estimate()\n",
    "print(results_2B.print_general_statistics())"
   ]
  },
  {
   "cell_type": "code",
   "execution_count": 35,
   "metadata": {},
   "outputs": [
    {
     "data": {
      "text/html": [
       "<div>\n",
       "<style scoped>\n",
       "    .dataframe tbody tr th:only-of-type {\n",
       "        vertical-align: middle;\n",
       "    }\n",
       "\n",
       "    .dataframe tbody tr th {\n",
       "        vertical-align: top;\n",
       "    }\n",
       "\n",
       "    .dataframe thead th {\n",
       "        text-align: right;\n",
       "    }\n",
       "</style>\n",
       "<table border=\"1\" class=\"dataframe\">\n",
       "  <thead>\n",
       "    <tr style=\"text-align: right;\">\n",
       "      <th></th>\n",
       "      <th>Value</th>\n",
       "      <th>Rob. Std err</th>\n",
       "      <th>Rob. t-test</th>\n",
       "      <th>Rob. p-value</th>\n",
       "    </tr>\n",
       "  </thead>\n",
       "  <tbody>\n",
       "    <tr>\n",
       "      <th>ASC_CAR_1A</th>\n",
       "      <td>-2.085706</td>\n",
       "      <td>0.133837</td>\n",
       "      <td>-15.583917</td>\n",
       "      <td>0.000000e+00</td>\n",
       "    </tr>\n",
       "    <tr>\n",
       "      <th>ASC_CYCLE_1A</th>\n",
       "      <td>-4.847654</td>\n",
       "      <td>0.195604</td>\n",
       "      <td>-24.782960</td>\n",
       "      <td>0.000000e+00</td>\n",
       "    </tr>\n",
       "    <tr>\n",
       "      <th>ASC_PT_1A</th>\n",
       "      <td>-2.624931</td>\n",
       "      <td>0.137262</td>\n",
       "      <td>-19.123472</td>\n",
       "      <td>0.000000e+00</td>\n",
       "    </tr>\n",
       "    <tr>\n",
       "      <th>B_COST_1A</th>\n",
       "      <td>-0.112407</td>\n",
       "      <td>0.014495</td>\n",
       "      <td>-7.754797</td>\n",
       "      <td>8.881784e-15</td>\n",
       "    </tr>\n",
       "    <tr>\n",
       "      <th>B_TIME_CAR_1A</th>\n",
       "      <td>-5.858262</td>\n",
       "      <td>0.889828</td>\n",
       "      <td>-6.583591</td>\n",
       "      <td>4.592193e-11</td>\n",
       "    </tr>\n",
       "    <tr>\n",
       "      <th>B_TIME_CAR_1A_driving license</th>\n",
       "      <td>-2.122749</td>\n",
       "      <td>1.056006</td>\n",
       "      <td>-2.010167</td>\n",
       "      <td>4.441357e-02</td>\n",
       "    </tr>\n",
       "    <tr>\n",
       "      <th>B_TIME_CYCLE_1A</th>\n",
       "      <td>-4.395457</td>\n",
       "      <td>0.867508</td>\n",
       "      <td>-5.066763</td>\n",
       "      <td>4.046382e-07</td>\n",
       "    </tr>\n",
       "    <tr>\n",
       "      <th>B_TIME_CYCLE_1A_driving license</th>\n",
       "      <td>-2.146928</td>\n",
       "      <td>0.951514</td>\n",
       "      <td>-2.256329</td>\n",
       "      <td>2.405005e-02</td>\n",
       "    </tr>\n",
       "    <tr>\n",
       "      <th>B_TIME_PT_1A</th>\n",
       "      <td>-1.472644</td>\n",
       "      <td>0.444746</td>\n",
       "      <td>-3.311205</td>\n",
       "      <td>9.289510e-04</td>\n",
       "    </tr>\n",
       "    <tr>\n",
       "      <th>B_TIME_PT_1A_driving license</th>\n",
       "      <td>-3.632761</td>\n",
       "      <td>0.567372</td>\n",
       "      <td>-6.402790</td>\n",
       "      <td>1.525624e-10</td>\n",
       "    </tr>\n",
       "    <tr>\n",
       "      <th>B_TIME_WALK_1A</th>\n",
       "      <td>-7.344629</td>\n",
       "      <td>0.486109</td>\n",
       "      <td>-15.109009</td>\n",
       "      <td>0.000000e+00</td>\n",
       "    </tr>\n",
       "    <tr>\n",
       "      <th>B_TIME_WALK_1A_driving license</th>\n",
       "      <td>-2.798074</td>\n",
       "      <td>0.457100</td>\n",
       "      <td>-6.121356</td>\n",
       "      <td>9.278227e-10</td>\n",
       "    </tr>\n",
       "  </tbody>\n",
       "</table>\n",
       "</div>"
      ],
      "text/plain": [
       "                                    Value  Rob. Std err  Rob. t-test  \\\n",
       "ASC_CAR_1A                      -2.085706      0.133837   -15.583917   \n",
       "ASC_CYCLE_1A                    -4.847654      0.195604   -24.782960   \n",
       "ASC_PT_1A                       -2.624931      0.137262   -19.123472   \n",
       "B_COST_1A                       -0.112407      0.014495    -7.754797   \n",
       "B_TIME_CAR_1A                   -5.858262      0.889828    -6.583591   \n",
       "B_TIME_CAR_1A_driving license   -2.122749      1.056006    -2.010167   \n",
       "B_TIME_CYCLE_1A                 -4.395457      0.867508    -5.066763   \n",
       "B_TIME_CYCLE_1A_driving license -2.146928      0.951514    -2.256329   \n",
       "B_TIME_PT_1A                    -1.472644      0.444746    -3.311205   \n",
       "B_TIME_PT_1A_driving license    -3.632761      0.567372    -6.402790   \n",
       "B_TIME_WALK_1A                  -7.344629      0.486109   -15.109009   \n",
       "B_TIME_WALK_1A_driving license  -2.798074      0.457100    -6.121356   \n",
       "\n",
       "                                 Rob. p-value  \n",
       "ASC_CAR_1A                       0.000000e+00  \n",
       "ASC_CYCLE_1A                     0.000000e+00  \n",
       "ASC_PT_1A                        0.000000e+00  \n",
       "B_COST_1A                        8.881784e-15  \n",
       "B_TIME_CAR_1A                    4.592193e-11  \n",
       "B_TIME_CAR_1A_driving license    4.441357e-02  \n",
       "B_TIME_CYCLE_1A                  4.046382e-07  \n",
       "B_TIME_CYCLE_1A_driving license  2.405005e-02  \n",
       "B_TIME_PT_1A                     9.289510e-04  \n",
       "B_TIME_PT_1A_driving license     1.525624e-10  \n",
       "B_TIME_WALK_1A                   0.000000e+00  \n",
       "B_TIME_WALK_1A_driving license   9.278227e-10  "
      ]
     },
     "metadata": {},
     "output_type": "display_data"
    }
   ],
   "source": [
    "display(results_2B.get_estimated_parameters())"
   ]
  },
  {
   "cell_type": "markdown",
   "metadata": {},
   "source": [
    "The pt time is worse if you have a driving license"
   ]
  },
  {
   "cell_type": "markdown",
   "metadata": {},
   "source": [
    "To compare the models we use the log likehood test.\n",
    "\n",
    "The null hypothesis, H0, is that the model and the restriced version are equivalent."
   ]
  },
  {
   "cell_type": "code",
   "execution_count": 51,
   "metadata": {},
   "outputs": [
    {
     "name": "stdout",
     "output_type": "stream",
     "text": [
      "lr_result2A.statistic=429\n",
      "lr_result2A.threshold=7.81\n",
      "H0 can be rejected at level 5.0%\n"
     ]
    }
   ],
   "source": [
    "lr_result2A = results_2A.likelihood_ratio_test(results_1A, 0.05)\n",
    "print(f'{lr_result2A.statistic=:.3g}')\n",
    "print(f'{lr_result2A.threshold=:.3g}')\n",
    "print(lr_result2A.message)\n"
   ]
  },
  {
   "cell_type": "code",
   "execution_count": 53,
   "metadata": {},
   "outputs": [
    {
     "name": "stdout",
     "output_type": "stream",
     "text": [
      "lr_result2B.statistic=354\n",
      "lr_result2B.threshold=9.49\n",
      "H0 can be rejected at level 5.0%\n"
     ]
    }
   ],
   "source": [
    "lr_result2B = results_2B.likelihood_ratio_test(results_1A, 0.05)\n",
    "print(f'{lr_result2B.statistic=:.3g}')\n",
    "print(f'{lr_result2B.threshold=:.3g}')\n",
    "print(lr_result2B.message)"
   ]
  },
  {
   "cell_type": "markdown",
   "metadata": {},
   "source": [
    "Both models rejected H0 with the likelihood test, so both are better then the previous prefered model. Since the AIC and BIC are better for 2A that will be our new prefered."
   ]
  },
  {
   "cell_type": "markdown",
   "metadata": {},
   "source": [
    "### To delete if it's well done, to correct otherwise\n",
    "!!!!! is this how you're suppose to model age ??????????"
   ]
  },
  {
   "cell_type": "code",
   "execution_count": 29,
   "metadata": {},
   "outputs": [],
   "source": [
    "age = Variable('age')\n",
    "beta_age = Beta('beta_age', 0, None, None, 0)"
   ]
  },
  {
   "cell_type": "code",
   "execution_count": 30,
   "metadata": {},
   "outputs": [
    {
     "name": "stdout",
     "output_type": "stream",
     "text": [
      "Number of estimated parameters:\t9\n",
      "Sample size:\t5000\n",
      "Excluded observations:\t0\n",
      "Init log likelihood:\t-4683.053\n",
      "Final log likelihood:\t-4297.385\n",
      "Likelihood ratio test for the init. model:\t771.3363\n",
      "Rho-square for the init. model:\t0.0824\n",
      "Rho-square-bar for the init. model:\t0.0804\n",
      "Akaike Information Criterion:\t8612.77\n",
      "Bayesian Information Criterion:\t8671.425\n",
      "Final gradient norm:\t5.9679E-02\n",
      "Nbr of threads:\t8\n",
      "\n"
     ]
    }
   ],
   "source": [
    "V_walk_2A = (\n",
    "    B_TIME_WALK_1A * dur_walking\n",
    ")\n",
    "\n",
    "V_cycle_2A = (\n",
    "    ASC_CYCLE_1A\n",
    "    + beta_age*age\n",
    "    + B_TIME_CYCLE_1A * dur_cycling\n",
    ")\n",
    "\n",
    "V_PT_2A = (\n",
    "    ASC_PT_1A\n",
    "    + beta_age*age\n",
    "    + B_TIME_PT_1A * dur_pt\n",
    "    + B_COST_1A * cost_transit\n",
    ")\n",
    "\n",
    "V_car_2A = (\n",
    "    ASC_CAR_1A\n",
    "    + beta_age*age\n",
    "    + B_TIME_CAR_1A * dur_driving\n",
    "    + B_COST_1A * cost_driving\n",
    ")\n",
    "\n",
    "V_2A ={1: V_walk_2A, 2: V_cycle_2A, 3: V_PT_2A, 4: V_car_2A}\n",
    "\n",
    "logprob_2A = loglogit(V_2A, None, travel_mode)\n",
    "biogeme_2A = bio.BIOGEME(database, logprob_2A)\n",
    "biogeme_2A.modelName = 'model_2A'\n",
    "\n",
    "results_2A = biogeme_2A.estimate()\n",
    "print(results_2A.print_general_statistics())"
   ]
  },
  {
   "cell_type": "code",
   "execution_count": 31,
   "metadata": {},
   "outputs": [
    {
     "name": "stdout",
     "output_type": "stream",
     "text": [
      "Number of estimated parameters:\t9\n",
      "Sample size:\t5000\n",
      "Excluded observations:\t0\n",
      "Init log likelihood:\t-4414.975\n",
      "Final log likelihood:\t-4332.703\n",
      "Likelihood ratio test for the init. model:\t164.5443\n",
      "Rho-square for the init. model:\t0.0186\n",
      "Rho-square-bar for the init. model:\t0.0166\n",
      "Akaike Information Criterion:\t8683.407\n",
      "Bayesian Information Criterion:\t8742.061\n",
      "Final gradient norm:\t4.4687E-04\n",
      "Nbr of threads:\t8\n",
      "\n"
     ]
    }
   ],
   "source": [
    "V_walk_2A = (\n",
    "    B_TIME_WALK_1A * dur_walking\n",
    ")\n",
    "\n",
    "V_cycle_2A = (\n",
    "    ASC_CYCLE_1A\n",
    "    + B_TIME_CYCLE_1A * dur_cycling\n",
    ")\n",
    "\n",
    "V_PT_2A = (\n",
    "    ASC_PT_1A\n",
    "    + B_TIME_PT_1A * dur_pt\n",
    "    + B_COST_1A * cost_transit * beta_age*age\n",
    ")\n",
    "\n",
    "V_car_2A = (\n",
    "    ASC_CAR_1A\n",
    "    + B_TIME_CAR_1A * dur_driving\n",
    "    + B_COST_1A * cost_driving * beta_age*age\n",
    ")\n",
    "\n",
    "V_2A ={1: V_walk_2A, 2: V_cycle_2A, 3: V_PT_2A, 4: V_car_2A}\n",
    "\n",
    "logprob_2A = loglogit(V_2A, None, travel_mode)\n",
    "biogeme_2A = bio.BIOGEME(database, logprob_2A)\n",
    "biogeme_2A.modelName = 'model_2A'\n",
    "\n",
    "results_2A = biogeme_2A.estimate()\n",
    "print(results_2A.print_general_statistics())"
   ]
  },
  {
   "cell_type": "markdown",
   "metadata": {},
   "source": [
    "## Model 3"
   ]
  },
  {
   "cell_type": "markdown",
   "metadata": {},
   "source": [
    "## Model 4"
   ]
  }
 ],
 "metadata": {
  "kernelspec": {
   "display_name": "mmb",
   "language": "python",
   "name": "python3"
  },
  "language_info": {
   "codemirror_mode": {
    "name": "ipython",
    "version": 3
   },
   "file_extension": ".py",
   "mimetype": "text/x-python",
   "name": "python",
   "nbconvert_exporter": "python",
   "pygments_lexer": "ipython3",
   "version": "3.12.4"
  }
 },
 "nbformat": 4,
 "nbformat_minor": 2
}
