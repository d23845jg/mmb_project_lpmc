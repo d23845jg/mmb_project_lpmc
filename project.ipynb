{
 "cells": [
  {
   "cell_type": "code",
   "execution_count": null,
   "metadata": {},
   "outputs": [],
   "source": [
    "import pandas as pd\n",
    "import biogeme.database as db\n",
    "import biogeme.biogeme as bio\n",
    "from biogeme.expressions import Beta, Variable\n",
    "from biogeme.models import loglogit, piecewise_formula, boxcox\n",
    "from biogeme.segmentation import DiscreteSegmentationTuple, segmented_beta\n",
    "from scipy.stats import chi2\n",
    "import matplotlib.pyplot as plt\n",
    "import seaborn as sns"
   ]
  },
  {
   "cell_type": "code",
   "execution_count": null,
   "metadata": {},
   "outputs": [],
   "source": [
    "# Loading the data\n",
    "df = pd.read_csv('lpmc06.dat', sep='\\t')"
   ]
  },
  {
   "cell_type": "code",
   "execution_count": null,
   "metadata": {},
   "outputs": [],
   "source": [
    "df[\"dur_pt\"] = df[\"dur_pt_access\"] + df[\"dur_pt_rail\"] + df[\"dur_pt_bus\"] + df[\"dur_pt_int\"]\n",
    "df[\"cost_driving\"] = df[\"cost_driving_fuel\"] + df[\"cost_driving_ccharge\"]"
   ]
  },
  {
   "cell_type": "code",
   "execution_count": null,
   "metadata": {},
   "outputs": [],
   "source": [
    "display(df.columns)"
   ]
  },
  {
   "cell_type": "code",
   "execution_count": null,
   "metadata": {},
   "outputs": [],
   "source": [
    "display(df.head())"
   ]
  },
  {
   "cell_type": "code",
   "execution_count": null,
   "metadata": {},
   "outputs": [],
   "source": [
    "database = db.Database('lpmc', df)"
   ]
  },
  {
   "cell_type": "markdown",
   "metadata": {},
   "source": [
    "## Model 0"
   ]
  },
  {
   "cell_type": "markdown",
   "metadata": {},
   "source": [
    "We identify the variables that will enter the model specification."
   ]
  },
  {
   "cell_type": "code",
   "execution_count": null,
   "metadata": {},
   "outputs": [],
   "source": [
    "# Time related variables\n",
    "dur_walking = Variable('dur_walking') # in hours\n",
    "dur_cycling = Variable('dur_cycling') # in hours\n",
    "# dur_pt_access = Variable('dur_pt_access') # in hours\n",
    "# dur_pt_rail = Variable('dur_pt_rail') # in hours\n",
    "# dur_pt_bus = Variable('dur_pt_bus') # in hours\n",
    "# dur_pt_int = Variable('dur_pt_int') # in hours\n",
    "dur_pt = Variable('dur_pt')\n",
    "dur_driving = Variable('dur_driving') # in hours\n",
    "\n",
    "\n",
    "# Cost related variables\n",
    "cost_transit = Variable('cost_transit') # in GBP\n",
    "# cost_driving_fuel = Variable('cost_driving_fuel') # in GBP\n",
    "# cost_driving_ccharge = Variable('cost_driving_ccharge') # in GBP\n",
    "cost_driving = Variable('cost_driving')\n",
    "\n",
    "# Choice taken by the individual\n",
    "travel_mode = Variable('travel_mode') # 1 = walk, 2 = cycle, 3 = PT, 4 = car"
   ]
  },
  {
   "cell_type": "markdown",
   "metadata": {},
   "source": [
    "Parameters to be estimated"
   ]
  },
  {
   "cell_type": "code",
   "execution_count": null,
   "metadata": {},
   "outputs": [],
   "source": [
    "# ASC_WALK = Beta('asc_walk', 0, None, None, 0)\n",
    "ASC_CYCLE = Beta('asc_cycle', 0, None, None, 0)\n",
    "ASC_PT = Beta('asc_pt', 0, None, None, 0)\n",
    "ASC_CAR = Beta('asc_car', 0, None, None, 0)\n",
    "\n",
    "B_TIME = Beta('b_time', 0, None, None, 0)\n",
    "B_COST = Beta('b_cost', 0, None, None, 0)"
   ]
  },
  {
   "cell_type": "markdown",
   "metadata": {},
   "source": [
    "Definition of the utility functions."
   ]
  },
  {
   "cell_type": "code",
   "execution_count": null,
   "metadata": {},
   "outputs": [],
   "source": [
    "# Walk\n",
    "V1 = (\n",
    "  # ASC_WALK -> Normalized with respect to walk\n",
    "  B_TIME * dur_walking\n",
    ")\n",
    "\n",
    "# Cycle\n",
    "V2 = (\n",
    "  ASC_CYCLE\n",
    "  + B_TIME * dur_cycling\n",
    ")\n",
    "\n",
    "# Public transport\n",
    "V3 = (\n",
    "  ASC_PT\n",
    "  + B_TIME * dur_pt\n",
    "  #+ B_TIME * (dur_pt_access + dur_pt_rail + dur_pt_bus + dur_pt_int)\n",
    "  + B_COST * cost_transit\n",
    ")\n",
    "\n",
    "# Car\n",
    "V4 = (\n",
    "  ASC_CAR\n",
    "  + B_TIME * dur_driving\n",
    "  + B_COST * cost_driving\n",
    "  #+ B_COST * (cost_driving_fuel + cost_driving_ccharge)\n",
    ")"
   ]
  },
  {
   "cell_type": "code",
   "execution_count": null,
   "metadata": {},
   "outputs": [],
   "source": [
    "V = {1: V1, 2: V2, 3: V3, 4: V4}"
   ]
  },
  {
   "cell_type": "markdown",
   "metadata": {},
   "source": [
    "Definition of the model."
   ]
  },
  {
   "cell_type": "code",
   "execution_count": null,
   "metadata": {},
   "outputs": [],
   "source": [
    "# All alternatives are available to all individuals.\n",
    "logprob = loglogit(V, None, travel_mode)\n",
    "biogeme = bio.BIOGEME(database, logprob)\n",
    "biogeme.modelName = 'model_0'"
   ]
  },
  {
   "cell_type": "markdown",
   "metadata": {},
   "source": [
    "Estimate the parameters."
   ]
  },
  {
   "cell_type": "code",
   "execution_count": null,
   "metadata": {},
   "outputs": [],
   "source": [
    "results = biogeme.estimate()"
   ]
  },
  {
   "cell_type": "markdown",
   "metadata": {},
   "source": [
    "Summary statistics."
   ]
  },
  {
   "cell_type": "code",
   "execution_count": null,
   "metadata": {},
   "outputs": [],
   "source": [
    "print(results.print_general_statistics())"
   ]
  },
  {
   "cell_type": "code",
   "execution_count": null,
   "metadata": {},
   "outputs": [],
   "source": [
    "display(results.get_estimated_parameters())"
   ]
  },
  {
   "cell_type": "markdown",
   "metadata": {},
   "source": [
    "## Model 1\n",
    "In this version of the model, we introduce alternative-specific coefficients for either b_time (model 1a) or b_cost (model 1b), and we compare the results to determine which model yields the best results "
   ]
  },
  {
   "cell_type": "markdown",
   "metadata": {},
   "source": [
    "### Model 1a (alternative-specific b_time)\n"
   ]
  },
  {
   "cell_type": "markdown",
   "metadata": {},
   "source": [
    "Parameters to be estimated"
   ]
  },
  {
   "cell_type": "code",
   "execution_count": null,
   "metadata": {},
   "outputs": [],
   "source": [
    "# Alternative specific constants (ASC_walk is normalized to 0)\n",
    "ASC_CYCLE_1A = Beta('ASC_CYCLE_1A', 0, None, None, 0)\n",
    "ASC_PT_1A    = Beta('ASC_PT_1A', 0, None, None, 0)\n",
    "ASC_CAR_1A   = Beta('ASC_CAR_1A', 0, None, None, 0)\n",
    "\n",
    "# Alternative specific time coefficient\n",
    "B_TIME_WALK_1A  = Beta('B_TIME_WALK_1A', 0, None, None, 0)\n",
    "B_TIME_CYCLE_1A = Beta('B_TIME_CYCLE_1A', 0, None, None, 0)\n",
    "B_TIME_PT_1A    = Beta('B_TIME_PT_1A', 0, None, None, 0)\n",
    "B_TIME_CAR_1A   = Beta('B_TIME_CAR_1A', 0, None, None, 0)\n",
    "\n",
    "# Generic cost coefficient\n",
    "B_COST_1A = Beta('B_COST_1A', 0, None, None, 0)"
   ]
  },
  {
   "cell_type": "markdown",
   "metadata": {},
   "source": [
    "Definition of the utility functions"
   ]
  },
  {
   "cell_type": "code",
   "execution_count": null,
   "metadata": {},
   "outputs": [],
   "source": [
    "V_walk_1A = (\n",
    "    B_TIME_WALK_1A * dur_walking\n",
    ")\n",
    "\n",
    "V_cycle_1A = (\n",
    "    ASC_CYCLE_1A\n",
    "    + B_TIME_CYCLE_1A * dur_cycling\n",
    ")\n",
    "\n",
    "V_PT_1A = (\n",
    "    ASC_PT_1A\n",
    "    + B_TIME_PT_1A * dur_pt\n",
    "    + B_COST_1A * cost_transit\n",
    ")\n",
    "\n",
    "V_car_1A = (\n",
    "    ASC_CAR_1A\n",
    "    + B_TIME_CAR_1A * dur_driving\n",
    "    + B_COST_1A * cost_driving\n",
    ")\n",
    "\n",
    "V_1A = {1: V_walk_1A, 2: V_cycle_1A, 3: V_PT_1A, 4: V_car_1A}"
   ]
  },
  {
   "cell_type": "markdown",
   "metadata": {},
   "source": [
    "Definition of the model"
   ]
  },
  {
   "cell_type": "code",
   "execution_count": null,
   "metadata": {},
   "outputs": [],
   "source": [
    "logprob_1A = loglogit(V_1A, None, travel_mode)\n",
    "biogeme_1A = bio.BIOGEME(database, logprob_1A)\n",
    "biogeme_1A.modelName = 'model_1A'"
   ]
  },
  {
   "cell_type": "markdown",
   "metadata": {},
   "source": [
    "Estimation and display of the results"
   ]
  },
  {
   "cell_type": "code",
   "execution_count": null,
   "metadata": {},
   "outputs": [],
   "source": [
    "results_1A = biogeme_1A.estimate()\n",
    "print(results_1A.print_general_statistics())"
   ]
  },
  {
   "cell_type": "code",
   "execution_count": null,
   "metadata": {},
   "outputs": [],
   "source": [
    "display(results_1A.get_estimated_parameters())"
   ]
  },
  {
   "cell_type": "markdown",
   "metadata": {},
   "source": [
    "_Observations for the report_\n",
    "\n",
    "First, we observe that all the B coefficients are negative, which makes sense, because a longer and/or more expensive travel mode is less attractive. \n",
    "\n",
    "The cost coefficient of model 1A is very close to the one for the model 0. On the other hand, the time coefficient, which was made alternative specific in model 1A, now strongly depends on the chosen mode. In particular, we observe it is the smallest (in absolute value) for PT; an interpretation could be that commuters are more prone to long PT travel times because they can read, sleep, etc., activites they cannot do while driving or cycling. On the other hand, the largest time_coefficient (again, in absolute value) is for walking, probably because beyond 20-30 minutes, people consider that doing the route by foot is too long.\n",
    "\n",
    "If we compare the Akaike or Bayesian information criterion between model 0 and model 1a, we observe they are both lower in the case of model 1a; it means the latter fits the data better than model 0."
   ]
  },
  {
   "cell_type": "markdown",
   "metadata": {},
   "source": [
    "### Model 1b (alternative-specific b_cost)\n",
    "\n",
    "We reproduce exactly the same steps as for model 1A, but we now assume a generic time coefficient, and a alternative specific cost coefficient"
   ]
  },
  {
   "cell_type": "markdown",
   "metadata": {},
   "source": [
    "Parameters to be estimated"
   ]
  },
  {
   "cell_type": "code",
   "execution_count": null,
   "metadata": {},
   "outputs": [],
   "source": [
    "# Alternative specific constants (ASC_walk is normalized to 0)\n",
    "ASC_CYCLE_1B = Beta('ASC_CYCLE_1B', 0, None, None, 0)\n",
    "ASC_PT_1B    = Beta('ASC_PT_1B', 0, None, None, 0)\n",
    "ASC_CAR_1B   = Beta('ASC_CAR_1B', 0, None, None, 0)\n",
    "\n",
    "# Alternative specific cost coefficient\n",
    "B_COST_PT_1B    = Beta('B_COST_PT_1B', 0, None, None, 0)\n",
    "B_COST_CAR_1B   = Beta('B_COST_CAR_1B', 0, None, None, 0)\n",
    "\n",
    "# Generic time coefficient\n",
    "B_TIME_1B = Beta('B_TIME_1B', 0, None, None, 0)"
   ]
  },
  {
   "cell_type": "markdown",
   "metadata": {},
   "source": [
    "Definition of the utility functions "
   ]
  },
  {
   "cell_type": "code",
   "execution_count": null,
   "metadata": {},
   "outputs": [],
   "source": [
    "V_walk_1B = (\n",
    "    B_TIME_1B * dur_walking\n",
    ")\n",
    "\n",
    "V_cycle_1B = (\n",
    "    ASC_CYCLE_1B\n",
    "    + B_TIME_1B * dur_cycling\n",
    ")\n",
    "\n",
    "V_PT_1B = (\n",
    "    ASC_PT_1B\n",
    "    + B_TIME_1B * dur_pt\n",
    "    + B_COST_PT_1B * cost_transit\n",
    ")\n",
    "\n",
    "V_car_1B = (\n",
    "    ASC_CAR_1B\n",
    "    + B_TIME_1B * dur_driving\n",
    "    + B_COST_CAR_1B * cost_driving\n",
    ")\n",
    "\n",
    "V_1B = {1: V_walk_1B, 2: V_cycle_1B, 3: V_PT_1B, 4: V_car_1B}"
   ]
  },
  {
   "cell_type": "markdown",
   "metadata": {},
   "source": [
    "Definition of the model"
   ]
  },
  {
   "cell_type": "code",
   "execution_count": null,
   "metadata": {},
   "outputs": [],
   "source": [
    "logprob_1B = loglogit(V_1B, None, travel_mode)\n",
    "biogeme_1B = bio.BIOGEME(database, logprob_1B)\n",
    "biogeme_1B.modelName = 'model_1B'"
   ]
  },
  {
   "cell_type": "markdown",
   "metadata": {},
   "source": [
    "Estimation and display of the results"
   ]
  },
  {
   "cell_type": "code",
   "execution_count": null,
   "metadata": {},
   "outputs": [],
   "source": [
    "results_1B = biogeme_1B.estimate()\n",
    "print(results_1B.print_general_statistics())"
   ]
  },
  {
   "cell_type": "code",
   "execution_count": null,
   "metadata": {},
   "outputs": [],
   "source": [
    "display(results_1B.get_estimated_parameters())"
   ]
  },
  {
   "cell_type": "code",
   "execution_count": null,
   "metadata": {},
   "outputs": [],
   "source": [
    "lr_result1A = results_1A.likelihood_ratio_test(results, 0.05)\n",
    "print(f'{lr_result1A.statistic=:.3g}')\n",
    "print(f'{lr_result1A.threshold=:.3g}')\n",
    "print(lr_result1A.message)"
   ]
  },
  {
   "cell_type": "code",
   "execution_count": null,
   "metadata": {},
   "outputs": [],
   "source": [
    "lr_result1B = results_1B.likelihood_ratio_test(results, 0.05)\n",
    "print(f'{lr_result1B.statistic=:.3g}')\n",
    "print(f'{lr_result1B.threshold=:.3g}')\n",
    "print(lr_result1B.message)"
   ]
  },
  {
   "cell_type": "markdown",
   "metadata": {},
   "source": [
    "_Observations for the report_\n",
    "\n",
    "This model seems clearly less effective than model 1A. We see it because\n",
    "\n",
    "1) The Bayesian and Akaike criterion are higher for model 1B\n",
    "2) the t-test are closer to 0\n",
    "3) the cost coefficient for PT is higher than 0, which doesn't make much sense\n",
    "\n",
    "We could have guessed that model 1B would be less interesting than model 1A, because only two alternatives out of four have a cost parameter, which means that making B_cost alternative specific allows less flexibility in the model than making B_time alternative specific\n",
    "\n",
    "So our preferred model for the rest of the project will be model 1A (alternative specific time coefficients)"
   ]
  },
  {
   "cell_type": "markdown",
   "metadata": {},
   "source": [
    "To formalize this, we perform a Cox test. We define a general model containing both an alternative-specific b_time and alt-spec b_cost"
   ]
  },
  {
   "cell_type": "code",
   "execution_count": null,
   "metadata": {},
   "outputs": [],
   "source": [
    "# Utility functions\n",
    "V_walk_1Cox = (B_TIME_WALK_1A * dur_walking)\n",
    "\n",
    "V_cycle_1Cox = (\n",
    "    ASC_CYCLE\n",
    "    + B_TIME_CYCLE_1A * dur_cycling\n",
    ")\n",
    "\n",
    "V_PT_1Cox = (\n",
    "    ASC_PT\n",
    "    + B_TIME_PT_1A * dur_pt\n",
    "    + B_COST_PT_1B * cost_transit\n",
    ")\n",
    "\n",
    "V_car_1Cox = (\n",
    "    ASC_CAR\n",
    "    + B_TIME_CAR_1A * dur_driving\n",
    "    + B_COST_CAR_1B * cost_driving\n",
    ")\n",
    "\n",
    "V_1Cox = {1: V_walk_1Cox, 2: V_cycle_1Cox, 3: V_PT_1Cox, 4: V_car_1Cox}\n",
    "\n",
    "# Estimation of the results\n",
    "logprob_1Cox = loglogit(V_1Cox, None, travel_mode)\n",
    "biogeme_1Cox = bio.BIOGEME(database, logprob_1Cox)\n",
    "biogeme_1Cox.modelName = 'model_1Cox'\n",
    "results_1Cox = biogeme_1Cox.estimate()"
   ]
  },
  {
   "cell_type": "markdown",
   "metadata": {},
   "source": [
    "We compare model 1C with model 1A"
   ]
  },
  {
   "cell_type": "code",
   "execution_count": null,
   "metadata": {},
   "outputs": [],
   "source": [
    "lr_result1AC = results_1A.likelihood_ratio_test(results_1Cox, 0.005)\n",
    "print(f'{lr_result1AC.statistic=:.3g}')\n",
    "print(f'{lr_result1AC.threshold=:.3g}')\n",
    "print(lr_result1AC.message)"
   ]
  },
  {
   "cell_type": "markdown",
   "metadata": {},
   "source": [
    "We compare model 1C with model 1B"
   ]
  },
  {
   "cell_type": "code",
   "execution_count": null,
   "metadata": {},
   "outputs": [],
   "source": [
    "lr_result1BC = results_1B.likelihood_ratio_test(results_1Cox, 0.005)\n",
    "print(f'{lr_result1BC.statistic=:.3g}')\n",
    "print(f'{lr_result1BC.threshold=:.3g}')\n",
    "print(lr_result1BC.message)"
   ]
  },
  {
   "cell_type": "markdown",
   "metadata": {},
   "source": [
    "To conclude, model 1A is better than model 1B because, at the level $\\alpha = 0.5 \\%$, model B can be rejected against the composite model, but model A cannot. By the Cox test, 1A is better than 1B"
   ]
  },
  {
   "cell_type": "markdown",
   "metadata": {},
   "source": [
    "## Model 2"
   ]
  },
  {
   "cell_type": "markdown",
   "metadata": {},
   "source": [
    "In this model we chose a socio-economic characteristic, ownership of a driving liecense, and interacted it with both the ASC and one of the attributes.\n",
    "\n",
    "It is easy to see that having a driving license has a significant impact on the choice."
   ]
  },
  {
   "cell_type": "markdown",
   "metadata": {},
   "source": [
    "We first add the variable driving license, and its segmentation"
   ]
  },
  {
   "cell_type": "markdown",
   "metadata": {},
   "source": [
    "#### Purpose"
   ]
  },
  {
   "cell_type": "code",
   "execution_count": null,
   "metadata": {},
   "outputs": [],
   "source": [
    "# purpose = Variable('purpose')\n",
    "# purpose_segmentation = DiscreteSegmentationTuple(\n",
    "#     variable=purpose, mapping={1: 'B', 2: 'C', 3: 'D', 4: 'E', 5: 'F'}\n",
    "# )\n",
    "\n",
    "# segmented_ASC_CAR_2A = segmented_beta(ASC_CAR_1A,[purpose_segmentation])\n",
    "\n",
    "# segmented_ASC_CYCLE_2A = segmented_beta(ASC_CYCLE_1A,[purpose_segmentation])\n",
    "\n",
    "# segmented_ASC_PT_2A = segmented_beta(ASC_PT_1A,[purpose_segmentation])"
   ]
  },
  {
   "cell_type": "markdown",
   "metadata": {},
   "source": [
    "Then we define the model as usual, but the ASCs are segmented by ownership of driving license"
   ]
  },
  {
   "cell_type": "code",
   "execution_count": null,
   "metadata": {},
   "outputs": [],
   "source": [
    "# V_walk_2A = (\n",
    "#     B_TIME_WALK_1A * dur_walking\n",
    "# )\n",
    "\n",
    "# V_cycle_2A = (\n",
    "#     segmented_ASC_CYCLE_2A\n",
    "#     + B_TIME_CYCLE_1A * dur_cycling\n",
    "# )\n",
    "\n",
    "# V_PT_2A = (\n",
    "#     segmented_ASC_PT_2A\n",
    "#     + B_TIME_PT_1A * dur_pt\n",
    "#     + B_COST_1A * cost_transit\n",
    "# )\n",
    "\n",
    "# V_car_2A = (\n",
    "#     segmented_ASC_CAR_2A\n",
    "#     + B_TIME_CAR_1A * dur_driving\n",
    "#     + B_COST_1A * cost_driving\n",
    "# )\n",
    "\n",
    "# V_2A ={1: V_walk_2A, 2: V_cycle_2A, 3: V_PT_2A, 4: V_car_2A}\n",
    "\n",
    "# logprob_2A = loglogit(V_2A, None, travel_mode)\n",
    "# biogeme_2A = bio.BIOGEME(database, logprob_2A)\n",
    "# biogeme_2A.modelName = 'model_2A'\n",
    "\n",
    "# results_2A = biogeme_2A.estimate()\n",
    "# print(results_2A.print_general_statistics())"
   ]
  },
  {
   "cell_type": "code",
   "execution_count": null,
   "metadata": {},
   "outputs": [],
   "source": [
    "# display(results_2A.get_estimated_parameters())"
   ]
  },
  {
   "cell_type": "markdown",
   "metadata": {},
   "source": [
    "ASC_CAR with driving license is positive, which makes sense"
   ]
  },
  {
   "cell_type": "code",
   "execution_count": null,
   "metadata": {},
   "outputs": [],
   "source": [
    "# segmented_B_TIME_WALK_2B = segmented_beta(B_TIME_WALK_1A,[purpose_segmentation])\n",
    "\n",
    "# segmented_B_TIME_CAR_2B = segmented_beta(B_TIME_CAR_1A,[purpose_segmentation])\n",
    "\n",
    "# segmented_B_TIME_CYCLE_2B = segmented_beta(B_TIME_CYCLE_1A,[purpose_segmentation])\n",
    "\n",
    "# segmented_B_TIME_PT_2B = segmented_beta(B_TIME_PT_1A,[purpose_segmentation])"
   ]
  },
  {
   "cell_type": "code",
   "execution_count": null,
   "metadata": {},
   "outputs": [],
   "source": [
    "# V_walk_2B = (\n",
    "#     segmented_B_TIME_WALK_2B * dur_walking\n",
    "# )\n",
    "\n",
    "# V_cycle_2B = (\n",
    "#     ASC_CYCLE_1A\n",
    "#     + segmented_B_TIME_CYCLE_2B * dur_cycling\n",
    "# )\n",
    "\n",
    "# V_PT_2B = (\n",
    "#     ASC_PT_1A\n",
    "#     + segmented_B_TIME_PT_2B * dur_pt\n",
    "#     + B_COST_1A * cost_transit\n",
    "# )\n",
    "\n",
    "# V_car_2B = (\n",
    "#     ASC_CAR_1A\n",
    "#     + segmented_B_TIME_CAR_2B * dur_driving\n",
    "#     + B_COST_1A * cost_driving\n",
    "# )\n",
    "\n",
    "# V_2B ={1: V_walk_2B, 2: V_cycle_2B, 3: V_PT_2B, 4: V_car_2B}\n",
    "\n",
    "# logprob_2B = loglogit(V_2B, None, travel_mode)\n",
    "# biogeme_2B = bio.BIOGEME(database, logprob_2B)\n",
    "# biogeme_2B.modelName = 'model_2B'\n",
    "\n",
    "# results_2B = biogeme_2B.estimate()\n",
    "# print(results_2B.print_general_statistics())"
   ]
  },
  {
   "cell_type": "code",
   "execution_count": null,
   "metadata": {},
   "outputs": [],
   "source": [
    "# Number of estimated parameters:\t12\n",
    "# Sample size:\t5000\n",
    "# Excluded observations:\t0\n",
    "# Init log likelihood:\t-4804.767\n",
    "# Final log likelihood:\t-4142.745\n",
    "# Likelihood ratio test for the init. model:\t1324.044\n",
    "# Rho-square for the init. model:\t0.138\n",
    "# Rho-square-bar for the init. model:\t0.135\n",
    "# Akaike Information Criterion:\t8309.491\n",
    "# Bayesian Information Criterion:\t8387.697\n",
    "# Final gradient norm:\t2.6260E-01\n",
    "# Nbr of threads:\t8"
   ]
  },
  {
   "cell_type": "code",
   "execution_count": null,
   "metadata": {},
   "outputs": [],
   "source": [
    "# display(results_2B.get_estimated_parameters())"
   ]
  },
  {
   "cell_type": "markdown",
   "metadata": {},
   "source": [
    "The pt time is worse if you have a driving license"
   ]
  },
  {
   "cell_type": "markdown",
   "metadata": {},
   "source": [
    "To compare the models we use the log likehood test.\n",
    "\n",
    "The null hypothesis, H0, is that the model and the restriced version are equivalent."
   ]
  },
  {
   "cell_type": "code",
   "execution_count": null,
   "metadata": {},
   "outputs": [],
   "source": [
    "# lr_result2A = results_2A.likelihood_ratio_test(results_1A, 0.05)\n",
    "# print(f'{lr_result2A.statistic=:.3g}')\n",
    "# print(f'{lr_result2A.threshold=:.3g}')\n",
    "# print(lr_result2A.message)\n"
   ]
  },
  {
   "cell_type": "code",
   "execution_count": null,
   "metadata": {},
   "outputs": [],
   "source": [
    "# lr_result2B = results_2B.likelihood_ratio_test(results_1A, 0.05)\n",
    "# print(f'{lr_result2B.statistic=:.3g}')\n",
    "# print(f'{lr_result2B.threshold=:.3g}')\n",
    "# print(lr_result2B.message)"
   ]
  },
  {
   "cell_type": "markdown",
   "metadata": {},
   "source": [
    "Both models rejected H0 with the likelihood test, so both are better then the previous prefered model. Since the AIC and BIC are better for 2A that will be our new prefered."
   ]
  },
  {
   "cell_type": "markdown",
   "metadata": {},
   "source": [
    "#### Age"
   ]
  },
  {
   "cell_type": "code",
   "execution_count": null,
   "metadata": {},
   "outputs": [],
   "source": [
    "# Alternative specific constants (ASC_walk is normalized to 0)\n",
    "ASC_CYCLE_2A = Beta('ASC_CYCLE_2A', 0, None, None, 0)\n",
    "ASC_PT_2A    = Beta('ASC_PT_2A', 0, None, None, 0)\n",
    "ASC_CAR_2A   = Beta('ASC_CAR_2A', 0, None, None, 0)\n",
    "\n",
    "# Alternative specific time coefficient\n",
    "B_TIME_WALK_2A  = Beta('B_TIME_WALK_2A', 0, None, None, 0)\n",
    "B_TIME_CYCLE_2A = Beta('B_TIME_CYCLE_2A', 0, None, None, 0)\n",
    "B_TIME_PT_2A    = Beta('B_TIME_PT_2A', 0, None, None, 0)\n",
    "B_TIME_CAR_2A   = Beta('B_TIME_CAR_2A', 0, None, None, 0)\n",
    "\n",
    "# Generic cost coefficient\n",
    "B_COST_2A = Beta('B_COST_2A', 0, None, None, 0)\n",
    "\n",
    "age = Variable('age')\n",
    "B_AGE_CYCLE_2A = Beta('B_AGE_CYCLE_2A', 0, None, None, 0)\n",
    "B_AGE_PT_2A = Beta('B_AGE_PT_2A', 0, None, None, 0)\n",
    "B_AGE_CAR_2A = Beta('B_AGE_CAR_2A', 0, None, None, 0)"
   ]
  },
  {
   "cell_type": "code",
   "execution_count": null,
   "metadata": {},
   "outputs": [],
   "source": [
    "V_walk_2A = (\n",
    "    B_TIME_WALK_2A * dur_walking\n",
    ")\n",
    "\n",
    "V_cycle_2A = (\n",
    "    ASC_CYCLE_2A\n",
    "    + B_AGE_CYCLE_2A * age\n",
    "    + B_TIME_CYCLE_2A * dur_cycling\n",
    ")\n",
    "\n",
    "V_pt_2A = (\n",
    "    ASC_PT_2A\n",
    "    + B_AGE_PT_2A * age\n",
    "    + B_TIME_PT_2A * dur_pt\n",
    "    + B_COST_2A * cost_transit\n",
    ")\n",
    "\n",
    "V_car_2A = (\n",
    "    ASC_CAR_2A\n",
    "    + B_AGE_CAR_2A * age\n",
    "    + B_TIME_CAR_2A * dur_driving\n",
    "    + B_COST_2A * cost_driving\n",
    ")\n",
    "\n",
    "V_2A ={1: V_walk_2A, 2: V_cycle_2A, 3: V_pt_2A, 4: V_car_2A}\n",
    "\n",
    "logprob_2A = loglogit(V_2A, None, travel_mode)\n",
    "biogeme_2A = bio.BIOGEME(database, logprob_2A)\n",
    "biogeme_2A.modelName = 'model_2A'\n",
    "\n",
    "results_2A = biogeme_2A.estimate()\n",
    "print(results_2A.print_general_statistics())"
   ]
  },
  {
   "cell_type": "code",
   "execution_count": null,
   "metadata": {},
   "outputs": [],
   "source": [
    "display(results_2A.get_estimated_parameters())"
   ]
  },
  {
   "cell_type": "code",
   "execution_count": null,
   "metadata": {},
   "outputs": [],
   "source": [
    "lr_result2A = results_2A.likelihood_ratio_test(results_1A, 0.05)\n",
    "print(f'{lr_result2A.statistic=:.3g}')\n",
    "print(f'{lr_result2A.threshold=:.3g}')\n",
    "print(lr_result2A.message)"
   ]
  },
  {
   "cell_type": "code",
   "execution_count": null,
   "metadata": {},
   "outputs": [],
   "source": [
    "# Alternative specific constants (ASC_walk is normalized to 0)\n",
    "ASC_CYCLE_2B = Beta('ASC_CYCLE_2B', 0, None, None, 0)\n",
    "ASC_PT_2B    = Beta('ASC_PT_2B', 0, None, None, 0)\n",
    "ASC_CAR_2B   = Beta('ASC_CAR_2B', 0, None, None, 0)\n",
    "\n",
    "# Alternative specific time coefficient\n",
    "B_TIME_WALK_2B  = Beta('B_TIME_WALK_2B', 0, None, None, 0)\n",
    "B_TIME_CYCLE_2B = Beta('B_TIME_CYCLE_2B', 0, None, None, 0)\n",
    "B_TIME_PT_2B    = Beta('B_TIME_PT_2B', 0, None, None, 0)\n",
    "B_TIME_CAR_2B   = Beta('B_TIME_CAR_2B', 0, None, None, 0)\n",
    "\n",
    "# Generic cost coefficient\n",
    "B_COST_2B = Beta('B_COST_2B', 0, None, None, 0)\n",
    "\n",
    "age = Variable('age')\n",
    "B_AGE_CYCLE_2B = Beta('B_AGE_CYCLE_2B', 0, None, None, 0)\n",
    "B_AGE_PT_2B = Beta('B_AGE_PT_2B', 0, None, None, 0)\n",
    "B_AGE_CAR_2B = Beta('B_AGE_CAR_2B', 0, None, None, 0)"
   ]
  },
  {
   "cell_type": "code",
   "execution_count": null,
   "metadata": {},
   "outputs": [],
   "source": [
    "V_walk_2B = (\n",
    "    B_TIME_WALK_2B * dur_walking \n",
    ")\n",
    "\n",
    "V_cycle_2B = (\n",
    "    ASC_CYCLE_2B\n",
    "    + B_TIME_CYCLE_2B * dur_cycling \n",
    ")\n",
    "\n",
    "V_PT_2B = (\n",
    "    ASC_PT_2B\n",
    "    + B_TIME_PT_2B * dur_pt \n",
    "    + B_COST_2B * cost_transit * age\n",
    ")\n",
    "\n",
    "V_car_2B = (\n",
    "    ASC_CAR_2B\n",
    "    + B_TIME_CAR_2B * dur_driving \n",
    "    + B_COST_2B * cost_driving * age\n",
    ")\n",
    "\n",
    "V_2B ={1: V_walk_2B, 2: V_cycle_2B, 3: V_PT_2B, 4: V_car_2B}\n",
    "\n",
    "logprob_2B = loglogit(V_2B, None, travel_mode)\n",
    "biogeme_2B = bio.BIOGEME(database, logprob_2B)\n",
    "biogeme_2B.modelName = 'model_2B'\n",
    "\n",
    "results_2B = biogeme_2B.estimate()\n",
    "print(results_2B.print_general_statistics())"
   ]
  },
  {
   "cell_type": "code",
   "execution_count": null,
   "metadata": {},
   "outputs": [],
   "source": [
    "display(results_2B.get_estimated_parameters())"
   ]
  },
  {
   "cell_type": "code",
   "execution_count": null,
   "metadata": {},
   "outputs": [],
   "source": [
    "lr_result2B = results_2B.likelihood_ratio_test(results_1A, 0.05)\n",
    "print(f'{lr_result2B.statistic=:.3g}')\n",
    "print(f'{lr_result2B.threshold=:.3g}')\n",
    "print(lr_result2B.message)"
   ]
  },
  {
   "cell_type": "markdown",
   "metadata": {},
   "source": [
    "## Model 3\n",
    "\n",
    "Using Model_pref as the base model, include an appropriate non-linear transformation of one of the variables. Report both the specication and the estimation results (as defined previously)."
   ]
  },
  {
   "cell_type": "code",
   "execution_count": null,
   "metadata": {},
   "outputs": [],
   "source": [
    "sns.histplot(df[\"dur_walking\"])\n",
    "sns.histplot(df[\"dur_cycling\"])\n",
    "sns.histplot(df[\"dur_pt_access\"] + df[\"dur_pt_rail\"] + df[\"dur_pt_bus\"] + df[\"dur_pt_int\"])\n",
    "sns.histplot(df[\"dur_driving\"])\n",
    "plt.xscale('log')\n",
    "plt.show()"
   ]
  },
  {
   "cell_type": "markdown",
   "metadata": {},
   "source": [
    "#### Piecewise Linear"
   ]
  },
  {
   "cell_type": "code",
   "execution_count": null,
   "metadata": {},
   "outputs": [],
   "source": [
    "# Alternative specific constants (ASC_walk is normalized to 0)\n",
    "ASC_CYCLE_3A = Beta('ASC_CYCLE_3A', 0, None, None, 0)\n",
    "ASC_PT_3A    = Beta('ASC_PT_3A', 0, None, None, 0)\n",
    "ASC_CAR_3A   = Beta('ASC_CAR_3A', 0, None, None, 0)\n",
    "\n",
    "# Generic cost coefficient\n",
    "B_COST_3A = Beta('B_COST_3A', 0, None, None, 0)\n",
    "\n",
    "age = Variable('age')\n",
    "B_AGE_CYCLE_3A = Beta('B_AGE_CYCLE_3A', 0, None, None, 0)\n",
    "B_AGE_PT_3A = Beta('B_AGE_PT_3A', 0, None, None, 0)\n",
    "B_AGE_CAR_3A = Beta('B_AGE_CAR_3A', 0, None, None, 0)"
   ]
  },
  {
   "cell_type": "code",
   "execution_count": null,
   "metadata": {},
   "outputs": [],
   "source": [
    "thresholds = [0, 0.1, 0.5, 1, 2, None]\n",
    "\n",
    "BETA_TIME_3A_1 = Beta('BETA_TIME_3A_0_0.1', 0, None, None, 0)\n",
    "BETA_TIME_3A_2 = Beta('BETA_TIME_3A_0.1_0.5', 0, None, None, 0)\n",
    "BETA_TIME_3A_3 = Beta('BETA_TIME_3A_0.5_1', 0, None, None, 0)\n",
    "BETA_TIME_3A_4 = Beta('BETA_TIME_3A_1_2', 0, None, None, 0)\n",
    "BETA_TIME_3A_5 = Beta('BETA_TIME_3A_2_more', 0, None, None, 0)\n",
    "betas_piecewise = [BETA_TIME_3A_1, BETA_TIME_3A_2, BETA_TIME_3A_3, BETA_TIME_3A_4, BETA_TIME_3A_5]"
   ]
  },
  {
   "cell_type": "code",
   "execution_count": null,
   "metadata": {},
   "outputs": [],
   "source": [
    "piecewise_dur_walking = piecewise_formula(\n",
    "    dur_walking, thresholds, betas_piecewise\n",
    ")\n",
    "piecewise_dur_cycling = piecewise_formula(\n",
    "    dur_cycling, thresholds, betas_piecewise\n",
    ")\n",
    "piecewise_dur_pt = piecewise_formula(\n",
    "    dur_pt, thresholds, betas_piecewise\n",
    ")\n",
    "piecewise_dur_driving = piecewise_formula(\n",
    "    dur_driving, thresholds, betas_piecewise\n",
    ")"
   ]
  },
  {
   "cell_type": "code",
   "execution_count": null,
   "metadata": {},
   "outputs": [],
   "source": [
    "V_walk_3A_piecewise = (\n",
    "    piecewise_dur_walking\n",
    ")\n",
    "\n",
    "V_cycle_3A_piecewise = (\n",
    "    ASC_CYCLE_3A\n",
    "    + B_AGE_CYCLE_3A * age\n",
    "    + piecewise_dur_cycling\n",
    ")\n",
    "\n",
    "V_pt_3A_piecewise = (\n",
    "    ASC_PT_3A\n",
    "    + B_AGE_PT_3A * age\n",
    "    + piecewise_dur_pt\n",
    "    + B_COST_3A * cost_transit\n",
    ")\n",
    "\n",
    "V_car_3A_piecewise = (\n",
    "    ASC_CAR_3A\n",
    "    + B_AGE_CAR_3A * age\n",
    "    + piecewise_dur_driving\n",
    "    + B_COST_3A * cost_driving\n",
    ")\n",
    "\n",
    "V_3A_piecewise ={1: V_walk_3A_piecewise, 2: V_cycle_3A_piecewise, 3: V_pt_3A_piecewise, 4: V_car_3A_piecewise}\n",
    "logprob_3A_piecewise = loglogit(V_3A_piecewise, None, travel_mode)\n",
    "biogeme_3A_piecewise = bio.BIOGEME(database, logprob_3A_piecewise)\n",
    "biogeme_3A_piecewise.modelName = 'model_3A_piecewise'\n",
    "\n",
    "results_3A_piecewise = biogeme_3A_piecewise.estimate()\n",
    "print(results_3A_piecewise.print_general_statistics())"
   ]
  },
  {
   "cell_type": "code",
   "execution_count": null,
   "metadata": {},
   "outputs": [],
   "source": [
    "results_3A_piecewise.getEstimatedParameters()"
   ]
  },
  {
   "cell_type": "code",
   "execution_count": null,
   "metadata": {},
   "outputs": [],
   "source": [
    "piecewise_estimates = results_3A_piecewise.get_beta_values()\n",
    "V_walk_3A_piecewise.fix_betas(beta_values=piecewise_estimates, prefix='piecewise_')\n",
    "V_cycle_3A_piecewise.fix_betas(beta_values=piecewise_estimates, prefix='piecewise_')\n",
    "V_pt_3A_piecewise.fix_betas(beta_values=piecewise_estimates, prefix='piecewise_')\n",
    "V_car_3A_piecewise.fix_betas(beta_values=piecewise_estimates, prefix='piecewise_')"
   ]
  },
  {
   "cell_type": "code",
   "execution_count": null,
   "metadata": {},
   "outputs": [],
   "source": [
    "alpha = Beta('alpha', 0, None, None, 0)\n",
    "Opt1 = (1 - alpha) * V_walk_2A + alpha * V_walk_3A_piecewise\n",
    "Opt2 = (1 - alpha) * V_cycle_2A + alpha * V_cycle_3A_piecewise\n",
    "Opt3 = (1 - alpha) * V_pt_2A + alpha * V_pt_3A_piecewise\n",
    "Opt4 = (1 - alpha) * V_car_2A + alpha * V_car_3A_piecewise\n",
    "\n",
    "V = {1: Opt1, 2: Opt2, 3: Opt3, 4: Opt4}\n",
    "logprob = loglogit(V, None, travel_mode)\n",
    "biogeme = bio.BIOGEME(database, logprob)\n",
    "biogeme.modelName = 'model_3A_composite'\n",
    "results_composite = biogeme.estimate()\n"
   ]
  },
  {
   "cell_type": "code",
   "execution_count": null,
   "metadata": {},
   "outputs": [],
   "source": [
    "composite_parameters = results_composite.get_estimated_parameters()\n",
    "display(composite_parameters)"
   ]
  },
  {
   "cell_type": "code",
   "execution_count": null,
   "metadata": {},
   "outputs": [],
   "source": [
    "t_test_alpha = composite_parameters.loc['alpha', 'Rob. t-test']\n",
    "print(f't-test for alpha: {t_test_alpha:.3g}')"
   ]
  },
  {
   "cell_type": "code",
   "execution_count": null,
   "metadata": {},
   "outputs": [],
   "source": [
    "p_value_alpha = composite_parameters.loc['alpha', 'Rob. p-value']\n",
    "print(f'p-value for alpha: {p_value_alpha:.3g}')\n"
   ]
  },
  {
   "cell_type": "markdown",
   "metadata": {},
   "source": [
    "Under the null hypothesis, the true value of $\\alpha$ is 0. This hypothesis can be safely rejected here. Therefore, the piecewise linear specification is preferred."
   ]
  },
  {
   "cell_type": "markdown",
   "metadata": {},
   "source": [
    "#### Box-Cox"
   ]
  },
  {
   "cell_type": "code",
   "execution_count": null,
   "metadata": {},
   "outputs": [],
   "source": [
    "# Alternative specific constants (ASC_walk is normalized to 0)\n",
    "ASC_CYCLE_3B = Beta('ASC_CYCLE_3B', 0, None, None, 0)\n",
    "ASC_PT_3B    = Beta('ASC_PT_3B', 0, None, None, 0)\n",
    "ASC_CAR_3B   = Beta('ASC_CAR_3B', 0, None, None, 0)\n",
    "\n",
    "# Alternative specific time coefficient\n",
    "B_TIME_WALK_3B  = Beta('B_TIME_WALK_3B', 0, None, None, 0)\n",
    "B_TIME_CYCLE_3B = Beta('B_TIME_CYCLE_3B', 0, None, None, 0)\n",
    "B_TIME_PT_3B    = Beta('B_TIME_PT_3B', 0, None, None, 0)\n",
    "B_TIME_CAR_3B   = Beta('B_TIME_CAR_3B', 0, None, None, 0)\n",
    "\n",
    "# Generic cost coefficient\n",
    "B_COST_3B = Beta('B_COST_3B', 0, None, None, 0)\n",
    "\n",
    "age = Variable('age')\n",
    "B_AGE_CYCLE_3B = Beta('B_AGE_CYCLE_3B', 0, None, None, 0)\n",
    "B_AGE_PT_3B = Beta('B_AGE_PT_3B', 0, None, None, 0)\n",
    "B_AGE_CAR_3B = Beta('B_AGE_CAR_3B', 0, None, None, 0)"
   ]
  },
  {
   "cell_type": "code",
   "execution_count": null,
   "metadata": {},
   "outputs": [],
   "source": [
    "lambda_boxcox_walking = Beta('lambda_boxcox_walking', 1, -10, 10, 0)\n",
    "boxcox_dur_walking_unrestricted = boxcox(dur_walking, lambda_boxcox_walking)\n",
    "\n",
    "lambda_boxcox_cycling = Beta('lambda_boxcox_cycling', 1, -10, 10, 0)\n",
    "boxcox_dur_cycling_unrestricted = boxcox(dur_cycling, lambda_boxcox_cycling)\n",
    "\n",
    "lambda_boxcox_pt = Beta('lambda_boxcox_pt', 1, -10, 10, 0)\n",
    "boxcox_dur_pt_unrestricted = boxcox(dur_pt, lambda_boxcox_pt)\n",
    "\n",
    "lambda_boxcox_driving = Beta('lambda_boxcox_driving', 1, -10, 10, 0)\n",
    "boxcox_dur_driving_unrestricted = boxcox(dur_driving, lambda_boxcox_driving)"
   ]
  },
  {
   "cell_type": "code",
   "execution_count": null,
   "metadata": {},
   "outputs": [],
   "source": [
    "V_walk_3B_unrestricted = (\n",
    "    B_TIME_WALK_3B * boxcox_dur_walking_unrestricted\n",
    ")\n",
    "\n",
    "V_cycle_3B_unrestricted = (\n",
    "    ASC_CYCLE_3B\n",
    "    + B_AGE_CYCLE_3B * age\n",
    "    + B_TIME_CYCLE_3B * boxcox_dur_cycling_unrestricted\n",
    ")\n",
    "\n",
    "V_pt_3B_unrestricted = (\n",
    "    ASC_PT_3B\n",
    "    + B_AGE_PT_3B * age\n",
    "    + B_TIME_PT_3B * boxcox_dur_pt_unrestricted\n",
    "    + B_COST_3B * cost_transit\n",
    ")\n",
    "\n",
    "V_car_3B_unrestricted = (\n",
    "    ASC_CAR_3B\n",
    "    + B_AGE_CAR_3B * age\n",
    "    + B_TIME_CAR_3B * boxcox_dur_driving_unrestricted\n",
    "    + B_COST_3B * cost_driving\n",
    ")\n",
    "\n",
    "V_3B_unrestricted ={1: V_walk_3B_unrestricted, 2: V_cycle_3B_unrestricted, 3: V_pt_3B_unrestricted, 4: V_car_3B_unrestricted}\n",
    "logprob_3B_unrestricted = loglogit(V_3B_unrestricted, None, travel_mode)\n",
    "biogeme_3B_unrestricted = bio.BIOGEME(database, logprob_3B_unrestricted)\n",
    "biogeme_3B_unrestricted.modelName = 'model_3B_unrestricted'\n",
    "\n",
    "results_3B_unrestricted = biogeme_3B_unrestricted.estimate()\n",
    "print(results_3B_unrestricted.print_general_statistics())"
   ]
  },
  {
   "cell_type": "code",
   "execution_count": null,
   "metadata": {},
   "outputs": [],
   "source": [
    "results_3B_unrestricted.getEstimatedParameters()"
   ]
  },
  {
   "cell_type": "code",
   "execution_count": null,
   "metadata": {},
   "outputs": [],
   "source": [
    "lr_result3B = results_3B_unrestricted.likelihood_ratio_test(results_2A, 0.05)\n",
    "print(f'{lr_result3B.statistic=:.3g}')\n",
    "print(f'{lr_result3B.threshold=:.3g}')\n",
    "print(lr_result3B.message)"
   ]
  },
  {
   "cell_type": "code",
   "execution_count": null,
   "metadata": {},
   "outputs": [],
   "source": [
    "lambda_boxcox = Beta('lambda_boxcox', 1, -10, 10, 0)\n",
    "boxcox_dur_walking_restricted = boxcox(dur_walking, lambda_boxcox)\n",
    "boxcox_dur_cycling_restricted = boxcox(dur_cycling, lambda_boxcox)\n",
    "boxcox_dur_pt_restricted = boxcox(dur_pt, lambda_boxcox)\n",
    "boxcox_dur_driving_restricted = boxcox(dur_driving, lambda_boxcox)"
   ]
  },
  {
   "cell_type": "code",
   "execution_count": null,
   "metadata": {},
   "outputs": [],
   "source": [
    "V_walk_3B_restricted = (\n",
    "    B_TIME_WALK_3B * boxcox_dur_walking_restricted\n",
    ")\n",
    "\n",
    "V_cycle_3B_restricted = (\n",
    "    ASC_CYCLE_3B\n",
    "    + B_AGE_CYCLE_3B * age\n",
    "    + B_TIME_CYCLE_3B * boxcox_dur_cycling_restricted\n",
    ")\n",
    "\n",
    "V_pt_3B_restricted = (\n",
    "    ASC_PT_3B\n",
    "    + B_AGE_PT_3B * age\n",
    "    + B_TIME_PT_3B * boxcox_dur_pt_restricted\n",
    "    + B_COST_3B * cost_transit\n",
    ")\n",
    "\n",
    "V_car_3B_restricted = (\n",
    "    ASC_CAR_3B\n",
    "    + B_AGE_CAR_3B * age\n",
    "    + B_TIME_CAR_3B * boxcox_dur_driving_restricted\n",
    "    + B_COST_3B * cost_driving\n",
    ")\n",
    "\n",
    "V_3B_restricted = {1: V_walk_3B_restricted, 2: V_cycle_3B_restricted, 3: V_pt_3B_restricted, 4: V_car_3B_restricted}\n",
    "logprob_3B_restricted = loglogit(V_3B_restricted, None, travel_mode)\n",
    "biogeme_3B_restricted = bio.BIOGEME(database, logprob_3B_restricted)\n",
    "biogeme_3B_restricted.modelName = 'model_3B_restricted'\n",
    "\n",
    "results_3B_restricted = biogeme_3B_restricted.estimate()\n",
    "print(results_3B_restricted.print_general_statistics())"
   ]
  },
  {
   "cell_type": "code",
   "execution_count": null,
   "metadata": {},
   "outputs": [],
   "source": [
    "results_3B_restricted.getEstimatedParameters()"
   ]
  },
  {
   "cell_type": "code",
   "execution_count": null,
   "metadata": {},
   "outputs": [],
   "source": [
    "lr_result3B = results_3B_restricted.likelihood_ratio_test(results_2A, 0.05)\n",
    "print(f'{lr_result3B.statistic=:.3g}')\n",
    "print(f'{lr_result3B.threshold=:.3g}')\n",
    "print(lr_result3B.message)"
   ]
  },
  {
   "cell_type": "markdown",
   "metadata": {},
   "source": [
    "Testing the unrestricted model where each utility has its own lambda, with the restriction of all lambdas equal."
   ]
  },
  {
   "cell_type": "code",
   "execution_count": null,
   "metadata": {},
   "outputs": [],
   "source": [
    "lr_result3B = results_3B_unrestricted.likelihood_ratio_test(results_3B_restricted, 0.05)\n",
    "print(f'{lr_result3B.statistic=:.3g}')\n",
    "print(f'{lr_result3B.threshold=:.3g}')\n",
    "print(lr_result3B.message)"
   ]
  },
  {
   "cell_type": "markdown",
   "metadata": {},
   "source": [
    "#### Power series"
   ]
  },
  {
   "cell_type": "markdown",
   "metadata": {},
   "source": [
    "Trying square"
   ]
  },
  {
   "cell_type": "code",
   "execution_count": null,
   "metadata": {},
   "outputs": [],
   "source": [
    "# Alternative specific constants (ASC_walk is normalized to 0)\n",
    "ASC_CYCLE_3C = Beta('ASC_CYCLE_3C', 0, None, None, 0)\n",
    "ASC_PT_3C    = Beta('ASC_PT_3C', 0, None, None, 0)\n",
    "ASC_CAR_3C   = Beta('ASC_CAR_3C', 0, None, None, 0)\n",
    "\n",
    "# Alternative specific time coefficient\n",
    "B_TIME_WALK_3C  = Beta('B_TIME_WALK_3C', 0, None, None, 0)\n",
    "B_TIME_CYCLE_3C = Beta('B_TIME_CYCLE_3C', 0, None, None, 0)\n",
    "B_TIME_PT_3C    = Beta('B_TIME_PT_3C', 0, None, None, 0)\n",
    "B_TIME_CAR_3C   = Beta('B_TIME_CAR_3C', 0, None, None, 0)\n",
    "\n",
    "# Power parameters\n",
    "B_TIME_WALK_3C_squared  = Beta('B_TIME_WALK_3C_squared', 0, None, None, 0)\n",
    "B_TIME_CYCLE_3C_squared = Beta('B_TIME_CYCLE_3C_squared', 0, None, None, 0)\n",
    "B_TIME_PT_3C_squared    = Beta('B_TIME_PT_3C_squared', 0, None, None, 0)\n",
    "B_TIME_CAR_3C_squared   = Beta('B_TIME_CAR_3C_squared', 0, None, None, 0)\n",
    "\n",
    "# Generic cost coefficient\n",
    "B_COST_3C = Beta('B_COST_3C', 0, None, None, 0)\n",
    "\n",
    "age = Variable('age')\n",
    "B_AGE_CYCLE_3C = Beta('B_AGE_CYCLE_3C', 0, None, None, 0)\n",
    "B_AGE_PT_3C = Beta('B_AGE_PT_3C', 0, None, None, 0)\n",
    "B_AGE_CAR_3C = Beta('B_AGE_CAR_3C', 0, None, None, 0)"
   ]
  },
  {
   "cell_type": "code",
   "execution_count": null,
   "metadata": {},
   "outputs": [],
   "source": [
    "V_walk_3C_piecewise_squared = (\n",
    "    B_TIME_WALK_3C * dur_walking\n",
    "    + B_TIME_WALK_3C_squared * dur_walking * dur_walking\n",
    ")\n",
    "\n",
    "V_cycle_3C_piecewise_squared = (\n",
    "    ASC_CYCLE_3C\n",
    "    + B_AGE_CYCLE_3C * age\n",
    "    + B_TIME_CYCLE_3C * dur_cycling\n",
    "    + B_TIME_CYCLE_3C_squared * dur_cycling * dur_cycling\n",
    ")\n",
    "\n",
    "V_pt_3C_piecewise_squared = (\n",
    "    ASC_PT_3C\n",
    "    + B_AGE_PT_3C * age\n",
    "    + B_TIME_PT_3C * dur_pt\n",
    "    + B_TIME_PT_3C_squared * dur_pt * dur_pt\n",
    "    + B_COST_3C * cost_transit\n",
    ")\n",
    "\n",
    "V_car_3C_piecewise_squared = (\n",
    "    ASC_CAR_3C\n",
    "    + B_AGE_CAR_3C * age\n",
    "    + B_TIME_CAR_3C * dur_driving\n",
    "    + B_TIME_CAR_3C_squared * dur_driving * dur_driving\n",
    "    + B_COST_3C * cost_driving\n",
    ")\n",
    "\n",
    "V_3C_piecewise_squared ={1: V_walk_3C_piecewise_squared, 2: V_cycle_3C_piecewise_squared, 3: V_pt_3C_piecewise_squared, 4: V_car_3C_piecewise_squared}\n",
    "logprob_3C_piecewise_squared = loglogit(V_3C_piecewise_squared, None, travel_mode)\n",
    "biogeme_3C_piecewise_squared = bio.BIOGEME(database, logprob_3C_piecewise_squared)\n",
    "biogeme_3C_piecewise_squared.modelName = 'model_3C_power_series_2'\n",
    "\n",
    "results_3C_piecewise_squared = biogeme_3C_piecewise_squared.estimate()\n",
    "print(results_3C_piecewise_squared.print_general_statistics())"
   ]
  },
  {
   "cell_type": "markdown",
   "metadata": {},
   "source": [
    "Trying cubed"
   ]
  },
  {
   "cell_type": "code",
   "execution_count": null,
   "metadata": {},
   "outputs": [],
   "source": [
    "# Alternative specific constants (ASC_walk is normalized to 0)\n",
    "ASC_CYCLE_3C = Beta('ASC_CYCLE_3C', 0, None, None, 0)\n",
    "ASC_PT_3C    = Beta('ASC_PT_3C', 0, None, None, 0)\n",
    "ASC_CAR_3C   = Beta('ASC_CAR_3C', 0, None, None, 0)\n",
    "\n",
    "# Alternative specific time coefficient\n",
    "B_TIME_WALK_3C  = Beta('B_TIME_WALK_3C', 0, None, None, 0)\n",
    "B_TIME_CYCLE_3C = Beta('B_TIME_CYCLE_3C', 0, None, None, 0)\n",
    "B_TIME_PT_3C    = Beta('B_TIME_PT_3C', 0, None, None, 0)\n",
    "B_TIME_CAR_3C   = Beta('B_TIME_CAR_3C', 0, None, None, 0)\n",
    "\n",
    "# Power parameters\n",
    "B_TIME_WALK_3C_cubed  = Beta('B_TIME_WALK_3C_cubed', 0, None, None, 0)\n",
    "B_TIME_CYCLE_3C_cubed = Beta('B_TIME_CYCLE_3C_cubed', 0, None, None, 0)\n",
    "B_TIME_PT_3C_cubed    = Beta('B_TIME_PT_3C_cubed', 0, None, None, 0)\n",
    "B_TIME_CAR_3C_cubed   = Beta('B_TIME_CAR_3C_cubed', 0, None, None, 0)\n",
    "\n",
    "# Generic cost coefficient\n",
    "B_COST_3C = Beta('B_COST_3C', 0, None, None, 0)\n",
    "\n",
    "age = Variable('age')\n",
    "B_AGE_CYCLE_3C = Beta('B_AGE_CYCLE_3C', 0, None, None, 0)\n",
    "B_AGE_PT_3C = Beta('B_AGE_PT_3C', 0, None, None, 0)\n",
    "B_AGE_CAR_3C = Beta('B_AGE_CAR_3C', 0, None, None, 0)"
   ]
  },
  {
   "cell_type": "code",
   "execution_count": null,
   "metadata": {},
   "outputs": [],
   "source": [
    "V_walk_3C_piecewise_cubed = (\n",
    "    B_TIME_WALK_3C * dur_walking\n",
    "    + B_TIME_WALK_3C_cubed * dur_walking * dur_walking * dur_walking\n",
    ")\n",
    "\n",
    "V_cycle_3C_piecewise_cubed = (\n",
    "    ASC_CYCLE_3C\n",
    "    + B_AGE_CYCLE_3C * age\n",
    "    + B_TIME_CYCLE_3C * dur_cycling\n",
    "    + B_TIME_CYCLE_3C_cubed * dur_cycling * dur_cycling * dur_cycling\n",
    ")\n",
    "\n",
    "V_pt_3C_piecewise_cubed = (\n",
    "    ASC_PT_3C\n",
    "    + B_AGE_PT_3C * age\n",
    "    + B_TIME_PT_3C * dur_pt\n",
    "    + B_TIME_PT_3C_cubed * dur_pt * dur_pt * dur_pt\n",
    "    + B_COST_3C * cost_transit\n",
    ")\n",
    "\n",
    "V_car_3C_piecewise_cubed = (\n",
    "    ASC_CAR_3C\n",
    "    + B_AGE_CAR_3C * age\n",
    "    + B_TIME_CAR_3C * dur_driving\n",
    "    + B_TIME_CAR_3C_cubed * dur_driving * dur_driving * dur_driving\n",
    "    + B_COST_3C * cost_driving\n",
    ")\n",
    "\n",
    "V_3C_piecewise_cubed ={1: V_walk_3C_piecewise_cubed, 2: V_cycle_3C_piecewise_cubed, 3: V_pt_3C_piecewise_cubed, 4: V_car_3C_piecewise_cubed}\n",
    "logprob_3C_piecewise_cubed = loglogit(V_3C_piecewise_cubed, None, travel_mode)\n",
    "biogeme_3C_piecewise_cubed = bio.BIOGEME(database, logprob_3C_piecewise_cubed)\n",
    "biogeme_3C_piecewise_cubed.modelName = 'model_3C_power_series_3'\n",
    "\n",
    "results_3C_piecewise_cubed = biogeme_3C_piecewise_cubed.estimate()\n",
    "print(results_3C_piecewise_cubed.print_general_statistics())"
   ]
  },
  {
   "cell_type": "markdown",
   "metadata": {},
   "source": [
    "## Model 4"
   ]
  }
 ],
 "metadata": {
  "kernelspec": {
   "display_name": "mmb",
   "language": "python",
   "name": "python3"
  },
  "language_info": {
   "codemirror_mode": {
    "name": "ipython",
    "version": 3
   },
   "file_extension": ".py",
   "mimetype": "text/x-python",
   "name": "python",
   "nbconvert_exporter": "python",
   "pygments_lexer": "ipython3",
   "version": "3.11.9"
  }
 },
 "nbformat": 4,
 "nbformat_minor": 2
}
